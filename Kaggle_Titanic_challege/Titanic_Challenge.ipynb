{
  "nbformat": 4,
  "nbformat_minor": 0,
  "metadata": {
    "colab": {
      "name": "Titanic Challenge",
      "provenance": [],
      "collapsed_sections": [
        "rloYGa1O2oJW",
        "4cNYFgwR2vVC",
        "EoBHVXNY23za",
        "TwP_8oyq2_hH",
        "jDGXFym3aSLN",
        "EC5P2yWllZ-6",
        "zSLKKbNI1-hD",
        "EwY7TLmx2GbL",
        "60rjRkMj2pc3",
        "LVF2G8xx2OaF",
        "7Rck04oA2lCl",
        "idIWzjxz3jzz",
        "CgknpKVG4fO-",
        "wIzigOB-PbcN",
        "LEdyD134T6Z8",
        "alVnVYuUSKKC"
      ],
      "mount_file_id": "1Bo0fHNsK9-bBBwfKhVUKr9u7derWX4ZZ",
      "authorship_tag": "ABX9TyNAaTppH2OtKVSX5PLovkCg",
      "include_colab_link": true
    },
    "kernelspec": {
      "name": "python3",
      "display_name": "Python 3"
    },
    "language_info": {
      "name": "python"
    }
  },
  "cells": [
    {
      "cell_type": "markdown",
      "metadata": {
        "id": "view-in-github",
        "colab_type": "text"
      },
      "source": [
        "<a href=\"https://colab.research.google.com/github/Codeblockz/Data-Science-Self-Projects/blob/main/Kaggle_Titanic_challege/Titanic_Challenge.ipynb\" target=\"_parent\"><img src=\"https://colab.research.google.com/assets/colab-badge.svg\" alt=\"Open In Colab\"/></a>"
      ]
    },
    {
      "cell_type": "markdown",
      "metadata": {
        "id": "BgS7Cf1iNqMz"
      },
      "source": [
        "# Titanic Challenge Kaggle <br></br>\n",
        "[source 1](https://triangleinequality.wordpress.com/2013/09/08/basic-feature-engineering-with-the-titanic-data/)  <br></br>\n",
        "[source 2]( https://www.kaggle.com/lonnieqin/classification-with-sklearn-and-tensorflow)"
      ]
    },
    {
      "cell_type": "markdown",
      "metadata": {
        "id": "Bw4KCKlpo3NY"
      },
      "source": [
        "## Download Data"
      ]
    },
    {
      "cell_type": "code",
      "metadata": {
        "id": "w7N9brVmrmy3"
      },
      "source": [
        "# from google.colab import files\n",
        "# from os.path import exists\n",
        "# file_exists = exists(\"/content/kaggle.json\")\n",
        "# if (file_exists==False):\n",
        "#   files.upload()"
      ],
      "execution_count": 410,
      "outputs": []
    },
    {
      "cell_type": "code",
      "metadata": {
        "colab": {
          "base_uri": "https://localhost:8080/"
        },
        "id": "o_Zd0u1QUm6A",
        "outputId": "0507a081-40c0-4a29-c5a7-dc5243d105c2"
      },
      "source": [
        "%cd /content/drive/MyDrive/Colab Notebooks/Titanic"
      ],
      "execution_count": 411,
      "outputs": [
        {
          "output_type": "stream",
          "name": "stdout",
          "text": [
            "/content/drive/MyDrive/Colab Notebooks/Titanic\n"
          ]
        }
      ]
    },
    {
      "cell_type": "code",
      "metadata": {
        "colab": {
          "base_uri": "https://localhost:8080/"
        },
        "id": "Q3MRT78nIFTa",
        "outputId": "75ca0e6c-0b5e-44f6-e3d0-9693019a5294"
      },
      "source": [
        "! pip install -q kaggle\n",
        "!pip install --upgrade kaggle\n",
        "! mkdir ~/.kaggle\n",
        "! cp kaggle.json ~/.kaggle/\n",
        "! chmod 600 ~/.kaggle/kaggle.json"
      ],
      "execution_count": 412,
      "outputs": [
        {
          "output_type": "stream",
          "name": "stdout",
          "text": [
            "Requirement already satisfied: kaggle in /usr/local/lib/python3.7/dist-packages (1.5.12)\n",
            "Requirement already satisfied: six>=1.10 in /usr/local/lib/python3.7/dist-packages (from kaggle) (1.15.0)\n",
            "Requirement already satisfied: requests in /usr/local/lib/python3.7/dist-packages (from kaggle) (2.23.0)\n",
            "Requirement already satisfied: certifi in /usr/local/lib/python3.7/dist-packages (from kaggle) (2021.5.30)\n",
            "Requirement already satisfied: tqdm in /usr/local/lib/python3.7/dist-packages (from kaggle) (4.62.0)\n",
            "Requirement already satisfied: urllib3 in /usr/local/lib/python3.7/dist-packages (from kaggle) (1.24.3)\n",
            "Requirement already satisfied: python-dateutil in /usr/local/lib/python3.7/dist-packages (from kaggle) (2.8.2)\n",
            "Requirement already satisfied: python-slugify in /usr/local/lib/python3.7/dist-packages (from kaggle) (5.0.2)\n",
            "Requirement already satisfied: text-unidecode>=1.3 in /usr/local/lib/python3.7/dist-packages (from python-slugify->kaggle) (1.3)\n",
            "Requirement already satisfied: chardet<4,>=3.0.2 in /usr/local/lib/python3.7/dist-packages (from requests->kaggle) (3.0.4)\n",
            "Requirement already satisfied: idna<3,>=2.5 in /usr/local/lib/python3.7/dist-packages (from requests->kaggle) (2.10)\n",
            "mkdir: cannot create directory ‘/root/.kaggle’: File exists\n"
          ]
        }
      ]
    },
    {
      "cell_type": "code",
      "metadata": {
        "colab": {
          "base_uri": "https://localhost:8080/"
        },
        "id": "Yfs_KcO1OxRc",
        "outputId": "60ed3597-d14d-4e8f-cf22-8c1df2d4fb1f"
      },
      "source": [
        " ! kaggle competitions download titanic"
      ],
      "execution_count": 413,
      "outputs": [
        {
          "output_type": "stream",
          "name": "stdout",
          "text": [
            "Warning: Looks like you're using an outdated API Version, please consider updating (server 1.5.12 / client 1.5.4)\n",
            "gender_submission.csv: Skipping, found more recently modified local copy (use --force to force download)\n",
            "test.csv: Skipping, found more recently modified local copy (use --force to force download)\n",
            "train.csv: Skipping, found more recently modified local copy (use --force to force download)\n"
          ]
        }
      ]
    },
    {
      "cell_type": "markdown",
      "metadata": {
        "id": "XbTd_FImocOh"
      },
      "source": [
        "Start To work on geting data"
      ]
    },
    {
      "cell_type": "code",
      "metadata": {
        "id": "Id5f5e6TtP6s"
      },
      "source": [
        "import pandas as pd\n",
        "import numpy as np\n",
        "import matplotlib.pyplot as plt\n",
        "import sklearn\n",
        "import seaborn as sns\n",
        "import tensorflow as tf\n",
        "from tensorflow import feature_column\n",
        "from sklearn.ensemble import RandomForestClassifier\n",
        "from sklearn.neighbors import KNeighborsClassifier\n",
        "from sklearn import model_selection\n",
        "from sklearn.cluster import KMeans\n",
        "from sklearn.metrics import accuracy_score\n",
        "from sklearn.model_selection import train_test_split\n",
        "import string\n",
        "import copy\n",
        "from sklearn import preprocessing"
      ],
      "execution_count": 414,
      "outputs": []
    },
    {
      "cell_type": "code",
      "metadata": {
        "id": "t6CP77XNoa16",
        "colab": {
          "base_uri": "https://localhost:8080/",
          "height": 204
        },
        "outputId": "b105c45a-c149-4f15-8e24-fdd4cdcd511b"
      },
      "source": [
        "# Load Data\n",
        "train = pd.read_csv(\"/content/drive/MyDrive/Colab Notebooks/Titanic/train.csv\")\n",
        "test = pd.read_csv(\"/content/drive/MyDrive/Colab Notebooks/Titanic/test.csv\")\n",
        "train1 = copy.copy(train)\n",
        "test1 = copy.copy(test)\n",
        "train.head()"
      ],
      "execution_count": 415,
      "outputs": [
        {
          "output_type": "execute_result",
          "data": {
            "text/html": [
              "<div>\n",
              "<style scoped>\n",
              "    .dataframe tbody tr th:only-of-type {\n",
              "        vertical-align: middle;\n",
              "    }\n",
              "\n",
              "    .dataframe tbody tr th {\n",
              "        vertical-align: top;\n",
              "    }\n",
              "\n",
              "    .dataframe thead th {\n",
              "        text-align: right;\n",
              "    }\n",
              "</style>\n",
              "<table border=\"1\" class=\"dataframe\">\n",
              "  <thead>\n",
              "    <tr style=\"text-align: right;\">\n",
              "      <th></th>\n",
              "      <th>PassengerId</th>\n",
              "      <th>Survived</th>\n",
              "      <th>Pclass</th>\n",
              "      <th>Name</th>\n",
              "      <th>Sex</th>\n",
              "      <th>Age</th>\n",
              "      <th>SibSp</th>\n",
              "      <th>Parch</th>\n",
              "      <th>Ticket</th>\n",
              "      <th>Fare</th>\n",
              "      <th>Cabin</th>\n",
              "      <th>Embarked</th>\n",
              "    </tr>\n",
              "  </thead>\n",
              "  <tbody>\n",
              "    <tr>\n",
              "      <th>0</th>\n",
              "      <td>1</td>\n",
              "      <td>0</td>\n",
              "      <td>3</td>\n",
              "      <td>Braund, Mr. Owen Harris</td>\n",
              "      <td>male</td>\n",
              "      <td>22.0</td>\n",
              "      <td>1</td>\n",
              "      <td>0</td>\n",
              "      <td>A/5 21171</td>\n",
              "      <td>7.2500</td>\n",
              "      <td>NaN</td>\n",
              "      <td>S</td>\n",
              "    </tr>\n",
              "    <tr>\n",
              "      <th>1</th>\n",
              "      <td>2</td>\n",
              "      <td>1</td>\n",
              "      <td>1</td>\n",
              "      <td>Cumings, Mrs. John Bradley (Florence Briggs Th...</td>\n",
              "      <td>female</td>\n",
              "      <td>38.0</td>\n",
              "      <td>1</td>\n",
              "      <td>0</td>\n",
              "      <td>PC 17599</td>\n",
              "      <td>71.2833</td>\n",
              "      <td>C85</td>\n",
              "      <td>C</td>\n",
              "    </tr>\n",
              "    <tr>\n",
              "      <th>2</th>\n",
              "      <td>3</td>\n",
              "      <td>1</td>\n",
              "      <td>3</td>\n",
              "      <td>Heikkinen, Miss. Laina</td>\n",
              "      <td>female</td>\n",
              "      <td>26.0</td>\n",
              "      <td>0</td>\n",
              "      <td>0</td>\n",
              "      <td>STON/O2. 3101282</td>\n",
              "      <td>7.9250</td>\n",
              "      <td>NaN</td>\n",
              "      <td>S</td>\n",
              "    </tr>\n",
              "    <tr>\n",
              "      <th>3</th>\n",
              "      <td>4</td>\n",
              "      <td>1</td>\n",
              "      <td>1</td>\n",
              "      <td>Futrelle, Mrs. Jacques Heath (Lily May Peel)</td>\n",
              "      <td>female</td>\n",
              "      <td>35.0</td>\n",
              "      <td>1</td>\n",
              "      <td>0</td>\n",
              "      <td>113803</td>\n",
              "      <td>53.1000</td>\n",
              "      <td>C123</td>\n",
              "      <td>S</td>\n",
              "    </tr>\n",
              "    <tr>\n",
              "      <th>4</th>\n",
              "      <td>5</td>\n",
              "      <td>0</td>\n",
              "      <td>3</td>\n",
              "      <td>Allen, Mr. William Henry</td>\n",
              "      <td>male</td>\n",
              "      <td>35.0</td>\n",
              "      <td>0</td>\n",
              "      <td>0</td>\n",
              "      <td>373450</td>\n",
              "      <td>8.0500</td>\n",
              "      <td>NaN</td>\n",
              "      <td>S</td>\n",
              "    </tr>\n",
              "  </tbody>\n",
              "</table>\n",
              "</div>"
            ],
            "text/plain": [
              "   PassengerId  Survived  Pclass  ...     Fare Cabin  Embarked\n",
              "0            1         0       3  ...   7.2500   NaN         S\n",
              "1            2         1       1  ...  71.2833   C85         C\n",
              "2            3         1       3  ...   7.9250   NaN         S\n",
              "3            4         1       1  ...  53.1000  C123         S\n",
              "4            5         0       3  ...   8.0500   NaN         S\n",
              "\n",
              "[5 rows x 12 columns]"
            ]
          },
          "metadata": {},
          "execution_count": 415
        }
      ]
    },
    {
      "cell_type": "markdown",
      "metadata": {
        "id": "JcsGDWzQWtPT"
      },
      "source": [
        "Check For Nulls\n"
      ]
    },
    {
      "cell_type": "code",
      "metadata": {
        "id": "a61edLRQYk7c",
        "colab": {
          "base_uri": "https://localhost:8080/"
        },
        "outputId": "52fb9db0-7999-4b23-b7b0-3efd3154dd79"
      },
      "source": [
        "train.isnull().sum()"
      ],
      "execution_count": 416,
      "outputs": [
        {
          "output_type": "execute_result",
          "data": {
            "text/plain": [
              "PassengerId      0\n",
              "Survived         0\n",
              "Pclass           0\n",
              "Name             0\n",
              "Sex              0\n",
              "Age            177\n",
              "SibSp            0\n",
              "Parch            0\n",
              "Ticket           0\n",
              "Fare             0\n",
              "Cabin          687\n",
              "Embarked         2\n",
              "dtype: int64"
            ]
          },
          "metadata": {},
          "execution_count": 416
        }
      ]
    },
    {
      "cell_type": "code",
      "metadata": {
        "id": "CgdW4SebYuky",
        "colab": {
          "base_uri": "https://localhost:8080/"
        },
        "outputId": "ac7e6918-a75e-429e-ca46-bf5ad6f2c6ee"
      },
      "source": [
        "test.isnull().sum()"
      ],
      "execution_count": 417,
      "outputs": [
        {
          "output_type": "execute_result",
          "data": {
            "text/plain": [
              "PassengerId      0\n",
              "Pclass           0\n",
              "Name             0\n",
              "Sex              0\n",
              "Age             86\n",
              "SibSp            0\n",
              "Parch            0\n",
              "Ticket           0\n",
              "Fare             1\n",
              "Cabin          327\n",
              "Embarked         0\n",
              "dtype: int64"
            ]
          },
          "metadata": {},
          "execution_count": 417
        }
      ]
    },
    {
      "cell_type": "markdown",
      "metadata": {
        "id": "_rACR2Z3WyvD"
      },
      "source": [
        "Check Data Types"
      ]
    },
    {
      "cell_type": "code",
      "metadata": {
        "id": "8gez8Iz3Y2Tc",
        "colab": {
          "base_uri": "https://localhost:8080/"
        },
        "outputId": "958c201c-1582-49c1-d636-9f23aeba66a3"
      },
      "source": [
        "train.dtypes"
      ],
      "execution_count": 418,
      "outputs": [
        {
          "output_type": "execute_result",
          "data": {
            "text/plain": [
              "PassengerId      int64\n",
              "Survived         int64\n",
              "Pclass           int64\n",
              "Name            object\n",
              "Sex             object\n",
              "Age            float64\n",
              "SibSp            int64\n",
              "Parch            int64\n",
              "Ticket          object\n",
              "Fare           float64\n",
              "Cabin           object\n",
              "Embarked        object\n",
              "dtype: object"
            ]
          },
          "metadata": {},
          "execution_count": 418
        }
      ]
    },
    {
      "cell_type": "code",
      "metadata": {
        "id": "XkH8pplFY8wS",
        "colab": {
          "base_uri": "https://localhost:8080/"
        },
        "outputId": "ac57a062-6335-4836-d7c5-3095411ba073"
      },
      "source": [
        "test.dtypes"
      ],
      "execution_count": 419,
      "outputs": [
        {
          "output_type": "execute_result",
          "data": {
            "text/plain": [
              "PassengerId      int64\n",
              "Pclass           int64\n",
              "Name            object\n",
              "Sex             object\n",
              "Age            float64\n",
              "SibSp            int64\n",
              "Parch            int64\n",
              "Ticket          object\n",
              "Fare           float64\n",
              "Cabin           object\n",
              "Embarked        object\n",
              "dtype: object"
            ]
          },
          "metadata": {},
          "execution_count": 419
        }
      ]
    },
    {
      "cell_type": "markdown",
      "metadata": {
        "id": "EGZ6ng5aZtX1"
      },
      "source": [
        "# Data Scrubing "
      ]
    },
    {
      "cell_type": "markdown",
      "metadata": {
        "id": "rloYGa1O2oJW"
      },
      "source": [
        "## Replace NaN"
      ]
    },
    {
      "cell_type": "code",
      "metadata": {
        "id": "kkYmm5aTY_zx"
      },
      "source": [
        "# from source 2\n",
        "# Replace NAN\n",
        "# embark_label = train[\"Embarked\"].mode()[0]\n",
        "# train[\"Cabin\"] = train[\"Cabin\"].replace(np.NAN,  \"Unknown\")\n",
        "# train[\"Embarked\"] = train[\"Embarked\"].replace(np.NAN, embark_label)\n",
        "# train[\"Age\"] = train[\"Age\"].replace(np.NAN, train[\"Age\"].mean())\n",
        "\n",
        "# # Test Replace\n",
        "# test[\"Cabin\"] = test[\"Cabin\"].replace(np.NAN, \"Unknown\")\n",
        "# test[\"Age\"] = test[\"Age\"].replace(np.NAN, test[\"Age\"].mean())\n",
        "# test[\"Fare\"] = test[\"Fare\"].replace(np.NAN, test[\"Fare\"].mean())"
      ],
      "execution_count": 420,
      "outputs": []
    },
    {
      "cell_type": "code",
      "metadata": {
        "id": "A08PJHf1HJEy"
      },
      "source": [
        "def get_replaced_nan(data):\n",
        "  embark_label = data[\"Embarked\"].mode()[0]\n",
        "  data[\"Cabin\"] = data[\"Cabin\"].replace(np.NAN,  \"Unknown\")\n",
        "  data[\"Embarked\"] = data[\"Embarked\"].replace(np.NAN, embark_label)\n",
        "  data[\"Age\"] = data[\"Age\"].replace(np.NAN, data[\"Age\"].mean())\n",
        "  data[\"Fare\"] = data[\"Fare\"].replace(np.NAN, data[\"Fare\"].mean())\n",
        "  return data"
      ],
      "execution_count": 421,
      "outputs": []
    },
    {
      "cell_type": "markdown",
      "metadata": {
        "id": "4cNYFgwR2vVC"
      },
      "source": [
        "## Make Title Column"
      ]
    },
    {
      "cell_type": "code",
      "metadata": {
        "id": "mILkXDC1D4FD"
      },
      "source": [
        "# source 1\n",
        "def substrings_in_string(big_string, substrings):\n",
        "    for substring in substrings:\n",
        "        if big_string.find(substring) != -1:\n",
        "            return substring\n",
        "    # print(big_string) # For debug check\n",
        "    return np.nan"
      ],
      "execution_count": 422,
      "outputs": []
    },
    {
      "cell_type": "code",
      "metadata": {
        "id": "w4IrezLxbVW-"
      },
      "source": [
        "#replacing all titles with mr, mrs, miss, master\n",
        "def replace_titles(x):\n",
        "    title=x['Title']\n",
        "    if title in ['Don', 'Major', 'Capt', 'Jonkheer', 'Rev', 'Col']:\n",
        "        return 'Mr'\n",
        "    elif title in ['Countess', 'Mme']:\n",
        "        return 'Mrs'\n",
        "    elif title in ['Mlle', 'Ms']:\n",
        "        return 'Miss'\n",
        "    elif title =='Dr':\n",
        "        if x['Sex']=='Male':\n",
        "            return 'Mr'\n",
        "        else:\n",
        "            return 'Mrs'\n",
        "    else:\n",
        "        return title"
      ],
      "execution_count": 423,
      "outputs": []
    },
    {
      "cell_type": "code",
      "metadata": {
        "id": "0rM2id1PD9yW"
      },
      "source": [
        "# Apply function to data\n",
        "# title_list=['Mrs', 'Mr', 'Master', 'Miss', 'Major', 'Rev', 'Dr', 'Ms', 'Mlle',\n",
        "#             'Col', 'Capt', 'Mme', 'Countess', 'Don', 'Jonkheer']\n",
        "# train['Title']=train['Name'].map(lambda x: substrings_in_string(x, title_list))\n",
        "# test['Title'] = train['Name'].map(lambda x: substrings_in_string(x, title_list))\n",
        "# train['Title']=train.apply(replace_titles, axis=1)\n",
        "# test['Title']=test.apply(replace_titles, axis=1)"
      ],
      "execution_count": 424,
      "outputs": []
    },
    {
      "cell_type": "code",
      "metadata": {
        "id": "NHiSLAsKD_ex"
      },
      "source": [
        "def get_titles(data):\n",
        "  title_list=['Mrs', 'Mr', 'Master', 'Miss', 'Major', 'Rev', 'Dr', 'Ms', 'Mlle',\n",
        "            'Col', 'Capt', 'Mme', 'Countess', 'Don', 'Jonkheer']\n",
        "  data['Title']=data['Name'].map(lambda x: substrings_in_string(x, title_list))\n",
        "  data['Title']=data.apply(replace_titles, axis=1)\n",
        "  return data"
      ],
      "execution_count": 425,
      "outputs": []
    },
    {
      "cell_type": "code",
      "metadata": {
        "id": "4MJAxXb-YvCa",
        "colab": {
          "base_uri": "https://localhost:8080/"
        },
        "outputId": "2086a567-058a-4421-d4ea-dbf876454206"
      },
      "source": [
        "# data check\n",
        "#train.head()\n",
        "train.dtypes"
      ],
      "execution_count": 426,
      "outputs": [
        {
          "output_type": "execute_result",
          "data": {
            "text/plain": [
              "PassengerId      int64\n",
              "Survived         int64\n",
              "Pclass           int64\n",
              "Name            object\n",
              "Sex             object\n",
              "Age            float64\n",
              "SibSp            int64\n",
              "Parch            int64\n",
              "Ticket          object\n",
              "Fare           float64\n",
              "Cabin           object\n",
              "Embarked        object\n",
              "dtype: object"
            ]
          },
          "metadata": {},
          "execution_count": 426
        }
      ]
    },
    {
      "cell_type": "markdown",
      "metadata": {
        "id": "EoBHVXNY23za"
      },
      "source": [
        "## Make Cabin Type"
      ]
    },
    {
      "cell_type": "code",
      "metadata": {
        "id": "xri9oc3sfSSG"
      },
      "source": [
        "# Make cabin type\n",
        "# Source 2\n",
        "# train['Cabin_type'] = train[\"Cabin\"].apply(lambda cabin: cabin[0])\n",
        "# test[\"Cabin_type\"] = test[\"Cabin\"].apply(lambda cabin: cabin[0])\n",
        "# # Make New feature\n",
        "# train[\"family_member_size\"] = 1 + train[\"SibSp\"] + train[\"Parch\"]\n",
        "# test[\"family_member_size\"] = 1 + test[\"SibSp\"] + test[\"Parch\"]"
      ],
      "execution_count": 427,
      "outputs": []
    },
    {
      "cell_type": "code",
      "metadata": {
        "id": "r8TiNAG2zHNs",
        "colab": {
          "base_uri": "https://localhost:8080/",
          "height": 0
        },
        "outputId": "a66a867c-5088-487a-d66a-cfb8b6c84927"
      },
      "source": [
        "# data check\n",
        "train.head()"
      ],
      "execution_count": 428,
      "outputs": [
        {
          "output_type": "execute_result",
          "data": {
            "text/html": [
              "<div>\n",
              "<style scoped>\n",
              "    .dataframe tbody tr th:only-of-type {\n",
              "        vertical-align: middle;\n",
              "    }\n",
              "\n",
              "    .dataframe tbody tr th {\n",
              "        vertical-align: top;\n",
              "    }\n",
              "\n",
              "    .dataframe thead th {\n",
              "        text-align: right;\n",
              "    }\n",
              "</style>\n",
              "<table border=\"1\" class=\"dataframe\">\n",
              "  <thead>\n",
              "    <tr style=\"text-align: right;\">\n",
              "      <th></th>\n",
              "      <th>PassengerId</th>\n",
              "      <th>Survived</th>\n",
              "      <th>Pclass</th>\n",
              "      <th>Name</th>\n",
              "      <th>Sex</th>\n",
              "      <th>Age</th>\n",
              "      <th>SibSp</th>\n",
              "      <th>Parch</th>\n",
              "      <th>Ticket</th>\n",
              "      <th>Fare</th>\n",
              "      <th>Cabin</th>\n",
              "      <th>Embarked</th>\n",
              "    </tr>\n",
              "  </thead>\n",
              "  <tbody>\n",
              "    <tr>\n",
              "      <th>0</th>\n",
              "      <td>1</td>\n",
              "      <td>0</td>\n",
              "      <td>3</td>\n",
              "      <td>Braund, Mr. Owen Harris</td>\n",
              "      <td>male</td>\n",
              "      <td>22.0</td>\n",
              "      <td>1</td>\n",
              "      <td>0</td>\n",
              "      <td>A/5 21171</td>\n",
              "      <td>7.2500</td>\n",
              "      <td>NaN</td>\n",
              "      <td>S</td>\n",
              "    </tr>\n",
              "    <tr>\n",
              "      <th>1</th>\n",
              "      <td>2</td>\n",
              "      <td>1</td>\n",
              "      <td>1</td>\n",
              "      <td>Cumings, Mrs. John Bradley (Florence Briggs Th...</td>\n",
              "      <td>female</td>\n",
              "      <td>38.0</td>\n",
              "      <td>1</td>\n",
              "      <td>0</td>\n",
              "      <td>PC 17599</td>\n",
              "      <td>71.2833</td>\n",
              "      <td>C85</td>\n",
              "      <td>C</td>\n",
              "    </tr>\n",
              "    <tr>\n",
              "      <th>2</th>\n",
              "      <td>3</td>\n",
              "      <td>1</td>\n",
              "      <td>3</td>\n",
              "      <td>Heikkinen, Miss. Laina</td>\n",
              "      <td>female</td>\n",
              "      <td>26.0</td>\n",
              "      <td>0</td>\n",
              "      <td>0</td>\n",
              "      <td>STON/O2. 3101282</td>\n",
              "      <td>7.9250</td>\n",
              "      <td>NaN</td>\n",
              "      <td>S</td>\n",
              "    </tr>\n",
              "    <tr>\n",
              "      <th>3</th>\n",
              "      <td>4</td>\n",
              "      <td>1</td>\n",
              "      <td>1</td>\n",
              "      <td>Futrelle, Mrs. Jacques Heath (Lily May Peel)</td>\n",
              "      <td>female</td>\n",
              "      <td>35.0</td>\n",
              "      <td>1</td>\n",
              "      <td>0</td>\n",
              "      <td>113803</td>\n",
              "      <td>53.1000</td>\n",
              "      <td>C123</td>\n",
              "      <td>S</td>\n",
              "    </tr>\n",
              "    <tr>\n",
              "      <th>4</th>\n",
              "      <td>5</td>\n",
              "      <td>0</td>\n",
              "      <td>3</td>\n",
              "      <td>Allen, Mr. William Henry</td>\n",
              "      <td>male</td>\n",
              "      <td>35.0</td>\n",
              "      <td>0</td>\n",
              "      <td>0</td>\n",
              "      <td>373450</td>\n",
              "      <td>8.0500</td>\n",
              "      <td>NaN</td>\n",
              "      <td>S</td>\n",
              "    </tr>\n",
              "  </tbody>\n",
              "</table>\n",
              "</div>"
            ],
            "text/plain": [
              "   PassengerId  Survived  Pclass  ...     Fare Cabin  Embarked\n",
              "0            1         0       3  ...   7.2500   NaN         S\n",
              "1            2         1       1  ...  71.2833   C85         C\n",
              "2            3         1       3  ...   7.9250   NaN         S\n",
              "3            4         1       1  ...  53.1000  C123         S\n",
              "4            5         0       3  ...   8.0500   NaN         S\n",
              "\n",
              "[5 rows x 12 columns]"
            ]
          },
          "metadata": {},
          "execution_count": 428
        }
      ]
    },
    {
      "cell_type": "code",
      "metadata": {
        "id": "MvCbF7XJY37L",
        "colab": {
          "base_uri": "https://localhost:8080/",
          "height": 0
        },
        "outputId": "14e2f003-3840-4814-b198-f455cba0fb1b"
      },
      "source": [
        "# data check \n",
        "test.head()"
      ],
      "execution_count": 429,
      "outputs": [
        {
          "output_type": "execute_result",
          "data": {
            "text/html": [
              "<div>\n",
              "<style scoped>\n",
              "    .dataframe tbody tr th:only-of-type {\n",
              "        vertical-align: middle;\n",
              "    }\n",
              "\n",
              "    .dataframe tbody tr th {\n",
              "        vertical-align: top;\n",
              "    }\n",
              "\n",
              "    .dataframe thead th {\n",
              "        text-align: right;\n",
              "    }\n",
              "</style>\n",
              "<table border=\"1\" class=\"dataframe\">\n",
              "  <thead>\n",
              "    <tr style=\"text-align: right;\">\n",
              "      <th></th>\n",
              "      <th>PassengerId</th>\n",
              "      <th>Pclass</th>\n",
              "      <th>Name</th>\n",
              "      <th>Sex</th>\n",
              "      <th>Age</th>\n",
              "      <th>SibSp</th>\n",
              "      <th>Parch</th>\n",
              "      <th>Ticket</th>\n",
              "      <th>Fare</th>\n",
              "      <th>Cabin</th>\n",
              "      <th>Embarked</th>\n",
              "    </tr>\n",
              "  </thead>\n",
              "  <tbody>\n",
              "    <tr>\n",
              "      <th>0</th>\n",
              "      <td>892</td>\n",
              "      <td>3</td>\n",
              "      <td>Kelly, Mr. James</td>\n",
              "      <td>male</td>\n",
              "      <td>34.5</td>\n",
              "      <td>0</td>\n",
              "      <td>0</td>\n",
              "      <td>330911</td>\n",
              "      <td>7.8292</td>\n",
              "      <td>NaN</td>\n",
              "      <td>Q</td>\n",
              "    </tr>\n",
              "    <tr>\n",
              "      <th>1</th>\n",
              "      <td>893</td>\n",
              "      <td>3</td>\n",
              "      <td>Wilkes, Mrs. James (Ellen Needs)</td>\n",
              "      <td>female</td>\n",
              "      <td>47.0</td>\n",
              "      <td>1</td>\n",
              "      <td>0</td>\n",
              "      <td>363272</td>\n",
              "      <td>7.0000</td>\n",
              "      <td>NaN</td>\n",
              "      <td>S</td>\n",
              "    </tr>\n",
              "    <tr>\n",
              "      <th>2</th>\n",
              "      <td>894</td>\n",
              "      <td>2</td>\n",
              "      <td>Myles, Mr. Thomas Francis</td>\n",
              "      <td>male</td>\n",
              "      <td>62.0</td>\n",
              "      <td>0</td>\n",
              "      <td>0</td>\n",
              "      <td>240276</td>\n",
              "      <td>9.6875</td>\n",
              "      <td>NaN</td>\n",
              "      <td>Q</td>\n",
              "    </tr>\n",
              "    <tr>\n",
              "      <th>3</th>\n",
              "      <td>895</td>\n",
              "      <td>3</td>\n",
              "      <td>Wirz, Mr. Albert</td>\n",
              "      <td>male</td>\n",
              "      <td>27.0</td>\n",
              "      <td>0</td>\n",
              "      <td>0</td>\n",
              "      <td>315154</td>\n",
              "      <td>8.6625</td>\n",
              "      <td>NaN</td>\n",
              "      <td>S</td>\n",
              "    </tr>\n",
              "    <tr>\n",
              "      <th>4</th>\n",
              "      <td>896</td>\n",
              "      <td>3</td>\n",
              "      <td>Hirvonen, Mrs. Alexander (Helga E Lindqvist)</td>\n",
              "      <td>female</td>\n",
              "      <td>22.0</td>\n",
              "      <td>1</td>\n",
              "      <td>1</td>\n",
              "      <td>3101298</td>\n",
              "      <td>12.2875</td>\n",
              "      <td>NaN</td>\n",
              "      <td>S</td>\n",
              "    </tr>\n",
              "  </tbody>\n",
              "</table>\n",
              "</div>"
            ],
            "text/plain": [
              "   PassengerId  Pclass  ... Cabin Embarked\n",
              "0          892       3  ...   NaN        Q\n",
              "1          893       3  ...   NaN        S\n",
              "2          894       2  ...   NaN        Q\n",
              "3          895       3  ...   NaN        S\n",
              "4          896       3  ...   NaN        S\n",
              "\n",
              "[5 rows x 11 columns]"
            ]
          },
          "metadata": {},
          "execution_count": 429
        }
      ]
    },
    {
      "cell_type": "markdown",
      "metadata": {
        "id": "TwP_8oyq2_hH"
      },
      "source": [
        "## Make Family Size Type"
      ]
    },
    {
      "cell_type": "markdown",
      "metadata": {
        "id": "EA1tBJKoirGy"
      },
      "source": [
        "The correlation bellow shows that Family size is not linearly related however there is a relationship between survival and family size"
      ]
    },
    {
      "cell_type": "code",
      "metadata": {
        "id": "TtkTa2rFF3i-"
      },
      "source": [
        "def convert_faimly_member_size(size):\n",
        "    if size == 1:\n",
        "        return \"single\"\n",
        "    elif size < 5:\n",
        "        return \"medium\"\n",
        "    else:\n",
        "        return \"large\""
      ],
      "execution_count": 430,
      "outputs": []
    },
    {
      "cell_type": "code",
      "metadata": {
        "id": "xB6SssG8KE3E"
      },
      "source": [
        "# should_add_family_member_type = True\n",
        "# if should_add_family_member_type:\n",
        "#     for data in [train, test]:\n",
        "#         data[\"family_member_type\"] = train[\"family_member_size\"].apply(convert_faimly_member_size)"
      ],
      "execution_count": 431,
      "outputs": []
    },
    {
      "cell_type": "markdown",
      "metadata": {
        "id": "C9L9Kxl23PjS"
      },
      "source": [
        "## Make Encoders"
      ]
    },
    {
      "cell_type": "code",
      "metadata": {
        "id": "G--W8K0RKIw9"
      },
      "source": [
        "#encode_vals = ['Sex','Cabin_type','Embarked','Title','family_member_type']\n",
        "VAL = ['Sex','Cabin_type','Embarked','Title','family_member_type']"
      ],
      "execution_count": 432,
      "outputs": []
    },
    {
      "cell_type": "code",
      "metadata": {
        "id": "4q0u3D68MfLf"
      },
      "source": [
        "# make non one hot encoded values\n",
        "def make_encode_num(data):\n",
        "  #val = ['Sex','Cabin_type','Embarked','Title','family_member_type']\n",
        "  for feature in VAL:\n",
        "    if feature in data.columns:\n",
        "      data[feature]=data[feature].astype('category')\n",
        "      data[feature+'_value']=np.int64(data[feature].cat.codes)\n",
        "  return data\n",
        "# train=make_encode_num(train)\n",
        "# test = make_encode_num(test)"
      ],
      "execution_count": 433,
      "outputs": []
    },
    {
      "cell_type": "code",
      "metadata": {
        "id": "UlJte4qu0s5H",
        "colab": {
          "base_uri": "https://localhost:8080/"
        },
        "outputId": "310fb75c-6698-4bc8-f849-5cdaddbf2666"
      },
      "source": [
        "train.dtypes"
      ],
      "execution_count": 434,
      "outputs": [
        {
          "output_type": "execute_result",
          "data": {
            "text/plain": [
              "PassengerId      int64\n",
              "Survived         int64\n",
              "Pclass           int64\n",
              "Name            object\n",
              "Sex             object\n",
              "Age            float64\n",
              "SibSp            int64\n",
              "Parch            int64\n",
              "Ticket          object\n",
              "Fare           float64\n",
              "Cabin           object\n",
              "Embarked        object\n",
              "dtype: object"
            ]
          },
          "metadata": {},
          "execution_count": 434
        }
      ]
    },
    {
      "cell_type": "code",
      "metadata": {
        "id": "CjybWuqDiZ-f"
      },
      "source": [
        "# make one hot encoding\n",
        "# originally named one_hot_tit()\n",
        "# I only relized after I made the function how bad the naming was\n",
        "def one_hot(data, original_feature=False):\n",
        "  for feature in VAL:\n",
        "    if feature in data.columns:\n",
        "      temp = data[feature]\n",
        "      data= pd.get_dummies(data, columns=[feature], dtype=int)\n",
        "      data.pop(feature+'_value')\n",
        "      if original_feature == True :\n",
        "        data[feature]=temp\n",
        "  return data"
      ],
      "execution_count": 435,
      "outputs": []
    },
    {
      "cell_type": "markdown",
      "metadata": {
        "id": "OeugCzOJIKyK"
      },
      "source": [
        "## More Functions"
      ]
    },
    {
      "cell_type": "markdown",
      "metadata": {
        "id": "KrT5fvYju-Ov"
      },
      "source": [
        "### Get_Data"
      ]
    },
    {
      "cell_type": "code",
      "metadata": {
        "id": "cKwKfxtWIPfh"
      },
      "source": [
        "def get_data(data, should_add_family_member_type=False):\n",
        "  # Replace NaNs\n",
        "  data = get_replaced_nan(data)\n",
        "  # get titles\n",
        "  data = get_titles(data)\n",
        "  # Get Cabin type\n",
        "  data['Cabin_type'] = data[\"Cabin\"].apply(lambda cabin: cabin[0])\n",
        "  # Make New feature\n",
        "  data[\"family_member_size\"] = 1 + data[\"SibSp\"] + data[\"Parch\"]\n",
        "  # Family memeber\n",
        "  if should_add_family_member_type:\n",
        "    data[\"family_member_type\"] = data[\"family_member_size\"].apply(convert_faimly_member_size)\n",
        "  # encode\n",
        "  data = make_encode_num(data)\n",
        "  return data"
      ],
      "execution_count": 436,
      "outputs": []
    },
    {
      "cell_type": "markdown",
      "metadata": {
        "id": "ZBAqEyUtvDwI"
      },
      "source": [
        "### CleanUp"
      ]
    },
    {
      "cell_type": "code",
      "metadata": {
        "id": "ge-0Tbp5uSjJ"
      },
      "source": [
        "# make clean up\n",
        "# Assumes all data in column is same type\n",
        "# For numeric data\n",
        "def cleanUp(data):\n",
        "  for i in data.columns:\n",
        "    #print(data[i])\n",
        "    if isinstance(data[i].iloc[0],(np.float, np.integer))==False:\n",
        "      # print(i)\n",
        "      data.pop(i)\n",
        "  data.pop(\"PassengerId\")\n",
        "  return data "
      ],
      "execution_count": 437,
      "outputs": []
    },
    {
      "cell_type": "markdown",
      "metadata": {
        "id": "Z9JWe8LvvHc_"
      },
      "source": [
        "### getTuple"
      ]
    },
    {
      "cell_type": "code",
      "metadata": {
        "id": "pp_OLdNAA9Al"
      },
      "source": [
        "# number reshape\n",
        "def getTuple(Value):\n",
        "  x, y = Value.shape\n",
        "  z=1\n",
        "  t = (x,y,z)\n",
        "  return t "
      ],
      "execution_count": 438,
      "outputs": []
    },
    {
      "cell_type": "markdown",
      "metadata": {
        "id": "V5fZnqwzvKZt"
      },
      "source": [
        "### get_train_test"
      ]
    },
    {
      "cell_type": "code",
      "metadata": {
        "id": "ESKsi3D9RuxN"
      },
      "source": [
        "def get_train_test(data, CC):\n",
        "  X = data.drop(\"Survived\", axis=1)\n",
        "  y = data[\"Survived\"]\n",
        "  #print(\"X shape: \", X.shape)\n",
        "  #print(X.values.reshape(891, 27,1))\n",
        "  X_train, X_val, y_train, y_val = train_test_split(X, y, test_size=0.2, random_state=42)\n",
        "  if CC==True:\n",
        "    X_train=X_train.values\n",
        "    y_train= y_train.values\n",
        "    X_val= X_val.values\n",
        "    y_val=y_val.values\n",
        "    X_train=np.expand_dims(X_train,axis=2)\n",
        "    X_val=np.expand_dims(X_val,axis=2)\n",
        "  return (X_train, X_val, y_train, y_val)"
      ],
      "execution_count": 439,
      "outputs": []
    },
    {
      "cell_type": "markdown",
      "metadata": {
        "id": "sm7C7YW5vOcM"
      },
      "source": [
        "### make_tensor"
      ]
    },
    {
      "cell_type": "code",
      "metadata": {
        "id": "xjczWbIS4Guz"
      },
      "source": [
        "def make_tensor(data):\n",
        "  X_train, X_val, y_train, y_val = get_train_test(data)\n",
        "  print(\"X_train shape: \", X_train.shape)\n",
        "  print(\"X_train Type: \", type(X_train))\n",
        "  print(\"y_train: \",y_train.shape)\n",
        "  train_tensor = tf.data.Dataset.from_tensor_slices((X_train.values, y_train.values))\n",
        "  val_tensor = tf.data.Dataset.from_tensor_slices((X_val.values, y_val.values))\n",
        "  return train_tensor, val_tensor"
      ],
      "execution_count": 440,
      "outputs": []
    },
    {
      "cell_type": "code",
      "metadata": {
        "id": "CzYJdr6c982j"
      },
      "source": [
        "# # Testing\n",
        "# ##################################\n",
        "# X = copy.copy(OH_train)\n",
        "# X = X.drop(\"Survived\", axis=1)\n",
        "# #print(\"X shape: \", X.shape)\n",
        "# xshap = X.shape\n",
        "# x, y = X.shape\n",
        "# t = (x,y,1)\n",
        "# #print(t)\n",
        "# OH_tt, OH_tv = make_tensor(OH_train)\n",
        "# OH_tt.element_spec"
      ],
      "execution_count": 441,
      "outputs": []
    },
    {
      "cell_type": "markdown",
      "metadata": {
        "id": "7zEDY2O33qwM"
      },
      "source": [
        "## Apply Functions"
      ]
    },
    {
      "cell_type": "markdown",
      "metadata": {
        "id": "jDGXFym3aSLN"
      },
      "source": [
        "### Manual Data Scrub and Format"
      ]
    },
    {
      "cell_type": "code",
      "metadata": {
        "id": "5WwpmKK6Kj0H"
      },
      "source": [
        "embark_label = train[\"Embarked\"].mode()[0]\n",
        "train[\"Cabin\"] = train[\"Cabin\"].replace(np.NAN,  \"Unknown\")\n",
        "train[\"Embarked\"] = train[\"Embarked\"].replace(np.NAN, embark_label)\n",
        "train[\"Age\"] = train[\"Age\"].replace(np.NAN, train[\"Age\"].mean())\n",
        "# Test Replace\n",
        "test[\"Cabin\"] = test[\"Cabin\"].replace(np.NAN, \"Unknown\")\n",
        "test[\"Age\"] = test[\"Age\"].replace(np.NAN, test[\"Age\"].mean())\n",
        "test[\"Fare\"] = test[\"Fare\"].replace(np.NAN, test[\"Fare\"].mean())\n",
        "# Make Titles\n",
        "title_list=['Mrs', 'Mr', 'Master', 'Miss', 'Major', 'Rev', 'Dr', 'Ms', 'Mlle',\n",
        "            'Col', 'Capt', 'Mme', 'Countess', 'Don', 'Jonkheer']\n",
        "train['Title']=train['Name'].map(lambda x: substrings_in_string(x, title_list))\n",
        "test['Title'] = train['Name'].map(lambda x: substrings_in_string(x, title_list))\n",
        "train['Title']=train.apply(replace_titles, axis=1)\n",
        "test['Title']=test.apply(replace_titles, axis=1)\n",
        "# Make Cabin Type\n",
        "train['Cabin_type'] = train[\"Cabin\"].apply(lambda cabin: cabin[0])\n",
        "test[\"Cabin_type\"] = test[\"Cabin\"].apply(lambda cabin: cabin[0])\n",
        "# Family Size\n",
        "train[\"family_member_size\"] = 1 + train[\"SibSp\"] + train[\"Parch\"]\n",
        "test[\"family_member_size\"] = 1 + test[\"SibSp\"] + test[\"Parch\"]\n",
        "# family size type\n",
        "should_add_family_member_type = True\n",
        "if should_add_family_member_type:\n",
        "    for data in [train, test]:\n",
        "        data[\"family_member_type\"] = train[\"family_member_size\"].apply(convert_faimly_member_size)\n",
        "# regular encode\n",
        "train = make_encode_num(train)\n",
        "test = make_encode_num(test)"
      ],
      "execution_count": 442,
      "outputs": []
    },
    {
      "cell_type": "markdown",
      "metadata": {
        "id": "dXHNXoZbadQA"
      },
      "source": [
        "### Express Data Scrub and Format"
      ]
    },
    {
      "cell_type": "code",
      "metadata": {
        "id": "IAps4Z-EalId"
      },
      "source": [
        "# For Simplicity\n",
        "train_test = pd.concat([train1,test1])\n",
        "train_test = get_data(train_test, True)\n",
        "train = train_test.iloc[0:len(train)]\n",
        "test = train_test.iloc[len(train):]"
      ],
      "execution_count": 443,
      "outputs": []
    },
    {
      "cell_type": "markdown",
      "metadata": {
        "id": "8N6iMFAgE6il"
      },
      "source": [
        "### One Hot encode Data\n",
        "- Prepare data for models <br>\n",
        "- OH stands for one hot <br>\n",
        "- EN stands for encoded, not one hot<br>\n",
        "- Use concat to save time"
      ]
    },
    {
      "cell_type": "code",
      "metadata": {
        "id": "HdVxSZj731gB",
        "colab": {
          "base_uri": "https://localhost:8080/"
        },
        "outputId": "c87c2ba3-6d36-49cb-d5ff-15cbe4d26595"
      },
      "source": [
        "OH_train_test = pd.concat([train,test])\n",
        "EN_train_test = pd.concat([train, test])\n",
        "# print shape and size for latter\n",
        "print(\"Train Shape: \",train.shape)\n",
        "print(\"Train Size: \", len(train))"
      ],
      "execution_count": 444,
      "outputs": [
        {
          "output_type": "stream",
          "name": "stdout",
          "text": [
            "Train Shape:  (891, 21)\n",
            "Train Size:  891\n"
          ]
        }
      ]
    },
    {
      "cell_type": "code",
      "metadata": {
        "id": "5Ws5_CGBaAGH"
      },
      "source": [
        "# apply OH\n",
        "# remember to apply with and without family type and size\n",
        "OH_train_test=one_hot(OH_train_test, False)\n",
        "OH_train_test = cleanUp(OH_train_test)\n",
        "OH_train_test[\"Survived\"] = OH_train_test[\"Survived\"].replace(np.NAN, np.int(1))\n",
        "# Apply EN\n",
        "EN_train_test = cleanUp(EN_train_test)\n",
        "EN_train_test[\"Survived\"] = EN_train_test[\"Survived\"].replace(np.NAN, np.int(1))"
      ],
      "execution_count": 445,
      "outputs": []
    },
    {
      "cell_type": "code",
      "metadata": {
        "id": "tOzACTs6sqM1"
      },
      "source": [
        "# Testing\n",
        "##########################################\n",
        "# pd.set_option('display.max_rows', None)\n",
        "# pd.set_option('display.max_columns', None)\n",
        "# pd.set_option('display.width',None)\n",
        "# pd.set_option('display.max_colwidth', -1)\n",
        "# pd.reset_option(\"^display\")\n",
        "# OH_train_test#"
      ],
      "execution_count": 446,
      "outputs": []
    },
    {
      "cell_type": "markdown",
      "metadata": {
        "id": "qu35J0qJFqxF"
      },
      "source": [
        "### Normalization "
      ]
    },
    {
      "cell_type": "code",
      "metadata": {
        "id": "VY0UYv0B4IrF"
      },
      "source": [
        "# Scaling\n",
        "min_max_scaler = preprocessing.MinMaxScaler()\n",
        "OH_scaled = min_max_scaler.fit_transform(OH_train_test)\n",
        "EN_scaled = min_max_scaler.fit_transform(EN_train_test)\n",
        "OH_train_test = pd.DataFrame(OH_scaled, columns=OH_train_test.columns)\n",
        "EN_train_test = pd.DataFrame(EN_scaled, columns=EN_train_test.columns)"
      ],
      "execution_count": 447,
      "outputs": []
    },
    {
      "cell_type": "code",
      "metadata": {
        "id": "umjkEbdZ4LR9"
      },
      "source": [
        "# train and test\n",
        "EN_train = EN_train_test.iloc[0:len(train)]\n",
        "OH_train = OH_train_test.iloc[0:len(train)]\n",
        "EN_test = EN_train_test.iloc[len(train):]\n",
        "OH_test = OH_train_test.iloc[len(train):]\n",
        "EN_test = EN_test.drop(\"Survived\", axis=1)\n",
        "OH_test = OH_test.drop(\"Survived\", axis=1)"
      ],
      "execution_count": 448,
      "outputs": []
    },
    {
      "cell_type": "code",
      "metadata": {
        "id": "MBvGEYeFq3Mc",
        "colab": {
          "base_uri": "https://localhost:8080/",
          "height": 418
        },
        "outputId": "7db4f928-6862-47d5-d73a-437dfcf08411"
      },
      "source": [
        "# data check\n",
        "OH_train_test.head()\n",
        "# OH_train.shape\n",
        "# OH_tt.element_spec\n",
        "EN_test"
      ],
      "execution_count": 449,
      "outputs": [
        {
          "output_type": "execute_result",
          "data": {
            "text/html": [
              "<div>\n",
              "<style scoped>\n",
              "    .dataframe tbody tr th:only-of-type {\n",
              "        vertical-align: middle;\n",
              "    }\n",
              "\n",
              "    .dataframe tbody tr th {\n",
              "        vertical-align: top;\n",
              "    }\n",
              "\n",
              "    .dataframe thead th {\n",
              "        text-align: right;\n",
              "    }\n",
              "</style>\n",
              "<table border=\"1\" class=\"dataframe\">\n",
              "  <thead>\n",
              "    <tr style=\"text-align: right;\">\n",
              "      <th></th>\n",
              "      <th>Pclass</th>\n",
              "      <th>Age</th>\n",
              "      <th>SibSp</th>\n",
              "      <th>Parch</th>\n",
              "      <th>Fare</th>\n",
              "      <th>family_member_size</th>\n",
              "      <th>Sex_value</th>\n",
              "      <th>Cabin_type_value</th>\n",
              "      <th>Embarked_value</th>\n",
              "      <th>Title_value</th>\n",
              "      <th>family_member_type_value</th>\n",
              "    </tr>\n",
              "  </thead>\n",
              "  <tbody>\n",
              "    <tr>\n",
              "      <th>891</th>\n",
              "      <td>1.0</td>\n",
              "      <td>0.430039</td>\n",
              "      <td>0.000</td>\n",
              "      <td>0.000000</td>\n",
              "      <td>0.015282</td>\n",
              "      <td>0.0</td>\n",
              "      <td>1.0</td>\n",
              "      <td>1.00</td>\n",
              "      <td>0.5</td>\n",
              "      <td>0.666667</td>\n",
              "      <td>1.0</td>\n",
              "    </tr>\n",
              "    <tr>\n",
              "      <th>892</th>\n",
              "      <td>1.0</td>\n",
              "      <td>0.586622</td>\n",
              "      <td>0.125</td>\n",
              "      <td>0.000000</td>\n",
              "      <td>0.013663</td>\n",
              "      <td>0.1</td>\n",
              "      <td>0.0</td>\n",
              "      <td>1.00</td>\n",
              "      <td>1.0</td>\n",
              "      <td>1.000000</td>\n",
              "      <td>0.5</td>\n",
              "    </tr>\n",
              "    <tr>\n",
              "      <th>893</th>\n",
              "      <td>0.5</td>\n",
              "      <td>0.774521</td>\n",
              "      <td>0.000</td>\n",
              "      <td>0.000000</td>\n",
              "      <td>0.018909</td>\n",
              "      <td>0.0</td>\n",
              "      <td>1.0</td>\n",
              "      <td>1.00</td>\n",
              "      <td>0.5</td>\n",
              "      <td>0.666667</td>\n",
              "      <td>1.0</td>\n",
              "    </tr>\n",
              "    <tr>\n",
              "      <th>894</th>\n",
              "      <td>1.0</td>\n",
              "      <td>0.336089</td>\n",
              "      <td>0.000</td>\n",
              "      <td>0.000000</td>\n",
              "      <td>0.016908</td>\n",
              "      <td>0.0</td>\n",
              "      <td>1.0</td>\n",
              "      <td>1.00</td>\n",
              "      <td>1.0</td>\n",
              "      <td>0.666667</td>\n",
              "      <td>1.0</td>\n",
              "    </tr>\n",
              "    <tr>\n",
              "      <th>895</th>\n",
              "      <td>1.0</td>\n",
              "      <td>0.273456</td>\n",
              "      <td>0.125</td>\n",
              "      <td>0.111111</td>\n",
              "      <td>0.023984</td>\n",
              "      <td>0.2</td>\n",
              "      <td>0.0</td>\n",
              "      <td>1.00</td>\n",
              "      <td>1.0</td>\n",
              "      <td>1.000000</td>\n",
              "      <td>0.5</td>\n",
              "    </tr>\n",
              "    <tr>\n",
              "      <th>...</th>\n",
              "      <td>...</td>\n",
              "      <td>...</td>\n",
              "      <td>...</td>\n",
              "      <td>...</td>\n",
              "      <td>...</td>\n",
              "      <td>...</td>\n",
              "      <td>...</td>\n",
              "      <td>...</td>\n",
              "      <td>...</td>\n",
              "      <td>...</td>\n",
              "      <td>...</td>\n",
              "    </tr>\n",
              "    <tr>\n",
              "      <th>1304</th>\n",
              "      <td>1.0</td>\n",
              "      <td>0.372180</td>\n",
              "      <td>0.000</td>\n",
              "      <td>0.000000</td>\n",
              "      <td>0.015713</td>\n",
              "      <td>0.0</td>\n",
              "      <td>1.0</td>\n",
              "      <td>1.00</td>\n",
              "      <td>1.0</td>\n",
              "      <td>0.666667</td>\n",
              "      <td>1.0</td>\n",
              "    </tr>\n",
              "    <tr>\n",
              "      <th>1305</th>\n",
              "      <td>0.0</td>\n",
              "      <td>0.486409</td>\n",
              "      <td>0.000</td>\n",
              "      <td>0.000000</td>\n",
              "      <td>0.212559</td>\n",
              "      <td>0.0</td>\n",
              "      <td>0.0</td>\n",
              "      <td>0.25</td>\n",
              "      <td>0.0</td>\n",
              "      <td>0.666667</td>\n",
              "      <td>1.0</td>\n",
              "    </tr>\n",
              "    <tr>\n",
              "      <th>1306</th>\n",
              "      <td>1.0</td>\n",
              "      <td>0.480145</td>\n",
              "      <td>0.000</td>\n",
              "      <td>0.000000</td>\n",
              "      <td>0.014151</td>\n",
              "      <td>0.0</td>\n",
              "      <td>1.0</td>\n",
              "      <td>1.00</td>\n",
              "      <td>1.0</td>\n",
              "      <td>0.666667</td>\n",
              "      <td>1.0</td>\n",
              "    </tr>\n",
              "    <tr>\n",
              "      <th>1307</th>\n",
              "      <td>1.0</td>\n",
              "      <td>0.372180</td>\n",
              "      <td>0.000</td>\n",
              "      <td>0.000000</td>\n",
              "      <td>0.015713</td>\n",
              "      <td>0.0</td>\n",
              "      <td>1.0</td>\n",
              "      <td>1.00</td>\n",
              "      <td>1.0</td>\n",
              "      <td>0.666667</td>\n",
              "      <td>1.0</td>\n",
              "    </tr>\n",
              "    <tr>\n",
              "      <th>1308</th>\n",
              "      <td>1.0</td>\n",
              "      <td>0.372180</td>\n",
              "      <td>0.125</td>\n",
              "      <td>0.111111</td>\n",
              "      <td>0.043640</td>\n",
              "      <td>0.2</td>\n",
              "      <td>1.0</td>\n",
              "      <td>1.00</td>\n",
              "      <td>0.0</td>\n",
              "      <td>0.000000</td>\n",
              "      <td>0.5</td>\n",
              "    </tr>\n",
              "  </tbody>\n",
              "</table>\n",
              "<p>418 rows × 11 columns</p>\n",
              "</div>"
            ],
            "text/plain": [
              "      Pclass       Age  ...  Title_value  family_member_type_value\n",
              "891      1.0  0.430039  ...     0.666667                       1.0\n",
              "892      1.0  0.586622  ...     1.000000                       0.5\n",
              "893      0.5  0.774521  ...     0.666667                       1.0\n",
              "894      1.0  0.336089  ...     0.666667                       1.0\n",
              "895      1.0  0.273456  ...     1.000000                       0.5\n",
              "...      ...       ...  ...          ...                       ...\n",
              "1304     1.0  0.372180  ...     0.666667                       1.0\n",
              "1305     0.0  0.486409  ...     0.666667                       1.0\n",
              "1306     1.0  0.480145  ...     0.666667                       1.0\n",
              "1307     1.0  0.372180  ...     0.666667                       1.0\n",
              "1308     1.0  0.372180  ...     0.000000                       0.5\n",
              "\n",
              "[418 rows x 11 columns]"
            ]
          },
          "metadata": {},
          "execution_count": 449
        }
      ]
    },
    {
      "cell_type": "code",
      "metadata": {
        "id": "GkTMbvQ4ZNFY",
        "colab": {
          "base_uri": "https://localhost:8080/",
          "height": 443
        },
        "outputId": "f0e2ce94-b9cb-4b39-a446-44cecc1cc36e"
      },
      "source": [
        "# data check\n",
        "test.head()"
      ],
      "execution_count": 450,
      "outputs": [
        {
          "output_type": "execute_result",
          "data": {
            "text/html": [
              "<div>\n",
              "<style scoped>\n",
              "    .dataframe tbody tr th:only-of-type {\n",
              "        vertical-align: middle;\n",
              "    }\n",
              "\n",
              "    .dataframe tbody tr th {\n",
              "        vertical-align: top;\n",
              "    }\n",
              "\n",
              "    .dataframe thead th {\n",
              "        text-align: right;\n",
              "    }\n",
              "</style>\n",
              "<table border=\"1\" class=\"dataframe\">\n",
              "  <thead>\n",
              "    <tr style=\"text-align: right;\">\n",
              "      <th></th>\n",
              "      <th>PassengerId</th>\n",
              "      <th>Survived</th>\n",
              "      <th>Pclass</th>\n",
              "      <th>Name</th>\n",
              "      <th>Sex</th>\n",
              "      <th>Age</th>\n",
              "      <th>SibSp</th>\n",
              "      <th>Parch</th>\n",
              "      <th>Ticket</th>\n",
              "      <th>Fare</th>\n",
              "      <th>Cabin</th>\n",
              "      <th>Embarked</th>\n",
              "      <th>Title</th>\n",
              "      <th>Cabin_type</th>\n",
              "      <th>family_member_size</th>\n",
              "      <th>family_member_type</th>\n",
              "      <th>Sex_value</th>\n",
              "      <th>Cabin_type_value</th>\n",
              "      <th>Embarked_value</th>\n",
              "      <th>Title_value</th>\n",
              "      <th>family_member_type_value</th>\n",
              "    </tr>\n",
              "  </thead>\n",
              "  <tbody>\n",
              "    <tr>\n",
              "      <th>0</th>\n",
              "      <td>892</td>\n",
              "      <td>NaN</td>\n",
              "      <td>3</td>\n",
              "      <td>Kelly, Mr. James</td>\n",
              "      <td>male</td>\n",
              "      <td>34.5</td>\n",
              "      <td>0</td>\n",
              "      <td>0</td>\n",
              "      <td>330911</td>\n",
              "      <td>7.8292</td>\n",
              "      <td>Unknown</td>\n",
              "      <td>Q</td>\n",
              "      <td>Mr</td>\n",
              "      <td>U</td>\n",
              "      <td>1</td>\n",
              "      <td>single</td>\n",
              "      <td>1</td>\n",
              "      <td>8</td>\n",
              "      <td>1</td>\n",
              "      <td>2</td>\n",
              "      <td>2</td>\n",
              "    </tr>\n",
              "    <tr>\n",
              "      <th>1</th>\n",
              "      <td>893</td>\n",
              "      <td>NaN</td>\n",
              "      <td>3</td>\n",
              "      <td>Wilkes, Mrs. James (Ellen Needs)</td>\n",
              "      <td>female</td>\n",
              "      <td>47.0</td>\n",
              "      <td>1</td>\n",
              "      <td>0</td>\n",
              "      <td>363272</td>\n",
              "      <td>7.0000</td>\n",
              "      <td>Unknown</td>\n",
              "      <td>S</td>\n",
              "      <td>Mrs</td>\n",
              "      <td>U</td>\n",
              "      <td>2</td>\n",
              "      <td>medium</td>\n",
              "      <td>0</td>\n",
              "      <td>8</td>\n",
              "      <td>2</td>\n",
              "      <td>3</td>\n",
              "      <td>1</td>\n",
              "    </tr>\n",
              "    <tr>\n",
              "      <th>2</th>\n",
              "      <td>894</td>\n",
              "      <td>NaN</td>\n",
              "      <td>2</td>\n",
              "      <td>Myles, Mr. Thomas Francis</td>\n",
              "      <td>male</td>\n",
              "      <td>62.0</td>\n",
              "      <td>0</td>\n",
              "      <td>0</td>\n",
              "      <td>240276</td>\n",
              "      <td>9.6875</td>\n",
              "      <td>Unknown</td>\n",
              "      <td>Q</td>\n",
              "      <td>Mr</td>\n",
              "      <td>U</td>\n",
              "      <td>1</td>\n",
              "      <td>single</td>\n",
              "      <td>1</td>\n",
              "      <td>8</td>\n",
              "      <td>1</td>\n",
              "      <td>2</td>\n",
              "      <td>2</td>\n",
              "    </tr>\n",
              "    <tr>\n",
              "      <th>3</th>\n",
              "      <td>895</td>\n",
              "      <td>NaN</td>\n",
              "      <td>3</td>\n",
              "      <td>Wirz, Mr. Albert</td>\n",
              "      <td>male</td>\n",
              "      <td>27.0</td>\n",
              "      <td>0</td>\n",
              "      <td>0</td>\n",
              "      <td>315154</td>\n",
              "      <td>8.6625</td>\n",
              "      <td>Unknown</td>\n",
              "      <td>S</td>\n",
              "      <td>Mr</td>\n",
              "      <td>U</td>\n",
              "      <td>1</td>\n",
              "      <td>single</td>\n",
              "      <td>1</td>\n",
              "      <td>8</td>\n",
              "      <td>2</td>\n",
              "      <td>2</td>\n",
              "      <td>2</td>\n",
              "    </tr>\n",
              "    <tr>\n",
              "      <th>4</th>\n",
              "      <td>896</td>\n",
              "      <td>NaN</td>\n",
              "      <td>3</td>\n",
              "      <td>Hirvonen, Mrs. Alexander (Helga E Lindqvist)</td>\n",
              "      <td>female</td>\n",
              "      <td>22.0</td>\n",
              "      <td>1</td>\n",
              "      <td>1</td>\n",
              "      <td>3101298</td>\n",
              "      <td>12.2875</td>\n",
              "      <td>Unknown</td>\n",
              "      <td>S</td>\n",
              "      <td>Mrs</td>\n",
              "      <td>U</td>\n",
              "      <td>3</td>\n",
              "      <td>medium</td>\n",
              "      <td>0</td>\n",
              "      <td>8</td>\n",
              "      <td>2</td>\n",
              "      <td>3</td>\n",
              "      <td>1</td>\n",
              "    </tr>\n",
              "  </tbody>\n",
              "</table>\n",
              "</div>"
            ],
            "text/plain": [
              "   PassengerId  Survived  ...  Title_value family_member_type_value\n",
              "0          892       NaN  ...            2                        2\n",
              "1          893       NaN  ...            3                        1\n",
              "2          894       NaN  ...            2                        2\n",
              "3          895       NaN  ...            2                        2\n",
              "4          896       NaN  ...            3                        1\n",
              "\n",
              "[5 rows x 21 columns]"
            ]
          },
          "metadata": {},
          "execution_count": 450
        }
      ]
    },
    {
      "cell_type": "code",
      "metadata": {
        "id": "FXX8yy-MprZs"
      },
      "source": [
        "#temp.corr()[\"Survived\"].sort_values(key=lambda x: abs(x), ascending=False)"
      ],
      "execution_count": 451,
      "outputs": []
    },
    {
      "cell_type": "markdown",
      "metadata": {
        "id": "EC5P2yWllZ-6"
      },
      "source": [
        "# Exploratory Data Analysis For Survival"
      ]
    },
    {
      "cell_type": "code",
      "metadata": {
        "id": "6_fcvegjQ19l",
        "colab": {
          "base_uri": "https://localhost:8080/"
        },
        "outputId": "c5612667-21f5-47f5-98a5-da3fa3ccf534"
      },
      "source": [
        "train.info()"
      ],
      "execution_count": 452,
      "outputs": [
        {
          "output_type": "stream",
          "name": "stdout",
          "text": [
            "<class 'pandas.core.frame.DataFrame'>\n",
            "Int64Index: 891 entries, 0 to 890\n",
            "Data columns (total 21 columns):\n",
            " #   Column                    Non-Null Count  Dtype   \n",
            "---  ------                    --------------  -----   \n",
            " 0   PassengerId               891 non-null    int64   \n",
            " 1   Survived                  891 non-null    float64 \n",
            " 2   Pclass                    891 non-null    int64   \n",
            " 3   Name                      891 non-null    object  \n",
            " 4   Sex                       891 non-null    category\n",
            " 5   Age                       891 non-null    float64 \n",
            " 6   SibSp                     891 non-null    int64   \n",
            " 7   Parch                     891 non-null    int64   \n",
            " 8   Ticket                    891 non-null    object  \n",
            " 9   Fare                      891 non-null    float64 \n",
            " 10  Cabin                     891 non-null    object  \n",
            " 11  Embarked                  891 non-null    category\n",
            " 12  Title                     891 non-null    category\n",
            " 13  Cabin_type                891 non-null    category\n",
            " 14  family_member_size        891 non-null    int64   \n",
            " 15  family_member_type        891 non-null    category\n",
            " 16  Sex_value                 891 non-null    int64   \n",
            " 17  Cabin_type_value          891 non-null    int64   \n",
            " 18  Embarked_value            891 non-null    int64   \n",
            " 19  Title_value               891 non-null    int64   \n",
            " 20  family_member_type_value  891 non-null    int64   \n",
            "dtypes: category(5), float64(3), int64(10), object(3)\n",
            "memory usage: 123.6+ KB\n"
          ]
        }
      ]
    },
    {
      "cell_type": "code",
      "metadata": {
        "id": "6roykRdUl2gq",
        "colab": {
          "base_uri": "https://localhost:8080/",
          "height": 0
        },
        "outputId": "589cf7d1-e694-4bf0-ef7a-56391e5bd981"
      },
      "source": [
        "train.describe()"
      ],
      "execution_count": 453,
      "outputs": [
        {
          "output_type": "execute_result",
          "data": {
            "text/html": [
              "<div>\n",
              "<style scoped>\n",
              "    .dataframe tbody tr th:only-of-type {\n",
              "        vertical-align: middle;\n",
              "    }\n",
              "\n",
              "    .dataframe tbody tr th {\n",
              "        vertical-align: top;\n",
              "    }\n",
              "\n",
              "    .dataframe thead th {\n",
              "        text-align: right;\n",
              "    }\n",
              "</style>\n",
              "<table border=\"1\" class=\"dataframe\">\n",
              "  <thead>\n",
              "    <tr style=\"text-align: right;\">\n",
              "      <th></th>\n",
              "      <th>PassengerId</th>\n",
              "      <th>Survived</th>\n",
              "      <th>Pclass</th>\n",
              "      <th>Age</th>\n",
              "      <th>SibSp</th>\n",
              "      <th>Parch</th>\n",
              "      <th>Fare</th>\n",
              "      <th>family_member_size</th>\n",
              "      <th>Sex_value</th>\n",
              "      <th>Cabin_type_value</th>\n",
              "      <th>Embarked_value</th>\n",
              "      <th>Title_value</th>\n",
              "      <th>family_member_type_value</th>\n",
              "    </tr>\n",
              "  </thead>\n",
              "  <tbody>\n",
              "    <tr>\n",
              "      <th>count</th>\n",
              "      <td>891.000000</td>\n",
              "      <td>891.000000</td>\n",
              "      <td>891.000000</td>\n",
              "      <td>891.000000</td>\n",
              "      <td>891.000000</td>\n",
              "      <td>891.000000</td>\n",
              "      <td>891.000000</td>\n",
              "      <td>891.000000</td>\n",
              "      <td>891.000000</td>\n",
              "      <td>891.000000</td>\n",
              "      <td>891.000000</td>\n",
              "      <td>891.000000</td>\n",
              "      <td>891.000000</td>\n",
              "    </tr>\n",
              "    <tr>\n",
              "      <th>mean</th>\n",
              "      <td>446.000000</td>\n",
              "      <td>0.383838</td>\n",
              "      <td>2.308642</td>\n",
              "      <td>29.735277</td>\n",
              "      <td>0.523008</td>\n",
              "      <td>0.381594</td>\n",
              "      <td>32.204208</td>\n",
              "      <td>1.904602</td>\n",
              "      <td>0.647587</td>\n",
              "      <td>6.716049</td>\n",
              "      <td>1.536476</td>\n",
              "      <td>1.860831</td>\n",
              "      <td>1.533109</td>\n",
              "    </tr>\n",
              "    <tr>\n",
              "      <th>std</th>\n",
              "      <td>257.353842</td>\n",
              "      <td>0.486592</td>\n",
              "      <td>0.836071</td>\n",
              "      <td>13.002218</td>\n",
              "      <td>1.102743</td>\n",
              "      <td>0.806057</td>\n",
              "      <td>49.693429</td>\n",
              "      <td>1.613459</td>\n",
              "      <td>0.477990</td>\n",
              "      <td>2.460739</td>\n",
              "      <td>0.791503</td>\n",
              "      <td>0.721066</td>\n",
              "      <td>0.623305</td>\n",
              "    </tr>\n",
              "    <tr>\n",
              "      <th>min</th>\n",
              "      <td>1.000000</td>\n",
              "      <td>0.000000</td>\n",
              "      <td>1.000000</td>\n",
              "      <td>0.420000</td>\n",
              "      <td>0.000000</td>\n",
              "      <td>0.000000</td>\n",
              "      <td>0.000000</td>\n",
              "      <td>1.000000</td>\n",
              "      <td>0.000000</td>\n",
              "      <td>0.000000</td>\n",
              "      <td>0.000000</td>\n",
              "      <td>0.000000</td>\n",
              "      <td>0.000000</td>\n",
              "    </tr>\n",
              "    <tr>\n",
              "      <th>25%</th>\n",
              "      <td>223.500000</td>\n",
              "      <td>0.000000</td>\n",
              "      <td>2.000000</td>\n",
              "      <td>22.000000</td>\n",
              "      <td>0.000000</td>\n",
              "      <td>0.000000</td>\n",
              "      <td>7.910400</td>\n",
              "      <td>1.000000</td>\n",
              "      <td>0.000000</td>\n",
              "      <td>8.000000</td>\n",
              "      <td>1.000000</td>\n",
              "      <td>2.000000</td>\n",
              "      <td>1.000000</td>\n",
              "    </tr>\n",
              "    <tr>\n",
              "      <th>50%</th>\n",
              "      <td>446.000000</td>\n",
              "      <td>0.000000</td>\n",
              "      <td>3.000000</td>\n",
              "      <td>29.881138</td>\n",
              "      <td>0.000000</td>\n",
              "      <td>0.000000</td>\n",
              "      <td>14.454200</td>\n",
              "      <td>1.000000</td>\n",
              "      <td>1.000000</td>\n",
              "      <td>8.000000</td>\n",
              "      <td>2.000000</td>\n",
              "      <td>2.000000</td>\n",
              "      <td>2.000000</td>\n",
              "    </tr>\n",
              "    <tr>\n",
              "      <th>75%</th>\n",
              "      <td>668.500000</td>\n",
              "      <td>1.000000</td>\n",
              "      <td>3.000000</td>\n",
              "      <td>35.000000</td>\n",
              "      <td>1.000000</td>\n",
              "      <td>0.000000</td>\n",
              "      <td>31.000000</td>\n",
              "      <td>2.000000</td>\n",
              "      <td>1.000000</td>\n",
              "      <td>8.000000</td>\n",
              "      <td>2.000000</td>\n",
              "      <td>2.000000</td>\n",
              "      <td>2.000000</td>\n",
              "    </tr>\n",
              "    <tr>\n",
              "      <th>max</th>\n",
              "      <td>891.000000</td>\n",
              "      <td>1.000000</td>\n",
              "      <td>3.000000</td>\n",
              "      <td>80.000000</td>\n",
              "      <td>8.000000</td>\n",
              "      <td>6.000000</td>\n",
              "      <td>512.329200</td>\n",
              "      <td>11.000000</td>\n",
              "      <td>1.000000</td>\n",
              "      <td>8.000000</td>\n",
              "      <td>2.000000</td>\n",
              "      <td>3.000000</td>\n",
              "      <td>2.000000</td>\n",
              "    </tr>\n",
              "  </tbody>\n",
              "</table>\n",
              "</div>"
            ],
            "text/plain": [
              "       PassengerId    Survived  ...  Title_value  family_member_type_value\n",
              "count   891.000000  891.000000  ...   891.000000                891.000000\n",
              "mean    446.000000    0.383838  ...     1.860831                  1.533109\n",
              "std     257.353842    0.486592  ...     0.721066                  0.623305\n",
              "min       1.000000    0.000000  ...     0.000000                  0.000000\n",
              "25%     223.500000    0.000000  ...     2.000000                  1.000000\n",
              "50%     446.000000    0.000000  ...     2.000000                  2.000000\n",
              "75%     668.500000    1.000000  ...     2.000000                  2.000000\n",
              "max     891.000000    1.000000  ...     3.000000                  2.000000\n",
              "\n",
              "[8 rows x 13 columns]"
            ]
          },
          "metadata": {},
          "execution_count": 453
        }
      ]
    },
    {
      "cell_type": "markdown",
      "metadata": {
        "id": "zSLKKbNI1-hD"
      },
      "source": [
        "## Survival by Cabin Type"
      ]
    },
    {
      "cell_type": "code",
      "metadata": {
        "id": "dUyR1x-y0kUK",
        "colab": {
          "base_uri": "https://localhost:8080/"
        },
        "outputId": "9868d5bc-e36d-4974-9258-6783cfd779f0"
      },
      "source": [
        "train.groupby(\"Cabin_type\")[\"Survived\"].mean()"
      ],
      "execution_count": 454,
      "outputs": [
        {
          "output_type": "execute_result",
          "data": {
            "text/plain": [
              "Cabin_type\n",
              "A    0.466667\n",
              "B    0.744681\n",
              "C    0.593220\n",
              "D    0.757576\n",
              "E    0.750000\n",
              "F    0.615385\n",
              "G    0.500000\n",
              "T    0.000000\n",
              "U    0.299854\n",
              "Name: Survived, dtype: float64"
            ]
          },
          "metadata": {},
          "execution_count": 454
        }
      ]
    },
    {
      "cell_type": "code",
      "metadata": {
        "id": "vHQ9TUU_ngU2",
        "colab": {
          "base_uri": "https://localhost:8080/",
          "height": 0
        },
        "outputId": "f018d839-052a-4538-8dbe-db0751ce5862"
      },
      "source": [
        "sns.countplot(x=\"Cabin_type\",hue=\"Survived\", data=train)\n",
        "plt.title(\"Survival of Cabin Type\")\n",
        "plt.show()"
      ],
      "execution_count": 455,
      "outputs": [
        {
          "output_type": "display_data",
          "data": {
            "image/png": "[encoded data removed]",
            "text/plain": [
              "<Figure size 432x288 with 1 Axes>"
            ]
          },
          "metadata": {
            "needs_background": "light"
          }
        }
      ]
    },
    {
      "cell_type": "code",
      "metadata": {
        "id": "VvVY1EiZ6y-i",
        "colab": {
          "base_uri": "https://localhost:8080/",
          "height": 0
        },
        "outputId": "5cf717b7-ff4f-472d-ce0f-75f61863bf49"
      },
      "source": [
        "cabin_type_plot= sns.catplot(x=\"Cabin_type\", hue=\"Survived\", col=\"Survived\", data=train, kind=\"count\", sharey=False)\n",
        "cabin_type_plot.fig.subplots_adjust(top=0.7)\n",
        "cabin_type_plot.fig.suptitle(\"Survived by Cabin Type\")\n",
        "cabin_type_plot.set_xlabels(\"Cabin Types\")\n",
        "cabin_type_plot.set_ylabels(\"Count\")\n",
        "plt.show()"
      ],
      "execution_count": 456,
      "outputs": [
        {
          "output_type": "display_data",
          "data": {
            "image/png": "[encoded data removed]",
            "text/plain": [
              "<Figure size 720x360 with 2 Axes>"
            ]
          },
          "metadata": {
            "needs_background": "light"
          }
        }
      ]
    },
    {
      "cell_type": "markdown",
      "metadata": {
        "id": "EwY7TLmx2GbL"
      },
      "source": [
        "## Survival by Pclass"
      ]
    },
    {
      "cell_type": "code",
      "metadata": {
        "id": "zrtsfRrI1dtv",
        "colab": {
          "base_uri": "https://localhost:8080/"
        },
        "outputId": "cf364ef2-9201-4233-dd65-c38a06128f15"
      },
      "source": [
        "train.groupby(\"Pclass\")[\"Survived\"].mean()"
      ],
      "execution_count": 457,
      "outputs": [
        {
          "output_type": "execute_result",
          "data": {
            "text/plain": [
              "Pclass\n",
              "1    0.629630\n",
              "2    0.472826\n",
              "3    0.242363\n",
              "Name: Survived, dtype: float64"
            ]
          },
          "metadata": {},
          "execution_count": 457
        }
      ]
    },
    {
      "cell_type": "code",
      "metadata": {
        "id": "-xia5CSv1imE",
        "colab": {
          "base_uri": "https://localhost:8080/",
          "height": 0
        },
        "outputId": "cca83a01-5ec7-4a9a-ba4e-e8f6486303df"
      },
      "source": [
        "sns.countplot(x=\"Pclass\",hue=\"Survived\", data=train)\n",
        "plt.title(\"Survival of Pclass\")\n",
        "plt.show()"
      ],
      "execution_count": 458,
      "outputs": [
        {
          "output_type": "display_data",
          "data": {
            "image/png": "[encoded data removed]",
            "text/plain": [
              "<Figure size 432x288 with 1 Axes>"
            ]
          },
          "metadata": {
            "needs_background": "light"
          }
        }
      ]
    },
    {
      "cell_type": "markdown",
      "metadata": {
        "id": "60rjRkMj2pc3"
      },
      "source": [
        "## Survival by Sex"
      ]
    },
    {
      "cell_type": "code",
      "metadata": {
        "id": "7Z-7yfC720Kr",
        "colab": {
          "base_uri": "https://localhost:8080/"
        },
        "outputId": "f0b77783-ddc3-4d18-dbb2-2324b814efd9"
      },
      "source": [
        "train.groupby(\"Pclass\")[\"Survived\"].mean()"
      ],
      "execution_count": 459,
      "outputs": [
        {
          "output_type": "execute_result",
          "data": {
            "text/plain": [
              "Pclass\n",
              "1    0.629630\n",
              "2    0.472826\n",
              "3    0.242363\n",
              "Name: Survived, dtype: float64"
            ]
          },
          "metadata": {},
          "execution_count": 459
        }
      ]
    },
    {
      "cell_type": "code",
      "metadata": {
        "id": "tzFJMB5C2sEt",
        "colab": {
          "base_uri": "https://localhost:8080/",
          "height": 0
        },
        "outputId": "9d6dd934-080f-4f5c-8490-8d3d3d0c0997"
      },
      "source": [
        "sns.countplot(x=\"Sex\",hue=\"Survived\", data=train)\n",
        "plt.title(\"Survival of Sex\")\n",
        "plt.show()"
      ],
      "execution_count": 460,
      "outputs": [
        {
          "output_type": "display_data",
          "data": {
            "image/png": "[encoded data removed]",
            "text/plain": [
              "<Figure size 432x288 with 1 Axes>"
            ]
          },
          "metadata": {
            "needs_background": "light"
          }
        }
      ]
    },
    {
      "cell_type": "markdown",
      "metadata": {
        "id": "LVF2G8xx2OaF"
      },
      "source": [
        "## Survival by Age"
      ]
    },
    {
      "cell_type": "code",
      "metadata": {
        "id": "Pf8-SoG-ueNy",
        "colab": {
          "base_uri": "https://localhost:8080/",
          "height": 0
        },
        "outputId": "7229b358-ff34-4324-a1ea-3e296533ac7b"
      },
      "source": [
        "sns.FacetGrid(train, col=\"Survived\").map(sns.histplot, \"Age\", bins=25)\n",
        "plt.show()"
      ],
      "execution_count": 461,
      "outputs": [
        {
          "output_type": "display_data",
          "data": {
            "image/png": "[encoded data removed]",
            "text/plain": [
              "<Figure size 432x216 with 2 Axes>"
            ]
          },
          "metadata": {
            "needs_background": "light"
          }
        }
      ]
    },
    {
      "cell_type": "markdown",
      "metadata": {
        "id": "7Rck04oA2lCl"
      },
      "source": [
        "## Survial by Sibsp"
      ]
    },
    {
      "cell_type": "code",
      "metadata": {
        "id": "b9TYVF2c3Tsv",
        "colab": {
          "base_uri": "https://localhost:8080/"
        },
        "outputId": "50ad3fd5-b465-4654-e32e-40bae7719d58"
      },
      "source": [
        "train.groupby(\"SibSp\")[\"Survived\"].mean()"
      ],
      "execution_count": 462,
      "outputs": [
        {
          "output_type": "execute_result",
          "data": {
            "text/plain": [
              "SibSp\n",
              "0    0.345395\n",
              "1    0.535885\n",
              "2    0.464286\n",
              "3    0.250000\n",
              "4    0.166667\n",
              "5    0.000000\n",
              "8    0.000000\n",
              "Name: Survived, dtype: float64"
            ]
          },
          "metadata": {},
          "execution_count": 462
        }
      ]
    },
    {
      "cell_type": "code",
      "metadata": {
        "id": "M3esKIa83aIA",
        "colab": {
          "base_uri": "https://localhost:8080/",
          "height": 0
        },
        "outputId": "6c51d52e-6431-47bf-a098-afaad7815b21"
      },
      "source": [
        "sns.countplot(x=\"SibSp\",hue=\"Survived\", data=train)\n",
        "plt.title(\"Survival of SibSp\")\n",
        "plt.show()"
      ],
      "execution_count": 463,
      "outputs": [
        {
          "output_type": "display_data",
          "data": {
            "image/png": "[encoded data removed]",
            "text/plain": [
              "<Figure size 432x288 with 1 Axes>"
            ]
          },
          "metadata": {
            "needs_background": "light"
          }
        }
      ]
    },
    {
      "cell_type": "markdown",
      "metadata": {
        "id": "idIWzjxz3jzz"
      },
      "source": [
        "## Survival by Parch"
      ]
    },
    {
      "cell_type": "code",
      "metadata": {
        "id": "DzFdARRf3qvj",
        "colab": {
          "base_uri": "https://localhost:8080/"
        },
        "outputId": "9c316c4a-1bc8-4c15-b959-f34617199436"
      },
      "source": [
        "train.groupby(\"Parch\")[\"Survived\"].mean()"
      ],
      "execution_count": 464,
      "outputs": [
        {
          "output_type": "execute_result",
          "data": {
            "text/plain": [
              "Parch\n",
              "0    0.343658\n",
              "1    0.550847\n",
              "2    0.500000\n",
              "3    0.600000\n",
              "4    0.000000\n",
              "5    0.200000\n",
              "6    0.000000\n",
              "Name: Survived, dtype: float64"
            ]
          },
          "metadata": {},
          "execution_count": 464
        }
      ]
    },
    {
      "cell_type": "code",
      "metadata": {
        "id": "V1DAuebwxHOr",
        "colab": {
          "base_uri": "https://localhost:8080/",
          "height": 0
        },
        "outputId": "31b843b8-41c5-4e76-ec29-379d83265cca"
      },
      "source": [
        "sns.countplot(x=\"Parch\",hue=\"Survived\", data=train)\n",
        "plt.title(\"Survival of Parch\")\n",
        "plt.show()\n"
      ],
      "execution_count": 465,
      "outputs": [
        {
          "output_type": "display_data",
          "data": {
            "image/png": "[encoded data removed]",
            "text/plain": [
              "<Figure size 432x288 with 1 Axes>"
            ]
          },
          "metadata": {
            "needs_background": "light"
          }
        }
      ]
    },
    {
      "cell_type": "markdown",
      "metadata": {
        "id": "CgknpKVG4fO-"
      },
      "source": [
        "## Survival by Fare\n"
      ]
    },
    {
      "cell_type": "code",
      "metadata": {
        "id": "ZMQdmGpk4h8a",
        "colab": {
          "base_uri": "https://localhost:8080/",
          "height": 0
        },
        "outputId": "3fd3c51d-f1a2-4fad-974d-fdb38a9ee830"
      },
      "source": [
        "Fare_plot=sns.FacetGrid(train, col=\"Survived\", sharey=False)\n",
        "Fare_plot.map(sns.histplot, \"Fare\",bins=20)\n",
        "Fare_plot.fig.subplots_adjust(top=0.7)\n",
        "Fare_plot.fig.suptitle(\"Survived by Fare\")\n",
        "Fare_plot.set_xlabels(\"Fare\")\n",
        "Fare_plot.set_ylabels(\"Count\")\n",
        "plt.show()"
      ],
      "execution_count": 466,
      "outputs": [
        {
          "output_type": "display_data",
          "data": {
            "image/png": "[encoded data removed]",
            "text/plain": [
              "<Figure size 432x216 with 2 Axes>"
            ]
          },
          "metadata": {
            "needs_background": "light"
          }
        }
      ]
    },
    {
      "cell_type": "markdown",
      "metadata": {
        "id": "wIzigOB-PbcN"
      },
      "source": [
        "## Survival by Embarked\n"
      ]
    },
    {
      "cell_type": "code",
      "metadata": {
        "id": "8prfgTM1PkzB",
        "colab": {
          "base_uri": "https://localhost:8080/"
        },
        "outputId": "bd600baa-2679-4ecc-98b7-9b26aa983ac4"
      },
      "source": [
        "train.groupby(\"Embarked\")[\"Survived\"].mean()"
      ],
      "execution_count": 467,
      "outputs": [
        {
          "output_type": "execute_result",
          "data": {
            "text/plain": [
              "Embarked\n",
              "C    0.553571\n",
              "Q    0.389610\n",
              "S    0.339009\n",
              "Name: Survived, dtype: float64"
            ]
          },
          "metadata": {},
          "execution_count": 467
        }
      ]
    },
    {
      "cell_type": "code",
      "metadata": {
        "id": "bGAO5wJTP3-L",
        "colab": {
          "base_uri": "https://localhost:8080/",
          "height": 0
        },
        "outputId": "f23c14b8-92a3-45b0-cad5-c68d40da1fc2"
      },
      "source": [
        "sns.countplot(x=\"Embarked\",hue=\"Survived\",data=train)\n",
        "plt.title(\"Survival of Embarked\")\n",
        "plt.show()"
      ],
      "execution_count": 468,
      "outputs": [
        {
          "output_type": "display_data",
          "data": {
            "image/png": "[encoded data removed]",
            "text/plain": [
              "<Figure size 432x288 with 1 Axes>"
            ]
          },
          "metadata": {
            "needs_background": "light"
          }
        }
      ]
    },
    {
      "cell_type": "markdown",
      "metadata": {
        "id": "LEdyD134T6Z8"
      },
      "source": [
        "## Survived by Title"
      ]
    },
    {
      "cell_type": "code",
      "metadata": {
        "id": "-Y1cUtNEUEOu",
        "colab": {
          "base_uri": "https://localhost:8080/"
        },
        "outputId": "fe08b637-8a23-408b-e532-0a8262d6b7d1"
      },
      "source": [
        "train.groupby(\"Title\")[\"Survived\"].mean()"
      ],
      "execution_count": 469,
      "outputs": [
        {
          "output_type": "execute_result",
          "data": {
            "text/plain": [
              "Title\n",
              "Master    0.575000\n",
              "Miss      0.703297\n",
              "Mr        0.158192\n",
              "Mrs       0.775362\n",
              "Name: Survived, dtype: float64"
            ]
          },
          "metadata": {},
          "execution_count": 469
        }
      ]
    },
    {
      "cell_type": "code",
      "metadata": {
        "id": "OQ3RvyIhb-Xe",
        "colab": {
          "base_uri": "https://localhost:8080/",
          "height": 0
        },
        "outputId": "928cfcec-8133-41f4-bc89-f4a1a865947a"
      },
      "source": [
        "title_plot= sns.catplot(x=\"Title\", hue=\"Survived\", col=\"Survived\", data=train, kind=\"count\", sharey=False)\n",
        "title_plot.fig.subplots_adjust(top=0.7)\n",
        "title_plot.fig.suptitle(\"Survived by Title\")\n",
        "title_plot.set_xlabels(\"Titles\")\n",
        "title_plot.set_ylabels(\"Count\")\n",
        "plt.show()"
      ],
      "execution_count": 470,
      "outputs": [
        {
          "output_type": "display_data",
          "data": {
            "image/png": "[encoded data removed]",
            "text/plain": [
              "<Figure size 720x360 with 2 Axes>"
            ]
          },
          "metadata": {
            "needs_background": "light"
          }
        }
      ]
    },
    {
      "cell_type": "code",
      "metadata": {
        "id": "J5dnoC8Pctaw",
        "colab": {
          "base_uri": "https://localhost:8080/"
        },
        "outputId": "a9680f04-2c37-438c-a5b7-b3953ae146b7"
      },
      "source": [
        "train.max()"
      ],
      "execution_count": 471,
      "outputs": [
        {
          "output_type": "execute_result",
          "data": {
            "text/plain": [
              "PassengerId                                         891\n",
              "Survived                                              1\n",
              "Pclass                                                3\n",
              "Name                        van Melkebeke, Mr. Philemon\n",
              "Age                                                  80\n",
              "SibSp                                                 8\n",
              "Parch                                                 6\n",
              "Ticket                                        WE/P 5735\n",
              "Fare                                            512.329\n",
              "Cabin                                           Unknown\n",
              "family_member_size                                   11\n",
              "Sex_value                                             1\n",
              "Cabin_type_value                                      8\n",
              "Embarked_value                                        2\n",
              "Title_value                                           3\n",
              "family_member_type_value                              2\n",
              "dtype: object"
            ]
          },
          "metadata": {},
          "execution_count": 471
        }
      ]
    },
    {
      "cell_type": "markdown",
      "metadata": {
        "id": "qBEv7Y7FPbTW"
      },
      "source": [
        "## Survival Factors"
      ]
    },
    {
      "cell_type": "code",
      "metadata": {
        "id": "O2nRA4U1Pjjr",
        "colab": {
          "base_uri": "https://localhost:8080/"
        },
        "outputId": "025cef6d-0bea-43ef-bf29-6704b69f3781"
      },
      "source": [
        "# source 2\n",
        "train.corr()[\"Survived\"].sort_values(key=lambda x: abs(x), ascending=False)"
      ],
      "execution_count": 472,
      "outputs": [
        {
          "output_type": "execute_result",
          "data": {
            "text/plain": [
              "Survived                    1.000000\n",
              "Sex_value                  -0.543351\n",
              "Pclass                     -0.338481\n",
              "Cabin_type_value           -0.301116\n",
              "Fare                        0.257307\n",
              "Embarked_value             -0.167675\n",
              "family_member_type_value   -0.108631\n",
              "Parch                       0.081629\n",
              "Age                        -0.070323\n",
              "Title_value                -0.062139\n",
              "SibSp                      -0.035322\n",
              "family_member_size          0.016639\n",
              "PassengerId                -0.005007\n",
              "Name: Survived, dtype: float64"
            ]
          },
          "metadata": {},
          "execution_count": 472
        }
      ]
    },
    {
      "cell_type": "code",
      "metadata": {
        "id": "JEtc7jqAdWSC"
      },
      "source": [
        "# See what .index Does\n",
        "# index gives the feature values that equaled true\n",
        "###########################################################\n",
        "# l=list(train.corr()[train.corr()[\"Survived\"].abs()>.05] )\n",
        "# p=list(train.corr()[train.corr()[\"Survived\"].abs()>.05].index )\n",
        "# print(len(l),\"\\n\",l)\n",
        "# print(len(p),\"\\n\",p)\n",
        "# res = [x for x in l + p if x not in l or x not in p]\n",
        "# print(res)"
      ],
      "execution_count": 473,
      "outputs": []
    },
    {
      "cell_type": "code",
      "metadata": {
        "id": "v44tEfKoQAW7",
        "colab": {
          "base_uri": "https://localhost:8080/"
        },
        "outputId": "c45644a8-7bb2-4c36-a576-ed63eb08796a"
      },
      "source": [
        "# Source 2\n",
        "related_columns = list(train.corr()[train.corr()[\"Survived\"].abs() > 0.05].index)\n",
        "related_columns.remove(\"Survived\")\n",
        "print(related_columns)"
      ],
      "execution_count": 474,
      "outputs": [
        {
          "output_type": "stream",
          "name": "stdout",
          "text": [
            "['Pclass', 'Age', 'Parch', 'Fare', 'Sex_value', 'Cabin_type_value', 'Embarked_value', 'Title_value', 'family_member_type_value']\n"
          ]
        }
      ]
    },
    {
      "cell_type": "markdown",
      "metadata": {
        "id": "83Dg5-epRVk4"
      },
      "source": [
        "# Models"
      ]
    },
    {
      "cell_type": "code",
      "metadata": {
        "id": "Ifsu---Iw4q5"
      },
      "source": [
        "Models = dict()\n",
        "Model_acc = dict()"
      ],
      "execution_count": 475,
      "outputs": []
    },
    {
      "cell_type": "code",
      "metadata": {
        "id": "zfLjVCoFzzb2"
      },
      "source": [
        "# Models['OH_CNN_model']=[OH_CNN_model,OH_acc_CNN[1]]\n",
        "# Models['EN_CNN_model']=[EN_CNN_model, EN_acc_CNN[1]]"
      ],
      "execution_count": 476,
      "outputs": []
    },
    {
      "cell_type": "markdown",
      "metadata": {
        "id": "CXTSX-U2-dXU"
      },
      "source": [
        "## DNN Models"
      ]
    },
    {
      "cell_type": "markdown",
      "metadata": {
        "id": "L1ig3GqkyqcM"
      },
      "source": [
        "### CNN Model"
      ]
    },
    {
      "cell_type": "code",
      "metadata": {
        "id": "T5I7ch8uwagt"
      },
      "source": [
        "## testing\n",
        "# X_train, X_val, y_train, y_val = get_train_test(OH_train, True)\n",
        "# # X_train=X_train.values\n",
        "# # y_train= y_train.values\n",
        "# # X_val= X_val.values\n",
        "# # y_val=y_val.values\n",
        "# # X_train=np.expand_dims(X_train,axis=2)\n",
        "# # X_val=np.expand_dims(X_val,axis=2)\n",
        "# X_train, X_val, y_train, y_val = get_train_test(EN_train, True)\n",
        "# print(\"X_val.shape: \",X_val.shape)\n",
        "# print(\"y_val.shape: \",y_val.shape)\n",
        "# print(\"X_train.shape: \",X_train.shape)\n",
        "# print(\"y_train.shape: \",y_train.shape)"
      ],
      "execution_count": 477,
      "outputs": []
    },
    {
      "cell_type": "code",
      "metadata": {
        "id": "fksKwJq_r1ci"
      },
      "source": [
        "def makeCN_Model(input_shape):\n",
        "  model = tf.keras.Sequential([\n",
        "  #tf.keras.layers.Input(27,1),\n",
        "  tf.keras.layers.Conv1D(128, 2, activation='relu',input_shape=input_shape),\n",
        "  tf.keras.layers.MaxPooling1D(pool_size=2),\n",
        "  tf.keras.layers.Conv1D(128, 4, activation='relu'),\n",
        "  tf.keras.layers.MaxPooling1D(pool_size=2),\n",
        "  tf.keras.layers.Flatten(),\n",
        "  tf.keras.layers.Dense(100, activation=\"relu\"),\n",
        "  tf.keras.layers.Dense(50, activation=\"relu\"),\n",
        "  tf.keras.layers.Dense(1, activation='sigmoid')\n",
        "  ])\n",
        "  model.compile(optimizer='adam', loss='binary_crossentropy', metrics=['accuracy'])\n",
        "  return model\n",
        "#model.summary()"
      ],
      "execution_count": 478,
      "outputs": []
    },
    {
      "cell_type": "code",
      "metadata": {
        "id": "bAFqVPAmKvT8",
        "colab": {
          "base_uri": "https://localhost:8080/"
        },
        "outputId": "baa6311a-0281-4ab1-d56b-e3cdc348da43"
      },
      "source": [
        "# for OH\n",
        "X_train, X_val, y_train, y_val = get_train_test(OH_train, True)\n",
        "x, y, z = X_train.shape\n",
        "print(\"X_val.shape: \",X_val.shape)\n",
        "print(\"y_val.shape: \",y_val.shape)\n",
        "print(\"X_train.shape: \",X_train.shape)\n",
        "print(\"y_train.shape: \",y_train.shape)\n",
        "input_shape = (y,z)\n",
        "OH_CNN_model=makeCN_Model((y,z))\n",
        "# OH_CNN_model.compile(optimizer='adam', loss='binary_crossentropy', metrics=['accuracy'])\n",
        "OH_CNN_model.summary()"
      ],
      "execution_count": 479,
      "outputs": [
        {
          "output_type": "stream",
          "name": "stdout",
          "text": [
            "X_val.shape:  (179, 27, 1)\n",
            "y_val.shape:  (179,)\n",
            "X_train.shape:  (712, 27, 1)\n",
            "y_train.shape:  (712,)\n",
            "Model: \"sequential_16\"\n",
            "_________________________________________________________________\n",
            "Layer (type)                 Output Shape              Param #   \n",
            "=================================================================\n",
            "conv1d_16 (Conv1D)           (None, 26, 128)           384       \n",
            "_________________________________________________________________\n",
            "max_pooling1d_16 (MaxPooling (None, 13, 128)           0         \n",
            "_________________________________________________________________\n",
            "conv1d_17 (Conv1D)           (None, 10, 128)           65664     \n",
            "_________________________________________________________________\n",
            "max_pooling1d_17 (MaxPooling (None, 5, 128)            0         \n",
            "_________________________________________________________________\n",
            "flatten_8 (Flatten)          (None, 640)               0         \n",
            "_________________________________________________________________\n",
            "dense_96 (Dense)             (None, 100)               64100     \n",
            "_________________________________________________________________\n",
            "dense_97 (Dense)             (None, 50)                5050      \n",
            "_________________________________________________________________\n",
            "dense_98 (Dense)             (None, 1)                 51        \n",
            "=================================================================\n",
            "Total params: 135,249\n",
            "Trainable params: 135,249\n",
            "Non-trainable params: 0\n",
            "_________________________________________________________________\n"
          ]
        }
      ]
    },
    {
      "cell_type": "code",
      "metadata": {
        "id": "kgaHJAcG72ZO",
        "colab": {
          "base_uri": "https://localhost:8080/",
          "height": 283
        },
        "outputId": "d4f9c125-2de5-4543-e7f6-dd692b5a7231"
      },
      "source": [
        "early_stop = tf.keras.callbacks.EarlyStopping(patience=10)\n",
        "history = OH_CNN_model.fit(\n",
        "    X_train, y_train,epochs=400, \n",
        "    validation_data=(X_val,y_val), \n",
        "    callbacks=[early_stop],\n",
        "    verbose=0\n",
        ")\n",
        "pd.DataFrame(history.history).plot()\n",
        "acc_ofmodel = OH_CNN_model.evaluate(X_val, y_val, verbose=0)\n",
        "print(\"Accuracy: \",acc_ofmodel[1])"
      ],
      "execution_count": 480,
      "outputs": [
        {
          "output_type": "stream",
          "name": "stdout",
          "text": [
            "Accuracy:  0.8156424760818481\n"
          ]
        },
        {
          "output_type": "display_data",
          "data": {
            "image/png": "[encoded data removed]",
            "text/plain": [
              "<Figure size 432x288 with 1 Axes>"
            ]
          },
          "metadata": {
            "needs_background": "light"
          }
        }
      ]
    },
    {
      "cell_type": "code",
      "metadata": {
        "id": "AEm1I9zbQPeC",
        "colab": {
          "base_uri": "https://localhost:8080/"
        },
        "outputId": "a2101893-fc74-440e-d1f2-770b334b04a8"
      },
      "source": [
        "OH_acc_CNN = OH_CNN_model.evaluate(X_val, y_val, verbose=0)\n",
        "print(\"Accuracy: \",OH_acc_CNN[1])\n",
        "Models['OH_CNN_model']=[OH_CNN_model,OH_acc_CNN[1]]"
      ],
      "execution_count": 481,
      "outputs": [
        {
          "output_type": "stream",
          "name": "stdout",
          "text": [
            "Accuracy:  0.8156424760818481\n"
          ]
        }
      ]
    },
    {
      "cell_type": "code",
      "metadata": {
        "id": "oq1EXeQUOVoY",
        "colab": {
          "base_uri": "https://localhost:8080/"
        },
        "outputId": "fe47f81e-bdb9-4e4c-bc2a-ac38a91ea6f5"
      },
      "source": [
        "# For EN\n",
        "X_train, X_val, y_train, y_val = get_train_test(EN_train, True)\n",
        "x, y, z = X_train.shape\n",
        "print(\"X_val.shape: \",X_val.shape)\n",
        "print(\"y_val.shape: \",y_val.shape)\n",
        "print(\"X_train.shape: \",X_train.shape)\n",
        "print(\"y_train.shape: \",y_train.shape)\n",
        "input_shape = (y,z)\n",
        "# print(input_shape)\n",
        "EN_CNN_model=makeCN_Model((y,z))\n",
        "# EN_CNN_model.compile(optimizer='adam', loss='binary_crossentropy', metrics=['accuracy'])\n",
        "EN_CNN_model.summary()"
      ],
      "execution_count": 482,
      "outputs": [
        {
          "output_type": "stream",
          "name": "stdout",
          "text": [
            "X_val.shape:  (179, 11, 1)\n",
            "y_val.shape:  (179,)\n",
            "X_train.shape:  (712, 11, 1)\n",
            "y_train.shape:  (712,)\n",
            "Model: \"sequential_17\"\n",
            "_________________________________________________________________\n",
            "Layer (type)                 Output Shape              Param #   \n",
            "=================================================================\n",
            "conv1d_18 (Conv1D)           (None, 10, 128)           384       \n",
            "_________________________________________________________________\n",
            "max_pooling1d_18 (MaxPooling (None, 5, 128)            0         \n",
            "_________________________________________________________________\n",
            "conv1d_19 (Conv1D)           (None, 2, 128)            65664     \n",
            "_________________________________________________________________\n",
            "max_pooling1d_19 (MaxPooling (None, 1, 128)            0         \n",
            "_________________________________________________________________\n",
            "flatten_9 (Flatten)          (None, 128)               0         \n",
            "_________________________________________________________________\n",
            "dense_99 (Dense)             (None, 100)               12900     \n",
            "_________________________________________________________________\n",
            "dense_100 (Dense)            (None, 50)                5050      \n",
            "_________________________________________________________________\n",
            "dense_101 (Dense)            (None, 1)                 51        \n",
            "=================================================================\n",
            "Total params: 84,049\n",
            "Trainable params: 84,049\n",
            "Non-trainable params: 0\n",
            "_________________________________________________________________\n"
          ]
        }
      ]
    },
    {
      "cell_type": "code",
      "metadata": {
        "id": "RSCvnIjYq6cb",
        "colab": {
          "base_uri": "https://localhost:8080/",
          "height": 283
        },
        "outputId": "6ac907f4-8fe7-47ba-c3a5-704d9bc8b6a0"
      },
      "source": [
        "history = EN_CNN_model.fit(\n",
        "    X_train, y_train,epochs=4000, \n",
        "    validation_data=(X_val,y_val), \n",
        "    callbacks=[early_stop],\n",
        "    verbose=0\n",
        ")\n",
        "pd.DataFrame(history.history).plot()\n",
        "acc_ofmodel = EN_CNN_model.evaluate(X_val, y_val, verbose=0)\n",
        "print(\"Accuracy: \",acc_ofmodel[1])"
      ],
      "execution_count": 483,
      "outputs": [
        {
          "output_type": "stream",
          "name": "stdout",
          "text": [
            "Accuracy:  0.8100558519363403\n"
          ]
        },
        {
          "output_type": "display_data",
          "data": {
            "image/png": "[encoded data removed]",
            "text/plain": [
              "<Figure size 432x288 with 1 Axes>"
            ]
          },
          "metadata": {
            "needs_background": "light"
          }
        }
      ]
    },
    {
      "cell_type": "code",
      "metadata": {
        "id": "5pCEH5M912nY"
      },
      "source": [
        "# For Comparison \n",
        "EN_acc_CNN = EN_CNN_model.evaluate(X_val, y_val, verbose=0)\n",
        "Models['EN_CNN_model']=[EN_CNN_model, EN_acc_CNN[1]]"
      ],
      "execution_count": 484,
      "outputs": []
    },
    {
      "cell_type": "markdown",
      "metadata": {
        "id": "G1m05o6c4YO5"
      },
      "source": [
        "### DNN Model"
      ]
    },
    {
      "cell_type": "code",
      "metadata": {
        "id": "wigsPCqk408i"
      },
      "source": [
        "def fit_DNN_Model(model, epochs=400):\n",
        "  history = model.fit(\n",
        "    X_train, y_train,epochs=epochs, \n",
        "    validation_data=(X_val,y_val), \n",
        "    callbacks=[early_stop],\n",
        "    verbose=0\n",
        "  )\n",
        "  pd.DataFrame(history.history).plot()\n",
        "  acc_ofmodel = model.evaluate(X_val, y_val, verbose=0)\n",
        "  print(\"Accuracy: \",acc_ofmodel[1])\n",
        "  return acc_ofmodel[1]"
      ],
      "execution_count": 485,
      "outputs": []
    },
    {
      "cell_type": "code",
      "metadata": {
        "id": "bePwEP_B4chG"
      },
      "source": [
        "def DNN_model(input_dim):\n",
        "   model = tf.keras.Sequential([\n",
        "      tf.keras.layers.Input(shape=(input_dim)),\n",
        "      tf.keras.layers.Dense(1000, activation='relu'), \n",
        "      tf.keras.layers.Dense(750, activation='relu'),  \n",
        "      tf.keras.layers.Dense(500, activation='relu'),  \n",
        "      tf.keras.layers.Dense(250, activation='relu'),  \n",
        "      tf.keras.layers.Dense(50, activation='relu'),\n",
        "      tf.keras.layers.Dense(1, activation='sigmoid')                          \n",
        "   ])\n",
        "   model.compile(optimizer='adam', loss='binary_crossentropy', metrics=['accuracy'])\n",
        "   return model"
      ],
      "execution_count": 486,
      "outputs": []
    },
    {
      "cell_type": "code",
      "metadata": {
        "colab": {
          "base_uri": "https://localhost:8080/",
          "height": 283
        },
        "id": "wDpUeFAl6z63",
        "outputId": "78070b00-9bfe-48ec-9441-d0de9d5142a5"
      },
      "source": [
        "X_train, X_val, y_train, y_val = get_train_test(OH_train, False)\n",
        "OH_DNN_model = DNN_model(X_train.shape[1])\n",
        "OH_acc_DNN = fit_DNN_Model(OH_DNN_model)\n",
        "Models['OH_DNN_model']=[OH_DNN_model,OH_acc_DNN]"
      ],
      "execution_count": 487,
      "outputs": [
        {
          "output_type": "stream",
          "name": "stdout",
          "text": [
            "Accuracy:  0.8156424760818481\n"
          ]
        },
        {
          "output_type": "display_data",
          "data": {
            "image/png": "[encoded data removed]",
            "text/plain": [
              "<Figure size 432x288 with 1 Axes>"
            ]
          },
          "metadata": {
            "needs_background": "light"
          }
        }
      ]
    },
    {
      "cell_type": "code",
      "metadata": {
        "colab": {
          "base_uri": "https://localhost:8080/",
          "height": 283
        },
        "id": "RMWlBqGkAf1e",
        "outputId": "3d0cdf24-43ab-4a43-8aaa-542de476b43b"
      },
      "source": [
        "X_train, X_val, y_train, y_val = get_train_test(EN_train, False)\n",
        "EN_DNN_model = DNN_model(X_train.shape[1])\n",
        "EN_acc_DNN = fit_DNN_Model(EN_DNN_model)\n",
        "Models['EN_DNN_model']=[EN_DNN_model,EN_acc_DNN]"
      ],
      "execution_count": 488,
      "outputs": [
        {
          "output_type": "stream",
          "name": "stdout",
          "text": [
            "Accuracy:  0.8212290406227112\n"
          ]
        },
        {
          "output_type": "display_data",
          "data": {
            "image/png": "[encoded data removed]",
            "text/plain": [
              "<Figure size 432x288 with 1 Axes>"
            ]
          },
          "metadata": {
            "needs_background": "light"
          }
        }
      ]
    },
    {
      "cell_type": "markdown",
      "metadata": {
        "id": "alVnVYuUSKKC"
      },
      "source": [
        "### Deep and Wide Model"
      ]
    },
    {
      "cell_type": "code",
      "metadata": {
        "id": "FgsxvAnMSJep",
        "colab": {
          "base_uri": "https://localhost:8080/"
        },
        "outputId": "62601c73-7d89-441f-c3e1-9067e6511b36"
      },
      "source": [
        "categorical_feature_names = [\"Pclass\", \"Sex_value\", \"Embarked_value\", \"Cabin_type_value\"]\n",
        "numerical_feature_names = [\"Age\", \"Fare\", \"SibSp\", \"Parch\", \"family_member_size\"]\n",
        "categorical_features = [\n",
        "    feature_column.indicator_column(\n",
        "        feature_column.categorical_column_with_vocabulary_list(key, sorted(list(train[key].unique())))\n",
        "    ) for key in categorical_feature_names\n",
        "]\n",
        "print(categorical_features)\n",
        "numerical_features = [feature_column.numeric_column(key) for key in numerical_feature_names]\n",
        "input_dictionary = dict()\n",
        "inputs = dict()\n",
        "for item in numerical_features:\n",
        "    inputs[item.key] = tf.keras.layers.Input(name=item.key, shape=())\n",
        "for item in categorical_features:\n",
        "    #print(item.categorical_column.key)\n",
        "    inputs[item.categorical_column.key] = tf.keras.layers.Input(name=item.categorical_column.key, shape=(), dtype=\"int32\")"
      ],
      "execution_count": 489,
      "outputs": [
        {
          "output_type": "stream",
          "name": "stdout",
          "text": [
            "[IndicatorColumn(categorical_column=VocabularyListCategoricalColumn(key='Pclass', vocabulary_list=(1, 2, 3), dtype=tf.int64, default_value=-1, num_oov_buckets=0)), IndicatorColumn(categorical_column=VocabularyListCategoricalColumn(key='Sex_value', vocabulary_list=(0, 1), dtype=tf.int64, default_value=-1, num_oov_buckets=0)), IndicatorColumn(categorical_column=VocabularyListCategoricalColumn(key='Embarked_value', vocabulary_list=(0, 1, 2), dtype=tf.int64, default_value=-1, num_oov_buckets=0)), IndicatorColumn(categorical_column=VocabularyListCategoricalColumn(key='Cabin_type_value', vocabulary_list=(0, 1, 2, 3, 4, 5, 6, 7, 8), dtype=tf.int64, default_value=-1, num_oov_buckets=0))]\n"
          ]
        }
      ]
    },
    {
      "cell_type": "code",
      "metadata": {
        "id": "Rx0R2FauTNFX"
      },
      "source": [
        "# Source 2 \n",
        "# Helper Features\n",
        "def features_and_labels(row_data):\n",
        "    label = row_data.pop(\"Survived\")\n",
        "    features = row_data\n",
        "    # print(\"Label: \", label)\n",
        "    # print(\"Feature: \", features)\n",
        "    return features, label\n",
        "\n",
        "def create_dataset(pattern, epochs=1, batch_size=32, mode='eval'):\n",
        "    dataset = tf.data.experimental.make_csv_dataset(\n",
        "        pattern, batch_size\n",
        "    )\n",
        "    # print(\"Before map: \", dataset)\n",
        "    dataset = dataset.map(features_and_labels)\n",
        "    # print(\"After map: \",dataset)\n",
        "    if mode == 'train':\n",
        "        dataset = dataset.shuffle(buffer_size=128).repeat(epochs)\n",
        "    #print(dataset)\n",
        "    dataset = dataset.prefetch(1)\n",
        "    #print(\"after prefetch\\n\",dataset)\n",
        "    return dataset\n",
        "\n",
        "def create_test_dataset(pattern, batch_size=32):\n",
        "    dataset = tf.data.experimental.make_csv_dataset(\n",
        "        pattern, batch_size\n",
        "    )\n",
        "    dataset = dataset.map(lambda features: features)\n",
        "    dataset = dataset.prefetch(1)\n",
        "    return dataset"
      ],
      "execution_count": 490,
      "outputs": []
    },
    {
      "cell_type": "code",
      "metadata": {
        "id": "K2ijhPhPYVX-"
      },
      "source": [
        "# Train test split\n",
        "train_data, val_data = train_test_split(\n",
        "    train[categorical_feature_names + numerical_feature_names + [\"Survived\"]],\n",
        "    test_size=.2,\n",
        "    random_state=np.random.randint(0, 1000)\n",
        ")\n",
        "train_data.to_csv(\"train_data.csv\", index=False)\n",
        "val_data.to_csv(\"val_data.csv\", index=False)\n",
        "test[categorical_feature_names + numerical_feature_names].to_csv(\"test_data.csv\", index=False)\n",
        "batch_size = 32\n",
        "train_dataset = create_dataset(\"train_data.csv\", batch_size=batch_size, mode='train')\n",
        "val_dataset = create_dataset(\"val_data.csv\", batch_size=val_data.shape[0], mode='eval').take(1)\n",
        "test_dataset = create_test_dataset(\"test_data.csv\", batch_size = test.shape[0]).take(1)"
      ],
      "execution_count": 491,
      "outputs": []
    },
    {
      "cell_type": "code",
      "metadata": {
        "id": "0tFv2kEdb2bd"
      },
      "source": [
        "# D&W Model\n",
        "def build_deep_and_wide_model():\n",
        "    deep = tf.keras.layers.DenseFeatures(numerical_features, name='deep')(inputs)\n",
        "    deep = tf.keras.layers.Dense(16, activation='relu')(deep)\n",
        "    deep = tf.keras.layers.Dropout(0.3)(deep)\n",
        "    deep = tf.keras.layers.Dense(16, activation='relu')(deep)\n",
        "    deep = tf.keras.layers.Dropout(0.3)(deep)\n",
        "    deep = tf.keras.layers.Dense(16, activation='relu')(deep)\n",
        "    deep = tf.keras.layers.Dropout(0.3)(deep)\n",
        "    deep = tf.keras.layers.Dense(16, activation='relu')(deep)\n",
        "    deep = tf.keras.layers.Dropout(0.3)(deep)\n",
        "    wide = tf.keras.layers.DenseFeatures(categorical_features, name='wide')(inputs)\n",
        "    wide = tf.keras.layers.Dense(32, activation='relu')(wide)\n",
        "    combined = tf.keras.layers.concatenate(inputs=[deep, wide], name='combined')\n",
        "    output = tf.keras.layers.Dense(1, activation=\"sigmoid\")(combined)\n",
        "    model = tf.keras.Model(inputs=list(inputs.values()), outputs=output)\n",
        "    model.compile(optimizer=\"adam\", loss=\"binary_crossentropy\", metrics=[\"accuracy\"])\n",
        "    return model"
      ],
      "execution_count": 492,
      "outputs": []
    },
    {
      "cell_type": "code",
      "metadata": {
        "id": "pfCniP-CcCMC",
        "colab": {
          "base_uri": "https://localhost:8080/",
          "height": 0
        },
        "outputId": "4b4d4c3b-5e8c-420d-f2aa-f240f4cd55f1"
      },
      "source": [
        "deep_and_wide_model = build_deep_and_wide_model()\n",
        "tf.keras.utils.plot_model(deep_and_wide_model, show_shapes=False, rankdir='LR')"
      ],
      "execution_count": 493,
      "outputs": [
        {
          "output_type": "execute_result",
          "data": {
            "image/png": "[encoded data removed]",
            "text/plain": [
              "<IPython.core.display.Image object>"
            ]
          },
          "metadata": {},
          "execution_count": 493
        }
      ]
    },
    {
      "cell_type": "code",
      "metadata": {
        "id": "Ljy-QhI4cH6x",
        "colab": {
          "base_uri": "https://localhost:8080/",
          "height": 0
        },
        "outputId": "eabb228e-6381-46ff-b1c5-2eade33fdaf4"
      },
      "source": [
        "epochs = 400\n",
        "early_stop = tf.keras.callbacks.EarlyStopping(patience=10)\n",
        "steps_per_epoch = train_data.shape[0] // batch_size\n",
        "history = deep_and_wide_model.fit(\n",
        "    train_dataset, \n",
        "    steps_per_epoch=steps_per_epoch,\n",
        "    validation_data=val_dataset,\n",
        "    epochs=epochs,\n",
        "    callbacks=[early_stop],\n",
        "    verbose=0\n",
        ")\n",
        "pd.DataFrame(history.history).plot()"
      ],
      "execution_count": 494,
      "outputs": [
        {
          "output_type": "execute_result",
          "data": {
            "text/plain": [
              "<matplotlib.axes._subplots.AxesSubplot at 0x7f74aff747d0>"
            ]
          },
          "metadata": {},
          "execution_count": 494
        },
        {
          "output_type": "display_data",
          "data": {
            "image/png": "[encoded data removed]",
            "text/plain": [
              "<Figure size 432x288 with 1 Axes>"
            ]
          },
          "metadata": {
            "needs_background": "light"
          }
        }
      ]
    },
    {
      "cell_type": "code",
      "metadata": {
        "id": "02IUfrl1pP8c",
        "colab": {
          "base_uri": "https://localhost:8080/"
        },
        "outputId": "b31bbad9-172e-4ec2-b89c-1fdadb7161bd"
      },
      "source": [
        "# y_pred =  np.array(deep_and_wide_model.predict(val_dataset) > 0.5, dtype=int).reshape(-1)\n",
        "y_pred = np.array(deep_and_wide_model.predict(val_dataset)>0.5,dtype=int).reshape(-1)\n",
        "score = accuracy_score(val_data[\"Survived\"], y_pred)\n",
        "print(\"Accuraccy Score: \",score)\n",
        "print(sklearn.metrics.classification_report(val_data[\"Survived\"], y_pred))\n",
        "Survived = np.argmax(deep_and_wide_model.predict(test_dataset), axis=-1).reshape(-1)\n",
        "# print(np.argmax(deep_and_wide_model.predict(test_dataset),axis=1).reshape(-1))\n",
        "# print(test.shape)\n",
        "print(Survived.shape)\n",
        "Models['deep_and_wide_model']=[deep_and_wide_model,score]"
      ],
      "execution_count": 495,
      "outputs": [
        {
          "output_type": "stream",
          "name": "stdout",
          "text": [
            "Accuraccy Score:  0.48044692737430167\n",
            "              precision    recall  f1-score   support\n",
            "\n",
            "         0.0       0.50      0.63      0.56        92\n",
            "         1.0       0.45      0.32      0.38        87\n",
            "\n",
            "    accuracy                           0.48       179\n",
            "   macro avg       0.47      0.48      0.47       179\n",
            "weighted avg       0.47      0.48      0.47       179\n",
            "\n",
            "(418,)\n"
          ]
        }
      ]
    },
    {
      "cell_type": "code",
      "metadata": {
        "id": "wMhH2Q45Bgpf"
      },
      "source": [
        ""
      ],
      "execution_count": 495,
      "outputs": []
    },
    {
      "cell_type": "markdown",
      "metadata": {
        "id": "Za171G4dBoOe"
      },
      "source": [
        "## Other Models"
      ]
    },
    {
      "cell_type": "markdown",
      "metadata": {
        "id": "VbXx-lgkaI_6"
      },
      "source": [
        "### Logistic Regression"
      ]
    },
    {
      "cell_type": "code",
      "metadata": {
        "colab": {
          "base_uri": "https://localhost:8080/"
        },
        "id": "-bW9CsKraTjf",
        "outputId": "17ecb3d7-216f-4e28-f778-e4404f959e9b"
      },
      "source": [
        "EN_train.corr()[\"Survived\"].sort_values(key=lambda x: abs(x), ascending=False)"
      ],
      "execution_count": 496,
      "outputs": [
        {
          "output_type": "execute_result",
          "data": {
            "text/plain": [
              "Survived                    1.000000\n",
              "Sex_value                  -0.543351\n",
              "Pclass                     -0.338481\n",
              "Cabin_type_value           -0.301116\n",
              "Fare                        0.257307\n",
              "Embarked_value             -0.167675\n",
              "family_member_type_value   -0.108631\n",
              "Parch                       0.081629\n",
              "Age                        -0.070323\n",
              "Title_value                -0.062139\n",
              "SibSp                      -0.035322\n",
              "family_member_size          0.016639\n",
              "Name: Survived, dtype: float64"
            ]
          },
          "metadata": {},
          "execution_count": 496
        }
      ]
    },
    {
      "cell_type": "code",
      "metadata": {
        "id": "Ah36SHRUapdu"
      },
      "source": [
        "LT = list(EN_train.corr()[EN_train.corr()[\"Survived\"].abs() > 0.2].index) \n",
        "LT1 = list(OH_train.corr()[OH_train.corr()[\"Survived\"].abs() > 0.2].index) \n",
        "L_dataset1 = EN_train[LT]\n",
        "L_dataset2 = OH_train[LT1]\n",
        "L_dataset3 = copy.copy(OH_train)\n",
        "L_dataset4 = copy.copy(EN_train)\n",
        "L_datasets = [L_dataset1, L_dataset2, L_dataset3, L_dataset4]"
      ],
      "execution_count": 497,
      "outputs": []
    },
    {
      "cell_type": "code",
      "metadata": {
        "colab": {
          "base_uri": "https://localhost:8080/"
        },
        "id": "b8_xfH7eBt8C",
        "outputId": "ff86c7f0-46de-48a9-d34a-c55d494a7ba3"
      },
      "source": [
        "from sklearn.linear_model import LogisticRegression\n",
        "best_logit = None\n",
        "best_solver = \"\"\n",
        "best_logit_score = 0\n",
        "count =0\n",
        "for data in L_datasets:\n",
        "  X_train, X_val, y_train, y_val = get_train_test(data, False)\n",
        "  for solver in ['newton-cg', 'lbfgs', 'liblinear', 'sag', 'saga']:\n",
        "      logit = LogisticRegression(solver=solver)\n",
        "      logit.fit(X_train, y_train)\n",
        "      score = logit.score(X_val, y_val)\n",
        "      if score > best_logit_score:\n",
        "          best_solver = solver\n",
        "          best_logit_score = score\n",
        "          best_logit = logit\n",
        "          #print(count)\n",
        "  #count+=1\n",
        "print(\"Best Solver:\", best_solver, \"Score:\", best_logit_score)\n",
        "Models['logit'] = [best_logit, best_logit_score]"
      ],
      "execution_count": 498,
      "outputs": [
        {
          "output_type": "stream",
          "name": "stdout",
          "text": [
            "Best Solver: newton-cg Score: 0.8268156424581006\n"
          ]
        }
      ]
    },
    {
      "cell_type": "markdown",
      "metadata": {
        "id": "vhJ1e2J3M-7R"
      },
      "source": [
        "### Stochastic Gradient Descent"
      ]
    },
    {
      "cell_type": "code",
      "metadata": {
        "id": "T3N5rCluhZ-Q"
      },
      "source": [
        "# import numpy as np\n",
        "# from sklearn.linear_model import SGDClassifier\n",
        "# import time\n",
        "# best_sgd_score = 0\n",
        "# best_depth = 5\n",
        "# best_n_estimators = 5\n",
        "# best_learning_rate = 'adaptive'\n",
        "# best_sgd_model = None\n",
        "# sgd_stats = {'best_sgd_score': 0,\n",
        "#     'best_learning_rate': 'adaptive',\n",
        "#     'best_sgd_model' : None,\n",
        "#     'best_loss' : 'hinge',\n",
        "#     'best_max_iter' : 1000,\n",
        "#     'best_et0':0.0,\n",
        "#     'cur_et0': 0.0,\n",
        "#     'cur_learning_rate': 'adaptive',\n",
        "#     'cur_loss' : 'hinge',\n",
        "#     'cur_max_iter' : 1000,\n",
        "#     }\n",
        "# # loss\n",
        "# # max_iter\n",
        "# SGD_datasets = L_datasets\n",
        "# X_train, X_val, y_train, y_val = get_train_test(OH_train, False)\n",
        "# rates = ['adaptive', 'optimal', 'constant', 'invscaling']\n",
        "\n",
        "# ## catch All Function\n",
        "# def best_lr_sgd(model, tv, stats = sgd_stats):\n",
        "#   model.fit(tv['X_train'], tv['y_train'])\n",
        "#   score = model.score(tv['X_val'], tv['y_val'])\n",
        "#   if score > stats['best_sgd_score']:\n",
        "#         stats['best_learning_rate'] = stats['cur_learning_rate']\n",
        "#         stats['best_loss'] = stats['cur_loss']\n",
        "#         stats['best_et0'] = stats['cur_et0']\n",
        "#         stats['best_max_iter'] = model.n_iter\n",
        "#         stats['best_sgd_score'] = score\n",
        "#         stats['best_sgd_model'] = model\n",
        "#   return stats\n",
        "# start_time = time.time()\n",
        "# for data in SGD_datasets:\n",
        "#   X_train, X_val, y_train, y_val = get_train_test(data, False)\n",
        "#   sgd_tv =  {'X_train':X_train, 'X_val':X_val, 'y_train':y_train, 'y_val':y_val}\n",
        "#   for eta in list(np.arange(0.001, 0.15, 0.001)):\n",
        "#   # Learning Rate\n",
        "#     for rate in rates:\n",
        "#       for mit in list(np.arange(1000.0,10000.0,10.0)):\n",
        "#         sgd = SGDClassifier(\n",
        "#                 loss= sgd_stats['best_loss'],\n",
        "#                 max_iter = mit,\n",
        "#                 learning_rate = rate, \n",
        "#                 eta0 = eta,\n",
        "#                 random_state= 42, #np.random.randint(1, 1000)\n",
        "#                 early_stopping =True\n",
        "#               )\n",
        "#         sgd_stats['cur_learning_rate'] = rate\n",
        "#         sgd_stats['cur_et0'] = eta\n",
        "#         sgd_stats['cur_loss'] = sgd_stats['best_loss']\n",
        "#         sgd_stats['cur_max_iter'] = mit\n",
        "#         sgd_stats = best_lr_sgd(sgd,sgd_tv)\n",
        "# duration = time.time() - start_time \n",
        "# print(\"Best Learning Rate:\", sgd_stats['best_learning_rate'], \"\\nBest iter: \", sgd_stats['best_max_iter'], \"\\nBest Score (best mean acc): \", sgd_stats['best_sgd_score'])\n",
        "\n",
        "# # for learning_rate in list(np.arange(0.05, 0.15, 0.01)):\n",
        "# #     sgd = SGDClassifier(\n",
        "# #             n_estimators=best_n_estimators, \n",
        "# #             learning_rate=learning_rate, \n",
        "# #             max_depth=best_depth, \n",
        "# #             random_state=np.random.randint(1, 1000)\n",
        "# #     )\n",
        "# #     sgd.fit(train_features, train_targets)\n",
        "# #     score = sgd.score(validation_features, validation_targets)\n",
        "# #     if score > best_sgd_score:\n",
        "# #         best_learning_rate = learning_rate\n",
        "# #         best_sgd_score = score\n",
        "# #         best_sgd_model = sgd\n",
        "# # print(\"Best Learning Rate:\", best_learning_rate)\n"
      ],
      "execution_count": 499,
      "outputs": []
    },
    {
      "cell_type": "code",
      "metadata": {
        "colab": {
          "base_uri": "https://localhost:8080/"
        },
        "id": "vM5ax8mE39uq",
        "outputId": "7bf9ff4b-1bcb-4b79-809d-380aa376b0c1"
      },
      "source": [
        "import numpy as np\n",
        "from sklearn.linear_model import SGDClassifier\n",
        "import time\n",
        "from sklearn.model_selection import RandomizedSearchCV\n",
        "best_sgd_score = 0\n",
        "best_depth = 5\n",
        "best_n_estimators = 5\n",
        "best_learning_rate = 'adaptive'\n",
        "best_sgd_model = None\n",
        "sgd_stats = {'best_sgd_score': 0,\n",
        "    'best_learning_rate': 'adaptive',\n",
        "    'best_sgd_model' : None,\n",
        "    'best_loss' : 'hinge',\n",
        "    'best_max_iter' : 1000,\n",
        "    'best_et0':0.0,\n",
        "    'cur_et0': 0.0,\n",
        "    'cur_learning_rate': 'adaptive',\n",
        "    'cur_loss' : 'hinge',\n",
        "    'cur_max_iter' : 1000,\n",
        "    }\n",
        "# loss\n",
        "# max_iter\n",
        "# SGD_datasets = L_datasets\n",
        "X_train, X_val, y_train, y_val = get_train_test(OH_train, False)\n",
        "learning_rate = ['adaptive', 'optimal', 'constant', 'invscaling']\n",
        "eta0 = list(np.arange(0.001, 0.15, 0.001))\n",
        "max_iter = list(np.arange(1000.0,10000.0,10.0))\n",
        "random_state= [42]\n",
        "early_stopping =[True]\n",
        "loss = ['hinge','log','modified_huber','squared_hinge','perceptron' ]\n",
        "X_train = OH_train.drop(\"Survived\", axis=1)\n",
        "y_train = OH_train['Survived']\n",
        "\n",
        "param_distributions = dict(loss=loss, \n",
        "                           max_iter = max_iter, \n",
        "                           learning_rate = learning_rate, \n",
        "                           eta0 = eta0,\n",
        "                           early_stopping=early_stopping\n",
        "                           )\n",
        "sgd = SGDClassifier()\n",
        "random = RandomizedSearchCV(sgd, param_distributions,\n",
        "                            n_iter=10000, scoring='accuracy', n_jobs=-1, \n",
        "                            cv=3, verbose=3, random_state=42)\n",
        "stuff = random.fit(X_train, y_train)\n",
        "print(\"Best Score: \", stuff.best_score_)"
      ],
      "execution_count": 500,
      "outputs": [
        {
          "output_type": "stream",
          "name": "stdout",
          "text": [
            "Fitting 3 folds for each of 10000 candidates, totalling 30000 fits\n"
          ]
        },
        {
          "output_type": "stream",
          "name": "stderr",
          "text": [
            "[Parallel(n_jobs=-1)]: Using backend LokyBackend with 2 concurrent workers.\n",
            "[Parallel(n_jobs=-1)]: Done  72 tasks      | elapsed:    2.0s\n",
            "[Parallel(n_jobs=-1)]: Done 840 tasks      | elapsed:    9.8s\n",
            "[Parallel(n_jobs=-1)]: Done 2120 tasks      | elapsed:   22.5s\n",
            "[Parallel(n_jobs=-1)]: Done 3912 tasks      | elapsed:   40.0s\n",
            "[Parallel(n_jobs=-1)]: Done 6216 tasks      | elapsed:  1.0min\n",
            "[Parallel(n_jobs=-1)]: Done 9032 tasks      | elapsed:  1.5min\n",
            "[Parallel(n_jobs=-1)]: Done 12360 tasks      | elapsed:  2.1min\n",
            "[Parallel(n_jobs=-1)]: Done 16200 tasks      | elapsed:  2.7min\n",
            "[Parallel(n_jobs=-1)]: Done 20552 tasks      | elapsed:  3.4min\n",
            "[Parallel(n_jobs=-1)]: Done 25416 tasks      | elapsed:  4.2min\n"
          ]
        },
        {
          "output_type": "stream",
          "name": "stdout",
          "text": [
            "Best Score:  0.8372615039281707\n"
          ]
        },
        {
          "output_type": "stream",
          "name": "stderr",
          "text": [
            "[Parallel(n_jobs=-1)]: Done 30000 out of 30000 | elapsed:  4.9min finished\n"
          ]
        }
      ]
    },
    {
      "cell_type": "markdown",
      "metadata": {
        "id": "2w1x1OdiNDX5"
      },
      "source": [
        "### Dict set up"
      ]
    },
    {
      "cell_type": "code",
      "metadata": {
        "id": "wPWqqV-uucyB"
      },
      "source": [
        "from sklearn.linear_model import SGDClassifier, LogisticRegression\n",
        "from sklearn.svm import SVC\n",
        "from sklearn.gaussian_process import GaussianProcessClassifier\n",
        "from sklearn.tree import DecisionTreeClassifier\n",
        "from sklearn.ensemble import AdaBoostClassifier, RandomForestClassifier, GradientBoostingClassifier\n",
        "from sklearn.neighbors import KNeighborsClassifier\n",
        "from sklearn.gaussian_process.kernels import RBF\n",
        "from sklearn.gaussian_process.kernels import RationalQuadratic\n",
        "\n",
        "# Models\n",
        "sgd = SGDClassifier(random_state = 42)\n",
        "lr = LogisticRegression(random_state = 42)\n",
        "svm = SVC(random_state = 42)\n",
        "knn = KNeighborsClassifier()\n",
        "gpc = GaussianProcessClassifier(random_state = 42)\n",
        "dtc = DecisionTreeClassifier(random_state = 42)\n",
        "abc = AdaBoostClassifier(random_state = 42)\n",
        "rfc = RandomForestClassifier(random_state = 42)\n",
        "gbc = GradientBoostingClassifier(random_state = 42)\n",
        "# Model Dict\n",
        "models = dict(sgd = sgd, \n",
        "              lr = lr, \n",
        "              svm = svm, \n",
        "              knn= knn, \n",
        "              gpc = gpc, \n",
        "              dtc = dtc, \n",
        "              abc =abc, \n",
        "              rfc = rfc,\n",
        "              gbc = gbc)\n",
        "# Parameters\n",
        "params = {\n",
        "    \n",
        "    'sgd':dict(learning_rate = ['adaptive', 'optimal', 'constant', 'invscaling'],\n",
        "               eta0 = list(np.arange(0.001, 0.15, 0.001)),\n",
        "               max_iter = list(np.arange(1000.0,10000.0,10.0)),\n",
        "               random_state= [42],\n",
        "               early_stopping =[True]),\n",
        "    'lr':dict(solver = ['newton-cg', 'lbfgs', 'liblinear', 'sag', 'saga'],\n",
        "              C = list(np.arange(1,20)),\n",
        "              max_iter = list(np.arange(100,1000,10))\n",
        "              ),\n",
        "    'svm':dict(gamma = ['scale', 'auto'],\n",
        "               max_iter = [-1]),\n",
        "    'knn':dict(n_neighbors = list(np.arange(5,50,5)),\n",
        "               algorithm = ['auto', 'ball_tree', 'kd_tree', 'brute'],\n",
        "               leaf_size = list(np.arange(30,100, 10))\n",
        "               ),\n",
        "    'gpc':dict(max_iter_predict = list(np.arange(100,1000,10))\n",
        "               ),\n",
        "    'dtc':dict(criterion = ['gini', 'entropy'],\n",
        "               max_depth = [None]+list(np.arange(10,100,10)),\n",
        "               min_samples_split = list(np.arange(2,10,2)),\n",
        "               min_samples_leaf =  list(np.arange(1,10)),\n",
        "               max_features = ['auto', 'sqrt', 'log2'] ,\n",
        "               max_leaf_nodes = [None]+list(np.arange(100,1000,10))       \n",
        "               ),\n",
        "    'abc':dict(n_estimators = list(np.arange(50,100,10)),\n",
        "              learning_rate = list(np.arange(1,20,1)),\n",
        "              algorithm = ['SAMME', 'SAMME.R']             \n",
        "               ),\n",
        "    'rfc':dict(n_estimators = list(np.arange(100,500,10)),\n",
        "              criterion = ['gini', 'entropy'],\n",
        "              max_depth = [None]+list(np.arange(10,100,10)),\n",
        "              min_samples_split = list(np.arange(2,10,2)),\n",
        "              min_samples_leaf =  list(np.arange(1,10)),\n",
        "              max_features = ['auto', 'sqrt', 'log2'] ,\n",
        "              max_leaf_nodes = [None]+list(np.arange(100,1000,10))        \n",
        "               ),\n",
        "    'gbc':dict(loss=['deviance', 'exponential'],\n",
        "               learning_rate = list(np.arange(0.05,0.5,0.05, dtype = float)),\n",
        "               n_estimators = list(np.arange(100,500,10)),\n",
        "               criterion=['friedman_mse', 'mse', 'mae'],\n",
        "               min_samples_split = list(np.arange(2,10,2)),\n",
        "               min_samples_leaf =  list(np.arange(1,10)),\n",
        "               max_depth = list(np.arange(3,50,1)),\n",
        "               max_features = ['auto', 'sqrt', 'log2'],\n",
        "               max_leaf_nodes = [None]+list(np.arange(100,1000,10)),\n",
        "               n_iter_no_change =[None]+list(np.arange(3,10,1)) \n",
        "               )\n",
        "}\n"
      ],
      "execution_count": 530,
      "outputs": []
    },
    {
      "cell_type": "code",
      "metadata": {
        "colab": {
          "base_uri": "https://localhost:8080/"
        },
        "id": "UN10QjAS_r5b",
        "outputId": "e6275c9e-a80b-457e-8720-dbc764f1a256"
      },
      "source": [
        "X_train = EN_train.drop(\"Survived\", axis=1)\n",
        "y_train = EN_train['Survived']\n",
        "best_score = 0\n",
        "best_model_name = \"\"\n",
        "best_model = ''\n",
        "\n",
        "for model in models.keys():\n",
        "  random = RandomizedSearchCV(models[model], params[model],\n",
        "                              n_iter=100, scoring='accuracy', n_jobs=-1, \n",
        "                              cv=3, verbose=4, random_state=42)\n",
        "  print(model)\n",
        "  random.fit(X_train, y_train)\n",
        "  if random.best_score_ > best_score:\n",
        "    best_score = random.best_score_\n",
        "    best_model_name = model\n",
        "    best_model = stuff\n",
        "print(\"Best Score: \", best_score,\"\\nBest Model: \",best_model_name)"
      ],
      "execution_count": null,
      "outputs": [
        {
          "output_type": "stream",
          "name": "stdout",
          "text": [
            "sgd\n",
            "Fitting 3 folds for each of 100 candidates, totalling 300 fits\n"
          ]
        },
        {
          "output_type": "stream",
          "name": "stderr",
          "text": [
            "[Parallel(n_jobs=-1)]: Using backend LokyBackend with 2 concurrent workers.\n",
            "[Parallel(n_jobs=-1)]: Done  28 tasks      | elapsed:    1.5s\n",
            "[Parallel(n_jobs=-1)]: Done 300 out of 300 | elapsed:    3.9s finished\n",
            "[Parallel(n_jobs=-1)]: Using backend LokyBackend with 2 concurrent workers.\n"
          ]
        },
        {
          "output_type": "stream",
          "name": "stdout",
          "text": [
            "lr\n",
            "Fitting 3 folds for each of 100 candidates, totalling 300 fits\n"
          ]
        },
        {
          "output_type": "stream",
          "name": "stderr",
          "text": [
            "[Parallel(n_jobs=-1)]: Done 156 tasks      | elapsed:    1.5s\n",
            "[Parallel(n_jobs=-1)]: Done 300 out of 300 | elapsed:    2.7s finished\n",
            "/usr/local/lib/python3.7/dist-packages/sklearn/model_selection/_search.py:281: UserWarning: The total space of parameters 2 is smaller than n_iter=100. Running 2 iterations. For exhaustive searches, use GridSearchCV.\n",
            "  % (grid_size, self.n_iter, grid_size), UserWarning)\n",
            "[Parallel(n_jobs=-1)]: Using backend LokyBackend with 2 concurrent workers.\n",
            "[Parallel(n_jobs=-1)]: Done   6 out of   6 | elapsed:    0.1s finished\n",
            "[Parallel(n_jobs=-1)]: Using backend LokyBackend with 2 concurrent workers.\n"
          ]
        },
        {
          "output_type": "stream",
          "name": "stdout",
          "text": [
            "svm\n",
            "Fitting 3 folds for each of 2 candidates, totalling 6 fits\n",
            "knn\n",
            "Fitting 3 folds for each of 100 candidates, totalling 300 fits\n"
          ]
        },
        {
          "output_type": "stream",
          "name": "stderr",
          "text": [
            "[Parallel(n_jobs=-1)]: Done 100 tasks      | elapsed:    1.6s\n",
            "[Parallel(n_jobs=-1)]: Done 300 out of 300 | elapsed:    4.5s finished\n",
            "/usr/local/lib/python3.7/dist-packages/sklearn/model_selection/_search.py:281: UserWarning: The total space of parameters 90 is smaller than n_iter=100. Running 90 iterations. For exhaustive searches, use GridSearchCV.\n",
            "  % (grid_size, self.n_iter, grid_size), UserWarning)\n",
            "[Parallel(n_jobs=-1)]: Using backend LokyBackend with 2 concurrent workers.\n"
          ]
        },
        {
          "output_type": "stream",
          "name": "stdout",
          "text": [
            "gpc\n",
            "Fitting 3 folds for each of 90 candidates, totalling 270 fits\n"
          ]
        },
        {
          "output_type": "stream",
          "name": "stderr",
          "text": [
            "[Parallel(n_jobs=-1)]: Done  21 tasks      | elapsed:    2.5s\n",
            "[Parallel(n_jobs=-1)]: Done  94 tasks      | elapsed:   10.7s\n",
            "[Parallel(n_jobs=-1)]: Done 217 tasks      | elapsed:   24.6s\n",
            "[Parallel(n_jobs=-1)]: Done 270 out of 270 | elapsed:   30.4s finished\n"
          ]
        },
        {
          "output_type": "stream",
          "name": "stdout",
          "text": [
            "dtc\n",
            "Fitting 3 folds for each of 100 candidates, totalling 300 fits\n"
          ]
        },
        {
          "output_type": "stream",
          "name": "stderr",
          "text": [
            "[Parallel(n_jobs=-1)]: Using backend LokyBackend with 2 concurrent workers.\n",
            "[Parallel(n_jobs=-1)]: Done 156 tasks      | elapsed:    0.8s\n",
            "[Parallel(n_jobs=-1)]: Done 300 out of 300 | elapsed:    1.3s finished\n",
            "[Parallel(n_jobs=-1)]: Using backend LokyBackend with 2 concurrent workers.\n"
          ]
        },
        {
          "output_type": "stream",
          "name": "stdout",
          "text": [
            "abc\n",
            "Fitting 3 folds for each of 100 candidates, totalling 300 fits\n"
          ]
        },
        {
          "output_type": "stream",
          "name": "stderr",
          "text": [
            "[Parallel(n_jobs=-1)]: Done  38 tasks      | elapsed:    2.8s\n",
            "[Parallel(n_jobs=-1)]: Done 184 tasks      | elapsed:   11.0s\n",
            "[Parallel(n_jobs=-1)]: Done 300 out of 300 | elapsed:   18.6s finished\n",
            "[Parallel(n_jobs=-1)]: Using backend LokyBackend with 2 concurrent workers.\n"
          ]
        },
        {
          "output_type": "stream",
          "name": "stdout",
          "text": [
            "rfc\n",
            "Fitting 3 folds for each of 100 candidates, totalling 300 fits\n"
          ]
        },
        {
          "output_type": "stream",
          "name": "stderr",
          "text": [
            "[Parallel(n_jobs=-1)]: Done  21 tasks      | elapsed:   10.1s\n",
            "[Parallel(n_jobs=-1)]: Done  94 tasks      | elapsed:   42.9s\n"
          ]
        }
      ]
    }
  ]
}