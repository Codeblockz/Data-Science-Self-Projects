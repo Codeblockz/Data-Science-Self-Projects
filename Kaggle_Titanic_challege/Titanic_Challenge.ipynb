{
  "nbformat": 4,
  "nbformat_minor": 0,
  "metadata": {
    "colab": {
      "name": "Titanic Challenge",
      "provenance": [],
      "collapsed_sections": [
        "qBEv7Y7FPbTW",
        "zSLKKbNI1-hD"
      ],
      "mount_file_id": "1Bo0fHNsK9-bBBwfKhVUKr9u7derWX4ZZ",
      "authorship_tag": "ABX9TyN0Y2gDrwAjVaS4AGpVhp8v",
      "include_colab_link": true
    },
    "kernelspec": {
      "name": "python3",
      "display_name": "Python 3"
    },
    "language_info": {
      "name": "python"
    }
  },
  "cells": [
    {
      "cell_type": "markdown",
      "metadata": {
        "id": "view-in-github",
        "colab_type": "text"
      },
      "source": [
        "<a href=\"https://colab.research.google.com/github/Codeblockz/Data-Science-Self-Projects/blob/main/Kaggle_Titanic_challege/Titanic_Challenge.ipynb\" target=\"_parent\"><img src=\"https://colab.research.google.com/assets/colab-badge.svg\" alt=\"Open In Colab\"/></a>"
      ]
    },
    {
      "cell_type": "markdown",
      "metadata": {
        "id": "BgS7Cf1iNqMz"
      },
      "source": [
        "# Titanic Challenge Kaggle <br></br>\n",
        "[source 1](https://triangleinequality.wordpress.com/2013/09/08/basic-feature-engineering-with-the-titanic-data/)  <br></br>\n",
        "[source 2]( https://www.kaggle.com/lonnieqin/classification-with-sklearn-and-tensorflow)"
      ]
    },
    {
      "cell_type": "markdown",
      "metadata": {
        "id": "Bw4KCKlpo3NY"
      },
      "source": [
        "## Download Data"
      ]
    },
    {
      "cell_type": "code",
      "metadata": {
        "id": "w7N9brVmrmy3"
      },
      "source": [
        "# from google.colab import files\n",
        "# from os.path import exists\n",
        "# file_exists = exists(\"/content/kaggle.json\")\n",
        "# if (file_exists==False):\n",
        "#   files.upload()"
      ],
      "execution_count": 409,
      "outputs": []
    },
    {
      "cell_type": "code",
      "metadata": {
        "colab": {
          "base_uri": "https://localhost:8080/"
        },
        "id": "o_Zd0u1QUm6A",
        "outputId": "cf759579-1279-4aec-e0e6-dcd6e6a0328d"
      },
      "source": [
        "%cd /content/drive/MyDrive/Colab Notebooks/Titanic"
      ],
      "execution_count": 410,
      "outputs": [
        {
          "output_type": "stream",
          "name": "stdout",
          "text": [
            "/content/drive/MyDrive/Colab Notebooks/Titanic\n"
          ]
        }
      ]
    },
    {
      "cell_type": "code",
      "metadata": {
        "colab": {
          "base_uri": "https://localhost:8080/"
        },
        "id": "Q3MRT78nIFTa",
        "outputId": "5892066b-a5ef-4d42-f2f6-2b8d72c091ea"
      },
      "source": [
        "! pip install -q kaggle\n",
        "!pip install --upgrade kaggle\n",
        "! mkdir ~/.kaggle\n",
        "! cp kaggle.json ~/.kaggle/\n",
        "! chmod 600 ~/.kaggle/kaggle.json"
      ],
      "execution_count": 411,
      "outputs": [
        {
          "output_type": "stream",
          "name": "stdout",
          "text": [
            "Requirement already satisfied: kaggle in /usr/local/lib/python3.7/dist-packages (1.5.12)\n",
            "Requirement already satisfied: certifi in /usr/local/lib/python3.7/dist-packages (from kaggle) (2021.5.30)\n",
            "Requirement already satisfied: python-dateutil in /usr/local/lib/python3.7/dist-packages (from kaggle) (2.8.2)\n",
            "Requirement already satisfied: six>=1.10 in /usr/local/lib/python3.7/dist-packages (from kaggle) (1.15.0)\n",
            "Requirement already satisfied: tqdm in /usr/local/lib/python3.7/dist-packages (from kaggle) (4.62.0)\n",
            "Requirement already satisfied: urllib3 in /usr/local/lib/python3.7/dist-packages (from kaggle) (1.24.3)\n",
            "Requirement already satisfied: python-slugify in /usr/local/lib/python3.7/dist-packages (from kaggle) (5.0.2)\n",
            "Requirement already satisfied: requests in /usr/local/lib/python3.7/dist-packages (from kaggle) (2.23.0)\n",
            "Requirement already satisfied: text-unidecode>=1.3 in /usr/local/lib/python3.7/dist-packages (from python-slugify->kaggle) (1.3)\n",
            "Requirement already satisfied: idna<3,>=2.5 in /usr/local/lib/python3.7/dist-packages (from requests->kaggle) (2.10)\n",
            "Requirement already satisfied: chardet<4,>=3.0.2 in /usr/local/lib/python3.7/dist-packages (from requests->kaggle) (3.0.4)\n",
            "mkdir: cannot create directory ‘/root/.kaggle’: File exists\n"
          ]
        }
      ]
    },
    {
      "cell_type": "code",
      "metadata": {
        "colab": {
          "base_uri": "https://localhost:8080/"
        },
        "id": "Yfs_KcO1OxRc",
        "outputId": "0ed6e96d-d77b-425a-ac9d-d7cadc310dca"
      },
      "source": [
        " ! kaggle competitions download titanic"
      ],
      "execution_count": 412,
      "outputs": [
        {
          "output_type": "stream",
          "name": "stdout",
          "text": [
            "Warning: Looks like you're using an outdated API Version, please consider updating (server 1.5.12 / client 1.5.4)\n",
            "train.csv: Skipping, found more recently modified local copy (use --force to force download)\n",
            "test.csv: Skipping, found more recently modified local copy (use --force to force download)\n",
            "gender_submission.csv: Skipping, found more recently modified local copy (use --force to force download)\n"
          ]
        }
      ]
    },
    {
      "cell_type": "markdown",
      "metadata": {
        "id": "XbTd_FImocOh"
      },
      "source": [
        "Start To work on geting data"
      ]
    },
    {
      "cell_type": "code",
      "metadata": {
        "id": "Id5f5e6TtP6s"
      },
      "source": [
        "import pandas as pd\n",
        "import numpy as np\n",
        "import matplotlib.pyplot as plt\n",
        "import sklearn\n",
        "import seaborn as sns\n",
        "import tensorflow as tf\n",
        "from tensorflow import feature_column\n",
        "from sklearn.ensemble import GradientBoostingClassifier, RandomForestClassifier\n",
        "from sklearn.neighbors import KNeighborsClassifier\n",
        "from sklearn import model_selection\n",
        "from sklearn.cluster import KMeans\n",
        "from sklearn.metrics import accuracy_score\n",
        "from sklearn.model_selection import train_test_split\n",
        "import string\n",
        "import copy\n",
        "from sklearn import preprocessing"
      ],
      "execution_count": 413,
      "outputs": []
    },
    {
      "cell_type": "code",
      "metadata": {
        "id": "t6CP77XNoa16",
        "colab": {
          "base_uri": "https://localhost:8080/",
          "height": 203
        },
        "outputId": "c6015ab8-d0ca-4576-fed4-6e988e698eab"
      },
      "source": [
        "# Load Data\n",
        "train = pd.read_csv(\"/content/drive/MyDrive/Colab Notebooks/Titanic/train.csv\")\n",
        "test = pd.read_csv(\"/content/drive/MyDrive/Colab Notebooks/Titanic/test.csv\")\n",
        "train1 = copy.copy(train)\n",
        "test1 = copy.copy(test)\n",
        "train.head()"
      ],
      "execution_count": 414,
      "outputs": [
        {
          "output_type": "execute_result",
          "data": {
            "text/html": [
              "<div>\n",
              "<style scoped>\n",
              "    .dataframe tbody tr th:only-of-type {\n",
              "        vertical-align: middle;\n",
              "    }\n",
              "\n",
              "    .dataframe tbody tr th {\n",
              "        vertical-align: top;\n",
              "    }\n",
              "\n",
              "    .dataframe thead th {\n",
              "        text-align: right;\n",
              "    }\n",
              "</style>\n",
              "<table border=\"1\" class=\"dataframe\">\n",
              "  <thead>\n",
              "    <tr style=\"text-align: right;\">\n",
              "      <th></th>\n",
              "      <th>PassengerId</th>\n",
              "      <th>Survived</th>\n",
              "      <th>Pclass</th>\n",
              "      <th>Name</th>\n",
              "      <th>Sex</th>\n",
              "      <th>Age</th>\n",
              "      <th>SibSp</th>\n",
              "      <th>Parch</th>\n",
              "      <th>Ticket</th>\n",
              "      <th>Fare</th>\n",
              "      <th>Cabin</th>\n",
              "      <th>Embarked</th>\n",
              "    </tr>\n",
              "  </thead>\n",
              "  <tbody>\n",
              "    <tr>\n",
              "      <th>0</th>\n",
              "      <td>1</td>\n",
              "      <td>0</td>\n",
              "      <td>3</td>\n",
              "      <td>Braund, Mr. Owen Harris</td>\n",
              "      <td>male</td>\n",
              "      <td>22.0</td>\n",
              "      <td>1</td>\n",
              "      <td>0</td>\n",
              "      <td>A/5 21171</td>\n",
              "      <td>7.2500</td>\n",
              "      <td>NaN</td>\n",
              "      <td>S</td>\n",
              "    </tr>\n",
              "    <tr>\n",
              "      <th>1</th>\n",
              "      <td>2</td>\n",
              "      <td>1</td>\n",
              "      <td>1</td>\n",
              "      <td>Cumings, Mrs. John Bradley (Florence Briggs Th...</td>\n",
              "      <td>female</td>\n",
              "      <td>38.0</td>\n",
              "      <td>1</td>\n",
              "      <td>0</td>\n",
              "      <td>PC 17599</td>\n",
              "      <td>71.2833</td>\n",
              "      <td>C85</td>\n",
              "      <td>C</td>\n",
              "    </tr>\n",
              "    <tr>\n",
              "      <th>2</th>\n",
              "      <td>3</td>\n",
              "      <td>1</td>\n",
              "      <td>3</td>\n",
              "      <td>Heikkinen, Miss. Laina</td>\n",
              "      <td>female</td>\n",
              "      <td>26.0</td>\n",
              "      <td>0</td>\n",
              "      <td>0</td>\n",
              "      <td>STON/O2. 3101282</td>\n",
              "      <td>7.9250</td>\n",
              "      <td>NaN</td>\n",
              "      <td>S</td>\n",
              "    </tr>\n",
              "    <tr>\n",
              "      <th>3</th>\n",
              "      <td>4</td>\n",
              "      <td>1</td>\n",
              "      <td>1</td>\n",
              "      <td>Futrelle, Mrs. Jacques Heath (Lily May Peel)</td>\n",
              "      <td>female</td>\n",
              "      <td>35.0</td>\n",
              "      <td>1</td>\n",
              "      <td>0</td>\n",
              "      <td>113803</td>\n",
              "      <td>53.1000</td>\n",
              "      <td>C123</td>\n",
              "      <td>S</td>\n",
              "    </tr>\n",
              "    <tr>\n",
              "      <th>4</th>\n",
              "      <td>5</td>\n",
              "      <td>0</td>\n",
              "      <td>3</td>\n",
              "      <td>Allen, Mr. William Henry</td>\n",
              "      <td>male</td>\n",
              "      <td>35.0</td>\n",
              "      <td>0</td>\n",
              "      <td>0</td>\n",
              "      <td>373450</td>\n",
              "      <td>8.0500</td>\n",
              "      <td>NaN</td>\n",
              "      <td>S</td>\n",
              "    </tr>\n",
              "  </tbody>\n",
              "</table>\n",
              "</div>"
            ],
            "text/plain": [
              "   PassengerId  Survived  Pclass  ...     Fare Cabin  Embarked\n",
              "0            1         0       3  ...   7.2500   NaN         S\n",
              "1            2         1       1  ...  71.2833   C85         C\n",
              "2            3         1       3  ...   7.9250   NaN         S\n",
              "3            4         1       1  ...  53.1000  C123         S\n",
              "4            5         0       3  ...   8.0500   NaN         S\n",
              "\n",
              "[5 rows x 12 columns]"
            ]
          },
          "metadata": {},
          "execution_count": 414
        }
      ]
    },
    {
      "cell_type": "markdown",
      "metadata": {
        "id": "JcsGDWzQWtPT"
      },
      "source": [
        "Check For Nulls\n"
      ]
    },
    {
      "cell_type": "code",
      "metadata": {
        "colab": {
          "base_uri": "https://localhost:8080/"
        },
        "id": "a61edLRQYk7c",
        "outputId": "79dddf74-5856-4ecc-f7e8-cbb50d24f464"
      },
      "source": [
        "train.isnull().sum()"
      ],
      "execution_count": 415,
      "outputs": [
        {
          "output_type": "execute_result",
          "data": {
            "text/plain": [
              "PassengerId      0\n",
              "Survived         0\n",
              "Pclass           0\n",
              "Name             0\n",
              "Sex              0\n",
              "Age            177\n",
              "SibSp            0\n",
              "Parch            0\n",
              "Ticket           0\n",
              "Fare             0\n",
              "Cabin          687\n",
              "Embarked         2\n",
              "dtype: int64"
            ]
          },
          "metadata": {},
          "execution_count": 415
        }
      ]
    },
    {
      "cell_type": "code",
      "metadata": {
        "colab": {
          "base_uri": "https://localhost:8080/"
        },
        "id": "CgdW4SebYuky",
        "outputId": "3bf438c8-ed02-4a47-f446-15130e0d6627"
      },
      "source": [
        "test.isnull().sum()"
      ],
      "execution_count": 416,
      "outputs": [
        {
          "output_type": "execute_result",
          "data": {
            "text/plain": [
              "PassengerId      0\n",
              "Pclass           0\n",
              "Name             0\n",
              "Sex              0\n",
              "Age             86\n",
              "SibSp            0\n",
              "Parch            0\n",
              "Ticket           0\n",
              "Fare             1\n",
              "Cabin          327\n",
              "Embarked         0\n",
              "dtype: int64"
            ]
          },
          "metadata": {},
          "execution_count": 416
        }
      ]
    },
    {
      "cell_type": "markdown",
      "metadata": {
        "id": "_rACR2Z3WyvD"
      },
      "source": [
        "Check Data Types"
      ]
    },
    {
      "cell_type": "code",
      "metadata": {
        "colab": {
          "base_uri": "https://localhost:8080/"
        },
        "id": "8gez8Iz3Y2Tc",
        "outputId": "2759d4a7-6609-4a8b-fb08-54c12e152988"
      },
      "source": [
        "train.dtypes"
      ],
      "execution_count": 417,
      "outputs": [
        {
          "output_type": "execute_result",
          "data": {
            "text/plain": [
              "PassengerId      int64\n",
              "Survived         int64\n",
              "Pclass           int64\n",
              "Name            object\n",
              "Sex             object\n",
              "Age            float64\n",
              "SibSp            int64\n",
              "Parch            int64\n",
              "Ticket          object\n",
              "Fare           float64\n",
              "Cabin           object\n",
              "Embarked        object\n",
              "dtype: object"
            ]
          },
          "metadata": {},
          "execution_count": 417
        }
      ]
    },
    {
      "cell_type": "code",
      "metadata": {
        "colab": {
          "base_uri": "https://localhost:8080/"
        },
        "id": "XkH8pplFY8wS",
        "outputId": "4d923f8e-a855-453a-8b51-bd885978f3a3"
      },
      "source": [
        "test.dtypes"
      ],
      "execution_count": 418,
      "outputs": [
        {
          "output_type": "execute_result",
          "data": {
            "text/plain": [
              "PassengerId      int64\n",
              "Pclass           int64\n",
              "Name            object\n",
              "Sex             object\n",
              "Age            float64\n",
              "SibSp            int64\n",
              "Parch            int64\n",
              "Ticket          object\n",
              "Fare           float64\n",
              "Cabin           object\n",
              "Embarked        object\n",
              "dtype: object"
            ]
          },
          "metadata": {},
          "execution_count": 418
        }
      ]
    },
    {
      "cell_type": "markdown",
      "metadata": {
        "id": "EGZ6ng5aZtX1"
      },
      "source": [
        "# Data Scrubing "
      ]
    },
    {
      "cell_type": "markdown",
      "metadata": {
        "id": "rloYGa1O2oJW"
      },
      "source": [
        "## Replace NaN"
      ]
    },
    {
      "cell_type": "code",
      "metadata": {
        "id": "kkYmm5aTY_zx"
      },
      "source": [
        "# from source 2\n",
        "# Replace NAN\n",
        "# embark_label = train[\"Embarked\"].mode()[0]\n",
        "# train[\"Cabin\"] = train[\"Cabin\"].replace(np.NAN,  \"Unknown\")\n",
        "# train[\"Embarked\"] = train[\"Embarked\"].replace(np.NAN, embark_label)\n",
        "# train[\"Age\"] = train[\"Age\"].replace(np.NAN, train[\"Age\"].mean())\n",
        "\n",
        "# # Test Replace\n",
        "# test[\"Cabin\"] = test[\"Cabin\"].replace(np.NAN, \"Unknown\")\n",
        "# test[\"Age\"] = test[\"Age\"].replace(np.NAN, test[\"Age\"].mean())\n",
        "# test[\"Fare\"] = test[\"Fare\"].replace(np.NAN, test[\"Fare\"].mean())"
      ],
      "execution_count": 419,
      "outputs": []
    },
    {
      "cell_type": "code",
      "metadata": {
        "id": "A08PJHf1HJEy"
      },
      "source": [
        "def get_replaced_nan(data):\n",
        "  embark_label = data[\"Embarked\"].mode()[0]\n",
        "  data[\"Cabin\"] = data[\"Cabin\"].replace(np.NAN,  \"Unknown\")\n",
        "  data[\"Embarked\"] = data[\"Embarked\"].replace(np.NAN, embark_label)\n",
        "  data[\"Age\"] = data[\"Age\"].replace(np.NAN, data[\"Age\"].mean())\n",
        "  data[\"Fare\"] = data[\"Fare\"].replace(np.NAN, data[\"Fare\"].mean())\n",
        "  return data"
      ],
      "execution_count": 420,
      "outputs": []
    },
    {
      "cell_type": "markdown",
      "metadata": {
        "id": "4cNYFgwR2vVC"
      },
      "source": [
        "## Make Title Column"
      ]
    },
    {
      "cell_type": "code",
      "metadata": {
        "id": "w4IrezLxbVW-"
      },
      "source": [
        "# source 1\n",
        "def substrings_in_string(big_string, substrings):\n",
        "    for substring in substrings:\n",
        "        if big_string.find(substring) != -1:\n",
        "            return substring\n",
        "    # print(big_string) # For debug check\n",
        "    return np.nan\n",
        "# title_list=['Mrs', 'Mr', 'Master', 'Miss', 'Major', 'Rev', 'Dr', 'Ms', 'Mlle',\n",
        "#             'Col', 'Capt', 'Mme', 'Countess', 'Don', 'Jonkheer']\n",
        "# train['Title']=train['Name'].map(lambda x: substrings_in_string(x, title_list))\n",
        "# test['Title'] = train['Name'].map(lambda x: substrings_in_string(x, title_list))\n",
        "#replacing all titles with mr, mrs, miss, master\n",
        "def replace_titles(x):\n",
        "    title=x['Title']\n",
        "    if title in ['Don', 'Major', 'Capt', 'Jonkheer', 'Rev', 'Col']:\n",
        "        return 'Mr'\n",
        "    elif title in ['Countess', 'Mme']:\n",
        "        return 'Mrs'\n",
        "    elif title in ['Mlle', 'Ms']:\n",
        "        return 'Miss'\n",
        "    elif title =='Dr':\n",
        "        if x['Sex']=='Male':\n",
        "            return 'Mr'\n",
        "        else:\n",
        "            return 'Mrs'\n",
        "    else:\n",
        "        return title\n",
        "# Apply function to data\n",
        "# train['Title']=train.apply(replace_titles, axis=1)\n",
        "# test['Title']=test.apply(replace_titles, axis=1)\n",
        "\n",
        "def get_titles(data):\n",
        "  title_list=['Mrs', 'Mr', 'Master', 'Miss', 'Major', 'Rev', 'Dr', 'Ms', 'Mlle',\n",
        "            'Col', 'Capt', 'Mme', 'Countess', 'Don', 'Jonkheer']\n",
        "  data['Title']=data['Name'].map(lambda x: substrings_in_string(x, title_list))\n",
        "  data['Title']=data.apply(replace_titles, axis=1)\n",
        "  return data\n"
      ],
      "execution_count": 421,
      "outputs": []
    },
    {
      "cell_type": "code",
      "metadata": {
        "id": "LRZhkpDeddnq"
      },
      "source": [
        "# data check\n",
        "#test.head()"
      ],
      "execution_count": 422,
      "outputs": []
    },
    {
      "cell_type": "code",
      "metadata": {
        "colab": {
          "base_uri": "https://localhost:8080/"
        },
        "id": "4MJAxXb-YvCa",
        "outputId": "8d1a89e5-a857-4087-f4fd-7678400c66b2"
      },
      "source": [
        "# data check\n",
        "#train.head()\n",
        "train.dtypes"
      ],
      "execution_count": 423,
      "outputs": [
        {
          "output_type": "execute_result",
          "data": {
            "text/plain": [
              "PassengerId      int64\n",
              "Survived         int64\n",
              "Pclass           int64\n",
              "Name            object\n",
              "Sex             object\n",
              "Age            float64\n",
              "SibSp            int64\n",
              "Parch            int64\n",
              "Ticket          object\n",
              "Fare           float64\n",
              "Cabin           object\n",
              "Embarked        object\n",
              "dtype: object"
            ]
          },
          "metadata": {},
          "execution_count": 423
        }
      ]
    },
    {
      "cell_type": "markdown",
      "metadata": {
        "id": "EoBHVXNY23za"
      },
      "source": [
        "## Make Cabin Type"
      ]
    },
    {
      "cell_type": "code",
      "metadata": {
        "id": "xri9oc3sfSSG"
      },
      "source": [
        "# Make cabin type\n",
        "# Source 2\n",
        "# train['Cabin_type'] = train[\"Cabin\"].apply(lambda cabin: cabin[0])\n",
        "# test[\"Cabin_type\"] = test[\"Cabin\"].apply(lambda cabin: cabin[0])\n",
        "# # Make New feature\n",
        "# train[\"family_member_size\"] = 1 + train[\"SibSp\"] + train[\"Parch\"]\n",
        "# test[\"family_member_size\"] = 1 + test[\"SibSp\"] + test[\"Parch\"]"
      ],
      "execution_count": 424,
      "outputs": []
    },
    {
      "cell_type": "code",
      "metadata": {
        "colab": {
          "base_uri": "https://localhost:8080/",
          "height": 203
        },
        "id": "r8TiNAG2zHNs",
        "outputId": "c24964a1-f354-454f-9c4b-601699b38913"
      },
      "source": [
        "# data check\n",
        "train.head()"
      ],
      "execution_count": 425,
      "outputs": [
        {
          "output_type": "execute_result",
          "data": {
            "text/html": [
              "<div>\n",
              "<style scoped>\n",
              "    .dataframe tbody tr th:only-of-type {\n",
              "        vertical-align: middle;\n",
              "    }\n",
              "\n",
              "    .dataframe tbody tr th {\n",
              "        vertical-align: top;\n",
              "    }\n",
              "\n",
              "    .dataframe thead th {\n",
              "        text-align: right;\n",
              "    }\n",
              "</style>\n",
              "<table border=\"1\" class=\"dataframe\">\n",
              "  <thead>\n",
              "    <tr style=\"text-align: right;\">\n",
              "      <th></th>\n",
              "      <th>PassengerId</th>\n",
              "      <th>Survived</th>\n",
              "      <th>Pclass</th>\n",
              "      <th>Name</th>\n",
              "      <th>Sex</th>\n",
              "      <th>Age</th>\n",
              "      <th>SibSp</th>\n",
              "      <th>Parch</th>\n",
              "      <th>Ticket</th>\n",
              "      <th>Fare</th>\n",
              "      <th>Cabin</th>\n",
              "      <th>Embarked</th>\n",
              "    </tr>\n",
              "  </thead>\n",
              "  <tbody>\n",
              "    <tr>\n",
              "      <th>0</th>\n",
              "      <td>1</td>\n",
              "      <td>0</td>\n",
              "      <td>3</td>\n",
              "      <td>Braund, Mr. Owen Harris</td>\n",
              "      <td>male</td>\n",
              "      <td>22.0</td>\n",
              "      <td>1</td>\n",
              "      <td>0</td>\n",
              "      <td>A/5 21171</td>\n",
              "      <td>7.2500</td>\n",
              "      <td>NaN</td>\n",
              "      <td>S</td>\n",
              "    </tr>\n",
              "    <tr>\n",
              "      <th>1</th>\n",
              "      <td>2</td>\n",
              "      <td>1</td>\n",
              "      <td>1</td>\n",
              "      <td>Cumings, Mrs. John Bradley (Florence Briggs Th...</td>\n",
              "      <td>female</td>\n",
              "      <td>38.0</td>\n",
              "      <td>1</td>\n",
              "      <td>0</td>\n",
              "      <td>PC 17599</td>\n",
              "      <td>71.2833</td>\n",
              "      <td>C85</td>\n",
              "      <td>C</td>\n",
              "    </tr>\n",
              "    <tr>\n",
              "      <th>2</th>\n",
              "      <td>3</td>\n",
              "      <td>1</td>\n",
              "      <td>3</td>\n",
              "      <td>Heikkinen, Miss. Laina</td>\n",
              "      <td>female</td>\n",
              "      <td>26.0</td>\n",
              "      <td>0</td>\n",
              "      <td>0</td>\n",
              "      <td>STON/O2. 3101282</td>\n",
              "      <td>7.9250</td>\n",
              "      <td>NaN</td>\n",
              "      <td>S</td>\n",
              "    </tr>\n",
              "    <tr>\n",
              "      <th>3</th>\n",
              "      <td>4</td>\n",
              "      <td>1</td>\n",
              "      <td>1</td>\n",
              "      <td>Futrelle, Mrs. Jacques Heath (Lily May Peel)</td>\n",
              "      <td>female</td>\n",
              "      <td>35.0</td>\n",
              "      <td>1</td>\n",
              "      <td>0</td>\n",
              "      <td>113803</td>\n",
              "      <td>53.1000</td>\n",
              "      <td>C123</td>\n",
              "      <td>S</td>\n",
              "    </tr>\n",
              "    <tr>\n",
              "      <th>4</th>\n",
              "      <td>5</td>\n",
              "      <td>0</td>\n",
              "      <td>3</td>\n",
              "      <td>Allen, Mr. William Henry</td>\n",
              "      <td>male</td>\n",
              "      <td>35.0</td>\n",
              "      <td>0</td>\n",
              "      <td>0</td>\n",
              "      <td>373450</td>\n",
              "      <td>8.0500</td>\n",
              "      <td>NaN</td>\n",
              "      <td>S</td>\n",
              "    </tr>\n",
              "  </tbody>\n",
              "</table>\n",
              "</div>"
            ],
            "text/plain": [
              "   PassengerId  Survived  Pclass  ...     Fare Cabin  Embarked\n",
              "0            1         0       3  ...   7.2500   NaN         S\n",
              "1            2         1       1  ...  71.2833   C85         C\n",
              "2            3         1       3  ...   7.9250   NaN         S\n",
              "3            4         1       1  ...  53.1000  C123         S\n",
              "4            5         0       3  ...   8.0500   NaN         S\n",
              "\n",
              "[5 rows x 12 columns]"
            ]
          },
          "metadata": {},
          "execution_count": 425
        }
      ]
    },
    {
      "cell_type": "code",
      "metadata": {
        "colab": {
          "base_uri": "https://localhost:8080/",
          "height": 203
        },
        "id": "MvCbF7XJY37L",
        "outputId": "c7d7c9e5-a6e5-473a-89b5-00a54d231abc"
      },
      "source": [
        "# data check \n",
        "test.head()"
      ],
      "execution_count": 426,
      "outputs": [
        {
          "output_type": "execute_result",
          "data": {
            "text/html": [
              "<div>\n",
              "<style scoped>\n",
              "    .dataframe tbody tr th:only-of-type {\n",
              "        vertical-align: middle;\n",
              "    }\n",
              "\n",
              "    .dataframe tbody tr th {\n",
              "        vertical-align: top;\n",
              "    }\n",
              "\n",
              "    .dataframe thead th {\n",
              "        text-align: right;\n",
              "    }\n",
              "</style>\n",
              "<table border=\"1\" class=\"dataframe\">\n",
              "  <thead>\n",
              "    <tr style=\"text-align: right;\">\n",
              "      <th></th>\n",
              "      <th>PassengerId</th>\n",
              "      <th>Pclass</th>\n",
              "      <th>Name</th>\n",
              "      <th>Sex</th>\n",
              "      <th>Age</th>\n",
              "      <th>SibSp</th>\n",
              "      <th>Parch</th>\n",
              "      <th>Ticket</th>\n",
              "      <th>Fare</th>\n",
              "      <th>Cabin</th>\n",
              "      <th>Embarked</th>\n",
              "    </tr>\n",
              "  </thead>\n",
              "  <tbody>\n",
              "    <tr>\n",
              "      <th>0</th>\n",
              "      <td>892</td>\n",
              "      <td>3</td>\n",
              "      <td>Kelly, Mr. James</td>\n",
              "      <td>male</td>\n",
              "      <td>34.5</td>\n",
              "      <td>0</td>\n",
              "      <td>0</td>\n",
              "      <td>330911</td>\n",
              "      <td>7.8292</td>\n",
              "      <td>NaN</td>\n",
              "      <td>Q</td>\n",
              "    </tr>\n",
              "    <tr>\n",
              "      <th>1</th>\n",
              "      <td>893</td>\n",
              "      <td>3</td>\n",
              "      <td>Wilkes, Mrs. James (Ellen Needs)</td>\n",
              "      <td>female</td>\n",
              "      <td>47.0</td>\n",
              "      <td>1</td>\n",
              "      <td>0</td>\n",
              "      <td>363272</td>\n",
              "      <td>7.0000</td>\n",
              "      <td>NaN</td>\n",
              "      <td>S</td>\n",
              "    </tr>\n",
              "    <tr>\n",
              "      <th>2</th>\n",
              "      <td>894</td>\n",
              "      <td>2</td>\n",
              "      <td>Myles, Mr. Thomas Francis</td>\n",
              "      <td>male</td>\n",
              "      <td>62.0</td>\n",
              "      <td>0</td>\n",
              "      <td>0</td>\n",
              "      <td>240276</td>\n",
              "      <td>9.6875</td>\n",
              "      <td>NaN</td>\n",
              "      <td>Q</td>\n",
              "    </tr>\n",
              "    <tr>\n",
              "      <th>3</th>\n",
              "      <td>895</td>\n",
              "      <td>3</td>\n",
              "      <td>Wirz, Mr. Albert</td>\n",
              "      <td>male</td>\n",
              "      <td>27.0</td>\n",
              "      <td>0</td>\n",
              "      <td>0</td>\n",
              "      <td>315154</td>\n",
              "      <td>8.6625</td>\n",
              "      <td>NaN</td>\n",
              "      <td>S</td>\n",
              "    </tr>\n",
              "    <tr>\n",
              "      <th>4</th>\n",
              "      <td>896</td>\n",
              "      <td>3</td>\n",
              "      <td>Hirvonen, Mrs. Alexander (Helga E Lindqvist)</td>\n",
              "      <td>female</td>\n",
              "      <td>22.0</td>\n",
              "      <td>1</td>\n",
              "      <td>1</td>\n",
              "      <td>3101298</td>\n",
              "      <td>12.2875</td>\n",
              "      <td>NaN</td>\n",
              "      <td>S</td>\n",
              "    </tr>\n",
              "  </tbody>\n",
              "</table>\n",
              "</div>"
            ],
            "text/plain": [
              "   PassengerId  Pclass  ... Cabin Embarked\n",
              "0          892       3  ...   NaN        Q\n",
              "1          893       3  ...   NaN        S\n",
              "2          894       2  ...   NaN        Q\n",
              "3          895       3  ...   NaN        S\n",
              "4          896       3  ...   NaN        S\n",
              "\n",
              "[5 rows x 11 columns]"
            ]
          },
          "metadata": {},
          "execution_count": 426
        }
      ]
    },
    {
      "cell_type": "markdown",
      "metadata": {
        "id": "TwP_8oyq2_hH"
      },
      "source": [
        "## Make Family Size Type"
      ]
    },
    {
      "cell_type": "markdown",
      "metadata": {
        "id": "EA1tBJKoirGy"
      },
      "source": [
        "The correlation bellow shows that Family size is not linearly related however there is a relationship between survival and family size"
      ]
    },
    {
      "cell_type": "code",
      "metadata": {
        "id": "TtkTa2rFF3i-"
      },
      "source": [
        "def convert_faimly_member_size(size):\n",
        "    if size == 1:\n",
        "        return \"single\"\n",
        "    elif size < 5:\n",
        "        return \"medium\"\n",
        "    else:\n",
        "        return \"large\""
      ],
      "execution_count": 427,
      "outputs": []
    },
    {
      "cell_type": "code",
      "metadata": {
        "id": "xB6SssG8KE3E"
      },
      "source": [
        "# TODO make constant\n",
        "# should_add_family_member_type = True\n",
        "# if should_add_family_member_type:\n",
        "#     for data in [train, test]:\n",
        "#         data[\"family_member_type\"] = train[\"family_member_size\"].apply(convert_faimly_member_size)"
      ],
      "execution_count": 428,
      "outputs": []
    },
    {
      "cell_type": "markdown",
      "metadata": {
        "id": "C9L9Kxl23PjS"
      },
      "source": [
        "## Make Encoders"
      ]
    },
    {
      "cell_type": "code",
      "metadata": {
        "id": "G--W8K0RKIw9"
      },
      "source": [
        "# TODO make constant\n",
        "encode_vals = ['Sex','Cabin_type','Embarked','Title','family_member_type']\n",
        "VAL = ['Sex','Cabin_type','Embarked','Title','family_member_type']"
      ],
      "execution_count": 429,
      "outputs": []
    },
    {
      "cell_type": "code",
      "metadata": {
        "id": "4q0u3D68MfLf"
      },
      "source": [
        "# make non one hot encoded values\n",
        "def make_encode_num(data):\n",
        "  #val = ['Sex','Cabin_type','Embarked','Title','family_member_type']\n",
        "  for feature in VAL:\n",
        "    if feature in data.columns:\n",
        "      data[feature]=data[feature].astype('category')\n",
        "      data[feature+'_value']=np.int64(data[feature].cat.codes)\n",
        "  return data\n",
        "train=make_encode_num(train)\n",
        "test = make_encode_num(test)"
      ],
      "execution_count": 430,
      "outputs": []
    },
    {
      "cell_type": "code",
      "metadata": {
        "colab": {
          "base_uri": "https://localhost:8080/"
        },
        "id": "UlJte4qu0s5H",
        "outputId": "f5d83e4d-6caa-4fa5-b12c-0ff381fe657c"
      },
      "source": [
        "train.dtypes"
      ],
      "execution_count": 431,
      "outputs": [
        {
          "output_type": "execute_result",
          "data": {
            "text/plain": [
              "PassengerId          int64\n",
              "Survived             int64\n",
              "Pclass               int64\n",
              "Name                object\n",
              "Sex               category\n",
              "Age                float64\n",
              "SibSp                int64\n",
              "Parch                int64\n",
              "Ticket              object\n",
              "Fare               float64\n",
              "Cabin               object\n",
              "Embarked          category\n",
              "Sex_value            int64\n",
              "Embarked_value       int64\n",
              "dtype: object"
            ]
          },
          "metadata": {},
          "execution_count": 431
        }
      ]
    },
    {
      "cell_type": "code",
      "metadata": {
        "id": "CjybWuqDiZ-f"
      },
      "source": [
        "# make one hot encoding\n",
        "# originally named one_hot_tit()\n",
        "# I only relized after I made the function how bad the naming was\n",
        "def one_hot(data, original_feature=False):\n",
        "  for feature in VAL:\n",
        "    if feature in data.columns:\n",
        "      temp = data[feature]\n",
        "      data= pd.get_dummies(data, columns=[feature], dtype=int)\n",
        "      data.pop(feature+'_value')\n",
        "      if original_feature == True :\n",
        "        data[feature]=temp\n",
        "  return data"
      ],
      "execution_count": 432,
      "outputs": []
    },
    {
      "cell_type": "markdown",
      "metadata": {
        "id": "OeugCzOJIKyK"
      },
      "source": [
        "## More Functions"
      ]
    },
    {
      "cell_type": "code",
      "metadata": {
        "id": "cKwKfxtWIPfh"
      },
      "source": [
        "def get_data(data, should_add_family_member_type=False):\n",
        "  # Replace NaNs\n",
        "  data = get_replaced_nan(data)\n",
        "  # get titles\n",
        "  data = get_titles(data)\n",
        "  # Get Cabin type\n",
        "  data['Cabin_type'] = data[\"Cabin\"].apply(lambda cabin: cabin[0])\n",
        "  # Make New feature\n",
        "  data[\"family_member_size\"] = 1 + data[\"SibSp\"] + data[\"Parch\"]\n",
        "  # Family memeber\n",
        "  if should_add_family_member_type:\n",
        "    data[\"family_member_type\"] = data[\"family_member_size\"].apply(convert_faimly_member_size)\n",
        "  # encode\n",
        "  data = make_encode_num(data)\n",
        "  return data\n"
      ],
      "execution_count": 433,
      "outputs": []
    },
    {
      "cell_type": "code",
      "metadata": {
        "id": "ge-0Tbp5uSjJ"
      },
      "source": [
        "# make clean up\n",
        "# Assumes all data in column is same type\n",
        "# For numeric data\n",
        "def cleanUp(data):\n",
        "  for i in data.columns:\n",
        "    #print(data[i])\n",
        "    if isinstance(data[i].iloc[0],(np.float, np.integer))==False:\n",
        "      # print(i)\n",
        "      data.pop(i)\n",
        "  data.pop(\"PassengerId\")\n",
        "  return data "
      ],
      "execution_count": 434,
      "outputs": []
    },
    {
      "cell_type": "code",
      "metadata": {
        "id": "pp_OLdNAA9Al"
      },
      "source": [
        "# number reshape\n",
        "def getTuple(Value):\n",
        "  x, y = Value.shape\n",
        "  z=1\n",
        "  t = (x,y,z)\n",
        "  return t "
      ],
      "execution_count": 435,
      "outputs": []
    },
    {
      "cell_type": "code",
      "metadata": {
        "id": "ESKsi3D9RuxN"
      },
      "source": [
        "def get_train_test(data, CC):\n",
        "  X = data.drop(\"Survived\", axis=1)\n",
        "  y = data[\"Survived\"]\n",
        "  #print(\"X shape: \", X.shape)\n",
        "  #print(X.values.reshape(891, 27,1))\n",
        "  X_train, X_val, y_train, y_val = train_test_split(X, y, test_size=0.2, random_state=42)\n",
        "  if CC==True:\n",
        "    X_train=X_train.values\n",
        "    y_train= y_train.values\n",
        "    X_val= X_val.values\n",
        "    y_val=y_val.values\n",
        "    X_train=np.expand_dims(X_train,axis=2)\n",
        "    X_val=np.expand_dims(X_val,axis=2)\n",
        "  return (X_train, X_val, y_train, y_val)"
      ],
      "execution_count": 436,
      "outputs": []
    },
    {
      "cell_type": "code",
      "metadata": {
        "id": "xjczWbIS4Guz"
      },
      "source": [
        "def make_tensor(data):\n",
        "  X_train, X_val, y_train, y_val = get_train_test(data)\n",
        "  print(\"X_train shape: \", X_train.shape)\n",
        "  print(\"X_train Type: \", type(X_train))\n",
        "  print(\"y_train: \",y_train.shape)\n",
        "  train_tensor = tf.data.Dataset.from_tensor_slices((X_train.values, y_train.values))\n",
        "  val_tensor = tf.data.Dataset.from_tensor_slices((X_val.values, y_val.values))\n",
        "  return train_tensor, val_tensor"
      ],
      "execution_count": 437,
      "outputs": []
    },
    {
      "cell_type": "code",
      "metadata": {
        "id": "CzYJdr6c982j"
      },
      "source": [
        "# # Testing\n",
        "# ##################################\n",
        "# X = copy.copy(OH_train)\n",
        "# X = X.drop(\"Survived\", axis=1)\n",
        "# #print(\"X shape: \", X.shape)\n",
        "# xshap = X.shape\n",
        "# x, y = X.shape\n",
        "# t = (x,y,1)\n",
        "# #print(t)\n",
        "# OH_tt, OH_tv = make_tensor(OH_train)\n",
        "# OH_tt.element_spec\n"
      ],
      "execution_count": 438,
      "outputs": []
    },
    {
      "cell_type": "markdown",
      "metadata": {
        "id": "7zEDY2O33qwM"
      },
      "source": [
        "## Apply Functions"
      ]
    },
    {
      "cell_type": "markdown",
      "metadata": {
        "id": "jDGXFym3aSLN"
      },
      "source": [
        "### Manual Data Scrub and Format"
      ]
    },
    {
      "cell_type": "code",
      "metadata": {
        "id": "5WwpmKK6Kj0H"
      },
      "source": [
        "embark_label = train[\"Embarked\"].mode()[0]\n",
        "train[\"Cabin\"] = train[\"Cabin\"].replace(np.NAN,  \"Unknown\")\n",
        "train[\"Embarked\"] = train[\"Embarked\"].replace(np.NAN, embark_label)\n",
        "train[\"Age\"] = train[\"Age\"].replace(np.NAN, train[\"Age\"].mean())\n",
        "# Test Replace\n",
        "test[\"Cabin\"] = test[\"Cabin\"].replace(np.NAN, \"Unknown\")\n",
        "test[\"Age\"] = test[\"Age\"].replace(np.NAN, test[\"Age\"].mean())\n",
        "test[\"Fare\"] = test[\"Fare\"].replace(np.NAN, test[\"Fare\"].mean())\n",
        "\n",
        "title_list=['Mrs', 'Mr', 'Master', 'Miss', 'Major', 'Rev', 'Dr', 'Ms', 'Mlle',\n",
        "            'Col', 'Capt', 'Mme', 'Countess', 'Don', 'Jonkheer']\n",
        "train['Title']=train['Name'].map(lambda x: substrings_in_string(x, title_list))\n",
        "test['Title'] = train['Name'].map(lambda x: substrings_in_string(x, title_list))\n",
        "train['Title']=train.apply(replace_titles, axis=1)\n",
        "test['Title']=test.apply(replace_titles, axis=1)\n",
        "train['Cabin_type'] = train[\"Cabin\"].apply(lambda cabin: cabin[0])\n",
        "test[\"Cabin_type\"] = test[\"Cabin\"].apply(lambda cabin: cabin[0])\n",
        "# Family Size\n",
        "train[\"family_member_size\"] = 1 + train[\"SibSp\"] + train[\"Parch\"]\n",
        "test[\"family_member_size\"] = 1 + test[\"SibSp\"] + test[\"Parch\"]\n",
        "# family size type\n",
        "should_add_family_member_type = True\n",
        "if should_add_family_member_type:\n",
        "    for data in [train, test]:\n",
        "        data[\"family_member_type\"] = train[\"family_member_size\"].apply(convert_faimly_member_size)\n",
        "train = make_encode_num(train)\n",
        "test = make_encode_num(test)"
      ],
      "execution_count": 439,
      "outputs": []
    },
    {
      "cell_type": "markdown",
      "metadata": {
        "id": "dXHNXoZbadQA"
      },
      "source": [
        "### Express Data Scrub and Format"
      ]
    },
    {
      "cell_type": "code",
      "metadata": {
        "id": "IAps4Z-EalId"
      },
      "source": [
        "# For Simplicity\n",
        "train_test = pd.concat([train1,test1])\n",
        "train_test = get_data(train_test, True)\n",
        "train = train_test.iloc[0:len(train)]\n",
        "test = train_test.iloc[len(train):]"
      ],
      "execution_count": 440,
      "outputs": []
    },
    {
      "cell_type": "code",
      "metadata": {
        "colab": {
          "base_uri": "https://localhost:8080/"
        },
        "id": "HdVxSZj731gB",
        "outputId": "a687c4cb-a430-4110-c38e-d3a3e1453c6a"
      },
      "source": [
        "# Prepare data for models\n",
        "# OH stands for one hot\n",
        "# EN stands for encoded, not one hot\n",
        "# Use concat to save time\n",
        "OH_train_test = pd.concat([train,test])\n",
        "EN_train_test = pd.concat([train, test])\n",
        "# print shape and size for latter\n",
        "print(\"Train Shape: \",train.shape)\n",
        "print(\"Train Size: \", len(train))"
      ],
      "execution_count": 441,
      "outputs": [
        {
          "output_type": "stream",
          "name": "stdout",
          "text": [
            "Train Shape:  (891, 21)\n",
            "Train Size:  891\n"
          ]
        }
      ]
    },
    {
      "cell_type": "code",
      "metadata": {
        "id": "5Ws5_CGBaAGH"
      },
      "source": [
        "# apply OH\n",
        "# remember to apply with and without family type and size\n",
        "OH_train_test=one_hot(OH_train_test, False)\n",
        "OH_train_test = cleanUp(OH_train_test)\n",
        "OH_train_test[\"Survived\"] = OH_train_test[\"Survived\"].replace(np.NAN, np.int(1))\n",
        "# Apply EN\n",
        "EN_train_test = cleanUp(EN_train_test)\n",
        "EN_train_test[\"Survived\"] = EN_train_test[\"Survived\"].replace(np.NAN, np.int(1))"
      ],
      "execution_count": 442,
      "outputs": []
    },
    {
      "cell_type": "code",
      "metadata": {
        "colab": {
          "base_uri": "https://localhost:8080/",
          "height": 470
        },
        "id": "tOzACTs6sqM1",
        "outputId": "1d2e78d0-ffdf-4313-9b04-c27d02b40a4a"
      },
      "source": [
        "pd.set_option('display.max_rows', None)\n",
        "pd.set_option('display.max_columns', None)\n",
        "pd.set_option('display.width',None)\n",
        "pd.set_option('display.max_colwidth', -1)\n",
        "pd.reset_option(\"^display\")\n",
        "OH_train_test#"
      ],
      "execution_count": 443,
      "outputs": [
        {
          "output_type": "stream",
          "name": "stderr",
          "text": [
            "/usr/local/lib/python3.7/dist-packages/ipykernel_launcher.py:4: FutureWarning: Passing a negative integer is deprecated in version 1.0 and will not be supported in future version. Instead, use None to not limit the column width.\n",
            "  after removing the cwd from sys.path.\n"
          ]
        },
        {
          "output_type": "execute_result",
          "data": {
            "text/html": [
              "<div>\n",
              "<style scoped>\n",
              "    .dataframe tbody tr th:only-of-type {\n",
              "        vertical-align: middle;\n",
              "    }\n",
              "\n",
              "    .dataframe tbody tr th {\n",
              "        vertical-align: top;\n",
              "    }\n",
              "\n",
              "    .dataframe thead th {\n",
              "        text-align: right;\n",
              "    }\n",
              "</style>\n",
              "<table border=\"1\" class=\"dataframe\">\n",
              "  <thead>\n",
              "    <tr style=\"text-align: right;\">\n",
              "      <th></th>\n",
              "      <th>Survived</th>\n",
              "      <th>Pclass</th>\n",
              "      <th>Age</th>\n",
              "      <th>SibSp</th>\n",
              "      <th>Parch</th>\n",
              "      <th>Fare</th>\n",
              "      <th>family_member_size</th>\n",
              "      <th>Sex_female</th>\n",
              "      <th>Sex_male</th>\n",
              "      <th>Cabin_type_A</th>\n",
              "      <th>Cabin_type_B</th>\n",
              "      <th>Cabin_type_C</th>\n",
              "      <th>Cabin_type_D</th>\n",
              "      <th>Cabin_type_E</th>\n",
              "      <th>Cabin_type_F</th>\n",
              "      <th>Cabin_type_G</th>\n",
              "      <th>Cabin_type_T</th>\n",
              "      <th>Cabin_type_U</th>\n",
              "      <th>Embarked_C</th>\n",
              "      <th>Embarked_Q</th>\n",
              "      <th>Embarked_S</th>\n",
              "      <th>Title_Master</th>\n",
              "      <th>Title_Miss</th>\n",
              "      <th>Title_Mr</th>\n",
              "      <th>Title_Mrs</th>\n",
              "      <th>family_member_type_large</th>\n",
              "      <th>family_member_type_medium</th>\n",
              "      <th>family_member_type_single</th>\n",
              "    </tr>\n",
              "  </thead>\n",
              "  <tbody>\n",
              "    <tr>\n",
              "      <th>0</th>\n",
              "      <td>0.0</td>\n",
              "      <td>3</td>\n",
              "      <td>22.000000</td>\n",
              "      <td>1</td>\n",
              "      <td>0</td>\n",
              "      <td>7.2500</td>\n",
              "      <td>2</td>\n",
              "      <td>0</td>\n",
              "      <td>1</td>\n",
              "      <td>0</td>\n",
              "      <td>0</td>\n",
              "      <td>0</td>\n",
              "      <td>0</td>\n",
              "      <td>0</td>\n",
              "      <td>0</td>\n",
              "      <td>0</td>\n",
              "      <td>0</td>\n",
              "      <td>1</td>\n",
              "      <td>0</td>\n",
              "      <td>0</td>\n",
              "      <td>1</td>\n",
              "      <td>0</td>\n",
              "      <td>0</td>\n",
              "      <td>1</td>\n",
              "      <td>0</td>\n",
              "      <td>0</td>\n",
              "      <td>1</td>\n",
              "      <td>0</td>\n",
              "    </tr>\n",
              "    <tr>\n",
              "      <th>1</th>\n",
              "      <td>1.0</td>\n",
              "      <td>1</td>\n",
              "      <td>38.000000</td>\n",
              "      <td>1</td>\n",
              "      <td>0</td>\n",
              "      <td>71.2833</td>\n",
              "      <td>2</td>\n",
              "      <td>1</td>\n",
              "      <td>0</td>\n",
              "      <td>0</td>\n",
              "      <td>0</td>\n",
              "      <td>1</td>\n",
              "      <td>0</td>\n",
              "      <td>0</td>\n",
              "      <td>0</td>\n",
              "      <td>0</td>\n",
              "      <td>0</td>\n",
              "      <td>0</td>\n",
              "      <td>1</td>\n",
              "      <td>0</td>\n",
              "      <td>0</td>\n",
              "      <td>0</td>\n",
              "      <td>0</td>\n",
              "      <td>0</td>\n",
              "      <td>1</td>\n",
              "      <td>0</td>\n",
              "      <td>1</td>\n",
              "      <td>0</td>\n",
              "    </tr>\n",
              "    <tr>\n",
              "      <th>2</th>\n",
              "      <td>1.0</td>\n",
              "      <td>3</td>\n",
              "      <td>26.000000</td>\n",
              "      <td>0</td>\n",
              "      <td>0</td>\n",
              "      <td>7.9250</td>\n",
              "      <td>1</td>\n",
              "      <td>1</td>\n",
              "      <td>0</td>\n",
              "      <td>0</td>\n",
              "      <td>0</td>\n",
              "      <td>0</td>\n",
              "      <td>0</td>\n",
              "      <td>0</td>\n",
              "      <td>0</td>\n",
              "      <td>0</td>\n",
              "      <td>0</td>\n",
              "      <td>1</td>\n",
              "      <td>0</td>\n",
              "      <td>0</td>\n",
              "      <td>1</td>\n",
              "      <td>0</td>\n",
              "      <td>1</td>\n",
              "      <td>0</td>\n",
              "      <td>0</td>\n",
              "      <td>0</td>\n",
              "      <td>0</td>\n",
              "      <td>1</td>\n",
              "    </tr>\n",
              "    <tr>\n",
              "      <th>3</th>\n",
              "      <td>1.0</td>\n",
              "      <td>1</td>\n",
              "      <td>35.000000</td>\n",
              "      <td>1</td>\n",
              "      <td>0</td>\n",
              "      <td>53.1000</td>\n",
              "      <td>2</td>\n",
              "      <td>1</td>\n",
              "      <td>0</td>\n",
              "      <td>0</td>\n",
              "      <td>0</td>\n",
              "      <td>1</td>\n",
              "      <td>0</td>\n",
              "      <td>0</td>\n",
              "      <td>0</td>\n",
              "      <td>0</td>\n",
              "      <td>0</td>\n",
              "      <td>0</td>\n",
              "      <td>0</td>\n",
              "      <td>0</td>\n",
              "      <td>1</td>\n",
              "      <td>0</td>\n",
              "      <td>0</td>\n",
              "      <td>0</td>\n",
              "      <td>1</td>\n",
              "      <td>0</td>\n",
              "      <td>1</td>\n",
              "      <td>0</td>\n",
              "    </tr>\n",
              "    <tr>\n",
              "      <th>4</th>\n",
              "      <td>0.0</td>\n",
              "      <td>3</td>\n",
              "      <td>35.000000</td>\n",
              "      <td>0</td>\n",
              "      <td>0</td>\n",
              "      <td>8.0500</td>\n",
              "      <td>1</td>\n",
              "      <td>0</td>\n",
              "      <td>1</td>\n",
              "      <td>0</td>\n",
              "      <td>0</td>\n",
              "      <td>0</td>\n",
              "      <td>0</td>\n",
              "      <td>0</td>\n",
              "      <td>0</td>\n",
              "      <td>0</td>\n",
              "      <td>0</td>\n",
              "      <td>1</td>\n",
              "      <td>0</td>\n",
              "      <td>0</td>\n",
              "      <td>1</td>\n",
              "      <td>0</td>\n",
              "      <td>0</td>\n",
              "      <td>1</td>\n",
              "      <td>0</td>\n",
              "      <td>0</td>\n",
              "      <td>0</td>\n",
              "      <td>1</td>\n",
              "    </tr>\n",
              "    <tr>\n",
              "      <th>...</th>\n",
              "      <td>...</td>\n",
              "      <td>...</td>\n",
              "      <td>...</td>\n",
              "      <td>...</td>\n",
              "      <td>...</td>\n",
              "      <td>...</td>\n",
              "      <td>...</td>\n",
              "      <td>...</td>\n",
              "      <td>...</td>\n",
              "      <td>...</td>\n",
              "      <td>...</td>\n",
              "      <td>...</td>\n",
              "      <td>...</td>\n",
              "      <td>...</td>\n",
              "      <td>...</td>\n",
              "      <td>...</td>\n",
              "      <td>...</td>\n",
              "      <td>...</td>\n",
              "      <td>...</td>\n",
              "      <td>...</td>\n",
              "      <td>...</td>\n",
              "      <td>...</td>\n",
              "      <td>...</td>\n",
              "      <td>...</td>\n",
              "      <td>...</td>\n",
              "      <td>...</td>\n",
              "      <td>...</td>\n",
              "      <td>...</td>\n",
              "    </tr>\n",
              "    <tr>\n",
              "      <th>413</th>\n",
              "      <td>1.0</td>\n",
              "      <td>3</td>\n",
              "      <td>29.881138</td>\n",
              "      <td>0</td>\n",
              "      <td>0</td>\n",
              "      <td>8.0500</td>\n",
              "      <td>1</td>\n",
              "      <td>0</td>\n",
              "      <td>1</td>\n",
              "      <td>0</td>\n",
              "      <td>0</td>\n",
              "      <td>0</td>\n",
              "      <td>0</td>\n",
              "      <td>0</td>\n",
              "      <td>0</td>\n",
              "      <td>0</td>\n",
              "      <td>0</td>\n",
              "      <td>1</td>\n",
              "      <td>0</td>\n",
              "      <td>0</td>\n",
              "      <td>1</td>\n",
              "      <td>0</td>\n",
              "      <td>0</td>\n",
              "      <td>1</td>\n",
              "      <td>0</td>\n",
              "      <td>0</td>\n",
              "      <td>0</td>\n",
              "      <td>1</td>\n",
              "    </tr>\n",
              "    <tr>\n",
              "      <th>414</th>\n",
              "      <td>1.0</td>\n",
              "      <td>1</td>\n",
              "      <td>39.000000</td>\n",
              "      <td>0</td>\n",
              "      <td>0</td>\n",
              "      <td>108.9000</td>\n",
              "      <td>1</td>\n",
              "      <td>1</td>\n",
              "      <td>0</td>\n",
              "      <td>0</td>\n",
              "      <td>0</td>\n",
              "      <td>1</td>\n",
              "      <td>0</td>\n",
              "      <td>0</td>\n",
              "      <td>0</td>\n",
              "      <td>0</td>\n",
              "      <td>0</td>\n",
              "      <td>0</td>\n",
              "      <td>1</td>\n",
              "      <td>0</td>\n",
              "      <td>0</td>\n",
              "      <td>0</td>\n",
              "      <td>0</td>\n",
              "      <td>1</td>\n",
              "      <td>0</td>\n",
              "      <td>0</td>\n",
              "      <td>0</td>\n",
              "      <td>1</td>\n",
              "    </tr>\n",
              "    <tr>\n",
              "      <th>415</th>\n",
              "      <td>1.0</td>\n",
              "      <td>3</td>\n",
              "      <td>38.500000</td>\n",
              "      <td>0</td>\n",
              "      <td>0</td>\n",
              "      <td>7.2500</td>\n",
              "      <td>1</td>\n",
              "      <td>0</td>\n",
              "      <td>1</td>\n",
              "      <td>0</td>\n",
              "      <td>0</td>\n",
              "      <td>0</td>\n",
              "      <td>0</td>\n",
              "      <td>0</td>\n",
              "      <td>0</td>\n",
              "      <td>0</td>\n",
              "      <td>0</td>\n",
              "      <td>1</td>\n",
              "      <td>0</td>\n",
              "      <td>0</td>\n",
              "      <td>1</td>\n",
              "      <td>0</td>\n",
              "      <td>0</td>\n",
              "      <td>1</td>\n",
              "      <td>0</td>\n",
              "      <td>0</td>\n",
              "      <td>0</td>\n",
              "      <td>1</td>\n",
              "    </tr>\n",
              "    <tr>\n",
              "      <th>416</th>\n",
              "      <td>1.0</td>\n",
              "      <td>3</td>\n",
              "      <td>29.881138</td>\n",
              "      <td>0</td>\n",
              "      <td>0</td>\n",
              "      <td>8.0500</td>\n",
              "      <td>1</td>\n",
              "      <td>0</td>\n",
              "      <td>1</td>\n",
              "      <td>0</td>\n",
              "      <td>0</td>\n",
              "      <td>0</td>\n",
              "      <td>0</td>\n",
              "      <td>0</td>\n",
              "      <td>0</td>\n",
              "      <td>0</td>\n",
              "      <td>0</td>\n",
              "      <td>1</td>\n",
              "      <td>0</td>\n",
              "      <td>0</td>\n",
              "      <td>1</td>\n",
              "      <td>0</td>\n",
              "      <td>0</td>\n",
              "      <td>1</td>\n",
              "      <td>0</td>\n",
              "      <td>0</td>\n",
              "      <td>0</td>\n",
              "      <td>1</td>\n",
              "    </tr>\n",
              "    <tr>\n",
              "      <th>417</th>\n",
              "      <td>1.0</td>\n",
              "      <td>3</td>\n",
              "      <td>29.881138</td>\n",
              "      <td>1</td>\n",
              "      <td>1</td>\n",
              "      <td>22.3583</td>\n",
              "      <td>3</td>\n",
              "      <td>0</td>\n",
              "      <td>1</td>\n",
              "      <td>0</td>\n",
              "      <td>0</td>\n",
              "      <td>0</td>\n",
              "      <td>0</td>\n",
              "      <td>0</td>\n",
              "      <td>0</td>\n",
              "      <td>0</td>\n",
              "      <td>0</td>\n",
              "      <td>1</td>\n",
              "      <td>1</td>\n",
              "      <td>0</td>\n",
              "      <td>0</td>\n",
              "      <td>1</td>\n",
              "      <td>0</td>\n",
              "      <td>0</td>\n",
              "      <td>0</td>\n",
              "      <td>0</td>\n",
              "      <td>1</td>\n",
              "      <td>0</td>\n",
              "    </tr>\n",
              "  </tbody>\n",
              "</table>\n",
              "<p>1309 rows × 28 columns</p>\n",
              "</div>"
            ],
            "text/plain": [
              "     Survived  Pclass  ...  family_member_type_medium  family_member_type_single\n",
              "0         0.0       3  ...                          1                          0\n",
              "1         1.0       1  ...                          1                          0\n",
              "2         1.0       3  ...                          0                          1\n",
              "3         1.0       1  ...                          1                          0\n",
              "4         0.0       3  ...                          0                          1\n",
              "..        ...     ...  ...                        ...                        ...\n",
              "413       1.0       3  ...                          0                          1\n",
              "414       1.0       1  ...                          0                          1\n",
              "415       1.0       3  ...                          0                          1\n",
              "416       1.0       3  ...                          0                          1\n",
              "417       1.0       3  ...                          1                          0\n",
              "\n",
              "[1309 rows x 28 columns]"
            ]
          },
          "metadata": {},
          "execution_count": 443
        }
      ]
    },
    {
      "cell_type": "code",
      "metadata": {
        "id": "VY0UYv0B4IrF"
      },
      "source": [
        "# Scaling\n",
        "min_max_scaler = preprocessing.MinMaxScaler()\n",
        "OH_scaled = min_max_scaler.fit_transform(OH_train_test)\n",
        "EN_scaled = min_max_scaler.fit_transform(EN_train_test)\n",
        "OH_train_test = pd.DataFrame(OH_scaled, columns=OH_train_test.columns)\n",
        "EN_train_test = pd.DataFrame(EN_scaled, columns=EN_train_test.columns)"
      ],
      "execution_count": 444,
      "outputs": []
    },
    {
      "cell_type": "code",
      "metadata": {
        "id": "umjkEbdZ4LR9"
      },
      "source": [
        "# train and test\n",
        "EN_train = EN_train_test.iloc[0:len(train)]\n",
        "OH_train = OH_train_test.iloc[0:len(train)]\n",
        "EN_test = EN_train_test.iloc[len(train):]\n",
        "OH_test = OH_train_test.iloc[len(train):]\n",
        "EN_test=EN_test.drop(\"Survived\", axis=1)\n",
        "OH_test = OH_test.drop(\"Survived\", axis=1)"
      ],
      "execution_count": 445,
      "outputs": []
    },
    {
      "cell_type": "code",
      "metadata": {
        "id": "85cxx7qv6K0o"
      },
      "source": [
        "# OH_tt, OH_tv = make_tensor(OH_train)\n",
        "# EN_tt, EN_tv =make_tensor(EN_train)"
      ],
      "execution_count": 446,
      "outputs": []
    },
    {
      "cell_type": "code",
      "metadata": {
        "colab": {
          "base_uri": "https://localhost:8080/",
          "height": 417
        },
        "id": "MBvGEYeFq3Mc",
        "outputId": "35ebcb86-a624-4cc1-f978-2a0e1d613881"
      },
      "source": [
        "# data check\n",
        "OH_train_test.head()\n",
        "# OH_train.shape\n",
        "# OH_tt.element_spec\n",
        "EN_test"
      ],
      "execution_count": 447,
      "outputs": [
        {
          "output_type": "execute_result",
          "data": {
            "text/html": [
              "<div>\n",
              "<style scoped>\n",
              "    .dataframe tbody tr th:only-of-type {\n",
              "        vertical-align: middle;\n",
              "    }\n",
              "\n",
              "    .dataframe tbody tr th {\n",
              "        vertical-align: top;\n",
              "    }\n",
              "\n",
              "    .dataframe thead th {\n",
              "        text-align: right;\n",
              "    }\n",
              "</style>\n",
              "<table border=\"1\" class=\"dataframe\">\n",
              "  <thead>\n",
              "    <tr style=\"text-align: right;\">\n",
              "      <th></th>\n",
              "      <th>Pclass</th>\n",
              "      <th>Age</th>\n",
              "      <th>SibSp</th>\n",
              "      <th>Parch</th>\n",
              "      <th>Fare</th>\n",
              "      <th>family_member_size</th>\n",
              "      <th>Sex_value</th>\n",
              "      <th>Cabin_type_value</th>\n",
              "      <th>Embarked_value</th>\n",
              "      <th>Title_value</th>\n",
              "      <th>family_member_type_value</th>\n",
              "    </tr>\n",
              "  </thead>\n",
              "  <tbody>\n",
              "    <tr>\n",
              "      <th>891</th>\n",
              "      <td>1.0</td>\n",
              "      <td>0.430039</td>\n",
              "      <td>0.000</td>\n",
              "      <td>0.000000</td>\n",
              "      <td>0.015282</td>\n",
              "      <td>0.0</td>\n",
              "      <td>1.0</td>\n",
              "      <td>1.00</td>\n",
              "      <td>0.5</td>\n",
              "      <td>0.666667</td>\n",
              "      <td>1.0</td>\n",
              "    </tr>\n",
              "    <tr>\n",
              "      <th>892</th>\n",
              "      <td>1.0</td>\n",
              "      <td>0.586622</td>\n",
              "      <td>0.125</td>\n",
              "      <td>0.000000</td>\n",
              "      <td>0.013663</td>\n",
              "      <td>0.1</td>\n",
              "      <td>0.0</td>\n",
              "      <td>1.00</td>\n",
              "      <td>1.0</td>\n",
              "      <td>1.000000</td>\n",
              "      <td>0.5</td>\n",
              "    </tr>\n",
              "    <tr>\n",
              "      <th>893</th>\n",
              "      <td>0.5</td>\n",
              "      <td>0.774521</td>\n",
              "      <td>0.000</td>\n",
              "      <td>0.000000</td>\n",
              "      <td>0.018909</td>\n",
              "      <td>0.0</td>\n",
              "      <td>1.0</td>\n",
              "      <td>1.00</td>\n",
              "      <td>0.5</td>\n",
              "      <td>0.666667</td>\n",
              "      <td>1.0</td>\n",
              "    </tr>\n",
              "    <tr>\n",
              "      <th>894</th>\n",
              "      <td>1.0</td>\n",
              "      <td>0.336089</td>\n",
              "      <td>0.000</td>\n",
              "      <td>0.000000</td>\n",
              "      <td>0.016908</td>\n",
              "      <td>0.0</td>\n",
              "      <td>1.0</td>\n",
              "      <td>1.00</td>\n",
              "      <td>1.0</td>\n",
              "      <td>0.666667</td>\n",
              "      <td>1.0</td>\n",
              "    </tr>\n",
              "    <tr>\n",
              "      <th>895</th>\n",
              "      <td>1.0</td>\n",
              "      <td>0.273456</td>\n",
              "      <td>0.125</td>\n",
              "      <td>0.111111</td>\n",
              "      <td>0.023984</td>\n",
              "      <td>0.2</td>\n",
              "      <td>0.0</td>\n",
              "      <td>1.00</td>\n",
              "      <td>1.0</td>\n",
              "      <td>1.000000</td>\n",
              "      <td>0.5</td>\n",
              "    </tr>\n",
              "    <tr>\n",
              "      <th>...</th>\n",
              "      <td>...</td>\n",
              "      <td>...</td>\n",
              "      <td>...</td>\n",
              "      <td>...</td>\n",
              "      <td>...</td>\n",
              "      <td>...</td>\n",
              "      <td>...</td>\n",
              "      <td>...</td>\n",
              "      <td>...</td>\n",
              "      <td>...</td>\n",
              "      <td>...</td>\n",
              "    </tr>\n",
              "    <tr>\n",
              "      <th>1304</th>\n",
              "      <td>1.0</td>\n",
              "      <td>0.372180</td>\n",
              "      <td>0.000</td>\n",
              "      <td>0.000000</td>\n",
              "      <td>0.015713</td>\n",
              "      <td>0.0</td>\n",
              "      <td>1.0</td>\n",
              "      <td>1.00</td>\n",
              "      <td>1.0</td>\n",
              "      <td>0.666667</td>\n",
              "      <td>1.0</td>\n",
              "    </tr>\n",
              "    <tr>\n",
              "      <th>1305</th>\n",
              "      <td>0.0</td>\n",
              "      <td>0.486409</td>\n",
              "      <td>0.000</td>\n",
              "      <td>0.000000</td>\n",
              "      <td>0.212559</td>\n",
              "      <td>0.0</td>\n",
              "      <td>0.0</td>\n",
              "      <td>0.25</td>\n",
              "      <td>0.0</td>\n",
              "      <td>0.666667</td>\n",
              "      <td>1.0</td>\n",
              "    </tr>\n",
              "    <tr>\n",
              "      <th>1306</th>\n",
              "      <td>1.0</td>\n",
              "      <td>0.480145</td>\n",
              "      <td>0.000</td>\n",
              "      <td>0.000000</td>\n",
              "      <td>0.014151</td>\n",
              "      <td>0.0</td>\n",
              "      <td>1.0</td>\n",
              "      <td>1.00</td>\n",
              "      <td>1.0</td>\n",
              "      <td>0.666667</td>\n",
              "      <td>1.0</td>\n",
              "    </tr>\n",
              "    <tr>\n",
              "      <th>1307</th>\n",
              "      <td>1.0</td>\n",
              "      <td>0.372180</td>\n",
              "      <td>0.000</td>\n",
              "      <td>0.000000</td>\n",
              "      <td>0.015713</td>\n",
              "      <td>0.0</td>\n",
              "      <td>1.0</td>\n",
              "      <td>1.00</td>\n",
              "      <td>1.0</td>\n",
              "      <td>0.666667</td>\n",
              "      <td>1.0</td>\n",
              "    </tr>\n",
              "    <tr>\n",
              "      <th>1308</th>\n",
              "      <td>1.0</td>\n",
              "      <td>0.372180</td>\n",
              "      <td>0.125</td>\n",
              "      <td>0.111111</td>\n",
              "      <td>0.043640</td>\n",
              "      <td>0.2</td>\n",
              "      <td>1.0</td>\n",
              "      <td>1.00</td>\n",
              "      <td>0.0</td>\n",
              "      <td>0.000000</td>\n",
              "      <td>0.5</td>\n",
              "    </tr>\n",
              "  </tbody>\n",
              "</table>\n",
              "<p>418 rows × 11 columns</p>\n",
              "</div>"
            ],
            "text/plain": [
              "      Pclass       Age  ...  Title_value  family_member_type_value\n",
              "891      1.0  0.430039  ...     0.666667                       1.0\n",
              "892      1.0  0.586622  ...     1.000000                       0.5\n",
              "893      0.5  0.774521  ...     0.666667                       1.0\n",
              "894      1.0  0.336089  ...     0.666667                       1.0\n",
              "895      1.0  0.273456  ...     1.000000                       0.5\n",
              "...      ...       ...  ...          ...                       ...\n",
              "1304     1.0  0.372180  ...     0.666667                       1.0\n",
              "1305     0.0  0.486409  ...     0.666667                       1.0\n",
              "1306     1.0  0.480145  ...     0.666667                       1.0\n",
              "1307     1.0  0.372180  ...     0.666667                       1.0\n",
              "1308     1.0  0.372180  ...     0.000000                       0.5\n",
              "\n",
              "[418 rows x 11 columns]"
            ]
          },
          "metadata": {},
          "execution_count": 447
        }
      ]
    },
    {
      "cell_type": "code",
      "metadata": {
        "colab": {
          "base_uri": "https://localhost:8080/",
          "height": 442
        },
        "id": "GkTMbvQ4ZNFY",
        "outputId": "411b2902-c9c7-47bc-dd39-5f6d0f03ff3f"
      },
      "source": [
        "# data check\n",
        "test.head()"
      ],
      "execution_count": 448,
      "outputs": [
        {
          "output_type": "execute_result",
          "data": {
            "text/html": [
              "<div>\n",
              "<style scoped>\n",
              "    .dataframe tbody tr th:only-of-type {\n",
              "        vertical-align: middle;\n",
              "    }\n",
              "\n",
              "    .dataframe tbody tr th {\n",
              "        vertical-align: top;\n",
              "    }\n",
              "\n",
              "    .dataframe thead th {\n",
              "        text-align: right;\n",
              "    }\n",
              "</style>\n",
              "<table border=\"1\" class=\"dataframe\">\n",
              "  <thead>\n",
              "    <tr style=\"text-align: right;\">\n",
              "      <th></th>\n",
              "      <th>PassengerId</th>\n",
              "      <th>Survived</th>\n",
              "      <th>Pclass</th>\n",
              "      <th>Name</th>\n",
              "      <th>Sex</th>\n",
              "      <th>Age</th>\n",
              "      <th>SibSp</th>\n",
              "      <th>Parch</th>\n",
              "      <th>Ticket</th>\n",
              "      <th>Fare</th>\n",
              "      <th>Cabin</th>\n",
              "      <th>Embarked</th>\n",
              "      <th>Title</th>\n",
              "      <th>Cabin_type</th>\n",
              "      <th>family_member_size</th>\n",
              "      <th>family_member_type</th>\n",
              "      <th>Sex_value</th>\n",
              "      <th>Cabin_type_value</th>\n",
              "      <th>Embarked_value</th>\n",
              "      <th>Title_value</th>\n",
              "      <th>family_member_type_value</th>\n",
              "    </tr>\n",
              "  </thead>\n",
              "  <tbody>\n",
              "    <tr>\n",
              "      <th>0</th>\n",
              "      <td>892</td>\n",
              "      <td>NaN</td>\n",
              "      <td>3</td>\n",
              "      <td>Kelly, Mr. James</td>\n",
              "      <td>male</td>\n",
              "      <td>34.5</td>\n",
              "      <td>0</td>\n",
              "      <td>0</td>\n",
              "      <td>330911</td>\n",
              "      <td>7.8292</td>\n",
              "      <td>Unknown</td>\n",
              "      <td>Q</td>\n",
              "      <td>Mr</td>\n",
              "      <td>U</td>\n",
              "      <td>1</td>\n",
              "      <td>single</td>\n",
              "      <td>1</td>\n",
              "      <td>8</td>\n",
              "      <td>1</td>\n",
              "      <td>2</td>\n",
              "      <td>2</td>\n",
              "    </tr>\n",
              "    <tr>\n",
              "      <th>1</th>\n",
              "      <td>893</td>\n",
              "      <td>NaN</td>\n",
              "      <td>3</td>\n",
              "      <td>Wilkes, Mrs. James (Ellen Needs)</td>\n",
              "      <td>female</td>\n",
              "      <td>47.0</td>\n",
              "      <td>1</td>\n",
              "      <td>0</td>\n",
              "      <td>363272</td>\n",
              "      <td>7.0000</td>\n",
              "      <td>Unknown</td>\n",
              "      <td>S</td>\n",
              "      <td>Mrs</td>\n",
              "      <td>U</td>\n",
              "      <td>2</td>\n",
              "      <td>medium</td>\n",
              "      <td>0</td>\n",
              "      <td>8</td>\n",
              "      <td>2</td>\n",
              "      <td>3</td>\n",
              "      <td>1</td>\n",
              "    </tr>\n",
              "    <tr>\n",
              "      <th>2</th>\n",
              "      <td>894</td>\n",
              "      <td>NaN</td>\n",
              "      <td>2</td>\n",
              "      <td>Myles, Mr. Thomas Francis</td>\n",
              "      <td>male</td>\n",
              "      <td>62.0</td>\n",
              "      <td>0</td>\n",
              "      <td>0</td>\n",
              "      <td>240276</td>\n",
              "      <td>9.6875</td>\n",
              "      <td>Unknown</td>\n",
              "      <td>Q</td>\n",
              "      <td>Mr</td>\n",
              "      <td>U</td>\n",
              "      <td>1</td>\n",
              "      <td>single</td>\n",
              "      <td>1</td>\n",
              "      <td>8</td>\n",
              "      <td>1</td>\n",
              "      <td>2</td>\n",
              "      <td>2</td>\n",
              "    </tr>\n",
              "    <tr>\n",
              "      <th>3</th>\n",
              "      <td>895</td>\n",
              "      <td>NaN</td>\n",
              "      <td>3</td>\n",
              "      <td>Wirz, Mr. Albert</td>\n",
              "      <td>male</td>\n",
              "      <td>27.0</td>\n",
              "      <td>0</td>\n",
              "      <td>0</td>\n",
              "      <td>315154</td>\n",
              "      <td>8.6625</td>\n",
              "      <td>Unknown</td>\n",
              "      <td>S</td>\n",
              "      <td>Mr</td>\n",
              "      <td>U</td>\n",
              "      <td>1</td>\n",
              "      <td>single</td>\n",
              "      <td>1</td>\n",
              "      <td>8</td>\n",
              "      <td>2</td>\n",
              "      <td>2</td>\n",
              "      <td>2</td>\n",
              "    </tr>\n",
              "    <tr>\n",
              "      <th>4</th>\n",
              "      <td>896</td>\n",
              "      <td>NaN</td>\n",
              "      <td>3</td>\n",
              "      <td>Hirvonen, Mrs. Alexander (Helga E Lindqvist)</td>\n",
              "      <td>female</td>\n",
              "      <td>22.0</td>\n",
              "      <td>1</td>\n",
              "      <td>1</td>\n",
              "      <td>3101298</td>\n",
              "      <td>12.2875</td>\n",
              "      <td>Unknown</td>\n",
              "      <td>S</td>\n",
              "      <td>Mrs</td>\n",
              "      <td>U</td>\n",
              "      <td>3</td>\n",
              "      <td>medium</td>\n",
              "      <td>0</td>\n",
              "      <td>8</td>\n",
              "      <td>2</td>\n",
              "      <td>3</td>\n",
              "      <td>1</td>\n",
              "    </tr>\n",
              "  </tbody>\n",
              "</table>\n",
              "</div>"
            ],
            "text/plain": [
              "   PassengerId  Survived  ...  Title_value family_member_type_value\n",
              "0          892       NaN  ...            2                        2\n",
              "1          893       NaN  ...            3                        1\n",
              "2          894       NaN  ...            2                        2\n",
              "3          895       NaN  ...            2                        2\n",
              "4          896       NaN  ...            3                        1\n",
              "\n",
              "[5 rows x 21 columns]"
            ]
          },
          "metadata": {},
          "execution_count": 448
        }
      ]
    },
    {
      "cell_type": "code",
      "metadata": {
        "id": "FXX8yy-MprZs"
      },
      "source": [
        "#temp.corr()[\"Survived\"].sort_values(key=lambda x: abs(x), ascending=False)"
      ],
      "execution_count": 449,
      "outputs": []
    },
    {
      "cell_type": "markdown",
      "metadata": {
        "id": "qBEv7Y7FPbTW"
      },
      "source": [
        "## Survival Factors"
      ]
    },
    {
      "cell_type": "code",
      "metadata": {
        "colab": {
          "base_uri": "https://localhost:8080/"
        },
        "id": "O2nRA4U1Pjjr",
        "outputId": "28d8eb2b-bc11-4091-a7a8-b1abdb7c6081"
      },
      "source": [
        "# source 2\n",
        "train.corr()[\"Survived\"].sort_values(key=lambda x: abs(x), ascending=False)"
      ],
      "execution_count": 450,
      "outputs": [
        {
          "output_type": "execute_result",
          "data": {
            "text/plain": [
              "Survived                    1.000000\n",
              "Sex_value                  -0.543351\n",
              "Pclass                     -0.338481\n",
              "Cabin_type_value           -0.301116\n",
              "Fare                        0.257307\n",
              "Embarked_value             -0.167675\n",
              "family_member_type_value   -0.108631\n",
              "Parch                       0.081629\n",
              "Age                        -0.070323\n",
              "Title_value                -0.062139\n",
              "SibSp                      -0.035322\n",
              "family_member_size          0.016639\n",
              "PassengerId                -0.005007\n",
              "Name: Survived, dtype: float64"
            ]
          },
          "metadata": {},
          "execution_count": 450
        }
      ]
    },
    {
      "cell_type": "code",
      "metadata": {
        "id": "JEtc7jqAdWSC"
      },
      "source": [
        "# See what .index Does\n",
        "# index gives the feature values that equaled true\n",
        "###########################################################\n",
        "# l=list(train.corr()[train.corr()[\"Survived\"].abs()>.05] )\n",
        "# p=list(train.corr()[train.corr()[\"Survived\"].abs()>.05].index )\n",
        "# print(len(l),\"\\n\",l)\n",
        "# print(len(p),\"\\n\",p)\n",
        "# res = [x for x in l + p if x not in l or x not in p]\n",
        "# print(res)"
      ],
      "execution_count": 451,
      "outputs": []
    },
    {
      "cell_type": "code",
      "metadata": {
        "colab": {
          "base_uri": "https://localhost:8080/"
        },
        "id": "v44tEfKoQAW7",
        "outputId": "7991ee66-3e01-4238-a844-3d996a382e9f"
      },
      "source": [
        "# Source 2\n",
        "related_columns = list(train.corr()[train.corr()[\"Survived\"].abs() > 0.05].index)\n",
        "related_columns.remove(\"Survived\")\n",
        "print(related_columns)"
      ],
      "execution_count": 452,
      "outputs": [
        {
          "output_type": "stream",
          "name": "stdout",
          "text": [
            "['Pclass', 'Age', 'Parch', 'Fare', 'Sex_value', 'Cabin_type_value', 'Embarked_value', 'Title_value', 'family_member_type_value']\n"
          ]
        }
      ]
    },
    {
      "cell_type": "markdown",
      "metadata": {
        "id": "EC5P2yWllZ-6"
      },
      "source": [
        "# Exploratory Data Analysis For Survival"
      ]
    },
    {
      "cell_type": "code",
      "metadata": {
        "id": "6_fcvegjQ19l",
        "colab": {
          "base_uri": "https://localhost:8080/"
        },
        "outputId": "d96c5a65-3883-493e-d78d-9957c4be0445"
      },
      "source": [
        "train.info()"
      ],
      "execution_count": 453,
      "outputs": [
        {
          "output_type": "stream",
          "name": "stdout",
          "text": [
            "<class 'pandas.core.frame.DataFrame'>\n",
            "Int64Index: 891 entries, 0 to 890\n",
            "Data columns (total 21 columns):\n",
            " #   Column                    Non-Null Count  Dtype   \n",
            "---  ------                    --------------  -----   \n",
            " 0   PassengerId               891 non-null    int64   \n",
            " 1   Survived                  891 non-null    float64 \n",
            " 2   Pclass                    891 non-null    int64   \n",
            " 3   Name                      891 non-null    object  \n",
            " 4   Sex                       891 non-null    category\n",
            " 5   Age                       891 non-null    float64 \n",
            " 6   SibSp                     891 non-null    int64   \n",
            " 7   Parch                     891 non-null    int64   \n",
            " 8   Ticket                    891 non-null    object  \n",
            " 9   Fare                      891 non-null    float64 \n",
            " 10  Cabin                     891 non-null    object  \n",
            " 11  Embarked                  891 non-null    category\n",
            " 12  Title                     891 non-null    category\n",
            " 13  Cabin_type                891 non-null    category\n",
            " 14  family_member_size        891 non-null    int64   \n",
            " 15  family_member_type        891 non-null    category\n",
            " 16  Sex_value                 891 non-null    int64   \n",
            " 17  Cabin_type_value          891 non-null    int64   \n",
            " 18  Embarked_value            891 non-null    int64   \n",
            " 19  Title_value               891 non-null    int64   \n",
            " 20  family_member_type_value  891 non-null    int64   \n",
            "dtypes: category(5), float64(3), int64(10), object(3)\n",
            "memory usage: 123.6+ KB\n"
          ]
        }
      ]
    },
    {
      "cell_type": "code",
      "metadata": {
        "colab": {
          "base_uri": "https://localhost:8080/",
          "height": 0
        },
        "id": "6roykRdUl2gq",
        "outputId": "9ddefaa7-b811-47a9-d51f-c9d8600d9da5"
      },
      "source": [
        "train.describe()"
      ],
      "execution_count": 454,
      "outputs": [
        {
          "output_type": "execute_result",
          "data": {
            "text/html": [
              "<div>\n",
              "<style scoped>\n",
              "    .dataframe tbody tr th:only-of-type {\n",
              "        vertical-align: middle;\n",
              "    }\n",
              "\n",
              "    .dataframe tbody tr th {\n",
              "        vertical-align: top;\n",
              "    }\n",
              "\n",
              "    .dataframe thead th {\n",
              "        text-align: right;\n",
              "    }\n",
              "</style>\n",
              "<table border=\"1\" class=\"dataframe\">\n",
              "  <thead>\n",
              "    <tr style=\"text-align: right;\">\n",
              "      <th></th>\n",
              "      <th>PassengerId</th>\n",
              "      <th>Survived</th>\n",
              "      <th>Pclass</th>\n",
              "      <th>Age</th>\n",
              "      <th>SibSp</th>\n",
              "      <th>Parch</th>\n",
              "      <th>Fare</th>\n",
              "      <th>family_member_size</th>\n",
              "      <th>Sex_value</th>\n",
              "      <th>Cabin_type_value</th>\n",
              "      <th>Embarked_value</th>\n",
              "      <th>Title_value</th>\n",
              "      <th>family_member_type_value</th>\n",
              "    </tr>\n",
              "  </thead>\n",
              "  <tbody>\n",
              "    <tr>\n",
              "      <th>count</th>\n",
              "      <td>891.000000</td>\n",
              "      <td>891.000000</td>\n",
              "      <td>891.000000</td>\n",
              "      <td>891.000000</td>\n",
              "      <td>891.000000</td>\n",
              "      <td>891.000000</td>\n",
              "      <td>891.000000</td>\n",
              "      <td>891.000000</td>\n",
              "      <td>891.000000</td>\n",
              "      <td>891.000000</td>\n",
              "      <td>891.000000</td>\n",
              "      <td>891.000000</td>\n",
              "      <td>891.000000</td>\n",
              "    </tr>\n",
              "    <tr>\n",
              "      <th>mean</th>\n",
              "      <td>446.000000</td>\n",
              "      <td>0.383838</td>\n",
              "      <td>2.308642</td>\n",
              "      <td>29.735277</td>\n",
              "      <td>0.523008</td>\n",
              "      <td>0.381594</td>\n",
              "      <td>32.204208</td>\n",
              "      <td>1.904602</td>\n",
              "      <td>0.647587</td>\n",
              "      <td>6.716049</td>\n",
              "      <td>1.536476</td>\n",
              "      <td>1.860831</td>\n",
              "      <td>1.533109</td>\n",
              "    </tr>\n",
              "    <tr>\n",
              "      <th>std</th>\n",
              "      <td>257.353842</td>\n",
              "      <td>0.486592</td>\n",
              "      <td>0.836071</td>\n",
              "      <td>13.002218</td>\n",
              "      <td>1.102743</td>\n",
              "      <td>0.806057</td>\n",
              "      <td>49.693429</td>\n",
              "      <td>1.613459</td>\n",
              "      <td>0.477990</td>\n",
              "      <td>2.460739</td>\n",
              "      <td>0.791503</td>\n",
              "      <td>0.721066</td>\n",
              "      <td>0.623305</td>\n",
              "    </tr>\n",
              "    <tr>\n",
              "      <th>min</th>\n",
              "      <td>1.000000</td>\n",
              "      <td>0.000000</td>\n",
              "      <td>1.000000</td>\n",
              "      <td>0.420000</td>\n",
              "      <td>0.000000</td>\n",
              "      <td>0.000000</td>\n",
              "      <td>0.000000</td>\n",
              "      <td>1.000000</td>\n",
              "      <td>0.000000</td>\n",
              "      <td>0.000000</td>\n",
              "      <td>0.000000</td>\n",
              "      <td>0.000000</td>\n",
              "      <td>0.000000</td>\n",
              "    </tr>\n",
              "    <tr>\n",
              "      <th>25%</th>\n",
              "      <td>223.500000</td>\n",
              "      <td>0.000000</td>\n",
              "      <td>2.000000</td>\n",
              "      <td>22.000000</td>\n",
              "      <td>0.000000</td>\n",
              "      <td>0.000000</td>\n",
              "      <td>7.910400</td>\n",
              "      <td>1.000000</td>\n",
              "      <td>0.000000</td>\n",
              "      <td>8.000000</td>\n",
              "      <td>1.000000</td>\n",
              "      <td>2.000000</td>\n",
              "      <td>1.000000</td>\n",
              "    </tr>\n",
              "    <tr>\n",
              "      <th>50%</th>\n",
              "      <td>446.000000</td>\n",
              "      <td>0.000000</td>\n",
              "      <td>3.000000</td>\n",
              "      <td>29.881138</td>\n",
              "      <td>0.000000</td>\n",
              "      <td>0.000000</td>\n",
              "      <td>14.454200</td>\n",
              "      <td>1.000000</td>\n",
              "      <td>1.000000</td>\n",
              "      <td>8.000000</td>\n",
              "      <td>2.000000</td>\n",
              "      <td>2.000000</td>\n",
              "      <td>2.000000</td>\n",
              "    </tr>\n",
              "    <tr>\n",
              "      <th>75%</th>\n",
              "      <td>668.500000</td>\n",
              "      <td>1.000000</td>\n",
              "      <td>3.000000</td>\n",
              "      <td>35.000000</td>\n",
              "      <td>1.000000</td>\n",
              "      <td>0.000000</td>\n",
              "      <td>31.000000</td>\n",
              "      <td>2.000000</td>\n",
              "      <td>1.000000</td>\n",
              "      <td>8.000000</td>\n",
              "      <td>2.000000</td>\n",
              "      <td>2.000000</td>\n",
              "      <td>2.000000</td>\n",
              "    </tr>\n",
              "    <tr>\n",
              "      <th>max</th>\n",
              "      <td>891.000000</td>\n",
              "      <td>1.000000</td>\n",
              "      <td>3.000000</td>\n",
              "      <td>80.000000</td>\n",
              "      <td>8.000000</td>\n",
              "      <td>6.000000</td>\n",
              "      <td>512.329200</td>\n",
              "      <td>11.000000</td>\n",
              "      <td>1.000000</td>\n",
              "      <td>8.000000</td>\n",
              "      <td>2.000000</td>\n",
              "      <td>3.000000</td>\n",
              "      <td>2.000000</td>\n",
              "    </tr>\n",
              "  </tbody>\n",
              "</table>\n",
              "</div>"
            ],
            "text/plain": [
              "       PassengerId    Survived  ...  Title_value  family_member_type_value\n",
              "count   891.000000  891.000000  ...   891.000000                891.000000\n",
              "mean    446.000000    0.383838  ...     1.860831                  1.533109\n",
              "std     257.353842    0.486592  ...     0.721066                  0.623305\n",
              "min       1.000000    0.000000  ...     0.000000                  0.000000\n",
              "25%     223.500000    0.000000  ...     2.000000                  1.000000\n",
              "50%     446.000000    0.000000  ...     2.000000                  2.000000\n",
              "75%     668.500000    1.000000  ...     2.000000                  2.000000\n",
              "max     891.000000    1.000000  ...     3.000000                  2.000000\n",
              "\n",
              "[8 rows x 13 columns]"
            ]
          },
          "metadata": {},
          "execution_count": 454
        }
      ]
    },
    {
      "cell_type": "markdown",
      "metadata": {
        "id": "zSLKKbNI1-hD"
      },
      "source": [
        "## Survival by Cabin Type"
      ]
    },
    {
      "cell_type": "code",
      "metadata": {
        "colab": {
          "base_uri": "https://localhost:8080/"
        },
        "id": "dUyR1x-y0kUK",
        "outputId": "659811bf-467c-4bd4-d558-965ea5ddd45f"
      },
      "source": [
        "train.groupby(\"Cabin_type\")[\"Survived\"].mean()"
      ],
      "execution_count": 455,
      "outputs": [
        {
          "output_type": "execute_result",
          "data": {
            "text/plain": [
              "Cabin_type\n",
              "A    0.466667\n",
              "B    0.744681\n",
              "C    0.593220\n",
              "D    0.757576\n",
              "E    0.750000\n",
              "F    0.615385\n",
              "G    0.500000\n",
              "T    0.000000\n",
              "U    0.299854\n",
              "Name: Survived, dtype: float64"
            ]
          },
          "metadata": {},
          "execution_count": 455
        }
      ]
    },
    {
      "cell_type": "code",
      "metadata": {
        "colab": {
          "base_uri": "https://localhost:8080/",
          "height": 0
        },
        "id": "vHQ9TUU_ngU2",
        "outputId": "b596797a-f14e-4bd2-c468-95424ae0f0f4"
      },
      "source": [
        "sns.countplot(x=\"Cabin_type\",hue=\"Survived\", data=train)\n",
        "plt.title(\"Survival of Cabin Type\")\n",
        "plt.show()"
      ],
      "execution_count": 456,
      "outputs": [
        {
          "output_type": "display_data",
          "data": {
            "image/png": "[encoded data removed]",
            "text/plain": [
              "<Figure size 432x288 with 1 Axes>"
            ]
          },
          "metadata": {
            "needs_background": "light"
          }
        }
      ]
    },
    {
      "cell_type": "code",
      "metadata": {
        "colab": {
          "base_uri": "https://localhost:8080/",
          "height": 0
        },
        "id": "VvVY1EiZ6y-i",
        "outputId": "c0409af2-e7ee-4042-e65a-1d9f095cdb94"
      },
      "source": [
        "cabin_type_plot= sns.catplot(x=\"Cabin_type\", hue=\"Survived\", col=\"Survived\", data=train, kind=\"count\", sharey=False)\n",
        "cabin_type_plot.fig.subplots_adjust(top=0.7)\n",
        "cabin_type_plot.fig.suptitle(\"Survived by Cabin Type\")\n",
        "cabin_type_plot.set_xlabels(\"Cabin Types\")\n",
        "cabin_type_plot.set_ylabels(\"Count\")\n",
        "plt.show()"
      ],
      "execution_count": 457,
      "outputs": [
        {
          "output_type": "display_data",
          "data": {
            "image/png": "[encoded data removed]",
            "text/plain": [
              "<Figure size 720x360 with 2 Axes>"
            ]
          },
          "metadata": {
            "needs_background": "light"
          }
        }
      ]
    },
    {
      "cell_type": "markdown",
      "metadata": {
        "id": "EwY7TLmx2GbL"
      },
      "source": [
        "## Survival by Pclass"
      ]
    },
    {
      "cell_type": "code",
      "metadata": {
        "colab": {
          "base_uri": "https://localhost:8080/"
        },
        "id": "zrtsfRrI1dtv",
        "outputId": "73a6d105-399b-404e-fe21-113160097c2b"
      },
      "source": [
        "train.groupby(\"Pclass\")[\"Survived\"].mean()"
      ],
      "execution_count": 458,
      "outputs": [
        {
          "output_type": "execute_result",
          "data": {
            "text/plain": [
              "Pclass\n",
              "1    0.629630\n",
              "2    0.472826\n",
              "3    0.242363\n",
              "Name: Survived, dtype: float64"
            ]
          },
          "metadata": {},
          "execution_count": 458
        }
      ]
    },
    {
      "cell_type": "code",
      "metadata": {
        "colab": {
          "base_uri": "https://localhost:8080/",
          "height": 0
        },
        "id": "-xia5CSv1imE",
        "outputId": "9a95f40c-a67f-48f6-9324-3e37a97f61f7"
      },
      "source": [
        "sns.countplot(x=\"Pclass\",hue=\"Survived\", data=train)\n",
        "plt.title(\"Survival of Pclass\")\n",
        "plt.show()"
      ],
      "execution_count": 459,
      "outputs": [
        {
          "output_type": "display_data",
          "data": {
            "image/png": "[encoded data removed]",
            "text/plain": [
              "<Figure size 432x288 with 1 Axes>"
            ]
          },
          "metadata": {
            "needs_background": "light"
          }
        }
      ]
    },
    {
      "cell_type": "markdown",
      "metadata": {
        "id": "60rjRkMj2pc3"
      },
      "source": [
        "## Survival by Sex"
      ]
    },
    {
      "cell_type": "code",
      "metadata": {
        "colab": {
          "base_uri": "https://localhost:8080/"
        },
        "id": "7Z-7yfC720Kr",
        "outputId": "55a7baaf-21ee-4a41-86db-837eb47a43c6"
      },
      "source": [
        "train.groupby(\"Pclass\")[\"Survived\"].mean()"
      ],
      "execution_count": 460,
      "outputs": [
        {
          "output_type": "execute_result",
          "data": {
            "text/plain": [
              "Pclass\n",
              "1    0.629630\n",
              "2    0.472826\n",
              "3    0.242363\n",
              "Name: Survived, dtype: float64"
            ]
          },
          "metadata": {},
          "execution_count": 460
        }
      ]
    },
    {
      "cell_type": "code",
      "metadata": {
        "colab": {
          "base_uri": "https://localhost:8080/",
          "height": 0
        },
        "id": "tzFJMB5C2sEt",
        "outputId": "d58bf9bc-3d89-45f4-8693-12313f484a34"
      },
      "source": [
        "sns.countplot(x=\"Sex\",hue=\"Survived\", data=train)\n",
        "plt.title(\"Survival of Sex\")\n",
        "plt.show()"
      ],
      "execution_count": 461,
      "outputs": [
        {
          "output_type": "display_data",
          "data": {
            "image/png": "[encoded data removed]",
            "text/plain": [
              "<Figure size 432x288 with 1 Axes>"
            ]
          },
          "metadata": {
            "needs_background": "light"
          }
        }
      ]
    },
    {
      "cell_type": "markdown",
      "metadata": {
        "id": "LVF2G8xx2OaF"
      },
      "source": [
        "## Survival by Age"
      ]
    },
    {
      "cell_type": "code",
      "metadata": {
        "colab": {
          "base_uri": "https://localhost:8080/",
          "height": 0
        },
        "id": "Pf8-SoG-ueNy",
        "outputId": "54af4c9e-920b-46b1-e962-51905c7425fe"
      },
      "source": [
        "sns.FacetGrid(train, col=\"Survived\").map(sns.histplot, \"Age\", bins=25)\n",
        "plt.show()"
      ],
      "execution_count": 462,
      "outputs": [
        {
          "output_type": "display_data",
          "data": {
            "image/png": "[encoded data removed]",
            "text/plain": [
              "<Figure size 432x216 with 2 Axes>"
            ]
          },
          "metadata": {
            "needs_background": "light"
          }
        }
      ]
    },
    {
      "cell_type": "markdown",
      "metadata": {
        "id": "7Rck04oA2lCl"
      },
      "source": [
        "## Survial by Sibsp"
      ]
    },
    {
      "cell_type": "code",
      "metadata": {
        "colab": {
          "base_uri": "https://localhost:8080/"
        },
        "id": "b9TYVF2c3Tsv",
        "outputId": "633651d5-0082-499a-af79-03ab13015b50"
      },
      "source": [
        "train.groupby(\"SibSp\")[\"Survived\"].mean()"
      ],
      "execution_count": 463,
      "outputs": [
        {
          "output_type": "execute_result",
          "data": {
            "text/plain": [
              "SibSp\n",
              "0    0.345395\n",
              "1    0.535885\n",
              "2    0.464286\n",
              "3    0.250000\n",
              "4    0.166667\n",
              "5    0.000000\n",
              "8    0.000000\n",
              "Name: Survived, dtype: float64"
            ]
          },
          "metadata": {},
          "execution_count": 463
        }
      ]
    },
    {
      "cell_type": "code",
      "metadata": {
        "colab": {
          "base_uri": "https://localhost:8080/",
          "height": 0
        },
        "id": "M3esKIa83aIA",
        "outputId": "5867e7e4-946c-4f29-86ce-d1aa74e4b61c"
      },
      "source": [
        "sns.countplot(x=\"SibSp\",hue=\"Survived\", data=train)\n",
        "plt.title(\"Survival of SibSp\")\n",
        "plt.show()"
      ],
      "execution_count": 464,
      "outputs": [
        {
          "output_type": "display_data",
          "data": {
            "image/png": "[encoded data removed]",
            "text/plain": [
              "<Figure size 432x288 with 1 Axes>"
            ]
          },
          "metadata": {
            "needs_background": "light"
          }
        }
      ]
    },
    {
      "cell_type": "markdown",
      "metadata": {
        "id": "idIWzjxz3jzz"
      },
      "source": [
        "## Survival by Parch"
      ]
    },
    {
      "cell_type": "code",
      "metadata": {
        "colab": {
          "base_uri": "https://localhost:8080/"
        },
        "id": "DzFdARRf3qvj",
        "outputId": "b5c4bc78-b1ce-4916-e76e-145482e15ed9"
      },
      "source": [
        "train.groupby(\"Parch\")[\"Survived\"].mean()"
      ],
      "execution_count": 465,
      "outputs": [
        {
          "output_type": "execute_result",
          "data": {
            "text/plain": [
              "Parch\n",
              "0    0.343658\n",
              "1    0.550847\n",
              "2    0.500000\n",
              "3    0.600000\n",
              "4    0.000000\n",
              "5    0.200000\n",
              "6    0.000000\n",
              "Name: Survived, dtype: float64"
            ]
          },
          "metadata": {},
          "execution_count": 465
        }
      ]
    },
    {
      "cell_type": "code",
      "metadata": {
        "colab": {
          "base_uri": "https://localhost:8080/",
          "height": 0
        },
        "id": "V1DAuebwxHOr",
        "outputId": "46eddf79-c54e-4913-e082-fd2cc8a6f8e9"
      },
      "source": [
        "sns.countplot(x=\"Parch\",hue=\"Survived\", data=train)\n",
        "plt.title(\"Survival of Parch\")\n",
        "plt.show()\n"
      ],
      "execution_count": 466,
      "outputs": [
        {
          "output_type": "display_data",
          "data": {
            "image/png": "[encoded data removed]",
            "text/plain": [
              "<Figure size 432x288 with 1 Axes>"
            ]
          },
          "metadata": {
            "needs_background": "light"
          }
        }
      ]
    },
    {
      "cell_type": "markdown",
      "metadata": {
        "id": "CgknpKVG4fO-"
      },
      "source": [
        "## Survival by Fare\n"
      ]
    },
    {
      "cell_type": "code",
      "metadata": {
        "id": "ZMQdmGpk4h8a",
        "colab": {
          "base_uri": "https://localhost:8080/",
          "height": 0
        },
        "outputId": "d2c21b9b-d71d-49f9-d393-dd2acab5daea"
      },
      "source": [
        "Fare_plot=sns.FacetGrid(train, col=\"Survived\", sharey=False)\n",
        "Fare_plot.map(sns.histplot, \"Fare\",bins=20)\n",
        "Fare_plot.fig.subplots_adjust(top=0.7)\n",
        "Fare_plot.fig.suptitle(\"Survived by Fare\")\n",
        "Fare_plot.set_xlabels(\"Fare\")\n",
        "Fare_plot.set_ylabels(\"Count\")\n",
        "plt.show()"
      ],
      "execution_count": 467,
      "outputs": [
        {
          "output_type": "display_data",
          "data": {
            "image/png": "[encoded data removed]",
            "text/plain": [
              "<Figure size 432x216 with 2 Axes>"
            ]
          },
          "metadata": {
            "needs_background": "light"
          }
        }
      ]
    },
    {
      "cell_type": "markdown",
      "metadata": {
        "id": "wIzigOB-PbcN"
      },
      "source": [
        "## Survival by Embarked\n"
      ]
    },
    {
      "cell_type": "code",
      "metadata": {
        "colab": {
          "base_uri": "https://localhost:8080/"
        },
        "id": "8prfgTM1PkzB",
        "outputId": "16a4220c-6fde-46c2-8ef0-091d591c6f6a"
      },
      "source": [
        "train.groupby(\"Embarked\")[\"Survived\"].mean()"
      ],
      "execution_count": 468,
      "outputs": [
        {
          "output_type": "execute_result",
          "data": {
            "text/plain": [
              "Embarked\n",
              "C    0.553571\n",
              "Q    0.389610\n",
              "S    0.339009\n",
              "Name: Survived, dtype: float64"
            ]
          },
          "metadata": {},
          "execution_count": 468
        }
      ]
    },
    {
      "cell_type": "code",
      "metadata": {
        "colab": {
          "base_uri": "https://localhost:8080/",
          "height": 0
        },
        "id": "bGAO5wJTP3-L",
        "outputId": "fb66fdec-00dd-4c72-ffba-1f7e457d7c7a"
      },
      "source": [
        "sns.countplot(x=\"Embarked\",hue=\"Survived\",data=train)\n",
        "plt.title(\"Survival of Embarked\")\n",
        "plt.show()"
      ],
      "execution_count": 469,
      "outputs": [
        {
          "output_type": "display_data",
          "data": {
            "image/png": "[encoded data removed]",
            "text/plain": [
              "<Figure size 432x288 with 1 Axes>"
            ]
          },
          "metadata": {
            "needs_background": "light"
          }
        }
      ]
    },
    {
      "cell_type": "markdown",
      "metadata": {
        "id": "LEdyD134T6Z8"
      },
      "source": [
        "## Survived by Title"
      ]
    },
    {
      "cell_type": "code",
      "metadata": {
        "colab": {
          "base_uri": "https://localhost:8080/"
        },
        "id": "-Y1cUtNEUEOu",
        "outputId": "746168c2-3dcd-43e9-d3a2-90e59e994dac"
      },
      "source": [
        "train.groupby(\"Title\")[\"Survived\"].mean()"
      ],
      "execution_count": 470,
      "outputs": [
        {
          "output_type": "execute_result",
          "data": {
            "text/plain": [
              "Title\n",
              "Master    0.575000\n",
              "Miss      0.703297\n",
              "Mr        0.158192\n",
              "Mrs       0.775362\n",
              "Name: Survived, dtype: float64"
            ]
          },
          "metadata": {},
          "execution_count": 470
        }
      ]
    },
    {
      "cell_type": "code",
      "metadata": {
        "colab": {
          "base_uri": "https://localhost:8080/",
          "height": 0
        },
        "id": "OQ3RvyIhb-Xe",
        "outputId": "673c6032-b56b-4757-aaef-3071b5786ee0"
      },
      "source": [
        "title_plot= sns.catplot(x=\"Title\", hue=\"Survived\", col=\"Survived\", data=train, kind=\"count\", sharey=False)\n",
        "title_plot.fig.subplots_adjust(top=0.7)\n",
        "title_plot.fig.suptitle(\"Survived by Title\")\n",
        "title_plot.set_xlabels(\"Titles\")\n",
        "title_plot.set_ylabels(\"Count\")\n",
        "plt.show()"
      ],
      "execution_count": 471,
      "outputs": [
        {
          "output_type": "display_data",
          "data": {
            "image/png": "[encoded data removed]",
            "text/plain": [
              "<Figure size 720x360 with 2 Axes>"
            ]
          },
          "metadata": {
            "needs_background": "light"
          }
        }
      ]
    },
    {
      "cell_type": "code",
      "metadata": {
        "colab": {
          "base_uri": "https://localhost:8080/"
        },
        "id": "J5dnoC8Pctaw",
        "outputId": "fe6898ea-57f1-4a99-cf12-de6fd31b0896"
      },
      "source": [
        "train.max()"
      ],
      "execution_count": 472,
      "outputs": [
        {
          "output_type": "execute_result",
          "data": {
            "text/plain": [
              "PassengerId                                         891\n",
              "Survived                                              1\n",
              "Pclass                                                3\n",
              "Name                        van Melkebeke, Mr. Philemon\n",
              "Age                                                  80\n",
              "SibSp                                                 8\n",
              "Parch                                                 6\n",
              "Ticket                                        WE/P 5735\n",
              "Fare                                            512.329\n",
              "Cabin                                           Unknown\n",
              "family_member_size                                   11\n",
              "Sex_value                                             1\n",
              "Cabin_type_value                                      8\n",
              "Embarked_value                                        2\n",
              "Title_value                                           3\n",
              "family_member_type_value                              2\n",
              "dtype: object"
            ]
          },
          "metadata": {},
          "execution_count": 472
        }
      ]
    },
    {
      "cell_type": "markdown",
      "metadata": {
        "id": "83Dg5-epRVk4"
      },
      "source": [
        "# Models"
      ]
    },
    {
      "cell_type": "markdown",
      "metadata": {
        "id": "CXTSX-U2-dXU"
      },
      "source": [
        "## DNN Model"
      ]
    },
    {
      "cell_type": "code",
      "metadata": {
        "id": "IndTSYahwafr"
      },
      "source": [
        "#OH_tt"
      ],
      "execution_count": 473,
      "outputs": []
    },
    {
      "cell_type": "code",
      "metadata": {
        "id": "T5I7ch8uwagt",
        "colab": {
          "base_uri": "https://localhost:8080/"
        },
        "outputId": "d9e82c34-4489-42a2-db2d-ae5fd143c199"
      },
      "source": [
        "## testing\n",
        "X_train, X_val, y_train, y_val = get_train_test(OH_train, True)\n",
        "# X_train=X_train.values\n",
        "# y_train= y_train.values\n",
        "# X_val= X_val.values\n",
        "# y_val=y_val.values\n",
        "# X_train=np.expand_dims(X_train,axis=2)\n",
        "# X_val=np.expand_dims(X_val,axis=2)\n",
        "\n",
        "print(\"X_val.shape: \",X_val.shape)\n",
        "print(\"y_val.shape: \",y_val.shape)\n",
        "print(\"X_train.shape: \",X_train.shape)\n",
        "print(\"y_train.shape: \",y_train.shape)"
      ],
      "execution_count": 474,
      "outputs": [
        {
          "output_type": "stream",
          "name": "stdout",
          "text": [
            "X_val.shape:  (179, 27, 1)\n",
            "y_val.shape:  (179,)\n",
            "X_train.shape:  (712, 27, 1)\n",
            "y_train.shape:  (712,)\n"
          ]
        }
      ]
    },
    {
      "cell_type": "code",
      "metadata": {
        "colab": {
          "base_uri": "https://localhost:8080/"
        },
        "id": "fksKwJq_r1ci",
        "outputId": "fbb413e9-e977-4512-f8d9-1175e53cd375"
      },
      "source": [
        "#def makeCN_Model():\n",
        "  #model_input = Input(shape=(27, 1))\n",
        "model = tf.keras.Sequential([\n",
        "#tf.keras.layers.Input(27,1),\n",
        "tf.keras.layers.Conv1D(128, 5, activation='relu',input_shape=(27,1)),\n",
        "tf.keras.layers.MaxPooling1D(pool_size=2),\n",
        "tf.keras.layers.Conv1D(128, 4, activation='relu'),\n",
        "tf.keras.layers.MaxPooling1D(pool_size=2),\n",
        "tf.keras.layers.Flatten(),\n",
        "tf.keras.layers.Dense(100, activation=\"relu\"),\n",
        "tf.keras.layers.Dense(50, activation=\"relu\"),\n",
        "tf.keras.layers.Dense(1, activation='sigmoid')\n",
        "])\n",
        "  #return model\n",
        "#OHCN_model=makeCN_Model()\n",
        "model.summary()"
      ],
      "execution_count": 475,
      "outputs": [
        {
          "output_type": "stream",
          "name": "stdout",
          "text": [
            "Model: \"sequential_3\"\n",
            "_________________________________________________________________\n",
            "Layer (type)                 Output Shape              Param #   \n",
            "=================================================================\n",
            "conv1d_6 (Conv1D)            (None, 23, 128)           768       \n",
            "_________________________________________________________________\n",
            "max_pooling1d_6 (MaxPooling1 (None, 11, 128)           0         \n",
            "_________________________________________________________________\n",
            "conv1d_7 (Conv1D)            (None, 8, 128)            65664     \n",
            "_________________________________________________________________\n",
            "max_pooling1d_7 (MaxPooling1 (None, 4, 128)            0         \n",
            "_________________________________________________________________\n",
            "flatten_3 (Flatten)          (None, 512)               0         \n",
            "_________________________________________________________________\n",
            "dense_27 (Dense)             (None, 100)               51300     \n",
            "_________________________________________________________________\n",
            "dense_28 (Dense)             (None, 50)                5050      \n",
            "_________________________________________________________________\n",
            "dense_29 (Dense)             (None, 1)                 51        \n",
            "=================================================================\n",
            "Total params: 122,833\n",
            "Trainable params: 122,833\n",
            "Non-trainable params: 0\n",
            "_________________________________________________________________\n"
          ]
        }
      ]
    },
    {
      "cell_type": "code",
      "metadata": {
        "colab": {
          "base_uri": "https://localhost:8080/",
          "height": 282
        },
        "id": "kgaHJAcG72ZO",
        "outputId": "36209693-b290-4c27-9c9c-04cfb39aed6c"
      },
      "source": [
        "model.compile(optimizer='adam', loss='binary_crossentropy', metrics=['accuracy'])\n",
        "#history=OHCN_model.fit()\n",
        "early_stop = tf.keras.callbacks.EarlyStopping(patience=10)\n",
        "history = model.fit(\n",
        "    X_train, y_train,epochs=400, \n",
        "    validation_data=(X_val,y_val), \n",
        "    callbacks=[early_stop],\n",
        "    verbose=0\n",
        ")\n",
        "pd.DataFrame(history.history).plot()"
      ],
      "execution_count": 476,
      "outputs": [
        {
          "output_type": "execute_result",
          "data": {
            "text/plain": [
              "<matplotlib.axes._subplots.AxesSubplot at 0x7f6c22d2de10>"
            ]
          },
          "metadata": {},
          "execution_count": 476
        },
        {
          "output_type": "display_data",
          "data": {
            "image/png": "[encoded data removed]",
            "text/plain": [
              "<Figure size 432x288 with 1 Axes>"
            ]
          },
          "metadata": {
            "needs_background": "light"
          }
        }
      ]
    },
    {
      "cell_type": "code",
      "metadata": {
        "colab": {
          "base_uri": "https://localhost:8080/"
        },
        "id": "ikg4yIpFzAdY",
        "outputId": "db46c116-8f2a-41d8-8ed0-087314ee3638"
      },
      "source": [
        "model.evaluate(X_val, y_val)"
      ],
      "execution_count": 477,
      "outputs": [
        {
          "output_type": "stream",
          "name": "stdout",
          "text": [
            "6/6 [==============================] - 0s 3ms/step - loss: 0.4707 - accuracy: 0.8101\n"
          ]
        },
        {
          "output_type": "execute_result",
          "data": {
            "text/plain": [
              "[0.4706823229789734, 0.8100558519363403]"
            ]
          },
          "metadata": {},
          "execution_count": 477
        }
      ]
    },
    {
      "cell_type": "code",
      "metadata": {
        "colab": {
          "base_uri": "https://localhost:8080/",
          "height": 282
        },
        "id": "RSCvnIjYq6cb",
        "outputId": "75feb37f-47d8-4b7a-819b-dd3f6fdba706"
      },
      "source": [
        "\n",
        "history = model.fit(\n",
        "    X_train, y_train,epochs=400, \n",
        "    validation_data=(X_val,y_val), \n",
        "    callbacks=[early_stop],\n",
        "    verbose=0\n",
        ")\n",
        "pd.DataFrame(history.history).plot()"
      ],
      "execution_count": 478,
      "outputs": [
        {
          "output_type": "execute_result",
          "data": {
            "text/plain": [
              "<matplotlib.axes._subplots.AxesSubplot at 0x7f6c1b3cc9d0>"
            ]
          },
          "metadata": {},
          "execution_count": 478
        },
        {
          "output_type": "display_data",
          "data": {
            "image/png": "[encoded data removed]",
            "text/plain": [
              "<Figure size 432x288 with 1 Axes>"
            ]
          },
          "metadata": {
            "needs_background": "light"
          }
        }
      ]
    },
    {
      "cell_type": "code",
      "metadata": {
        "id": "-Z7qRm3515DH"
      },
      "source": [
        "# The inputs are 128-length vectors with 10 timesteps, and the batch size\n",
        "# is 4.\n",
        "# input_shape = (4, 10, 128)\n",
        "# x = tf.random.normal(input_shape)\n",
        "# y = tf.keras.layers.Conv1D(\n",
        "# 32, 3, activation='relu',input_shape=input_shape[1:])(x)\n",
        "# print(y.shape) \n",
        "# input_shape = OH_tt\n",
        "# x = tf.random.normal((1,27))\n",
        "# model=0\n",
        "# # y = tf.keras.layers.Conv1D(\n",
        "# # 32, 2, activation='relu',input_dim=27)(x)\n",
        "# y = tf.keras.layers.Conv1D(\n",
        "# 34,activation='relu',input_shape=input_shape, kernel_size=5)(x)\n",
        "# print(y.shape)"
      ],
      "execution_count": 479,
      "outputs": []
    },
    {
      "cell_type": "markdown",
      "metadata": {
        "id": "alVnVYuUSKKC"
      },
      "source": [
        "## Deep and Wide Model"
      ]
    },
    {
      "cell_type": "code",
      "metadata": {
        "id": "FgsxvAnMSJep",
        "colab": {
          "base_uri": "https://localhost:8080/"
        },
        "outputId": "871e1353-ffb1-4888-d43c-145ca00f6171"
      },
      "source": [
        "categorical_feature_names = [\"Pclass\", \"Sex_value\", \"Embarked_value\", \"Cabin_type_value\"]\n",
        "numerical_feature_names = [\"Age\", \"Fare\", \"SibSp\", \"Parch\", \"family_member_size\"]\n",
        "categorical_features = [\n",
        "    feature_column.indicator_column(\n",
        "        feature_column.categorical_column_with_vocabulary_list(key, sorted(list(train[key].unique())))\n",
        "    ) for key in categorical_feature_names\n",
        "]\n",
        "print(categorical_features)\n",
        "numerical_features = [feature_column.numeric_column(key) for key in numerical_feature_names]\n",
        "input_dictionary = dict()\n",
        "inputs = dict()\n",
        "for item in numerical_features:\n",
        "    inputs[item.key] = tf.keras.layers.Input(name=item.key, shape=())\n",
        "for item in categorical_features:\n",
        "    #print(item.categorical_column.key)\n",
        "    inputs[item.categorical_column.key] = tf.keras.layers.Input(name=item.categorical_column.key, shape=(), dtype=\"int32\")"
      ],
      "execution_count": 480,
      "outputs": [
        {
          "output_type": "stream",
          "name": "stdout",
          "text": [
            "[IndicatorColumn(categorical_column=VocabularyListCategoricalColumn(key='Pclass', vocabulary_list=(1, 2, 3), dtype=tf.int64, default_value=-1, num_oov_buckets=0)), IndicatorColumn(categorical_column=VocabularyListCategoricalColumn(key='Sex_value', vocabulary_list=(0, 1), dtype=tf.int64, default_value=-1, num_oov_buckets=0)), IndicatorColumn(categorical_column=VocabularyListCategoricalColumn(key='Embarked_value', vocabulary_list=(0, 1, 2), dtype=tf.int64, default_value=-1, num_oov_buckets=0)), IndicatorColumn(categorical_column=VocabularyListCategoricalColumn(key='Cabin_type_value', vocabulary_list=(0, 1, 2, 3, 4, 5, 6, 7, 8), dtype=tf.int64, default_value=-1, num_oov_buckets=0))]\n"
          ]
        }
      ]
    },
    {
      "cell_type": "code",
      "metadata": {
        "id": "Rx0R2FauTNFX"
      },
      "source": [
        "# Source 2 \n",
        "# Helper Features\n",
        "def features_and_labels(row_data):\n",
        "    label = row_data.pop(\"Survived\")\n",
        "    features = row_data\n",
        "    # print(\"Label: \", label)\n",
        "    # print(\"Feature: \", features)\n",
        "    return features, label\n",
        "\n",
        "def create_dataset(pattern, epochs=1, batch_size=32, mode='eval'):\n",
        "    dataset = tf.data.experimental.make_csv_dataset(\n",
        "        pattern, batch_size\n",
        "    )\n",
        "    # print(\"Before map: \", dataset)\n",
        "    dataset = dataset.map(features_and_labels)\n",
        "    # print(\"After map: \",dataset)\n",
        "    if mode == 'train':\n",
        "        dataset = dataset.shuffle(buffer_size=128).repeat(epochs)\n",
        "    #print(dataset)\n",
        "    dataset = dataset.prefetch(1)\n",
        "    #print(\"after prefetch\\n\",dataset)\n",
        "    return dataset\n",
        "\n",
        "def create_test_dataset(pattern, batch_size=32):\n",
        "    dataset = tf.data.experimental.make_csv_dataset(\n",
        "        pattern, batch_size\n",
        "    )\n",
        "    dataset = dataset.map(lambda features: features)\n",
        "    dataset = dataset.prefetch(1)\n",
        "    return dataset"
      ],
      "execution_count": 481,
      "outputs": []
    },
    {
      "cell_type": "code",
      "metadata": {
        "id": "K2ijhPhPYVX-"
      },
      "source": [
        "# Train test split\n",
        "train_data, val_data = train_test_split(\n",
        "    train[categorical_feature_names + numerical_feature_names + [\"Survived\"]],\n",
        "    test_size=.2,\n",
        "    random_state=np.random.randint(0, 1000)\n",
        ")\n",
        "train_data.to_csv(\"train_data.csv\", index=False)\n",
        "val_data.to_csv(\"val_data.csv\", index=False)\n",
        "test[categorical_feature_names + numerical_feature_names].to_csv(\"test_data.csv\", index=False)\n",
        "batch_size = 32\n",
        "train_dataset = create_dataset(\"train_data.csv\", batch_size=batch_size, mode='train')\n",
        "val_dataset = create_dataset(\"val_data.csv\", batch_size=val_data.shape[0], mode='eval').take(1)\n",
        "test_dataset = create_test_dataset(\"test_data.csv\", batch_size = test.shape[0]).take(1)"
      ],
      "execution_count": 482,
      "outputs": []
    },
    {
      "cell_type": "code",
      "metadata": {
        "id": "0tFv2kEdb2bd"
      },
      "source": [
        "# D&W Model\n",
        "def build_deep_and_wide_model():\n",
        "    deep = tf.keras.layers.DenseFeatures(numerical_features, name='deep')(inputs)\n",
        "    deep = tf.keras.layers.Dense(16, activation='relu')(deep)\n",
        "    deep = tf.keras.layers.Dropout(0.3)(deep)\n",
        "    deep = tf.keras.layers.Dense(16, activation='relu')(deep)\n",
        "    deep = tf.keras.layers.Dropout(0.3)(deep)\n",
        "    deep = tf.keras.layers.Dense(16, activation='relu')(deep)\n",
        "    deep = tf.keras.layers.Dropout(0.3)(deep)\n",
        "    deep = tf.keras.layers.Dense(16, activation='relu')(deep)\n",
        "    deep = tf.keras.layers.Dropout(0.3)(deep)\n",
        "    wide = tf.keras.layers.DenseFeatures(categorical_features, name='wide')(inputs)\n",
        "    wide = tf.keras.layers.Dense(32, activation='relu')(wide)\n",
        "    combined = tf.keras.layers.concatenate(inputs=[deep, wide], name='combined')\n",
        "    output = tf.keras.layers.Dense(1, activation=\"sigmoid\")(combined)\n",
        "    model = tf.keras.Model(inputs=list(inputs.values()), outputs=output)\n",
        "    model.compile(optimizer=\"adam\", loss=\"binary_crossentropy\", metrics=[\"accuracy\"])\n",
        "    return model"
      ],
      "execution_count": 483,
      "outputs": []
    },
    {
      "cell_type": "code",
      "metadata": {
        "id": "pfCniP-CcCMC",
        "colab": {
          "base_uri": "https://localhost:8080/",
          "height": 355
        },
        "outputId": "6c926a49-d527-4536-9a49-341babcd9655"
      },
      "source": [
        "deep_and_wide_model = build_deep_and_wide_model()\n",
        "tf.keras.utils.plot_model(deep_and_wide_model, show_shapes=False, rankdir='LR')"
      ],
      "execution_count": 484,
      "outputs": [
        {
          "output_type": "execute_result",
          "data": {
            "image/png": "[encoded data removed]",
            "text/plain": [
              "<IPython.core.display.Image object>"
            ]
          },
          "metadata": {},
          "execution_count": 484
        }
      ]
    },
    {
      "cell_type": "code",
      "metadata": {
        "id": "Ljy-QhI4cH6x",
        "colab": {
          "base_uri": "https://localhost:8080/",
          "height": 282
        },
        "outputId": "d85b93fd-4f30-435d-e4df-c7bf6f4e68db"
      },
      "source": [
        "epochs = 400\n",
        "early_stop = tf.keras.callbacks.EarlyStopping(patience=10)\n",
        "steps_per_epoch = train_data.shape[0] // batch_size\n",
        "history = deep_and_wide_model.fit(\n",
        "    train_dataset, \n",
        "    steps_per_epoch=steps_per_epoch,\n",
        "    validation_data=val_dataset,\n",
        "    epochs=epochs,\n",
        "    callbacks=[early_stop],\n",
        "    verbose=0\n",
        ")\n",
        "pd.DataFrame(history.history).plot()"
      ],
      "execution_count": 485,
      "outputs": [
        {
          "output_type": "execute_result",
          "data": {
            "text/plain": [
              "<matplotlib.axes._subplots.AxesSubplot at 0x7f6c1dccf8d0>"
            ]
          },
          "metadata": {},
          "execution_count": 485
        },
        {
          "output_type": "display_data",
          "data": {
            "image/png": "[encoded data removed]",
            "text/plain": [
              "<Figure size 432x288 with 1 Axes>"
            ]
          },
          "metadata": {
            "needs_background": "light"
          }
        }
      ]
    },
    {
      "cell_type": "code",
      "metadata": {
        "id": "02IUfrl1pP8c",
        "colab": {
          "base_uri": "https://localhost:8080/"
        },
        "outputId": "853b7f7e-8182-4875-ed3c-1ebb511f555c"
      },
      "source": [
        "# y_pred =  np.array(deep_and_wide_model.predict(val_dataset) > 0.5, dtype=int).reshape(-1)\n",
        "y_pred = np.array(deep_and_wide_model.predict(val_dataset)>0.5,dtype=int).reshape(-1)\n",
        "score = accuracy_score(val_data[\"Survived\"], y_pred)\n",
        "print(\"Accuraccy Score: \",score)\n",
        "print(sklearn.metrics.classification_report(val_data[\"Survived\"], y_pred))\n",
        "Survived = np.argmax(deep_and_wide_model.predict(test_dataset), axis=-1).reshape(-1)\n",
        "# print(np.argmax(deep_and_wide_model.predict(test_dataset),axis=1).reshape(-1))\n",
        "# print(test.shape)\n",
        "print(Survived.shape)"
      ],
      "execution_count": 486,
      "outputs": [
        {
          "output_type": "stream",
          "name": "stdout",
          "text": [
            "Accuraccy Score:  0.5307262569832403\n",
            "              precision    recall  f1-score   support\n",
            "\n",
            "         0.0       0.63      0.68      0.66       118\n",
            "         1.0       0.28      0.25      0.26        61\n",
            "\n",
            "    accuracy                           0.53       179\n",
            "   macro avg       0.46      0.46      0.46       179\n",
            "weighted avg       0.51      0.53      0.52       179\n",
            "\n",
            "(418,)\n"
          ]
        }
      ]
    }
  ]
}