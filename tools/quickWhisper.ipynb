{
  "nbformat": 4,
  "nbformat_minor": 0,
  "metadata": {
    "colab": {
      "provenance": [],
      "gpuType": "T4",
      "mount_file_id": "1bcpzjXBZzuOzJpTHzcZ_LcornhOKygjQ",
      "authorship_tag": "ABX9TyOBNQ0v1NLIWctewT+6p62p",
      "include_colab_link": true
    },
    "kernelspec": {
      "name": "python3",
      "display_name": "Python 3"
    },
    "language_info": {
      "name": "python"
    },
    "accelerator": "GPU"
  },
  "cells": [
    {
      "cell_type": "markdown",
      "metadata": {
        "id": "view-in-github",
        "colab_type": "text"
      },
      "source": [
        "<a href=\"https://colab.research.google.com/github/Codeblockz/Data-Science-Self-Projects/blob/main/tools/quickWhisper.ipynb\" target=\"_parent\"><img src=\"https://colab.research.google.com/assets/colab-badge.svg\" alt=\"Open In Colab\"/></a>"
      ]
    },
    {
      "cell_type": "code",
      "execution_count": null,
      "metadata": {
        "id": "c3NCdLDrJ8Mp"
      },
      "outputs": [],
      "source": [
        " !pip install git+https://github.com/openai/whisper.git\n",
        " !sudo apt update && sudo apt install ffmpeg"
      ]
    },
    {
      "cell_type": "code",
      "source": [
        "!whisper \"myaudio.mp3\" --model large"
      ],
      "metadata": {
        "id": "3sMdmBubLUjW"
      },
      "execution_count": null,
      "outputs": []
    },
    {
      "cell_type": "code",
      "source": [
        "# upload audio file\n",
        "from google.colab import files\n",
        "uploaded = files.upload()\n",
        "path = next(iter(uploaded))"
      ],
      "metadata": {
        "id": "nGN0mmxpWEJO"
      },
      "execution_count": null,
      "outputs": []
    },
    {
      "cell_type": "code",
      "source": [
        "pip install speechbrain"
      ],
      "metadata": {
        "id": "-BmWxRPwXVfS"
      },
      "execution_count": null,
      "outputs": []
    },
    {
      "cell_type": "code",
      "source": [],
      "metadata": {
        "id": "S7yHjpd6WM-H"
      },
      "execution_count": null,
      "outputs": []
    },
    {
      "cell_type": "markdown",
      "source": [
        "# Different Approach\n"
      ],
      "metadata": {
        "id": "g0tNX_6ZeOVx"
      }
    },
    {
      "cell_type": "code",
      "source": [
        "# Define the file path to the Video\n",
        "import os\n",
        "import random\n",
        "import string\n",
        "file_path = \"content/myaudio.mp3\"\n",
        "# remove the .mp4 extension from the file path and add a random string of 8 characters to the end of the file path\n",
        "file_path_audio = file_path[:-4] + \"_\" + ''.join(random.choices(string.ascii_uppercase + string.digits, k=8)) + \".wav\"\n",
        "\n",
        "\n",
        "# Export both to os environment\n",
        "os.environ[\"file_path\"] = file_path\n",
        "os.environ[\"file_path_audio\"] = file_path_audio\n",
        "\n",
        "# set the file path by exporting the file path to the os environment using unix\n",
        "!echo \"file_path: %file_path%\"\n",
        "!echo \"file_path_audio: %file_path_audio%\"\n",
        "\n",
        "# Convert the video file_path to an audio mp4 file and be verbose\n",
        "!ffmpeg -i \"%file_path%\" -f wav -bitexact -acodec pcm_s16le -ar 22050 -ac 1 \"%file_path_audio%\""
      ],
      "metadata": {
        "colab": {
          "base_uri": "https://localhost:8080/"
        },
        "id": "gbwWSoSgeSgP",
        "outputId": "b510adb2-8535-44fc-9d55-40e052d19259"
      },
      "execution_count": null,
      "outputs": [
        {
          "output_type": "stream",
          "name": "stdout",
          "text": [
            "file_path: %file_path%\n",
            "file_path_audio: %file_path_audio%\n",
            "ffmpeg version 4.4.2-0ubuntu0.22.04.1 Copyright (c) 2000-2021 the FFmpeg developers\n",
            "  built with gcc 11 (Ubuntu 11.2.0-19ubuntu1)\n",
            "  configuration: --prefix=/usr --extra-version=0ubuntu0.22.04.1 --toolchain=hardened --libdir=/usr/lib/x86_64-linux-gnu --incdir=/usr/include/x86_64-linux-gnu --arch=amd64 --enable-gpl --disable-stripping --enable-gnutls --enable-ladspa --enable-libaom --enable-libass --enable-libbluray --enable-libbs2b --enable-libcaca --enable-libcdio --enable-libcodec2 --enable-libdav1d --enable-libflite --enable-libfontconfig --enable-libfreetype --enable-libfribidi --enable-libgme --enable-libgsm --enable-libjack --enable-libmp3lame --enable-libmysofa --enable-libopenjpeg --enable-libopenmpt --enable-libopus --enable-libpulse --enable-librabbitmq --enable-librubberband --enable-libshine --enable-libsnappy --enable-libsoxr --enable-libspeex --enable-libsrt --enable-libssh --enable-libtheora --enable-libtwolame --enable-libvidstab --enable-libvorbis --enable-libvpx --enable-libwebp --enable-libx265 --enable-libxml2 --enable-libxvid --enable-libzimg --enable-libzmq --enable-libzvbi --enable-lv2 --enable-omx --enable-openal --enable-opencl --enable-opengl --enable-sdl2 --enable-pocketsphinx --enable-librsvg --enable-libmfx --enable-libdc1394 --enable-libdrm --enable-libiec61883 --enable-chromaprint --enable-frei0r --enable-libx264 --enable-shared\n",
            "  libavutil      56. 70.100 / 56. 70.100\n",
            "  libavcodec     58.134.100 / 58.134.100\n",
            "  libavformat    58. 76.100 / 58. 76.100\n",
            "  libavdevice    58. 13.100 / 58. 13.100\n",
            "  libavfilter     7.110.100 /  7.110.100\n",
            "  libswscale      5.  9.100 /  5.  9.100\n",
            "  libswresample   3.  9.100 /  3.  9.100\n",
            "  libpostproc    55.  9.100 / 55.  9.100\n",
            "\u001b[1;31m%file_path%: No such file or directory\n",
            "\u001b[0m"
          ]
        }
      ]
    }
  ]
}