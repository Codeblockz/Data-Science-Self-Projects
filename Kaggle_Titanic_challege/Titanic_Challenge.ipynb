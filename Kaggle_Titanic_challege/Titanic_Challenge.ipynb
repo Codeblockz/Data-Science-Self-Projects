{
  "nbformat": 4,
  "nbformat_minor": 0,
  "metadata": {
    "colab": {
      "name": "Titanic Challenge",
      "provenance": [],
      "collapsed_sections": [],
      "mount_file_id": "1Bo0fHNsK9-bBBwfKhVUKr9u7derWX4ZZ",
      "authorship_tag": "ABX9TyO+vX2qQpvLMH8Awc4uncNS",
      "include_colab_link": true
    },
    "kernelspec": {
      "name": "python3",
      "display_name": "Python 3"
    },
    "language_info": {
      "name": "python"
    }
  },
  "cells": [
    {
      "cell_type": "markdown",
      "metadata": {
        "id": "view-in-github",
        "colab_type": "text"
      },
      "source": [
        "<a href=\"https://colab.research.google.com/github/Codeblockz/Data-Science-Self-Projects/blob/main/Kaggle_Titanic_challege/Titanic_Challenge.ipynb\" target=\"_parent\"><img src=\"https://colab.research.google.com/assets/colab-badge.svg\" alt=\"Open In Colab\"/></a>"
      ]
    },
    {
      "cell_type": "markdown",
      "metadata": {
        "id": "BgS7Cf1iNqMz"
      },
      "source": [
        "Titanic Challenge Kaggle <br></br>\n",
        "[source 1](https://triangleinequality.wordpress.com/2013/09/08/basic-feature-engineering-with-the-titanic-data/)  <br></br>\n",
        "[source 2]( https://www.kaggle.com/lonnieqin/classification-with-sklearn-and-tensorflow)"
      ]
    },
    {
      "cell_type": "code",
      "metadata": {
        "id": "w7N9brVmrmy3"
      },
      "source": [
        "# from google.colab import files\n",
        "# from os.path import exists\n",
        "# file_exists = exists(\"/content/kaggle.json\")\n",
        "# if (file_exists==False):\n",
        "#   files.upload()"
      ],
      "execution_count": 200,
      "outputs": []
    },
    {
      "cell_type": "code",
      "metadata": {
        "colab": {
          "base_uri": "https://localhost:8080/"
        },
        "id": "o_Zd0u1QUm6A",
        "outputId": "88f10b94-d69d-47fc-e219-c7468c5c09f4"
      },
      "source": [
        "%cd /content/drive/MyDrive/Colab Notebooks/Titanic"
      ],
      "execution_count": 201,
      "outputs": [
        {
          "output_type": "stream",
          "name": "stdout",
          "text": [
            "/content/drive/MyDrive/Colab Notebooks/Titanic\n"
          ]
        }
      ]
    },
    {
      "cell_type": "code",
      "metadata": {
        "colab": {
          "base_uri": "https://localhost:8080/"
        },
        "id": "Q3MRT78nIFTa",
        "outputId": "c7170148-4b41-460b-95c7-b7cceb0d9972"
      },
      "source": [
        "! pip install -q kaggle\n",
        "!pip install --upgrade kaggle\n",
        "! mkdir ~/.kaggle\n",
        "! cp kaggle.json ~/.kaggle/\n",
        "! chmod 600 ~/.kaggle/kaggle.json"
      ],
      "execution_count": 202,
      "outputs": [
        {
          "output_type": "stream",
          "name": "stdout",
          "text": [
            "Requirement already satisfied: kaggle in /usr/local/lib/python3.7/dist-packages (1.5.12)\n",
            "Requirement already satisfied: tqdm in /usr/local/lib/python3.7/dist-packages (from kaggle) (4.62.0)\n",
            "Requirement already satisfied: urllib3 in /usr/local/lib/python3.7/dist-packages (from kaggle) (1.24.3)\n",
            "Requirement already satisfied: six>=1.10 in /usr/local/lib/python3.7/dist-packages (from kaggle) (1.15.0)\n",
            "Requirement already satisfied: python-slugify in /usr/local/lib/python3.7/dist-packages (from kaggle) (5.0.2)\n",
            "Requirement already satisfied: certifi in /usr/local/lib/python3.7/dist-packages (from kaggle) (2021.5.30)\n",
            "Requirement already satisfied: requests in /usr/local/lib/python3.7/dist-packages (from kaggle) (2.23.0)\n",
            "Requirement already satisfied: python-dateutil in /usr/local/lib/python3.7/dist-packages (from kaggle) (2.8.2)\n",
            "Requirement already satisfied: text-unidecode>=1.3 in /usr/local/lib/python3.7/dist-packages (from python-slugify->kaggle) (1.3)\n",
            "Requirement already satisfied: idna<3,>=2.5 in /usr/local/lib/python3.7/dist-packages (from requests->kaggle) (2.10)\n",
            "Requirement already satisfied: chardet<4,>=3.0.2 in /usr/local/lib/python3.7/dist-packages (from requests->kaggle) (3.0.4)\n",
            "mkdir: cannot create directory ‘/root/.kaggle’: File exists\n"
          ]
        }
      ]
    },
    {
      "cell_type": "code",
      "metadata": {
        "colab": {
          "base_uri": "https://localhost:8080/"
        },
        "id": "Yfs_KcO1OxRc",
        "outputId": "be0497fd-7859-4b15-eb74-1590bf33da62"
      },
      "source": [
        " ! kaggle competitions download titanic"
      ],
      "execution_count": 203,
      "outputs": [
        {
          "output_type": "stream",
          "name": "stdout",
          "text": [
            "Warning: Looks like you're using an outdated API Version, please consider updating (server 1.5.12 / client 1.5.4)\n",
            "gender_submission.csv: Skipping, found more recently modified local copy (use --force to force download)\n",
            "train.csv: Skipping, found more recently modified local copy (use --force to force download)\n",
            "test.csv: Skipping, found more recently modified local copy (use --force to force download)\n"
          ]
        }
      ]
    },
    {
      "cell_type": "markdown",
      "metadata": {
        "id": "XbTd_FImocOh"
      },
      "source": [
        "Start To work on geting data"
      ]
    },
    {
      "cell_type": "code",
      "metadata": {
        "id": "Id5f5e6TtP6s"
      },
      "source": [
        "import pandas as pd\n",
        "import numpy as np\n",
        "import matplotlib.pyplot as plt\n",
        "import sklearn\n",
        "import seaborn as sns\n",
        "import tensorflow as tf\n",
        "from tensorflow import feature_column\n",
        "from sklearn.ensemble import GradientBoostingClassifier, RandomForestClassifier\n",
        "from sklearn.neighbors import KNeighborsClassifier\n",
        "from sklearn import model_selection\n",
        "from sklearn.cluster import KMeans\n",
        "from sklearn.metrics import accuracy_score\n",
        "from sklearn.model_selection import train_test_split\n",
        "import string\n",
        "import copy"
      ],
      "execution_count": 204,
      "outputs": []
    },
    {
      "cell_type": "code",
      "metadata": {
        "id": "t6CP77XNoa16",
        "colab": {
          "base_uri": "https://localhost:8080/",
          "height": 203
        },
        "outputId": "fffa7ed5-45f0-47e9-8515-3464c2c7cec2"
      },
      "source": [
        "# Load Data\n",
        "train = pd.read_csv(\"/content/drive/MyDrive/Colab Notebooks/Titanic/train.csv\")\n",
        "test = pd.read_csv(\"/content/drive/MyDrive/Colab Notebooks/Titanic/test.csv\")\n",
        "train.head()"
      ],
      "execution_count": 205,
      "outputs": [
        {
          "output_type": "execute_result",
          "data": {
            "text/html": [
              "<div>\n",
              "<style scoped>\n",
              "    .dataframe tbody tr th:only-of-type {\n",
              "        vertical-align: middle;\n",
              "    }\n",
              "\n",
              "    .dataframe tbody tr th {\n",
              "        vertical-align: top;\n",
              "    }\n",
              "\n",
              "    .dataframe thead th {\n",
              "        text-align: right;\n",
              "    }\n",
              "</style>\n",
              "<table border=\"1\" class=\"dataframe\">\n",
              "  <thead>\n",
              "    <tr style=\"text-align: right;\">\n",
              "      <th></th>\n",
              "      <th>PassengerId</th>\n",
              "      <th>Survived</th>\n",
              "      <th>Pclass</th>\n",
              "      <th>Name</th>\n",
              "      <th>Sex</th>\n",
              "      <th>Age</th>\n",
              "      <th>SibSp</th>\n",
              "      <th>Parch</th>\n",
              "      <th>Ticket</th>\n",
              "      <th>Fare</th>\n",
              "      <th>Cabin</th>\n",
              "      <th>Embarked</th>\n",
              "    </tr>\n",
              "  </thead>\n",
              "  <tbody>\n",
              "    <tr>\n",
              "      <th>0</th>\n",
              "      <td>1</td>\n",
              "      <td>0</td>\n",
              "      <td>3</td>\n",
              "      <td>Braund, Mr. Owen Harris</td>\n",
              "      <td>male</td>\n",
              "      <td>22.0</td>\n",
              "      <td>1</td>\n",
              "      <td>0</td>\n",
              "      <td>A/5 21171</td>\n",
              "      <td>7.2500</td>\n",
              "      <td>NaN</td>\n",
              "      <td>S</td>\n",
              "    </tr>\n",
              "    <tr>\n",
              "      <th>1</th>\n",
              "      <td>2</td>\n",
              "      <td>1</td>\n",
              "      <td>1</td>\n",
              "      <td>Cumings, Mrs. John Bradley (Florence Briggs Th...</td>\n",
              "      <td>female</td>\n",
              "      <td>38.0</td>\n",
              "      <td>1</td>\n",
              "      <td>0</td>\n",
              "      <td>PC 17599</td>\n",
              "      <td>71.2833</td>\n",
              "      <td>C85</td>\n",
              "      <td>C</td>\n",
              "    </tr>\n",
              "    <tr>\n",
              "      <th>2</th>\n",
              "      <td>3</td>\n",
              "      <td>1</td>\n",
              "      <td>3</td>\n",
              "      <td>Heikkinen, Miss. Laina</td>\n",
              "      <td>female</td>\n",
              "      <td>26.0</td>\n",
              "      <td>0</td>\n",
              "      <td>0</td>\n",
              "      <td>STON/O2. 3101282</td>\n",
              "      <td>7.9250</td>\n",
              "      <td>NaN</td>\n",
              "      <td>S</td>\n",
              "    </tr>\n",
              "    <tr>\n",
              "      <th>3</th>\n",
              "      <td>4</td>\n",
              "      <td>1</td>\n",
              "      <td>1</td>\n",
              "      <td>Futrelle, Mrs. Jacques Heath (Lily May Peel)</td>\n",
              "      <td>female</td>\n",
              "      <td>35.0</td>\n",
              "      <td>1</td>\n",
              "      <td>0</td>\n",
              "      <td>113803</td>\n",
              "      <td>53.1000</td>\n",
              "      <td>C123</td>\n",
              "      <td>S</td>\n",
              "    </tr>\n",
              "    <tr>\n",
              "      <th>4</th>\n",
              "      <td>5</td>\n",
              "      <td>0</td>\n",
              "      <td>3</td>\n",
              "      <td>Allen, Mr. William Henry</td>\n",
              "      <td>male</td>\n",
              "      <td>35.0</td>\n",
              "      <td>0</td>\n",
              "      <td>0</td>\n",
              "      <td>373450</td>\n",
              "      <td>8.0500</td>\n",
              "      <td>NaN</td>\n",
              "      <td>S</td>\n",
              "    </tr>\n",
              "  </tbody>\n",
              "</table>\n",
              "</div>"
            ],
            "text/plain": [
              "   PassengerId  Survived  Pclass  ...     Fare Cabin  Embarked\n",
              "0            1         0       3  ...   7.2500   NaN         S\n",
              "1            2         1       1  ...  71.2833   C85         C\n",
              "2            3         1       3  ...   7.9250   NaN         S\n",
              "3            4         1       1  ...  53.1000  C123         S\n",
              "4            5         0       3  ...   8.0500   NaN         S\n",
              "\n",
              "[5 rows x 12 columns]"
            ]
          },
          "metadata": {},
          "execution_count": 205
        }
      ]
    },
    {
      "cell_type": "markdown",
      "metadata": {
        "id": "JcsGDWzQWtPT"
      },
      "source": [
        "Check For Nulls\n"
      ]
    },
    {
      "cell_type": "code",
      "metadata": {
        "colab": {
          "base_uri": "https://localhost:8080/"
        },
        "id": "a61edLRQYk7c",
        "outputId": "d387ef53-98ba-45d9-9b53-8b8ba1a8e5f2"
      },
      "source": [
        "train.isnull().sum()"
      ],
      "execution_count": 206,
      "outputs": [
        {
          "output_type": "execute_result",
          "data": {
            "text/plain": [
              "PassengerId      0\n",
              "Survived         0\n",
              "Pclass           0\n",
              "Name             0\n",
              "Sex              0\n",
              "Age            177\n",
              "SibSp            0\n",
              "Parch            0\n",
              "Ticket           0\n",
              "Fare             0\n",
              "Cabin          687\n",
              "Embarked         2\n",
              "dtype: int64"
            ]
          },
          "metadata": {},
          "execution_count": 206
        }
      ]
    },
    {
      "cell_type": "code",
      "metadata": {
        "colab": {
          "base_uri": "https://localhost:8080/"
        },
        "id": "CgdW4SebYuky",
        "outputId": "dd6c891d-5828-4f06-96d5-a28ddd3a9304"
      },
      "source": [
        "test.isnull().sum()"
      ],
      "execution_count": 207,
      "outputs": [
        {
          "output_type": "execute_result",
          "data": {
            "text/plain": [
              "PassengerId      0\n",
              "Pclass           0\n",
              "Name             0\n",
              "Sex              0\n",
              "Age             86\n",
              "SibSp            0\n",
              "Parch            0\n",
              "Ticket           0\n",
              "Fare             1\n",
              "Cabin          327\n",
              "Embarked         0\n",
              "dtype: int64"
            ]
          },
          "metadata": {},
          "execution_count": 207
        }
      ]
    },
    {
      "cell_type": "markdown",
      "metadata": {
        "id": "_rACR2Z3WyvD"
      },
      "source": [
        "Check Data Types"
      ]
    },
    {
      "cell_type": "code",
      "metadata": {
        "colab": {
          "base_uri": "https://localhost:8080/"
        },
        "id": "8gez8Iz3Y2Tc",
        "outputId": "374e85c3-683b-40ef-b287-239c6987367a"
      },
      "source": [
        "train.dtypes"
      ],
      "execution_count": 208,
      "outputs": [
        {
          "output_type": "execute_result",
          "data": {
            "text/plain": [
              "PassengerId      int64\n",
              "Survived         int64\n",
              "Pclass           int64\n",
              "Name            object\n",
              "Sex             object\n",
              "Age            float64\n",
              "SibSp            int64\n",
              "Parch            int64\n",
              "Ticket          object\n",
              "Fare           float64\n",
              "Cabin           object\n",
              "Embarked        object\n",
              "dtype: object"
            ]
          },
          "metadata": {},
          "execution_count": 208
        }
      ]
    },
    {
      "cell_type": "code",
      "metadata": {
        "colab": {
          "base_uri": "https://localhost:8080/"
        },
        "id": "XkH8pplFY8wS",
        "outputId": "51371520-170d-4654-9c45-c20305d72875"
      },
      "source": [
        "test.dtypes"
      ],
      "execution_count": 209,
      "outputs": [
        {
          "output_type": "execute_result",
          "data": {
            "text/plain": [
              "PassengerId      int64\n",
              "Pclass           int64\n",
              "Name            object\n",
              "Sex             object\n",
              "Age            float64\n",
              "SibSp            int64\n",
              "Parch            int64\n",
              "Ticket          object\n",
              "Fare           float64\n",
              "Cabin           object\n",
              "Embarked        object\n",
              "dtype: object"
            ]
          },
          "metadata": {},
          "execution_count": 209
        }
      ]
    },
    {
      "cell_type": "markdown",
      "metadata": {
        "id": "EGZ6ng5aZtX1"
      },
      "source": [
        "Data Scrubing Replacing NAN values"
      ]
    },
    {
      "cell_type": "code",
      "metadata": {
        "id": "kkYmm5aTY_zx"
      },
      "source": [
        "# from source 2\n",
        "# Replace NAN\n",
        "embark_label = train[\"Embarked\"].mode()[0]\n",
        "train[\"Cabin\"] = train[\"Cabin\"].replace(np.NAN,  \"Unknown\")\n",
        "train[\"Embarked\"] = train[\"Embarked\"].replace(np.NAN, embark_label)\n",
        "train[\"Age\"] = train[\"Age\"].replace(np.NAN, train[\"Age\"].mean())\n",
        "\n",
        "# Test Replace\n",
        "test[\"Cabin\"] = test[\"Cabin\"].replace(np.NAN, \"Unknown\")\n",
        "test[\"Age\"] = test[\"Age\"].replace(np.NAN, test[\"Age\"].mean())\n",
        "test[\"Fare\"] = test[\"Fare\"].replace(np.NAN, test[\"Fare\"].mean())"
      ],
      "execution_count": 210,
      "outputs": []
    },
    {
      "cell_type": "code",
      "metadata": {
        "id": "w4IrezLxbVW-"
      },
      "source": [
        "# source 1\n",
        "def substrings_in_string(big_string, substrings):\n",
        "    for substring in substrings:\n",
        "        if big_string.find(substring) != -1:\n",
        "            return substring\n",
        "    # print(big_string) # For debug check\n",
        "    return np.nan\n",
        "title_list=['Mrs', 'Mr', 'Master', 'Miss', 'Major', 'Rev', 'Dr', 'Ms', 'Mlle',\n",
        "            'Col', 'Capt', 'Mme', 'Countess', 'Don', 'Jonkheer']\n",
        "train['Title']=train['Name'].map(lambda x: substrings_in_string(x, title_list))\n",
        "test['Title'] = train['Name'].map(lambda x: substrings_in_string(x, title_list))\n",
        "#replacing all titles with mr, mrs, miss, master\n",
        "def replace_titles(x):\n",
        "    title=x['Title']\n",
        "    if title in ['Don', 'Major', 'Capt', 'Jonkheer', 'Rev', 'Col']:\n",
        "        return 'Mr'\n",
        "    elif title in ['Countess', 'Mme']:\n",
        "        return 'Mrs'\n",
        "    elif title in ['Mlle', 'Ms']:\n",
        "        return 'Miss'\n",
        "    elif title =='Dr':\n",
        "        if x['Sex']=='Male':\n",
        "            return 'Mr'\n",
        "        else:\n",
        "            return 'Mrs'\n",
        "    else:\n",
        "        return title\n",
        "# Apply function to data\n",
        "train['Title']=train.apply(replace_titles, axis=1)\n",
        "test['Title']=test.apply(replace_titles, axis=1)\n"
      ],
      "execution_count": 211,
      "outputs": []
    },
    {
      "cell_type": "code",
      "metadata": {
        "colab": {
          "base_uri": "https://localhost:8080/",
          "height": 203
        },
        "id": "LRZhkpDeddnq",
        "outputId": "19631100-5df9-4c61-ce0e-1b326f610ecd"
      },
      "source": [
        "# data check\n",
        "test.head()"
      ],
      "execution_count": 212,
      "outputs": [
        {
          "output_type": "execute_result",
          "data": {
            "text/html": [
              "<div>\n",
              "<style scoped>\n",
              "    .dataframe tbody tr th:only-of-type {\n",
              "        vertical-align: middle;\n",
              "    }\n",
              "\n",
              "    .dataframe tbody tr th {\n",
              "        vertical-align: top;\n",
              "    }\n",
              "\n",
              "    .dataframe thead th {\n",
              "        text-align: right;\n",
              "    }\n",
              "</style>\n",
              "<table border=\"1\" class=\"dataframe\">\n",
              "  <thead>\n",
              "    <tr style=\"text-align: right;\">\n",
              "      <th></th>\n",
              "      <th>PassengerId</th>\n",
              "      <th>Pclass</th>\n",
              "      <th>Name</th>\n",
              "      <th>Sex</th>\n",
              "      <th>Age</th>\n",
              "      <th>SibSp</th>\n",
              "      <th>Parch</th>\n",
              "      <th>Ticket</th>\n",
              "      <th>Fare</th>\n",
              "      <th>Cabin</th>\n",
              "      <th>Embarked</th>\n",
              "      <th>Title</th>\n",
              "    </tr>\n",
              "  </thead>\n",
              "  <tbody>\n",
              "    <tr>\n",
              "      <th>0</th>\n",
              "      <td>892</td>\n",
              "      <td>3</td>\n",
              "      <td>Kelly, Mr. James</td>\n",
              "      <td>male</td>\n",
              "      <td>34.5</td>\n",
              "      <td>0</td>\n",
              "      <td>0</td>\n",
              "      <td>330911</td>\n",
              "      <td>7.8292</td>\n",
              "      <td>Unknown</td>\n",
              "      <td>Q</td>\n",
              "      <td>Mr</td>\n",
              "    </tr>\n",
              "    <tr>\n",
              "      <th>1</th>\n",
              "      <td>893</td>\n",
              "      <td>3</td>\n",
              "      <td>Wilkes, Mrs. James (Ellen Needs)</td>\n",
              "      <td>female</td>\n",
              "      <td>47.0</td>\n",
              "      <td>1</td>\n",
              "      <td>0</td>\n",
              "      <td>363272</td>\n",
              "      <td>7.0000</td>\n",
              "      <td>Unknown</td>\n",
              "      <td>S</td>\n",
              "      <td>Mrs</td>\n",
              "    </tr>\n",
              "    <tr>\n",
              "      <th>2</th>\n",
              "      <td>894</td>\n",
              "      <td>2</td>\n",
              "      <td>Myles, Mr. Thomas Francis</td>\n",
              "      <td>male</td>\n",
              "      <td>62.0</td>\n",
              "      <td>0</td>\n",
              "      <td>0</td>\n",
              "      <td>240276</td>\n",
              "      <td>9.6875</td>\n",
              "      <td>Unknown</td>\n",
              "      <td>Q</td>\n",
              "      <td>Miss</td>\n",
              "    </tr>\n",
              "    <tr>\n",
              "      <th>3</th>\n",
              "      <td>895</td>\n",
              "      <td>3</td>\n",
              "      <td>Wirz, Mr. Albert</td>\n",
              "      <td>male</td>\n",
              "      <td>27.0</td>\n",
              "      <td>0</td>\n",
              "      <td>0</td>\n",
              "      <td>315154</td>\n",
              "      <td>8.6625</td>\n",
              "      <td>Unknown</td>\n",
              "      <td>S</td>\n",
              "      <td>Mrs</td>\n",
              "    </tr>\n",
              "    <tr>\n",
              "      <th>4</th>\n",
              "      <td>896</td>\n",
              "      <td>3</td>\n",
              "      <td>Hirvonen, Mrs. Alexander (Helga E Lindqvist)</td>\n",
              "      <td>female</td>\n",
              "      <td>22.0</td>\n",
              "      <td>1</td>\n",
              "      <td>1</td>\n",
              "      <td>3101298</td>\n",
              "      <td>12.2875</td>\n",
              "      <td>Unknown</td>\n",
              "      <td>S</td>\n",
              "      <td>Mr</td>\n",
              "    </tr>\n",
              "  </tbody>\n",
              "</table>\n",
              "</div>"
            ],
            "text/plain": [
              "   PassengerId  Pclass  ... Embarked Title\n",
              "0          892       3  ...        Q    Mr\n",
              "1          893       3  ...        S   Mrs\n",
              "2          894       2  ...        Q  Miss\n",
              "3          895       3  ...        S   Mrs\n",
              "4          896       3  ...        S    Mr\n",
              "\n",
              "[5 rows x 12 columns]"
            ]
          },
          "metadata": {},
          "execution_count": 212
        }
      ]
    },
    {
      "cell_type": "code",
      "metadata": {
        "colab": {
          "base_uri": "https://localhost:8080/",
          "height": 203
        },
        "id": "4MJAxXb-YvCa",
        "outputId": "89606339-655a-4c8f-967a-17df7c8b42ab"
      },
      "source": [
        "# data check\n",
        "train.head()"
      ],
      "execution_count": 213,
      "outputs": [
        {
          "output_type": "execute_result",
          "data": {
            "text/html": [
              "<div>\n",
              "<style scoped>\n",
              "    .dataframe tbody tr th:only-of-type {\n",
              "        vertical-align: middle;\n",
              "    }\n",
              "\n",
              "    .dataframe tbody tr th {\n",
              "        vertical-align: top;\n",
              "    }\n",
              "\n",
              "    .dataframe thead th {\n",
              "        text-align: right;\n",
              "    }\n",
              "</style>\n",
              "<table border=\"1\" class=\"dataframe\">\n",
              "  <thead>\n",
              "    <tr style=\"text-align: right;\">\n",
              "      <th></th>\n",
              "      <th>PassengerId</th>\n",
              "      <th>Survived</th>\n",
              "      <th>Pclass</th>\n",
              "      <th>Name</th>\n",
              "      <th>Sex</th>\n",
              "      <th>Age</th>\n",
              "      <th>SibSp</th>\n",
              "      <th>Parch</th>\n",
              "      <th>Ticket</th>\n",
              "      <th>Fare</th>\n",
              "      <th>Cabin</th>\n",
              "      <th>Embarked</th>\n",
              "      <th>Title</th>\n",
              "    </tr>\n",
              "  </thead>\n",
              "  <tbody>\n",
              "    <tr>\n",
              "      <th>0</th>\n",
              "      <td>1</td>\n",
              "      <td>0</td>\n",
              "      <td>3</td>\n",
              "      <td>Braund, Mr. Owen Harris</td>\n",
              "      <td>male</td>\n",
              "      <td>22.0</td>\n",
              "      <td>1</td>\n",
              "      <td>0</td>\n",
              "      <td>A/5 21171</td>\n",
              "      <td>7.2500</td>\n",
              "      <td>Unknown</td>\n",
              "      <td>S</td>\n",
              "      <td>Mr</td>\n",
              "    </tr>\n",
              "    <tr>\n",
              "      <th>1</th>\n",
              "      <td>2</td>\n",
              "      <td>1</td>\n",
              "      <td>1</td>\n",
              "      <td>Cumings, Mrs. John Bradley (Florence Briggs Th...</td>\n",
              "      <td>female</td>\n",
              "      <td>38.0</td>\n",
              "      <td>1</td>\n",
              "      <td>0</td>\n",
              "      <td>PC 17599</td>\n",
              "      <td>71.2833</td>\n",
              "      <td>C85</td>\n",
              "      <td>C</td>\n",
              "      <td>Mrs</td>\n",
              "    </tr>\n",
              "    <tr>\n",
              "      <th>2</th>\n",
              "      <td>3</td>\n",
              "      <td>1</td>\n",
              "      <td>3</td>\n",
              "      <td>Heikkinen, Miss. Laina</td>\n",
              "      <td>female</td>\n",
              "      <td>26.0</td>\n",
              "      <td>0</td>\n",
              "      <td>0</td>\n",
              "      <td>STON/O2. 3101282</td>\n",
              "      <td>7.9250</td>\n",
              "      <td>Unknown</td>\n",
              "      <td>S</td>\n",
              "      <td>Miss</td>\n",
              "    </tr>\n",
              "    <tr>\n",
              "      <th>3</th>\n",
              "      <td>4</td>\n",
              "      <td>1</td>\n",
              "      <td>1</td>\n",
              "      <td>Futrelle, Mrs. Jacques Heath (Lily May Peel)</td>\n",
              "      <td>female</td>\n",
              "      <td>35.0</td>\n",
              "      <td>1</td>\n",
              "      <td>0</td>\n",
              "      <td>113803</td>\n",
              "      <td>53.1000</td>\n",
              "      <td>C123</td>\n",
              "      <td>S</td>\n",
              "      <td>Mrs</td>\n",
              "    </tr>\n",
              "    <tr>\n",
              "      <th>4</th>\n",
              "      <td>5</td>\n",
              "      <td>0</td>\n",
              "      <td>3</td>\n",
              "      <td>Allen, Mr. William Henry</td>\n",
              "      <td>male</td>\n",
              "      <td>35.0</td>\n",
              "      <td>0</td>\n",
              "      <td>0</td>\n",
              "      <td>373450</td>\n",
              "      <td>8.0500</td>\n",
              "      <td>Unknown</td>\n",
              "      <td>S</td>\n",
              "      <td>Mr</td>\n",
              "    </tr>\n",
              "  </tbody>\n",
              "</table>\n",
              "</div>"
            ],
            "text/plain": [
              "   PassengerId  Survived  Pclass  ...    Cabin Embarked  Title\n",
              "0            1         0       3  ...  Unknown        S     Mr\n",
              "1            2         1       1  ...      C85        C    Mrs\n",
              "2            3         1       3  ...  Unknown        S   Miss\n",
              "3            4         1       1  ...     C123        S    Mrs\n",
              "4            5         0       3  ...  Unknown        S     Mr\n",
              "\n",
              "[5 rows x 13 columns]"
            ]
          },
          "metadata": {},
          "execution_count": 213
        }
      ]
    },
    {
      "cell_type": "code",
      "metadata": {
        "id": "xri9oc3sfSSG"
      },
      "source": [
        "# Make cabin type\n",
        "# Source 2\n",
        "train['Cabin_type'] = train[\"Cabin\"].apply(lambda cabin: cabin[0])\n",
        "test[\"Cabin_type\"] = test[\"Cabin\"].apply(lambda cabin: cabin[0])\n",
        "# Make New Label\n",
        "train[\"family_member_size\"] = 1 + train[\"SibSp\"] + train[\"Parch\"]\n",
        "test[\"family_member_size\"] = 1 + test[\"SibSp\"] + test[\"Parch\"]"
      ],
      "execution_count": 214,
      "outputs": []
    },
    {
      "cell_type": "code",
      "metadata": {
        "colab": {
          "base_uri": "https://localhost:8080/",
          "height": 237
        },
        "id": "r8TiNAG2zHNs",
        "outputId": "a37ea63c-3e6e-4da7-9231-4d67fe4556a8"
      },
      "source": [
        "# data check\n",
        "train.head()"
      ],
      "execution_count": 215,
      "outputs": [
        {
          "output_type": "execute_result",
          "data": {
            "text/html": [
              "<div>\n",
              "<style scoped>\n",
              "    .dataframe tbody tr th:only-of-type {\n",
              "        vertical-align: middle;\n",
              "    }\n",
              "\n",
              "    .dataframe tbody tr th {\n",
              "        vertical-align: top;\n",
              "    }\n",
              "\n",
              "    .dataframe thead th {\n",
              "        text-align: right;\n",
              "    }\n",
              "</style>\n",
              "<table border=\"1\" class=\"dataframe\">\n",
              "  <thead>\n",
              "    <tr style=\"text-align: right;\">\n",
              "      <th></th>\n",
              "      <th>PassengerId</th>\n",
              "      <th>Survived</th>\n",
              "      <th>Pclass</th>\n",
              "      <th>Name</th>\n",
              "      <th>Sex</th>\n",
              "      <th>Age</th>\n",
              "      <th>SibSp</th>\n",
              "      <th>Parch</th>\n",
              "      <th>Ticket</th>\n",
              "      <th>Fare</th>\n",
              "      <th>Cabin</th>\n",
              "      <th>Embarked</th>\n",
              "      <th>Title</th>\n",
              "      <th>Cabin_type</th>\n",
              "      <th>family_member_size</th>\n",
              "    </tr>\n",
              "  </thead>\n",
              "  <tbody>\n",
              "    <tr>\n",
              "      <th>0</th>\n",
              "      <td>1</td>\n",
              "      <td>0</td>\n",
              "      <td>3</td>\n",
              "      <td>Braund, Mr. Owen Harris</td>\n",
              "      <td>male</td>\n",
              "      <td>22.0</td>\n",
              "      <td>1</td>\n",
              "      <td>0</td>\n",
              "      <td>A/5 21171</td>\n",
              "      <td>7.2500</td>\n",
              "      <td>Unknown</td>\n",
              "      <td>S</td>\n",
              "      <td>Mr</td>\n",
              "      <td>U</td>\n",
              "      <td>2</td>\n",
              "    </tr>\n",
              "    <tr>\n",
              "      <th>1</th>\n",
              "      <td>2</td>\n",
              "      <td>1</td>\n",
              "      <td>1</td>\n",
              "      <td>Cumings, Mrs. John Bradley (Florence Briggs Th...</td>\n",
              "      <td>female</td>\n",
              "      <td>38.0</td>\n",
              "      <td>1</td>\n",
              "      <td>0</td>\n",
              "      <td>PC 17599</td>\n",
              "      <td>71.2833</td>\n",
              "      <td>C85</td>\n",
              "      <td>C</td>\n",
              "      <td>Mrs</td>\n",
              "      <td>C</td>\n",
              "      <td>2</td>\n",
              "    </tr>\n",
              "    <tr>\n",
              "      <th>2</th>\n",
              "      <td>3</td>\n",
              "      <td>1</td>\n",
              "      <td>3</td>\n",
              "      <td>Heikkinen, Miss. Laina</td>\n",
              "      <td>female</td>\n",
              "      <td>26.0</td>\n",
              "      <td>0</td>\n",
              "      <td>0</td>\n",
              "      <td>STON/O2. 3101282</td>\n",
              "      <td>7.9250</td>\n",
              "      <td>Unknown</td>\n",
              "      <td>S</td>\n",
              "      <td>Miss</td>\n",
              "      <td>U</td>\n",
              "      <td>1</td>\n",
              "    </tr>\n",
              "    <tr>\n",
              "      <th>3</th>\n",
              "      <td>4</td>\n",
              "      <td>1</td>\n",
              "      <td>1</td>\n",
              "      <td>Futrelle, Mrs. Jacques Heath (Lily May Peel)</td>\n",
              "      <td>female</td>\n",
              "      <td>35.0</td>\n",
              "      <td>1</td>\n",
              "      <td>0</td>\n",
              "      <td>113803</td>\n",
              "      <td>53.1000</td>\n",
              "      <td>C123</td>\n",
              "      <td>S</td>\n",
              "      <td>Mrs</td>\n",
              "      <td>C</td>\n",
              "      <td>2</td>\n",
              "    </tr>\n",
              "    <tr>\n",
              "      <th>4</th>\n",
              "      <td>5</td>\n",
              "      <td>0</td>\n",
              "      <td>3</td>\n",
              "      <td>Allen, Mr. William Henry</td>\n",
              "      <td>male</td>\n",
              "      <td>35.0</td>\n",
              "      <td>0</td>\n",
              "      <td>0</td>\n",
              "      <td>373450</td>\n",
              "      <td>8.0500</td>\n",
              "      <td>Unknown</td>\n",
              "      <td>S</td>\n",
              "      <td>Mr</td>\n",
              "      <td>U</td>\n",
              "      <td>1</td>\n",
              "    </tr>\n",
              "  </tbody>\n",
              "</table>\n",
              "</div>"
            ],
            "text/plain": [
              "   PassengerId  Survived  Pclass  ... Title Cabin_type  family_member_size\n",
              "0            1         0       3  ...    Mr          U                   2\n",
              "1            2         1       1  ...   Mrs          C                   2\n",
              "2            3         1       3  ...  Miss          U                   1\n",
              "3            4         1       1  ...   Mrs          C                   2\n",
              "4            5         0       3  ...    Mr          U                   1\n",
              "\n",
              "[5 rows x 15 columns]"
            ]
          },
          "metadata": {},
          "execution_count": 215
        }
      ]
    },
    {
      "cell_type": "code",
      "metadata": {
        "colab": {
          "base_uri": "https://localhost:8080/",
          "height": 203
        },
        "id": "MvCbF7XJY37L",
        "outputId": "beed3c80-222b-4ec7-f065-b070865361d9"
      },
      "source": [
        "# data check \n",
        "test.head()"
      ],
      "execution_count": 216,
      "outputs": [
        {
          "output_type": "execute_result",
          "data": {
            "text/html": [
              "<div>\n",
              "<style scoped>\n",
              "    .dataframe tbody tr th:only-of-type {\n",
              "        vertical-align: middle;\n",
              "    }\n",
              "\n",
              "    .dataframe tbody tr th {\n",
              "        vertical-align: top;\n",
              "    }\n",
              "\n",
              "    .dataframe thead th {\n",
              "        text-align: right;\n",
              "    }\n",
              "</style>\n",
              "<table border=\"1\" class=\"dataframe\">\n",
              "  <thead>\n",
              "    <tr style=\"text-align: right;\">\n",
              "      <th></th>\n",
              "      <th>PassengerId</th>\n",
              "      <th>Pclass</th>\n",
              "      <th>Name</th>\n",
              "      <th>Sex</th>\n",
              "      <th>Age</th>\n",
              "      <th>SibSp</th>\n",
              "      <th>Parch</th>\n",
              "      <th>Ticket</th>\n",
              "      <th>Fare</th>\n",
              "      <th>Cabin</th>\n",
              "      <th>Embarked</th>\n",
              "      <th>Title</th>\n",
              "      <th>Cabin_type</th>\n",
              "      <th>family_member_size</th>\n",
              "    </tr>\n",
              "  </thead>\n",
              "  <tbody>\n",
              "    <tr>\n",
              "      <th>0</th>\n",
              "      <td>892</td>\n",
              "      <td>3</td>\n",
              "      <td>Kelly, Mr. James</td>\n",
              "      <td>male</td>\n",
              "      <td>34.5</td>\n",
              "      <td>0</td>\n",
              "      <td>0</td>\n",
              "      <td>330911</td>\n",
              "      <td>7.8292</td>\n",
              "      <td>Unknown</td>\n",
              "      <td>Q</td>\n",
              "      <td>Mr</td>\n",
              "      <td>U</td>\n",
              "      <td>1</td>\n",
              "    </tr>\n",
              "    <tr>\n",
              "      <th>1</th>\n",
              "      <td>893</td>\n",
              "      <td>3</td>\n",
              "      <td>Wilkes, Mrs. James (Ellen Needs)</td>\n",
              "      <td>female</td>\n",
              "      <td>47.0</td>\n",
              "      <td>1</td>\n",
              "      <td>0</td>\n",
              "      <td>363272</td>\n",
              "      <td>7.0000</td>\n",
              "      <td>Unknown</td>\n",
              "      <td>S</td>\n",
              "      <td>Mrs</td>\n",
              "      <td>U</td>\n",
              "      <td>2</td>\n",
              "    </tr>\n",
              "    <tr>\n",
              "      <th>2</th>\n",
              "      <td>894</td>\n",
              "      <td>2</td>\n",
              "      <td>Myles, Mr. Thomas Francis</td>\n",
              "      <td>male</td>\n",
              "      <td>62.0</td>\n",
              "      <td>0</td>\n",
              "      <td>0</td>\n",
              "      <td>240276</td>\n",
              "      <td>9.6875</td>\n",
              "      <td>Unknown</td>\n",
              "      <td>Q</td>\n",
              "      <td>Miss</td>\n",
              "      <td>U</td>\n",
              "      <td>1</td>\n",
              "    </tr>\n",
              "    <tr>\n",
              "      <th>3</th>\n",
              "      <td>895</td>\n",
              "      <td>3</td>\n",
              "      <td>Wirz, Mr. Albert</td>\n",
              "      <td>male</td>\n",
              "      <td>27.0</td>\n",
              "      <td>0</td>\n",
              "      <td>0</td>\n",
              "      <td>315154</td>\n",
              "      <td>8.6625</td>\n",
              "      <td>Unknown</td>\n",
              "      <td>S</td>\n",
              "      <td>Mrs</td>\n",
              "      <td>U</td>\n",
              "      <td>1</td>\n",
              "    </tr>\n",
              "    <tr>\n",
              "      <th>4</th>\n",
              "      <td>896</td>\n",
              "      <td>3</td>\n",
              "      <td>Hirvonen, Mrs. Alexander (Helga E Lindqvist)</td>\n",
              "      <td>female</td>\n",
              "      <td>22.0</td>\n",
              "      <td>1</td>\n",
              "      <td>1</td>\n",
              "      <td>3101298</td>\n",
              "      <td>12.2875</td>\n",
              "      <td>Unknown</td>\n",
              "      <td>S</td>\n",
              "      <td>Mr</td>\n",
              "      <td>U</td>\n",
              "      <td>3</td>\n",
              "    </tr>\n",
              "  </tbody>\n",
              "</table>\n",
              "</div>"
            ],
            "text/plain": [
              "   PassengerId  Pclass  ... Cabin_type family_member_size\n",
              "0          892       3  ...          U                  1\n",
              "1          893       3  ...          U                  2\n",
              "2          894       2  ...          U                  1\n",
              "3          895       3  ...          U                  1\n",
              "4          896       3  ...          U                  3\n",
              "\n",
              "[5 rows x 14 columns]"
            ]
          },
          "metadata": {},
          "execution_count": 216
        }
      ]
    },
    {
      "cell_type": "markdown",
      "metadata": {
        "id": "EA1tBJKoirGy"
      },
      "source": [
        "The correlation bellow shows that Family size is not linearly related however there is a relationship between survival and family size"
      ]
    },
    {
      "cell_type": "code",
      "metadata": {
        "id": "4q0u3D68MfLf"
      },
      "source": [
        "# make encoded values\n",
        "encode_vals = ['Sex','Cabin_type','Embarked','Title']\n",
        "def make_encode_num(val, data):\n",
        "  for feature in val:\n",
        "    data[feature]=data[feature].astype('category')\n",
        "    data[feature+'_value']=data[feature].cat.codes\n",
        "  return data\n",
        "train=make_encode_num(encode_vals, train)\n",
        "test = make_encode_num(encode_vals, test)"
      ],
      "execution_count": 217,
      "outputs": []
    },
    {
      "cell_type": "code",
      "metadata": {
        "colab": {
          "base_uri": "https://localhost:8080/",
          "height": 492
        },
        "id": "MBvGEYeFq3Mc",
        "outputId": "22e6c973-f79c-4497-df79-e983abe33b46"
      },
      "source": [
        "# data check\n",
        "train.head()"
      ],
      "execution_count": 218,
      "outputs": [
        {
          "output_type": "execute_result",
          "data": {
            "text/html": [
              "<div>\n",
              "<style scoped>\n",
              "    .dataframe tbody tr th:only-of-type {\n",
              "        vertical-align: middle;\n",
              "    }\n",
              "\n",
              "    .dataframe tbody tr th {\n",
              "        vertical-align: top;\n",
              "    }\n",
              "\n",
              "    .dataframe thead th {\n",
              "        text-align: right;\n",
              "    }\n",
              "</style>\n",
              "<table border=\"1\" class=\"dataframe\">\n",
              "  <thead>\n",
              "    <tr style=\"text-align: right;\">\n",
              "      <th></th>\n",
              "      <th>PassengerId</th>\n",
              "      <th>Survived</th>\n",
              "      <th>Pclass</th>\n",
              "      <th>Name</th>\n",
              "      <th>Sex</th>\n",
              "      <th>Age</th>\n",
              "      <th>SibSp</th>\n",
              "      <th>Parch</th>\n",
              "      <th>Ticket</th>\n",
              "      <th>Fare</th>\n",
              "      <th>Cabin</th>\n",
              "      <th>Embarked</th>\n",
              "      <th>Title</th>\n",
              "      <th>Cabin_type</th>\n",
              "      <th>family_member_size</th>\n",
              "      <th>Sex_value</th>\n",
              "      <th>Cabin_type_value</th>\n",
              "      <th>Embarked_value</th>\n",
              "      <th>Title_value</th>\n",
              "    </tr>\n",
              "  </thead>\n",
              "  <tbody>\n",
              "    <tr>\n",
              "      <th>0</th>\n",
              "      <td>1</td>\n",
              "      <td>0</td>\n",
              "      <td>3</td>\n",
              "      <td>Braund, Mr. Owen Harris</td>\n",
              "      <td>male</td>\n",
              "      <td>22.0</td>\n",
              "      <td>1</td>\n",
              "      <td>0</td>\n",
              "      <td>A/5 21171</td>\n",
              "      <td>7.2500</td>\n",
              "      <td>Unknown</td>\n",
              "      <td>S</td>\n",
              "      <td>Mr</td>\n",
              "      <td>U</td>\n",
              "      <td>2</td>\n",
              "      <td>1</td>\n",
              "      <td>8</td>\n",
              "      <td>2</td>\n",
              "      <td>2</td>\n",
              "    </tr>\n",
              "    <tr>\n",
              "      <th>1</th>\n",
              "      <td>2</td>\n",
              "      <td>1</td>\n",
              "      <td>1</td>\n",
              "      <td>Cumings, Mrs. John Bradley (Florence Briggs Th...</td>\n",
              "      <td>female</td>\n",
              "      <td>38.0</td>\n",
              "      <td>1</td>\n",
              "      <td>0</td>\n",
              "      <td>PC 17599</td>\n",
              "      <td>71.2833</td>\n",
              "      <td>C85</td>\n",
              "      <td>C</td>\n",
              "      <td>Mrs</td>\n",
              "      <td>C</td>\n",
              "      <td>2</td>\n",
              "      <td>0</td>\n",
              "      <td>2</td>\n",
              "      <td>0</td>\n",
              "      <td>3</td>\n",
              "    </tr>\n",
              "    <tr>\n",
              "      <th>2</th>\n",
              "      <td>3</td>\n",
              "      <td>1</td>\n",
              "      <td>3</td>\n",
              "      <td>Heikkinen, Miss. Laina</td>\n",
              "      <td>female</td>\n",
              "      <td>26.0</td>\n",
              "      <td>0</td>\n",
              "      <td>0</td>\n",
              "      <td>STON/O2. 3101282</td>\n",
              "      <td>7.9250</td>\n",
              "      <td>Unknown</td>\n",
              "      <td>S</td>\n",
              "      <td>Miss</td>\n",
              "      <td>U</td>\n",
              "      <td>1</td>\n",
              "      <td>0</td>\n",
              "      <td>8</td>\n",
              "      <td>2</td>\n",
              "      <td>1</td>\n",
              "    </tr>\n",
              "    <tr>\n",
              "      <th>3</th>\n",
              "      <td>4</td>\n",
              "      <td>1</td>\n",
              "      <td>1</td>\n",
              "      <td>Futrelle, Mrs. Jacques Heath (Lily May Peel)</td>\n",
              "      <td>female</td>\n",
              "      <td>35.0</td>\n",
              "      <td>1</td>\n",
              "      <td>0</td>\n",
              "      <td>113803</td>\n",
              "      <td>53.1000</td>\n",
              "      <td>C123</td>\n",
              "      <td>S</td>\n",
              "      <td>Mrs</td>\n",
              "      <td>C</td>\n",
              "      <td>2</td>\n",
              "      <td>0</td>\n",
              "      <td>2</td>\n",
              "      <td>2</td>\n",
              "      <td>3</td>\n",
              "    </tr>\n",
              "    <tr>\n",
              "      <th>4</th>\n",
              "      <td>5</td>\n",
              "      <td>0</td>\n",
              "      <td>3</td>\n",
              "      <td>Allen, Mr. William Henry</td>\n",
              "      <td>male</td>\n",
              "      <td>35.0</td>\n",
              "      <td>0</td>\n",
              "      <td>0</td>\n",
              "      <td>373450</td>\n",
              "      <td>8.0500</td>\n",
              "      <td>Unknown</td>\n",
              "      <td>S</td>\n",
              "      <td>Mr</td>\n",
              "      <td>U</td>\n",
              "      <td>1</td>\n",
              "      <td>1</td>\n",
              "      <td>8</td>\n",
              "      <td>2</td>\n",
              "      <td>2</td>\n",
              "    </tr>\n",
              "  </tbody>\n",
              "</table>\n",
              "</div>"
            ],
            "text/plain": [
              "   PassengerId  Survived  Pclass  ... Cabin_type_value Embarked_value  Title_value\n",
              "0            1         0       3  ...                8              2            2\n",
              "1            2         1       1  ...                2              0            3\n",
              "2            3         1       3  ...                8              2            1\n",
              "3            4         1       1  ...                2              2            3\n",
              "4            5         0       3  ...                8              2            2\n",
              "\n",
              "[5 rows x 19 columns]"
            ]
          },
          "metadata": {},
          "execution_count": 218
        }
      ]
    },
    {
      "cell_type": "code",
      "metadata": {
        "colab": {
          "base_uri": "https://localhost:8080/",
          "height": 442
        },
        "id": "GkTMbvQ4ZNFY",
        "outputId": "d1337594-dfb5-4b30-e2e4-0b1790a8633e"
      },
      "source": [
        "# data check\n",
        "test.head()"
      ],
      "execution_count": 219,
      "outputs": [
        {
          "output_type": "execute_result",
          "data": {
            "text/html": [
              "<div>\n",
              "<style scoped>\n",
              "    .dataframe tbody tr th:only-of-type {\n",
              "        vertical-align: middle;\n",
              "    }\n",
              "\n",
              "    .dataframe tbody tr th {\n",
              "        vertical-align: top;\n",
              "    }\n",
              "\n",
              "    .dataframe thead th {\n",
              "        text-align: right;\n",
              "    }\n",
              "</style>\n",
              "<table border=\"1\" class=\"dataframe\">\n",
              "  <thead>\n",
              "    <tr style=\"text-align: right;\">\n",
              "      <th></th>\n",
              "      <th>PassengerId</th>\n",
              "      <th>Pclass</th>\n",
              "      <th>Name</th>\n",
              "      <th>Sex</th>\n",
              "      <th>Age</th>\n",
              "      <th>SibSp</th>\n",
              "      <th>Parch</th>\n",
              "      <th>Ticket</th>\n",
              "      <th>Fare</th>\n",
              "      <th>Cabin</th>\n",
              "      <th>Embarked</th>\n",
              "      <th>Title</th>\n",
              "      <th>Cabin_type</th>\n",
              "      <th>family_member_size</th>\n",
              "      <th>Sex_value</th>\n",
              "      <th>Cabin_type_value</th>\n",
              "      <th>Embarked_value</th>\n",
              "      <th>Title_value</th>\n",
              "    </tr>\n",
              "  </thead>\n",
              "  <tbody>\n",
              "    <tr>\n",
              "      <th>0</th>\n",
              "      <td>892</td>\n",
              "      <td>3</td>\n",
              "      <td>Kelly, Mr. James</td>\n",
              "      <td>male</td>\n",
              "      <td>34.5</td>\n",
              "      <td>0</td>\n",
              "      <td>0</td>\n",
              "      <td>330911</td>\n",
              "      <td>7.8292</td>\n",
              "      <td>Unknown</td>\n",
              "      <td>Q</td>\n",
              "      <td>Mr</td>\n",
              "      <td>U</td>\n",
              "      <td>1</td>\n",
              "      <td>1</td>\n",
              "      <td>7</td>\n",
              "      <td>1</td>\n",
              "      <td>2</td>\n",
              "    </tr>\n",
              "    <tr>\n",
              "      <th>1</th>\n",
              "      <td>893</td>\n",
              "      <td>3</td>\n",
              "      <td>Wilkes, Mrs. James (Ellen Needs)</td>\n",
              "      <td>female</td>\n",
              "      <td>47.0</td>\n",
              "      <td>1</td>\n",
              "      <td>0</td>\n",
              "      <td>363272</td>\n",
              "      <td>7.0000</td>\n",
              "      <td>Unknown</td>\n",
              "      <td>S</td>\n",
              "      <td>Mrs</td>\n",
              "      <td>U</td>\n",
              "      <td>2</td>\n",
              "      <td>0</td>\n",
              "      <td>7</td>\n",
              "      <td>2</td>\n",
              "      <td>3</td>\n",
              "    </tr>\n",
              "    <tr>\n",
              "      <th>2</th>\n",
              "      <td>894</td>\n",
              "      <td>2</td>\n",
              "      <td>Myles, Mr. Thomas Francis</td>\n",
              "      <td>male</td>\n",
              "      <td>62.0</td>\n",
              "      <td>0</td>\n",
              "      <td>0</td>\n",
              "      <td>240276</td>\n",
              "      <td>9.6875</td>\n",
              "      <td>Unknown</td>\n",
              "      <td>Q</td>\n",
              "      <td>Miss</td>\n",
              "      <td>U</td>\n",
              "      <td>1</td>\n",
              "      <td>1</td>\n",
              "      <td>7</td>\n",
              "      <td>1</td>\n",
              "      <td>1</td>\n",
              "    </tr>\n",
              "    <tr>\n",
              "      <th>3</th>\n",
              "      <td>895</td>\n",
              "      <td>3</td>\n",
              "      <td>Wirz, Mr. Albert</td>\n",
              "      <td>male</td>\n",
              "      <td>27.0</td>\n",
              "      <td>0</td>\n",
              "      <td>0</td>\n",
              "      <td>315154</td>\n",
              "      <td>8.6625</td>\n",
              "      <td>Unknown</td>\n",
              "      <td>S</td>\n",
              "      <td>Mrs</td>\n",
              "      <td>U</td>\n",
              "      <td>1</td>\n",
              "      <td>1</td>\n",
              "      <td>7</td>\n",
              "      <td>2</td>\n",
              "      <td>3</td>\n",
              "    </tr>\n",
              "    <tr>\n",
              "      <th>4</th>\n",
              "      <td>896</td>\n",
              "      <td>3</td>\n",
              "      <td>Hirvonen, Mrs. Alexander (Helga E Lindqvist)</td>\n",
              "      <td>female</td>\n",
              "      <td>22.0</td>\n",
              "      <td>1</td>\n",
              "      <td>1</td>\n",
              "      <td>3101298</td>\n",
              "      <td>12.2875</td>\n",
              "      <td>Unknown</td>\n",
              "      <td>S</td>\n",
              "      <td>Mr</td>\n",
              "      <td>U</td>\n",
              "      <td>3</td>\n",
              "      <td>0</td>\n",
              "      <td>7</td>\n",
              "      <td>2</td>\n",
              "      <td>2</td>\n",
              "    </tr>\n",
              "  </tbody>\n",
              "</table>\n",
              "</div>"
            ],
            "text/plain": [
              "   PassengerId  Pclass  ... Embarked_value Title_value\n",
              "0          892       3  ...              1           2\n",
              "1          893       3  ...              2           3\n",
              "2          894       2  ...              1           1\n",
              "3          895       3  ...              2           3\n",
              "4          896       3  ...              2           2\n",
              "\n",
              "[5 rows x 18 columns]"
            ]
          },
          "metadata": {},
          "execution_count": 219
        }
      ]
    },
    {
      "cell_type": "code",
      "metadata": {
        "colab": {
          "base_uri": "https://localhost:8080/",
          "height": 492
        },
        "id": "CjybWuqDiZ-f",
        "outputId": "b7a37414-9a73-4857-d304-627b690b4d83"
      },
      "source": [
        "# make one hot encoding\n",
        "# I only relized after I made the function how bad the naming was\n",
        "def one_hot(data, labels):\n",
        "  for label in labels:\n",
        "    temp = data[label]\n",
        "    data= pd.get_dummies(data, columns=[label])\n",
        "    data[label]=temp\n",
        "  return data\n",
        "temp = copy.copy(train)\n",
        "temp=one_hot(temp, encode_vals)\n",
        "temp.head()"
      ],
      "execution_count": 220,
      "outputs": [
        {
          "output_type": "execute_result",
          "data": {
            "text/html": [
              "<div>\n",
              "<style scoped>\n",
              "    .dataframe tbody tr th:only-of-type {\n",
              "        vertical-align: middle;\n",
              "    }\n",
              "\n",
              "    .dataframe tbody tr th {\n",
              "        vertical-align: top;\n",
              "    }\n",
              "\n",
              "    .dataframe thead th {\n",
              "        text-align: right;\n",
              "    }\n",
              "</style>\n",
              "<table border=\"1\" class=\"dataframe\">\n",
              "  <thead>\n",
              "    <tr style=\"text-align: right;\">\n",
              "      <th></th>\n",
              "      <th>PassengerId</th>\n",
              "      <th>Survived</th>\n",
              "      <th>Pclass</th>\n",
              "      <th>Name</th>\n",
              "      <th>Age</th>\n",
              "      <th>SibSp</th>\n",
              "      <th>Parch</th>\n",
              "      <th>Ticket</th>\n",
              "      <th>Fare</th>\n",
              "      <th>Cabin</th>\n",
              "      <th>family_member_size</th>\n",
              "      <th>Sex_value</th>\n",
              "      <th>Cabin_type_value</th>\n",
              "      <th>Embarked_value</th>\n",
              "      <th>Title_value</th>\n",
              "      <th>Sex_female</th>\n",
              "      <th>Sex_male</th>\n",
              "      <th>Sex</th>\n",
              "      <th>Cabin_type_A</th>\n",
              "      <th>Cabin_type_B</th>\n",
              "      <th>Cabin_type_C</th>\n",
              "      <th>Cabin_type_D</th>\n",
              "      <th>Cabin_type_E</th>\n",
              "      <th>Cabin_type_F</th>\n",
              "      <th>Cabin_type_G</th>\n",
              "      <th>Cabin_type_T</th>\n",
              "      <th>Cabin_type_U</th>\n",
              "      <th>Cabin_type</th>\n",
              "      <th>Embarked_C</th>\n",
              "      <th>Embarked_Q</th>\n",
              "      <th>Embarked_S</th>\n",
              "      <th>Embarked</th>\n",
              "      <th>Title_Master</th>\n",
              "      <th>Title_Miss</th>\n",
              "      <th>Title_Mr</th>\n",
              "      <th>Title_Mrs</th>\n",
              "      <th>Title</th>\n",
              "    </tr>\n",
              "  </thead>\n",
              "  <tbody>\n",
              "    <tr>\n",
              "      <th>0</th>\n",
              "      <td>1</td>\n",
              "      <td>0</td>\n",
              "      <td>3</td>\n",
              "      <td>Braund, Mr. Owen Harris</td>\n",
              "      <td>22.0</td>\n",
              "      <td>1</td>\n",
              "      <td>0</td>\n",
              "      <td>A/5 21171</td>\n",
              "      <td>7.2500</td>\n",
              "      <td>Unknown</td>\n",
              "      <td>2</td>\n",
              "      <td>1</td>\n",
              "      <td>8</td>\n",
              "      <td>2</td>\n",
              "      <td>2</td>\n",
              "      <td>0</td>\n",
              "      <td>1</td>\n",
              "      <td>male</td>\n",
              "      <td>0</td>\n",
              "      <td>0</td>\n",
              "      <td>0</td>\n",
              "      <td>0</td>\n",
              "      <td>0</td>\n",
              "      <td>0</td>\n",
              "      <td>0</td>\n",
              "      <td>0</td>\n",
              "      <td>1</td>\n",
              "      <td>U</td>\n",
              "      <td>0</td>\n",
              "      <td>0</td>\n",
              "      <td>1</td>\n",
              "      <td>S</td>\n",
              "      <td>0</td>\n",
              "      <td>0</td>\n",
              "      <td>1</td>\n",
              "      <td>0</td>\n",
              "      <td>Mr</td>\n",
              "    </tr>\n",
              "    <tr>\n",
              "      <th>1</th>\n",
              "      <td>2</td>\n",
              "      <td>1</td>\n",
              "      <td>1</td>\n",
              "      <td>Cumings, Mrs. John Bradley (Florence Briggs Th...</td>\n",
              "      <td>38.0</td>\n",
              "      <td>1</td>\n",
              "      <td>0</td>\n",
              "      <td>PC 17599</td>\n",
              "      <td>71.2833</td>\n",
              "      <td>C85</td>\n",
              "      <td>2</td>\n",
              "      <td>0</td>\n",
              "      <td>2</td>\n",
              "      <td>0</td>\n",
              "      <td>3</td>\n",
              "      <td>1</td>\n",
              "      <td>0</td>\n",
              "      <td>female</td>\n",
              "      <td>0</td>\n",
              "      <td>0</td>\n",
              "      <td>1</td>\n",
              "      <td>0</td>\n",
              "      <td>0</td>\n",
              "      <td>0</td>\n",
              "      <td>0</td>\n",
              "      <td>0</td>\n",
              "      <td>0</td>\n",
              "      <td>C</td>\n",
              "      <td>1</td>\n",
              "      <td>0</td>\n",
              "      <td>0</td>\n",
              "      <td>C</td>\n",
              "      <td>0</td>\n",
              "      <td>0</td>\n",
              "      <td>0</td>\n",
              "      <td>1</td>\n",
              "      <td>Mrs</td>\n",
              "    </tr>\n",
              "    <tr>\n",
              "      <th>2</th>\n",
              "      <td>3</td>\n",
              "      <td>1</td>\n",
              "      <td>3</td>\n",
              "      <td>Heikkinen, Miss. Laina</td>\n",
              "      <td>26.0</td>\n",
              "      <td>0</td>\n",
              "      <td>0</td>\n",
              "      <td>STON/O2. 3101282</td>\n",
              "      <td>7.9250</td>\n",
              "      <td>Unknown</td>\n",
              "      <td>1</td>\n",
              "      <td>0</td>\n",
              "      <td>8</td>\n",
              "      <td>2</td>\n",
              "      <td>1</td>\n",
              "      <td>1</td>\n",
              "      <td>0</td>\n",
              "      <td>female</td>\n",
              "      <td>0</td>\n",
              "      <td>0</td>\n",
              "      <td>0</td>\n",
              "      <td>0</td>\n",
              "      <td>0</td>\n",
              "      <td>0</td>\n",
              "      <td>0</td>\n",
              "      <td>0</td>\n",
              "      <td>1</td>\n",
              "      <td>U</td>\n",
              "      <td>0</td>\n",
              "      <td>0</td>\n",
              "      <td>1</td>\n",
              "      <td>S</td>\n",
              "      <td>0</td>\n",
              "      <td>1</td>\n",
              "      <td>0</td>\n",
              "      <td>0</td>\n",
              "      <td>Miss</td>\n",
              "    </tr>\n",
              "    <tr>\n",
              "      <th>3</th>\n",
              "      <td>4</td>\n",
              "      <td>1</td>\n",
              "      <td>1</td>\n",
              "      <td>Futrelle, Mrs. Jacques Heath (Lily May Peel)</td>\n",
              "      <td>35.0</td>\n",
              "      <td>1</td>\n",
              "      <td>0</td>\n",
              "      <td>113803</td>\n",
              "      <td>53.1000</td>\n",
              "      <td>C123</td>\n",
              "      <td>2</td>\n",
              "      <td>0</td>\n",
              "      <td>2</td>\n",
              "      <td>2</td>\n",
              "      <td>3</td>\n",
              "      <td>1</td>\n",
              "      <td>0</td>\n",
              "      <td>female</td>\n",
              "      <td>0</td>\n",
              "      <td>0</td>\n",
              "      <td>1</td>\n",
              "      <td>0</td>\n",
              "      <td>0</td>\n",
              "      <td>0</td>\n",
              "      <td>0</td>\n",
              "      <td>0</td>\n",
              "      <td>0</td>\n",
              "      <td>C</td>\n",
              "      <td>0</td>\n",
              "      <td>0</td>\n",
              "      <td>1</td>\n",
              "      <td>S</td>\n",
              "      <td>0</td>\n",
              "      <td>0</td>\n",
              "      <td>0</td>\n",
              "      <td>1</td>\n",
              "      <td>Mrs</td>\n",
              "    </tr>\n",
              "    <tr>\n",
              "      <th>4</th>\n",
              "      <td>5</td>\n",
              "      <td>0</td>\n",
              "      <td>3</td>\n",
              "      <td>Allen, Mr. William Henry</td>\n",
              "      <td>35.0</td>\n",
              "      <td>0</td>\n",
              "      <td>0</td>\n",
              "      <td>373450</td>\n",
              "      <td>8.0500</td>\n",
              "      <td>Unknown</td>\n",
              "      <td>1</td>\n",
              "      <td>1</td>\n",
              "      <td>8</td>\n",
              "      <td>2</td>\n",
              "      <td>2</td>\n",
              "      <td>0</td>\n",
              "      <td>1</td>\n",
              "      <td>male</td>\n",
              "      <td>0</td>\n",
              "      <td>0</td>\n",
              "      <td>0</td>\n",
              "      <td>0</td>\n",
              "      <td>0</td>\n",
              "      <td>0</td>\n",
              "      <td>0</td>\n",
              "      <td>0</td>\n",
              "      <td>1</td>\n",
              "      <td>U</td>\n",
              "      <td>0</td>\n",
              "      <td>0</td>\n",
              "      <td>1</td>\n",
              "      <td>S</td>\n",
              "      <td>0</td>\n",
              "      <td>0</td>\n",
              "      <td>1</td>\n",
              "      <td>0</td>\n",
              "      <td>Mr</td>\n",
              "    </tr>\n",
              "  </tbody>\n",
              "</table>\n",
              "</div>"
            ],
            "text/plain": [
              "   PassengerId  Survived  Pclass  ... Title_Mr  Title_Mrs  Title\n",
              "0            1         0       3  ...        1          0     Mr\n",
              "1            2         1       1  ...        0          1    Mrs\n",
              "2            3         1       3  ...        0          0   Miss\n",
              "3            4         1       1  ...        0          1    Mrs\n",
              "4            5         0       3  ...        1          0     Mr\n",
              "\n",
              "[5 rows x 37 columns]"
            ]
          },
          "metadata": {},
          "execution_count": 220
        }
      ]
    },
    {
      "cell_type": "code",
      "metadata": {
        "id": "FXX8yy-MprZs"
      },
      "source": [
        "#temp.corr()[\"Survived\"].sort_values(key=lambda x: abs(x), ascending=False)"
      ],
      "execution_count": 221,
      "outputs": []
    },
    {
      "cell_type": "markdown",
      "metadata": {
        "id": "qBEv7Y7FPbTW"
      },
      "source": [
        "## Survival Factors"
      ]
    },
    {
      "cell_type": "code",
      "metadata": {
        "colab": {
          "base_uri": "https://localhost:8080/"
        },
        "id": "O2nRA4U1Pjjr",
        "outputId": "544fb1fe-46d2-481d-bb31-b95d3c8f72b0"
      },
      "source": [
        "# source 2\n",
        "train.corr()[\"Survived\"].sort_values(key=lambda x: abs(x), ascending=False)"
      ],
      "execution_count": 222,
      "outputs": [
        {
          "output_type": "execute_result",
          "data": {
            "text/plain": [
              "Survived              1.000000\n",
              "Sex_value            -0.543351\n",
              "Pclass               -0.338481\n",
              "Cabin_type_value     -0.301116\n",
              "Fare                  0.257307\n",
              "Embarked_value       -0.167675\n",
              "Parch                 0.081629\n",
              "Age                  -0.069809\n",
              "Title_value          -0.062139\n",
              "SibSp                -0.035322\n",
              "family_member_size    0.016639\n",
              "PassengerId          -0.005007\n",
              "Name: Survived, dtype: float64"
            ]
          },
          "metadata": {},
          "execution_count": 222
        }
      ]
    },
    {
      "cell_type": "code",
      "metadata": {
        "colab": {
          "base_uri": "https://localhost:8080/"
        },
        "id": "JEtc7jqAdWSC",
        "outputId": "62dca6d1-c094-4632-aae8-0d2acfcdf981"
      },
      "source": [
        "# See what index Does\n",
        "# index gives the feature values that equaled true\n",
        "l=list(train.corr()[train.corr()[\"Survived\"].abs()>.05] )\n",
        "p=list(train.corr()[train.corr()[\"Survived\"].abs()>.05].index )\n",
        "print(len(l),\"\\n\",l)\n",
        "print(len(p),\"\\n\",p)\n",
        "res = [x for x in l + p if x not in l or x not in p]\n",
        "print(res)"
      ],
      "execution_count": 223,
      "outputs": [
        {
          "output_type": "stream",
          "name": "stdout",
          "text": [
            "12 \n",
            " ['PassengerId', 'Survived', 'Pclass', 'Age', 'SibSp', 'Parch', 'Fare', 'family_member_size', 'Sex_value', 'Cabin_type_value', 'Embarked_value', 'Title_value']\n",
            "9 \n",
            " ['Survived', 'Pclass', 'Age', 'Parch', 'Fare', 'Sex_value', 'Cabin_type_value', 'Embarked_value', 'Title_value']\n",
            "['PassengerId', 'SibSp', 'family_member_size']\n"
          ]
        }
      ]
    },
    {
      "cell_type": "code",
      "metadata": {
        "colab": {
          "base_uri": "https://localhost:8080/"
        },
        "id": "v44tEfKoQAW7",
        "outputId": "8e6ad253-c210-452a-e298-6131c1d3a1b7"
      },
      "source": [
        "# Source 2\n",
        "related_columns = list(train.corr()[train.corr()[\"Survived\"].abs() > 0.05].index)\n",
        "related_columns.remove(\"Survived\")\n",
        "print(related_columns)"
      ],
      "execution_count": 224,
      "outputs": [
        {
          "output_type": "stream",
          "name": "stdout",
          "text": [
            "['Pclass', 'Age', 'Parch', 'Fare', 'Sex_value', 'Cabin_type_value', 'Embarked_value', 'Title_value']\n"
          ]
        }
      ]
    },
    {
      "cell_type": "markdown",
      "metadata": {
        "id": "EC5P2yWllZ-6"
      },
      "source": [
        "# Exploratory Data Analysis For Survival"
      ]
    },
    {
      "cell_type": "code",
      "metadata": {
        "id": "6_fcvegjQ19l",
        "colab": {
          "base_uri": "https://localhost:8080/"
        },
        "outputId": "6d79c6ee-b578-4e81-b327-0d1d142d3ee4"
      },
      "source": [
        "train.info()"
      ],
      "execution_count": 225,
      "outputs": [
        {
          "output_type": "stream",
          "name": "stdout",
          "text": [
            "<class 'pandas.core.frame.DataFrame'>\n",
            "RangeIndex: 891 entries, 0 to 890\n",
            "Data columns (total 19 columns):\n",
            " #   Column              Non-Null Count  Dtype   \n",
            "---  ------              --------------  -----   \n",
            " 0   PassengerId         891 non-null    int64   \n",
            " 1   Survived            891 non-null    int64   \n",
            " 2   Pclass              891 non-null    int64   \n",
            " 3   Name                891 non-null    object  \n",
            " 4   Sex                 891 non-null    category\n",
            " 5   Age                 891 non-null    float64 \n",
            " 6   SibSp               891 non-null    int64   \n",
            " 7   Parch               891 non-null    int64   \n",
            " 8   Ticket              891 non-null    object  \n",
            " 9   Fare                891 non-null    float64 \n",
            " 10  Cabin               891 non-null    object  \n",
            " 11  Embarked            891 non-null    category\n",
            " 12  Title               891 non-null    category\n",
            " 13  Cabin_type          891 non-null    category\n",
            " 14  family_member_size  891 non-null    int64   \n",
            " 15  Sex_value           891 non-null    int8    \n",
            " 16  Cabin_type_value    891 non-null    int8    \n",
            " 17  Embarked_value      891 non-null    int8    \n",
            " 18  Title_value         891 non-null    int8    \n",
            "dtypes: category(4), float64(2), int64(6), int8(4), object(3)\n",
            "memory usage: 84.4+ KB\n"
          ]
        }
      ]
    },
    {
      "cell_type": "code",
      "metadata": {
        "colab": {
          "base_uri": "https://localhost:8080/",
          "height": 295
        },
        "id": "6roykRdUl2gq",
        "outputId": "3168669d-6256-4409-a856-0860818913f5"
      },
      "source": [
        "train.describe()"
      ],
      "execution_count": 226,
      "outputs": [
        {
          "output_type": "execute_result",
          "data": {
            "text/html": [
              "<div>\n",
              "<style scoped>\n",
              "    .dataframe tbody tr th:only-of-type {\n",
              "        vertical-align: middle;\n",
              "    }\n",
              "\n",
              "    .dataframe tbody tr th {\n",
              "        vertical-align: top;\n",
              "    }\n",
              "\n",
              "    .dataframe thead th {\n",
              "        text-align: right;\n",
              "    }\n",
              "</style>\n",
              "<table border=\"1\" class=\"dataframe\">\n",
              "  <thead>\n",
              "    <tr style=\"text-align: right;\">\n",
              "      <th></th>\n",
              "      <th>PassengerId</th>\n",
              "      <th>Survived</th>\n",
              "      <th>Pclass</th>\n",
              "      <th>Age</th>\n",
              "      <th>SibSp</th>\n",
              "      <th>Parch</th>\n",
              "      <th>Fare</th>\n",
              "      <th>family_member_size</th>\n",
              "      <th>Sex_value</th>\n",
              "      <th>Cabin_type_value</th>\n",
              "      <th>Embarked_value</th>\n",
              "      <th>Title_value</th>\n",
              "    </tr>\n",
              "  </thead>\n",
              "  <tbody>\n",
              "    <tr>\n",
              "      <th>count</th>\n",
              "      <td>891.000000</td>\n",
              "      <td>891.000000</td>\n",
              "      <td>891.000000</td>\n",
              "      <td>891.000000</td>\n",
              "      <td>891.000000</td>\n",
              "      <td>891.000000</td>\n",
              "      <td>891.000000</td>\n",
              "      <td>891.000000</td>\n",
              "      <td>891.000000</td>\n",
              "      <td>891.000000</td>\n",
              "      <td>891.000000</td>\n",
              "      <td>891.000000</td>\n",
              "    </tr>\n",
              "    <tr>\n",
              "      <th>mean</th>\n",
              "      <td>446.000000</td>\n",
              "      <td>0.383838</td>\n",
              "      <td>2.308642</td>\n",
              "      <td>29.699118</td>\n",
              "      <td>0.523008</td>\n",
              "      <td>0.381594</td>\n",
              "      <td>32.204208</td>\n",
              "      <td>1.904602</td>\n",
              "      <td>0.647587</td>\n",
              "      <td>6.716049</td>\n",
              "      <td>1.536476</td>\n",
              "      <td>1.860831</td>\n",
              "    </tr>\n",
              "    <tr>\n",
              "      <th>std</th>\n",
              "      <td>257.353842</td>\n",
              "      <td>0.486592</td>\n",
              "      <td>0.836071</td>\n",
              "      <td>13.002015</td>\n",
              "      <td>1.102743</td>\n",
              "      <td>0.806057</td>\n",
              "      <td>49.693429</td>\n",
              "      <td>1.613459</td>\n",
              "      <td>0.477990</td>\n",
              "      <td>2.460739</td>\n",
              "      <td>0.791503</td>\n",
              "      <td>0.721066</td>\n",
              "    </tr>\n",
              "    <tr>\n",
              "      <th>min</th>\n",
              "      <td>1.000000</td>\n",
              "      <td>0.000000</td>\n",
              "      <td>1.000000</td>\n",
              "      <td>0.420000</td>\n",
              "      <td>0.000000</td>\n",
              "      <td>0.000000</td>\n",
              "      <td>0.000000</td>\n",
              "      <td>1.000000</td>\n",
              "      <td>0.000000</td>\n",
              "      <td>0.000000</td>\n",
              "      <td>0.000000</td>\n",
              "      <td>0.000000</td>\n",
              "    </tr>\n",
              "    <tr>\n",
              "      <th>25%</th>\n",
              "      <td>223.500000</td>\n",
              "      <td>0.000000</td>\n",
              "      <td>2.000000</td>\n",
              "      <td>22.000000</td>\n",
              "      <td>0.000000</td>\n",
              "      <td>0.000000</td>\n",
              "      <td>7.910400</td>\n",
              "      <td>1.000000</td>\n",
              "      <td>0.000000</td>\n",
              "      <td>8.000000</td>\n",
              "      <td>1.000000</td>\n",
              "      <td>2.000000</td>\n",
              "    </tr>\n",
              "    <tr>\n",
              "      <th>50%</th>\n",
              "      <td>446.000000</td>\n",
              "      <td>0.000000</td>\n",
              "      <td>3.000000</td>\n",
              "      <td>29.699118</td>\n",
              "      <td>0.000000</td>\n",
              "      <td>0.000000</td>\n",
              "      <td>14.454200</td>\n",
              "      <td>1.000000</td>\n",
              "      <td>1.000000</td>\n",
              "      <td>8.000000</td>\n",
              "      <td>2.000000</td>\n",
              "      <td>2.000000</td>\n",
              "    </tr>\n",
              "    <tr>\n",
              "      <th>75%</th>\n",
              "      <td>668.500000</td>\n",
              "      <td>1.000000</td>\n",
              "      <td>3.000000</td>\n",
              "      <td>35.000000</td>\n",
              "      <td>1.000000</td>\n",
              "      <td>0.000000</td>\n",
              "      <td>31.000000</td>\n",
              "      <td>2.000000</td>\n",
              "      <td>1.000000</td>\n",
              "      <td>8.000000</td>\n",
              "      <td>2.000000</td>\n",
              "      <td>2.000000</td>\n",
              "    </tr>\n",
              "    <tr>\n",
              "      <th>max</th>\n",
              "      <td>891.000000</td>\n",
              "      <td>1.000000</td>\n",
              "      <td>3.000000</td>\n",
              "      <td>80.000000</td>\n",
              "      <td>8.000000</td>\n",
              "      <td>6.000000</td>\n",
              "      <td>512.329200</td>\n",
              "      <td>11.000000</td>\n",
              "      <td>1.000000</td>\n",
              "      <td>8.000000</td>\n",
              "      <td>2.000000</td>\n",
              "      <td>3.000000</td>\n",
              "    </tr>\n",
              "  </tbody>\n",
              "</table>\n",
              "</div>"
            ],
            "text/plain": [
              "       PassengerId    Survived  ...  Embarked_value  Title_value\n",
              "count   891.000000  891.000000  ...      891.000000   891.000000\n",
              "mean    446.000000    0.383838  ...        1.536476     1.860831\n",
              "std     257.353842    0.486592  ...        0.791503     0.721066\n",
              "min       1.000000    0.000000  ...        0.000000     0.000000\n",
              "25%     223.500000    0.000000  ...        1.000000     2.000000\n",
              "50%     446.000000    0.000000  ...        2.000000     2.000000\n",
              "75%     668.500000    1.000000  ...        2.000000     2.000000\n",
              "max     891.000000    1.000000  ...        2.000000     3.000000\n",
              "\n",
              "[8 rows x 12 columns]"
            ]
          },
          "metadata": {},
          "execution_count": 226
        }
      ]
    },
    {
      "cell_type": "markdown",
      "metadata": {
        "id": "zSLKKbNI1-hD"
      },
      "source": [
        "## Survival by Cabin Type"
      ]
    },
    {
      "cell_type": "code",
      "metadata": {
        "colab": {
          "base_uri": "https://localhost:8080/"
        },
        "id": "dUyR1x-y0kUK",
        "outputId": "51848f56-33d1-4790-fde5-43a0d3dfab2e"
      },
      "source": [
        "train.groupby(\"Cabin_type\")[\"Survived\"].mean()"
      ],
      "execution_count": 246,
      "outputs": [
        {
          "output_type": "execute_result",
          "data": {
            "text/plain": [
              "Cabin_type\n",
              "A    0.466667\n",
              "B    0.744681\n",
              "C    0.593220\n",
              "D    0.757576\n",
              "E    0.750000\n",
              "F    0.615385\n",
              "G    0.500000\n",
              "T    0.000000\n",
              "U    0.299854\n",
              "Name: Survived, dtype: float64"
            ]
          },
          "metadata": {},
          "execution_count": 246
        }
      ]
    },
    {
      "cell_type": "code",
      "metadata": {
        "colab": {
          "base_uri": "https://localhost:8080/",
          "height": 296
        },
        "id": "vHQ9TUU_ngU2",
        "outputId": "dcb8bff5-8d98-4e56-ca90-b6c576f3dcab"
      },
      "source": [
        "sns.countplot(x=\"Cabin_type\",hue=\"Survived\", data=train)\n",
        "plt.title(\"Survival of Cabin Type\")\n",
        "plt.show()"
      ],
      "execution_count": 244,
      "outputs": [
        {
          "output_type": "display_data",
          "data": {
            "image/png": "[encoded data removed]",
            "text/plain": [
              "<Figure size 432x288 with 1 Axes>"
            ]
          },
          "metadata": {
            "needs_background": "light"
          }
        }
      ]
    },
    {
      "cell_type": "code",
      "metadata": {
        "colab": {
          "base_uri": "https://localhost:8080/",
          "height": 387
        },
        "id": "VvVY1EiZ6y-i",
        "outputId": "54e3bf46-4b68-4d3a-b3c6-3d25215e06f6"
      },
      "source": [
        "cabin_type_plot= sns.catplot(x=\"Cabin_type\", hue=\"Survived\", col=\"Survived\", data=train, kind=\"count\", sharey=False)\n",
        "cabin_type_plot.fig.subplots_adjust(top=0.7)\n",
        "cabin_type_plot.fig.suptitle(\"Survived by Cabin Type\")\n",
        "cabin_type_plot.set_xlabels(\"Cabin Types\")\n",
        "cabin_type_plot.set_ylabels(\"Count\")\n",
        "plt.show()"
      ],
      "execution_count": 248,
      "outputs": [
        {
          "output_type": "display_data",
          "data": {
            "image/png": "[encoded data removed]",
            "text/plain": [
              "<Figure size 720x360 with 2 Axes>"
            ]
          },
          "metadata": {
            "needs_background": "light"
          }
        }
      ]
    },
    {
      "cell_type": "markdown",
      "metadata": {
        "id": "EwY7TLmx2GbL"
      },
      "source": [
        "## Survival by Pclass"
      ]
    },
    {
      "cell_type": "code",
      "metadata": {
        "colab": {
          "base_uri": "https://localhost:8080/"
        },
        "id": "zrtsfRrI1dtv",
        "outputId": "1099a813-8884-40fd-8a1c-6ff0f2c3f9e8"
      },
      "source": [
        "train.groupby(\"Pclass\")[\"Survived\"].mean()"
      ],
      "execution_count": 230,
      "outputs": [
        {
          "output_type": "execute_result",
          "data": {
            "text/plain": [
              "Pclass\n",
              "1    0.629630\n",
              "2    0.472826\n",
              "3    0.242363\n",
              "Name: Survived, dtype: float64"
            ]
          },
          "metadata": {},
          "execution_count": 230
        }
      ]
    },
    {
      "cell_type": "code",
      "metadata": {
        "colab": {
          "base_uri": "https://localhost:8080/",
          "height": 295
        },
        "id": "-xia5CSv1imE",
        "outputId": "64ef37a7-f33e-4422-cc5f-987fb9b0a842"
      },
      "source": [
        "sns.countplot(x=\"Pclass\",hue=\"Survived\", data=train)\n",
        "plt.title(\"Survival of Pclass\")\n",
        "plt.show()"
      ],
      "execution_count": 231,
      "outputs": [
        {
          "output_type": "display_data",
          "data": {
            "image/png": "[encoded data removed]",
            "text/plain": [
              "<Figure size 432x288 with 1 Axes>"
            ]
          },
          "metadata": {
            "needs_background": "light"
          }
        }
      ]
    },
    {
      "cell_type": "markdown",
      "metadata": {
        "id": "60rjRkMj2pc3"
      },
      "source": [
        "## Survival by Sex"
      ]
    },
    {
      "cell_type": "code",
      "metadata": {
        "colab": {
          "base_uri": "https://localhost:8080/"
        },
        "id": "7Z-7yfC720Kr",
        "outputId": "160406b6-9d0b-464a-e26c-0cf39c1ff6f4"
      },
      "source": [
        "train.groupby(\"Pclass\")[\"Survived\"].mean()"
      ],
      "execution_count": 232,
      "outputs": [
        {
          "output_type": "execute_result",
          "data": {
            "text/plain": [
              "Pclass\n",
              "1    0.629630\n",
              "2    0.472826\n",
              "3    0.242363\n",
              "Name: Survived, dtype: float64"
            ]
          },
          "metadata": {},
          "execution_count": 232
        }
      ]
    },
    {
      "cell_type": "code",
      "metadata": {
        "colab": {
          "base_uri": "https://localhost:8080/",
          "height": 295
        },
        "id": "tzFJMB5C2sEt",
        "outputId": "af8c4395-b6b0-4a72-8687-d2ac1fe30657"
      },
      "source": [
        "sns.countplot(x=\"Sex\",hue=\"Survived\", data=train)\n",
        "plt.title(\"Survival of Sex\")\n",
        "plt.show()"
      ],
      "execution_count": 233,
      "outputs": [
        {
          "output_type": "display_data",
          "data": {
            "image/png": "[encoded data removed]",
            "text/plain": [
              "<Figure size 432x288 with 1 Axes>"
            ]
          },
          "metadata": {
            "needs_background": "light"
          }
        }
      ]
    },
    {
      "cell_type": "markdown",
      "metadata": {
        "id": "LVF2G8xx2OaF"
      },
      "source": [
        "## Survival by Age"
      ]
    },
    {
      "cell_type": "code",
      "metadata": {
        "colab": {
          "base_uri": "https://localhost:8080/",
          "height": 225
        },
        "id": "Pf8-SoG-ueNy",
        "outputId": "a602353e-4de3-46b8-e287-f494f8ac3d57"
      },
      "source": [
        "sns.FacetGrid(train, col=\"Survived\").map(sns.histplot, \"Age\", bins=25)\n",
        "plt.show()"
      ],
      "execution_count": 234,
      "outputs": [
        {
          "output_type": "display_data",
          "data": {
            "image/png": "[encoded data removed]",
            "text/plain": [
              "<Figure size 432x216 with 2 Axes>"
            ]
          },
          "metadata": {
            "needs_background": "light"
          }
        }
      ]
    },
    {
      "cell_type": "markdown",
      "metadata": {
        "id": "7Rck04oA2lCl"
      },
      "source": [
        "## Survial by Sibsp"
      ]
    },
    {
      "cell_type": "code",
      "metadata": {
        "colab": {
          "base_uri": "https://localhost:8080/"
        },
        "id": "b9TYVF2c3Tsv",
        "outputId": "8f97b46a-394f-4dba-b16b-ab0ca4b85796"
      },
      "source": [
        "train.groupby(\"SibSp\")[\"Survived\"].mean()"
      ],
      "execution_count": 235,
      "outputs": [
        {
          "output_type": "execute_result",
          "data": {
            "text/plain": [
              "SibSp\n",
              "0    0.345395\n",
              "1    0.535885\n",
              "2    0.464286\n",
              "3    0.250000\n",
              "4    0.166667\n",
              "5    0.000000\n",
              "8    0.000000\n",
              "Name: Survived, dtype: float64"
            ]
          },
          "metadata": {},
          "execution_count": 235
        }
      ]
    },
    {
      "cell_type": "code",
      "metadata": {
        "colab": {
          "base_uri": "https://localhost:8080/",
          "height": 295
        },
        "id": "M3esKIa83aIA",
        "outputId": "96ac370b-b92d-48b1-aae9-3ffe38ab2ce1"
      },
      "source": [
        "sns.countplot(x=\"SibSp\",hue=\"Survived\", data=train)\n",
        "plt.title(\"Survival of SibSp\")\n",
        "plt.show()"
      ],
      "execution_count": 236,
      "outputs": [
        {
          "output_type": "display_data",
          "data": {
            "image/png": "[encoded data removed]",
            "text/plain": [
              "<Figure size 432x288 with 1 Axes>"
            ]
          },
          "metadata": {
            "needs_background": "light"
          }
        }
      ]
    },
    {
      "cell_type": "markdown",
      "metadata": {
        "id": "idIWzjxz3jzz"
      },
      "source": [
        "## Survival by Parch"
      ]
    },
    {
      "cell_type": "code",
      "metadata": {
        "colab": {
          "base_uri": "https://localhost:8080/"
        },
        "id": "DzFdARRf3qvj",
        "outputId": "8502ca51-5d55-4695-f125-44aba26cc564"
      },
      "source": [
        "train.groupby(\"Parch\")[\"Survived\"].mean()"
      ],
      "execution_count": 237,
      "outputs": [
        {
          "output_type": "execute_result",
          "data": {
            "text/plain": [
              "Parch\n",
              "0    0.343658\n",
              "1    0.550847\n",
              "2    0.500000\n",
              "3    0.600000\n",
              "4    0.000000\n",
              "5    0.200000\n",
              "6    0.000000\n",
              "Name: Survived, dtype: float64"
            ]
          },
          "metadata": {},
          "execution_count": 237
        }
      ]
    },
    {
      "cell_type": "code",
      "metadata": {
        "colab": {
          "base_uri": "https://localhost:8080/",
          "height": 295
        },
        "id": "V1DAuebwxHOr",
        "outputId": "0f72289e-9874-4d10-b6d5-16ea29434a98"
      },
      "source": [
        "sns.countplot(x=\"Parch\",hue=\"Survived\", data=train)\n",
        "plt.title(\"Survival of Parch\")\n",
        "plt.show()\n"
      ],
      "execution_count": 238,
      "outputs": [
        {
          "output_type": "display_data",
          "data": {
            "image/png": "[encoded data removed]",
            "text/plain": [
              "<Figure size 432x288 with 1 Axes>"
            ]
          },
          "metadata": {
            "needs_background": "light"
          }
        }
      ]
    },
    {
      "cell_type": "markdown",
      "metadata": {
        "id": "CgknpKVG4fO-"
      },
      "source": [
        "## Survival by Fare\n"
      ]
    },
    {
      "cell_type": "code",
      "metadata": {
        "id": "ZMQdmGpk4h8a",
        "colab": {
          "base_uri": "https://localhost:8080/",
          "height": 232
        },
        "outputId": "17d074c7-fedf-473b-bd3a-de2a093d8e50"
      },
      "source": [
        "Fare_plot=sns.FacetGrid(train, col=\"Survived\", sharey=False)\n",
        "Fare_plot.map(sns.histplot, \"Fare\",bins=20)\n",
        "Fare_plot.fig.subplots_adjust(top=0.7)\n",
        "Fare_plot.fig.suptitle(\"Survived by Fare\")\n",
        "Fare_plot.set_xlabels(\"Fare\")\n",
        "Fare_plot.set_ylabels(\"Count\")\n",
        "plt.show()"
      ],
      "execution_count": 239,
      "outputs": [
        {
          "output_type": "display_data",
          "data": {
            "image/png": "[encoded data removed]",
            "text/plain": [
              "<Figure size 432x216 with 2 Axes>"
            ]
          },
          "metadata": {
            "needs_background": "light"
          }
        }
      ]
    },
    {
      "cell_type": "markdown",
      "metadata": {
        "id": "wIzigOB-PbcN"
      },
      "source": [
        "## Survival by Embarked\n"
      ]
    },
    {
      "cell_type": "code",
      "metadata": {
        "colab": {
          "base_uri": "https://localhost:8080/"
        },
        "id": "8prfgTM1PkzB",
        "outputId": "4c0f4ecc-cba7-47ab-fba0-f84ce1c0275b"
      },
      "source": [
        "train.groupby(\"Embarked\")[\"Survived\"].mean()"
      ],
      "execution_count": 240,
      "outputs": [
        {
          "output_type": "execute_result",
          "data": {
            "text/plain": [
              "Embarked\n",
              "C    0.553571\n",
              "Q    0.389610\n",
              "S    0.339009\n",
              "Name: Survived, dtype: float64"
            ]
          },
          "metadata": {},
          "execution_count": 240
        }
      ]
    },
    {
      "cell_type": "code",
      "metadata": {
        "colab": {
          "base_uri": "https://localhost:8080/",
          "height": 295
        },
        "id": "bGAO5wJTP3-L",
        "outputId": "cc246235-869e-4950-accc-82b4ae238502"
      },
      "source": [
        "sns.countplot(x=\"Embarked\",hue=\"Survived\",data=train)\n",
        "plt.title(\"Survival of Embarked\")\n",
        "plt.show()"
      ],
      "execution_count": 241,
      "outputs": [
        {
          "output_type": "display_data",
          "data": {
            "image/png": "[encoded data removed]",
            "text/plain": [
              "<Figure size 432x288 with 1 Axes>"
            ]
          },
          "metadata": {
            "needs_background": "light"
          }
        }
      ]
    },
    {
      "cell_type": "markdown",
      "metadata": {
        "id": "LEdyD134T6Z8"
      },
      "source": [
        "## Survived by Title"
      ]
    },
    {
      "cell_type": "code",
      "metadata": {
        "colab": {
          "base_uri": "https://localhost:8080/"
        },
        "id": "-Y1cUtNEUEOu",
        "outputId": "ab173389-fa00-4cbc-ac1b-ac2d8b3706e5"
      },
      "source": [
        "train.groupby(\"Title\")[\"Survived\"].mean()"
      ],
      "execution_count": 242,
      "outputs": [
        {
          "output_type": "execute_result",
          "data": {
            "text/plain": [
              "Title\n",
              "Master    0.575000\n",
              "Miss      0.703297\n",
              "Mr        0.158192\n",
              "Mrs       0.775362\n",
              "Name: Survived, dtype: float64"
            ]
          },
          "metadata": {},
          "execution_count": 242
        }
      ]
    },
    {
      "cell_type": "code",
      "metadata": {
        "colab": {
          "base_uri": "https://localhost:8080/",
          "height": 387
        },
        "id": "OQ3RvyIhb-Xe",
        "outputId": "53cb71ed-f55c-4ab1-977b-dd3fbf22bd76"
      },
      "source": [
        "title_plot= sns.catplot(x=\"Title\", hue=\"Survived\", col=\"Survived\", data=train, kind=\"count\", sharey=False)\n",
        "title_plot.fig.subplots_adjust(top=0.7)\n",
        "title_plot.fig.suptitle(\"Survived by Title\")\n",
        "title_plot.set_xlabels(\"Titles\")\n",
        "title_plot.set_ylabels(\"Count\")\n",
        "plt.show()"
      ],
      "execution_count": 249,
      "outputs": [
        {
          "output_type": "display_data",
          "data": {
            "image/png": "[encoded data removed]",
            "text/plain": [
              "<Figure size 720x360 with 2 Axes>"
            ]
          },
          "metadata": {
            "needs_background": "light"
          }
        }
      ]
    },
    {
      "cell_type": "code",
      "metadata": {
        "colab": {
          "base_uri": "https://localhost:8080/"
        },
        "id": "J5dnoC8Pctaw",
        "outputId": "4b6c3401-e147-4db6-e8e9-04653f94f44d"
      },
      "source": [
        "train.max()"
      ],
      "execution_count": 250,
      "outputs": [
        {
          "output_type": "execute_result",
          "data": {
            "text/plain": [
              "PassengerId                                   891\n",
              "Survived                                        1\n",
              "Pclass                                          3\n",
              "Name                  van Melkebeke, Mr. Philemon\n",
              "Age                                            80\n",
              "SibSp                                           8\n",
              "Parch                                           6\n",
              "Ticket                                  WE/P 5735\n",
              "Fare                                      512.329\n",
              "Cabin                                     Unknown\n",
              "family_member_size                             11\n",
              "Sex_value                                       1\n",
              "Cabin_type_value                                8\n",
              "Embarked_value                                  2\n",
              "Title_value                                     3\n",
              "dtype: object"
            ]
          },
          "metadata": {},
          "execution_count": 250
        }
      ]
    },
    {
      "cell_type": "markdown",
      "metadata": {
        "id": "alVnVYuUSKKC"
      },
      "source": [
        "## Deep and Wide"
      ]
    },
    {
      "cell_type": "code",
      "metadata": {
        "colab": {
          "base_uri": "https://localhost:8080/"
        },
        "id": "FgsxvAnMSJep",
        "outputId": "a4312a05-0bcb-4a17-b5bf-ba4efc44c7ef"
      },
      "source": [
        "categorical_feature_names = [\"Pclass\", \"Sex_value\", \"Embarked_value\", \"Cabin_type_value\"]\n",
        "numerical_feature_names = [\"Age\", \"Fare\", \"SibSp\", \"Parch\", \"family_member_size\"]\n",
        "categorical_features = [\n",
        "    feature_column.indicator_column(\n",
        "        feature_column.categorical_column_with_vocabulary_list(key, sorted(list(train[key].unique())))\n",
        "    ) for key in categorical_feature_names\n",
        "]\n",
        "print(categorical_features)\n",
        "numerical_features = [feature_column.numeric_column(key) for key in numerical_feature_names]\n",
        "input_dictionary = dict()\n",
        "inputs = dict()\n",
        "for item in numerical_features:\n",
        "    inputs[item.key] = tf.keras.layers.Input(name=item.key, shape=())\n",
        "for item in categorical_features:\n",
        "    #print(item.categorical_column.key)\n",
        "    inputs[item.categorical_column.key] = tf.keras.layers.Input(name=item.categorical_column.key, shape=(), dtype=\"int32\")"
      ],
      "execution_count": null,
      "outputs": [
        {
          "output_type": "stream",
          "text": [
            "[IndicatorColumn(categorical_column=VocabularyListCategoricalColumn(key='Pclass', vocabulary_list=(1, 2, 3), dtype=tf.int64, default_value=-1, num_oov_buckets=0)), IndicatorColumn(categorical_column=VocabularyListCategoricalColumn(key='Sex_value', vocabulary_list=(0, 1), dtype=tf.int8, default_value=-1, num_oov_buckets=0)), IndicatorColumn(categorical_column=VocabularyListCategoricalColumn(key='Embarked_value', vocabulary_list=(0, 1, 2), dtype=tf.int8, default_value=-1, num_oov_buckets=0)), IndicatorColumn(categorical_column=VocabularyListCategoricalColumn(key='Cabin_type_value', vocabulary_list=(0, 1, 2, 3, 4, 5, 6, 7, 8), dtype=tf.int8, default_value=-1, num_oov_buckets=0))]\n"
          ],
          "name": "stdout"
        }
      ]
    },
    {
      "cell_type": "code",
      "metadata": {
        "id": "Rx0R2FauTNFX"
      },
      "source": [
        "# Source 2 \n",
        "# Helper Features\n",
        "def features_and_labels(row_data):\n",
        "    label = row_data.pop(\"Survived\")\n",
        "    features = row_data\n",
        "    return features, label\n",
        "\n",
        "def create_dataset(pattern, epochs=1, batch_size=32, mode='eval'):\n",
        "    dataset = tf.data.experimental.make_csv_dataset(\n",
        "        pattern, batch_size\n",
        "    )\n",
        "    dataset = dataset.map(features_and_labels)\n",
        "    if mode == 'train':\n",
        "        dataset = dataset.shuffle(buffer_size=128).repeat(epochs)\n",
        "  # print(dataset)\n",
        "    dataset = dataset.prefetch(1)\n",
        "  # print(\"after prefetch\\n\",dataset)\n",
        "    return dataset\n",
        "\n",
        "def create_test_dataset(pattern, batch_size=32):\n",
        "    dataset = tf.data.experimental.make_csv_dataset(\n",
        "        pattern, batch_size\n",
        "    )\n",
        "    dataset = dataset.map(lambda features: features)\n",
        "    dataset = dataset.prefetch(1)\n",
        "    return dataset"
      ],
      "execution_count": null,
      "outputs": []
    },
    {
      "cell_type": "code",
      "metadata": {
        "id": "K2ijhPhPYVX-"
      },
      "source": [
        "train_data, val_data = train_test_split(\n",
        "    train[categorical_feature_names + numerical_feature_names + [\"Survived\"]],\n",
        "    test_size=.2,\n",
        "    random_state=np.random.randint(0, 1000)\n",
        ")\n",
        "train_data.to_csv(\"train_data.csv\", index=False)\n",
        "val_data.to_csv(\"val_data.csv\", index=False)\n",
        "test[categorical_feature_names + numerical_feature_names].to_csv(\"test_data.csv\", index=False)\n",
        "batch_size = 32\n",
        "train_dataset = create_dataset(\"train_data.csv\", batch_size=batch_size, mode='train')\n",
        "val_dataset = create_dataset(\"val_data.csv\", batch_size=val_data.shape[0], mode='eval').take(1)\n",
        "test_dataset = create_test_dataset(\"test_data.csv\", batch_size = test.shape[0]).take(1)"
      ],
      "execution_count": null,
      "outputs": []
    },
    {
      "cell_type": "code",
      "metadata": {
        "id": "0tFv2kEdb2bd"
      },
      "source": [
        "# D&W Model\n",
        "def build_deep_and_wide_model():\n",
        "    deep = tf.keras.layers.DenseFeatures(numerical_features, name='deep')(inputs)\n",
        "    deep = tf.keras.layers.Dense(16, activation='relu')(deep)\n",
        "    deep = tf.keras.layers.Dropout(0.3)(deep)\n",
        "    deep = tf.keras.layers.Dense(16, activation='relu')(deep)\n",
        "    deep = tf.keras.layers.Dropout(0.3)(deep)\n",
        "    deep = tf.keras.layers.Dense(16, activation='relu')(deep)\n",
        "    deep = tf.keras.layers.Dropout(0.3)(deep)\n",
        "    deep = tf.keras.layers.Dense(16, activation='relu')(deep)\n",
        "    deep = tf.keras.layers.Dropout(0.3)(deep)\n",
        "    wide = tf.keras.layers.DenseFeatures(categorical_features, name='wide')(inputs)\n",
        "    wide = tf.keras.layers.Dense(32, activation='relu')(wide)\n",
        "    combined = tf.keras.layers.concatenate(inputs=[deep, wide], name='combined')\n",
        "    output = tf.keras.layers.Dense(1, activation=\"sigmoid\")(combined)\n",
        "    model = tf.keras.Model(inputs=list(inputs.values()), outputs=output)\n",
        "    model.compile(optimizer=\"adam\", loss=\"binary_crossentropy\", metrics=[\"accuracy\"])\n",
        "    return model"
      ],
      "execution_count": null,
      "outputs": []
    },
    {
      "cell_type": "code",
      "metadata": {
        "colab": {
          "base_uri": "https://localhost:8080/",
          "height": 371
        },
        "id": "pfCniP-CcCMC",
        "outputId": "67c81e9d-d6d8-48f7-a7bf-7704b4c45b56"
      },
      "source": [
        "deep_and_wide_model = build_deep_and_wide_model()\n",
        "tf.keras.utils.plot_model(deep_and_wide_model, show_shapes=False, rankdir='LR')"
      ],
      "execution_count": null,
      "outputs": [
        {
          "output_type": "execute_result",
          "data": {
            "image/png": "[encoded data removed]",
            "text/plain": [
              "<IPython.core.display.Image object>"
            ]
          },
          "metadata": {},
          "execution_count": 26
        }
      ]
    },
    {
      "cell_type": "code",
      "metadata": {
        "colab": {
          "base_uri": "https://localhost:8080/",
          "height": 282
        },
        "id": "Ljy-QhI4cH6x",
        "outputId": "ab87bf50-af6b-4a54-9768-711e8b1b524c"
      },
      "source": [
        "epochs = 400\n",
        "early_stop = tf.keras.callbacks.EarlyStopping(patience=10)\n",
        "steps_per_epoch = train_data.shape[0] // batch_size\n",
        "history = deep_and_wide_model.fit(\n",
        "    train_dataset, \n",
        "    steps_per_epoch=steps_per_epoch,\n",
        "    validation_data=val_dataset,\n",
        "    epochs=epochs,\n",
        "    callbacks=[early_stop],\n",
        "    verbose=0\n",
        ")\n",
        "pd.DataFrame(history.history).plot()"
      ],
      "execution_count": null,
      "outputs": [
        {
          "output_type": "execute_result",
          "data": {
            "text/plain": [
              "<matplotlib.axes._subplots.AxesSubplot at 0x7fa7de8c3450>"
            ]
          },
          "metadata": {},
          "execution_count": 27
        },
        {
          "output_type": "display_data",
          "data": {
            "image/png": "[encoded data removed]",
            "text/plain": [
              "<Figure size 432x288 with 1 Axes>"
            ]
          },
          "metadata": {
            "needs_background": "light"
          }
        }
      ]
    },
    {
      "cell_type": "code",
      "metadata": {
        "colab": {
          "base_uri": "https://localhost:8080/"
        },
        "id": "02IUfrl1pP8c",
        "outputId": "c9d2a279-6f52-4537-a1ce-a15172ca08d6"
      },
      "source": [
        "# y_pred =  np.array(deep_and_wide_model.predict(val_dataset) > 0.5, dtype=int).reshape(-1)\n",
        "y_pred = np.array(deep_and_wide_model.predict(val_dataset)>.5,dtype=int).reshape(-1)\n",
        "score = accuracy_score(val_data[\"Survived\"], y_pred)\n",
        "# print(\"y_pred\", y_pred)\n",
        "print(\"Accuracy score:\", score)\n",
        "print(sklearn.metrics.classification_report(val_data[\"Survived\"], y_pred))\n",
        "Survived = np.argmax(deep_and_wide_model.predict(test_dataset), axis=-1).reshape(-1)\n",
        "print(Survived.shape)"
      ],
      "execution_count": null,
      "outputs": [
        {
          "output_type": "stream",
          "text": [
            "Accuracy score: 0.5642458100558659\n",
            "              precision    recall  f1-score   support\n",
            "\n",
            "           0       0.62      0.72      0.67       109\n",
            "           1       0.42      0.31      0.36        70\n",
            "\n",
            "    accuracy                           0.56       179\n",
            "   macro avg       0.52      0.52      0.52       179\n",
            "weighted avg       0.54      0.56      0.55       179\n",
            "\n",
            "(418,)\n"
          ],
          "name": "stdout"
        }
      ]
    }
  ]
}