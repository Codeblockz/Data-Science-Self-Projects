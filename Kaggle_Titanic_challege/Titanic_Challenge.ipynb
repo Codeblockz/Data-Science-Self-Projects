{
  "nbformat": 4,
  "nbformat_minor": 0,
  "metadata": {
    "colab": {
      "name": "Titanic Challenge",
      "provenance": [],
      "collapsed_sections": [
        "rloYGa1O2oJW",
        "4cNYFgwR2vVC",
        "EoBHVXNY23za",
        "TwP_8oyq2_hH",
        "jDGXFym3aSLN",
        "zSLKKbNI1-hD",
        "EwY7TLmx2GbL",
        "60rjRkMj2pc3",
        "LVF2G8xx2OaF",
        "7Rck04oA2lCl",
        "idIWzjxz3jzz",
        "CgknpKVG4fO-",
        "wIzigOB-PbcN",
        "LEdyD134T6Z8",
        "alVnVYuUSKKC"
      ],
      "toc_visible": true,
      "mount_file_id": "1Bo0fHNsK9-bBBwfKhVUKr9u7derWX4ZZ",
      "authorship_tag": "ABX9TyOJr21MEKwcuzdEgyeg3euQ",
      "include_colab_link": true
    },
    "kernelspec": {
      "display_name": "Python 3",
      "name": "python3"
    },
    "language_info": {
      "name": "python"
    }
  },
  "cells": [
    {
      "cell_type": "markdown",
      "metadata": {
        "id": "view-in-github",
        "colab_type": "text"
      },
      "source": [
        "<a href=\"https://colab.research.google.com/github/Codeblockz/Data-Science-Self-Projects/blob/main/Kaggle_Titanic_challege/Titanic_Challenge.ipynb\" target=\"_parent\"><img src=\"https://colab.research.google.com/assets/colab-badge.svg\" alt=\"Open In Colab\"/></a>"
      ]
    },
    {
      "cell_type": "markdown",
      "metadata": {
        "id": "BgS7Cf1iNqMz"
      },
      "source": [
        "# Titanic Challenge Kaggle <br></br>\n",
        "[source 1](https://triangleinequality.wordpress.com/2013/09/08/basic-feature-engineering-with-the-titanic-data/)  <br></br>\n",
        "[source 2]( https://www.kaggle.com/lonnieqin/classification-with-sklearn-and-tensorflow)"
      ]
    },
    {
      "cell_type": "markdown",
      "metadata": {
        "id": "Bw4KCKlpo3NY"
      },
      "source": [
        "## Download Data"
      ]
    },
    {
      "cell_type": "code",
      "metadata": {
        "id": "w7N9brVmrmy3"
      },
      "source": [
        "# from google.colab import files\n",
        "# from os.path import exists\n",
        "# file_exists = exists(\"/content/kaggle.json\")\n",
        "# if (file_exists==False):\n",
        "#   files.upload()"
      ],
      "execution_count": 1,
      "outputs": []
    },
    {
      "cell_type": "code",
      "metadata": {
        "id": "o_Zd0u1QUm6A",
        "colab": {
          "base_uri": "https://localhost:8080/"
        },
        "outputId": "00489f7e-fec8-47e1-b638-d2baec9ca73d"
      },
      "source": [
        "%cd /content/drive/MyDrive/Colab Notebooks/Titanic"
      ],
      "execution_count": 2,
      "outputs": [
        {
          "output_type": "stream",
          "name": "stdout",
          "text": [
            "/content/drive/MyDrive/Colab Notebooks/Titanic\n"
          ]
        }
      ]
    },
    {
      "cell_type": "code",
      "metadata": {
        "id": "Q3MRT78nIFTa",
        "colab": {
          "base_uri": "https://localhost:8080/"
        },
        "outputId": "66996b5b-47a0-4883-fb9a-39c96706e798"
      },
      "source": [
        "! pip install -q kaggle\n",
        "!pip install --upgrade kaggle\n",
        "! mkdir ~/.kaggle\n",
        "! cp kaggle.json ~/.kaggle/\n",
        "! chmod 600 ~/.kaggle/kaggle.json"
      ],
      "execution_count": 3,
      "outputs": [
        {
          "output_type": "stream",
          "name": "stdout",
          "text": [
            "Requirement already satisfied: kaggle in /usr/local/lib/python3.7/dist-packages (1.5.12)\n",
            "Requirement already satisfied: six>=1.10 in /usr/local/lib/python3.7/dist-packages (from kaggle) (1.15.0)\n",
            "Requirement already satisfied: certifi in /usr/local/lib/python3.7/dist-packages (from kaggle) (2021.5.30)\n",
            "Requirement already satisfied: requests in /usr/local/lib/python3.7/dist-packages (from kaggle) (2.23.0)\n",
            "Requirement already satisfied: python-dateutil in /usr/local/lib/python3.7/dist-packages (from kaggle) (2.8.2)\n",
            "Requirement already satisfied: python-slugify in /usr/local/lib/python3.7/dist-packages (from kaggle) (5.0.2)\n",
            "Requirement already satisfied: urllib3 in /usr/local/lib/python3.7/dist-packages (from kaggle) (1.24.3)\n",
            "Requirement already satisfied: tqdm in /usr/local/lib/python3.7/dist-packages (from kaggle) (4.62.3)\n",
            "Requirement already satisfied: text-unidecode>=1.3 in /usr/local/lib/python3.7/dist-packages (from python-slugify->kaggle) (1.3)\n",
            "Requirement already satisfied: idna<3,>=2.5 in /usr/local/lib/python3.7/dist-packages (from requests->kaggle) (2.10)\n",
            "Requirement already satisfied: chardet<4,>=3.0.2 in /usr/local/lib/python3.7/dist-packages (from requests->kaggle) (3.0.4)\n"
          ]
        }
      ]
    },
    {
      "cell_type": "code",
      "metadata": {
        "id": "Yfs_KcO1OxRc",
        "colab": {
          "base_uri": "https://localhost:8080/"
        },
        "outputId": "21fb75d3-89fc-45b1-be00-91467a8821a3"
      },
      "source": [
        " ! kaggle competitions download titanic"
      ],
      "execution_count": 4,
      "outputs": [
        {
          "output_type": "stream",
          "name": "stdout",
          "text": [
            "Warning: Looks like you're using an outdated API Version, please consider updating (server 1.5.12 / client 1.5.4)\n",
            "test.csv: Skipping, found more recently modified local copy (use --force to force download)\n",
            "train.csv: Skipping, found more recently modified local copy (use --force to force download)\n",
            "gender_submission.csv: Skipping, found more recently modified local copy (use --force to force download)\n"
          ]
        }
      ]
    },
    {
      "cell_type": "markdown",
      "metadata": {
        "id": "XbTd_FImocOh"
      },
      "source": [
        "Start To work on geting data"
      ]
    },
    {
      "cell_type": "code",
      "metadata": {
        "id": "Id5f5e6TtP6s"
      },
      "source": [
        "import pandas as pd\n",
        "import numpy as np\n",
        "import matplotlib.pyplot as plt\n",
        "import sklearn\n",
        "import seaborn as sns\n",
        "import tensorflow as tf\n",
        "from tensorflow import feature_column\n",
        "from sklearn.ensemble import RandomForestClassifier\n",
        "from sklearn.neighbors import KNeighborsClassifier\n",
        "from sklearn import model_selection\n",
        "from sklearn.cluster import KMeans\n",
        "from sklearn.metrics import accuracy_score\n",
        "from sklearn.model_selection import train_test_split\n",
        "import string\n",
        "import copy\n",
        "from sklearn import preprocessing"
      ],
      "execution_count": 5,
      "outputs": []
    },
    {
      "cell_type": "code",
      "metadata": {
        "id": "t6CP77XNoa16",
        "colab": {
          "base_uri": "https://localhost:8080/",
          "height": 237
        },
        "outputId": "b7531f37-96fc-4b4c-a1d3-5903b11ff90d"
      },
      "source": [
        "# Load Data\n",
        "train = pd.read_csv(\"/content/drive/MyDrive/Colab Notebooks/Titanic/train.csv\")\n",
        "test = pd.read_csv(\"/content/drive/MyDrive/Colab Notebooks/Titanic/test.csv\")\n",
        "train1 = copy.copy(train)\n",
        "test1 = copy.copy(test)\n",
        "train.head()"
      ],
      "execution_count": 6,
      "outputs": [
        {
          "output_type": "execute_result",
          "data": {
            "text/html": [
              "<div>\n",
              "<style scoped>\n",
              "    .dataframe tbody tr th:only-of-type {\n",
              "        vertical-align: middle;\n",
              "    }\n",
              "\n",
              "    .dataframe tbody tr th {\n",
              "        vertical-align: top;\n",
              "    }\n",
              "\n",
              "    .dataframe thead th {\n",
              "        text-align: right;\n",
              "    }\n",
              "</style>\n",
              "<table border=\"1\" class=\"dataframe\">\n",
              "  <thead>\n",
              "    <tr style=\"text-align: right;\">\n",
              "      <th></th>\n",
              "      <th>PassengerId</th>\n",
              "      <th>Survived</th>\n",
              "      <th>Pclass</th>\n",
              "      <th>Name</th>\n",
              "      <th>Sex</th>\n",
              "      <th>Age</th>\n",
              "      <th>SibSp</th>\n",
              "      <th>Parch</th>\n",
              "      <th>Ticket</th>\n",
              "      <th>Fare</th>\n",
              "      <th>Cabin</th>\n",
              "      <th>Embarked</th>\n",
              "    </tr>\n",
              "  </thead>\n",
              "  <tbody>\n",
              "    <tr>\n",
              "      <th>0</th>\n",
              "      <td>1</td>\n",
              "      <td>0</td>\n",
              "      <td>3</td>\n",
              "      <td>Braund, Mr. Owen Harris</td>\n",
              "      <td>male</td>\n",
              "      <td>22.0</td>\n",
              "      <td>1</td>\n",
              "      <td>0</td>\n",
              "      <td>A/5 21171</td>\n",
              "      <td>7.2500</td>\n",
              "      <td>NaN</td>\n",
              "      <td>S</td>\n",
              "    </tr>\n",
              "    <tr>\n",
              "      <th>1</th>\n",
              "      <td>2</td>\n",
              "      <td>1</td>\n",
              "      <td>1</td>\n",
              "      <td>Cumings, Mrs. John Bradley (Florence Briggs Th...</td>\n",
              "      <td>female</td>\n",
              "      <td>38.0</td>\n",
              "      <td>1</td>\n",
              "      <td>0</td>\n",
              "      <td>PC 17599</td>\n",
              "      <td>71.2833</td>\n",
              "      <td>C85</td>\n",
              "      <td>C</td>\n",
              "    </tr>\n",
              "    <tr>\n",
              "      <th>2</th>\n",
              "      <td>3</td>\n",
              "      <td>1</td>\n",
              "      <td>3</td>\n",
              "      <td>Heikkinen, Miss. Laina</td>\n",
              "      <td>female</td>\n",
              "      <td>26.0</td>\n",
              "      <td>0</td>\n",
              "      <td>0</td>\n",
              "      <td>STON/O2. 3101282</td>\n",
              "      <td>7.9250</td>\n",
              "      <td>NaN</td>\n",
              "      <td>S</td>\n",
              "    </tr>\n",
              "    <tr>\n",
              "      <th>3</th>\n",
              "      <td>4</td>\n",
              "      <td>1</td>\n",
              "      <td>1</td>\n",
              "      <td>Futrelle, Mrs. Jacques Heath (Lily May Peel)</td>\n",
              "      <td>female</td>\n",
              "      <td>35.0</td>\n",
              "      <td>1</td>\n",
              "      <td>0</td>\n",
              "      <td>113803</td>\n",
              "      <td>53.1000</td>\n",
              "      <td>C123</td>\n",
              "      <td>S</td>\n",
              "    </tr>\n",
              "    <tr>\n",
              "      <th>4</th>\n",
              "      <td>5</td>\n",
              "      <td>0</td>\n",
              "      <td>3</td>\n",
              "      <td>Allen, Mr. William Henry</td>\n",
              "      <td>male</td>\n",
              "      <td>35.0</td>\n",
              "      <td>0</td>\n",
              "      <td>0</td>\n",
              "      <td>373450</td>\n",
              "      <td>8.0500</td>\n",
              "      <td>NaN</td>\n",
              "      <td>S</td>\n",
              "    </tr>\n",
              "  </tbody>\n",
              "</table>\n",
              "</div>"
            ],
            "text/plain": [
              "   PassengerId  Survived  Pclass  ...     Fare Cabin  Embarked\n",
              "0            1         0       3  ...   7.2500   NaN         S\n",
              "1            2         1       1  ...  71.2833   C85         C\n",
              "2            3         1       3  ...   7.9250   NaN         S\n",
              "3            4         1       1  ...  53.1000  C123         S\n",
              "4            5         0       3  ...   8.0500   NaN         S\n",
              "\n",
              "[5 rows x 12 columns]"
            ]
          },
          "metadata": {},
          "execution_count": 6
        }
      ]
    },
    {
      "cell_type": "markdown",
      "metadata": {
        "id": "JcsGDWzQWtPT"
      },
      "source": [
        "Check For Nulls\n"
      ]
    },
    {
      "cell_type": "code",
      "metadata": {
        "id": "a61edLRQYk7c",
        "colab": {
          "base_uri": "https://localhost:8080/"
        },
        "outputId": "da4cddf1-4a9e-4d09-a924-02eeb67b4ee2"
      },
      "source": [
        "train.isnull().sum()"
      ],
      "execution_count": 7,
      "outputs": [
        {
          "output_type": "execute_result",
          "data": {
            "text/plain": [
              "PassengerId      0\n",
              "Survived         0\n",
              "Pclass           0\n",
              "Name             0\n",
              "Sex              0\n",
              "Age            177\n",
              "SibSp            0\n",
              "Parch            0\n",
              "Ticket           0\n",
              "Fare             0\n",
              "Cabin          687\n",
              "Embarked         2\n",
              "dtype: int64"
            ]
          },
          "metadata": {},
          "execution_count": 7
        }
      ]
    },
    {
      "cell_type": "code",
      "metadata": {
        "id": "CgdW4SebYuky",
        "colab": {
          "base_uri": "https://localhost:8080/"
        },
        "outputId": "bbba6282-a4af-4a03-ba22-2c98c61313f9"
      },
      "source": [
        "test.isnull().sum()"
      ],
      "execution_count": 8,
      "outputs": [
        {
          "output_type": "execute_result",
          "data": {
            "text/plain": [
              "PassengerId      0\n",
              "Pclass           0\n",
              "Name             0\n",
              "Sex              0\n",
              "Age             86\n",
              "SibSp            0\n",
              "Parch            0\n",
              "Ticket           0\n",
              "Fare             1\n",
              "Cabin          327\n",
              "Embarked         0\n",
              "dtype: int64"
            ]
          },
          "metadata": {},
          "execution_count": 8
        }
      ]
    },
    {
      "cell_type": "markdown",
      "metadata": {
        "id": "_rACR2Z3WyvD"
      },
      "source": [
        "Check Data Types"
      ]
    },
    {
      "cell_type": "code",
      "metadata": {
        "id": "8gez8Iz3Y2Tc",
        "colab": {
          "base_uri": "https://localhost:8080/"
        },
        "outputId": "86bd10f6-a21b-4abb-b7be-ff32d5cf9afa"
      },
      "source": [
        "train.dtypes"
      ],
      "execution_count": 9,
      "outputs": [
        {
          "output_type": "execute_result",
          "data": {
            "text/plain": [
              "PassengerId      int64\n",
              "Survived         int64\n",
              "Pclass           int64\n",
              "Name            object\n",
              "Sex             object\n",
              "Age            float64\n",
              "SibSp            int64\n",
              "Parch            int64\n",
              "Ticket          object\n",
              "Fare           float64\n",
              "Cabin           object\n",
              "Embarked        object\n",
              "dtype: object"
            ]
          },
          "metadata": {},
          "execution_count": 9
        }
      ]
    },
    {
      "cell_type": "code",
      "metadata": {
        "id": "XkH8pplFY8wS",
        "colab": {
          "base_uri": "https://localhost:8080/"
        },
        "outputId": "677666d6-2e96-4f00-c2e2-ef746a970a17"
      },
      "source": [
        "test.dtypes"
      ],
      "execution_count": 10,
      "outputs": [
        {
          "output_type": "execute_result",
          "data": {
            "text/plain": [
              "PassengerId      int64\n",
              "Pclass           int64\n",
              "Name            object\n",
              "Sex             object\n",
              "Age            float64\n",
              "SibSp            int64\n",
              "Parch            int64\n",
              "Ticket          object\n",
              "Fare           float64\n",
              "Cabin           object\n",
              "Embarked        object\n",
              "dtype: object"
            ]
          },
          "metadata": {},
          "execution_count": 10
        }
      ]
    },
    {
      "cell_type": "markdown",
      "metadata": {
        "id": "EGZ6ng5aZtX1"
      },
      "source": [
        "# Data Scrubing "
      ]
    },
    {
      "cell_type": "markdown",
      "metadata": {
        "id": "rloYGa1O2oJW"
      },
      "source": [
        "## Replace NaN"
      ]
    },
    {
      "cell_type": "code",
      "metadata": {
        "id": "kkYmm5aTY_zx"
      },
      "source": [
        "# from source 2\n",
        "# Replace NAN\n",
        "# embark_label = train[\"Embarked\"].mode()[0]\n",
        "# train[\"Cabin\"] = train[\"Cabin\"].replace(np.NAN,  \"Unknown\")\n",
        "# train[\"Embarked\"] = train[\"Embarked\"].replace(np.NAN, embark_label)\n",
        "# train[\"Age\"] = train[\"Age\"].replace(np.NAN, train[\"Age\"].mean())\n",
        "\n",
        "# # Test Replace\n",
        "# test[\"Cabin\"] = test[\"Cabin\"].replace(np.NAN, \"Unknown\")\n",
        "# test[\"Age\"] = test[\"Age\"].replace(np.NAN, test[\"Age\"].mean())\n",
        "# test[\"Fare\"] = test[\"Fare\"].replace(np.NAN, test[\"Fare\"].mean())"
      ],
      "execution_count": 11,
      "outputs": []
    },
    {
      "cell_type": "code",
      "metadata": {
        "id": "A08PJHf1HJEy"
      },
      "source": [
        "def get_replaced_nan(data):\n",
        "  embark_label = data[\"Embarked\"].mode()[0]\n",
        "  data[\"Cabin\"] = data[\"Cabin\"].replace(np.NAN,  \"Unknown\")\n",
        "  data[\"Embarked\"] = data[\"Embarked\"].replace(np.NAN, embark_label)\n",
        "  data[\"Age\"] = data[\"Age\"].replace(np.NAN, data[\"Age\"].mean())\n",
        "  data[\"Fare\"] = data[\"Fare\"].replace(np.NAN, data[\"Fare\"].mean())\n",
        "  return data"
      ],
      "execution_count": 12,
      "outputs": []
    },
    {
      "cell_type": "markdown",
      "metadata": {
        "id": "4cNYFgwR2vVC"
      },
      "source": [
        "## Make Title Column"
      ]
    },
    {
      "cell_type": "code",
      "metadata": {
        "id": "mILkXDC1D4FD"
      },
      "source": [
        "# source 1\n",
        "def substrings_in_string(big_string, substrings):\n",
        "    for substring in substrings:\n",
        "        if big_string.find(substring) != -1:\n",
        "            return substring\n",
        "    # print(big_string) # For debug check\n",
        "    return np.nan"
      ],
      "execution_count": 13,
      "outputs": []
    },
    {
      "cell_type": "code",
      "metadata": {
        "id": "w4IrezLxbVW-"
      },
      "source": [
        "#replacing all titles with mr, mrs, miss, master\n",
        "def replace_titles(x):\n",
        "    title=x['Title']\n",
        "    if title in ['Don', 'Major', 'Capt', 'Jonkheer', 'Rev', 'Col']:\n",
        "        return 'Mr'\n",
        "    elif title in ['Countess', 'Mme']:\n",
        "        return 'Mrs'\n",
        "    elif title in ['Mlle', 'Ms']:\n",
        "        return 'Miss'\n",
        "    elif title =='Dr':\n",
        "        if x['Sex']=='Male':\n",
        "            return 'Mr'\n",
        "        else:\n",
        "            return 'Mrs'\n",
        "    else:\n",
        "        return title"
      ],
      "execution_count": 14,
      "outputs": []
    },
    {
      "cell_type": "code",
      "metadata": {
        "id": "0rM2id1PD9yW"
      },
      "source": [
        "# Apply function to data\n",
        "# title_list=['Mrs', 'Mr', 'Master', 'Miss', 'Major', 'Rev', 'Dr', 'Ms', 'Mlle',\n",
        "#             'Col', 'Capt', 'Mme', 'Countess', 'Don', 'Jonkheer']\n",
        "# train['Title']=train['Name'].map(lambda x: substrings_in_string(x, title_list))\n",
        "# test['Title'] = train['Name'].map(lambda x: substrings_in_string(x, title_list))\n",
        "# train['Title']=train.apply(replace_titles, axis=1)\n",
        "# test['Title']=test.apply(replace_titles, axis=1)"
      ],
      "execution_count": 15,
      "outputs": []
    },
    {
      "cell_type": "code",
      "metadata": {
        "id": "NHiSLAsKD_ex"
      },
      "source": [
        "def get_titles(data):\n",
        "  title_list=['Mrs', 'Mr', 'Master', 'Miss', 'Major', 'Rev', 'Dr', 'Ms', 'Mlle',\n",
        "            'Col', 'Capt', 'Mme', 'Countess', 'Don', 'Jonkheer']\n",
        "  data['Title']=data['Name'].map(lambda x: substrings_in_string(x, title_list))\n",
        "  data['Title']=data.apply(replace_titles, axis=1)\n",
        "  return data"
      ],
      "execution_count": 16,
      "outputs": []
    },
    {
      "cell_type": "code",
      "metadata": {
        "id": "4MJAxXb-YvCa",
        "colab": {
          "base_uri": "https://localhost:8080/"
        },
        "outputId": "80d4dd3e-ab7e-4da0-b5dd-a0e07fed4ea2"
      },
      "source": [
        "# data check\n",
        "#train.head()\n",
        "train.dtypes"
      ],
      "execution_count": 17,
      "outputs": [
        {
          "output_type": "execute_result",
          "data": {
            "text/plain": [
              "PassengerId      int64\n",
              "Survived         int64\n",
              "Pclass           int64\n",
              "Name            object\n",
              "Sex             object\n",
              "Age            float64\n",
              "SibSp            int64\n",
              "Parch            int64\n",
              "Ticket          object\n",
              "Fare           float64\n",
              "Cabin           object\n",
              "Embarked        object\n",
              "dtype: object"
            ]
          },
          "metadata": {},
          "execution_count": 17
        }
      ]
    },
    {
      "cell_type": "markdown",
      "metadata": {
        "id": "EoBHVXNY23za"
      },
      "source": [
        "## Make Cabin Type"
      ]
    },
    {
      "cell_type": "code",
      "metadata": {
        "id": "xri9oc3sfSSG"
      },
      "source": [
        "# Make cabin type\n",
        "# Source 2\n",
        "# train['Cabin_type'] = train[\"Cabin\"].apply(lambda cabin: cabin[0])\n",
        "# test[\"Cabin_type\"] = test[\"Cabin\"].apply(lambda cabin: cabin[0])\n",
        "# # Make New feature\n",
        "# train[\"family_member_size\"] = 1 + train[\"SibSp\"] + train[\"Parch\"]\n",
        "# test[\"family_member_size\"] = 1 + test[\"SibSp\"] + test[\"Parch\"]"
      ],
      "execution_count": 18,
      "outputs": []
    },
    {
      "cell_type": "code",
      "metadata": {
        "id": "r8TiNAG2zHNs",
        "colab": {
          "base_uri": "https://localhost:8080/",
          "height": 0
        },
        "outputId": "e070561b-0544-44fc-f743-355c13e2d778"
      },
      "source": [
        "# data check\n",
        "train.head()"
      ],
      "execution_count": 19,
      "outputs": [
        {
          "output_type": "execute_result",
          "data": {
            "text/html": [
              "<div>\n",
              "<style scoped>\n",
              "    .dataframe tbody tr th:only-of-type {\n",
              "        vertical-align: middle;\n",
              "    }\n",
              "\n",
              "    .dataframe tbody tr th {\n",
              "        vertical-align: top;\n",
              "    }\n",
              "\n",
              "    .dataframe thead th {\n",
              "        text-align: right;\n",
              "    }\n",
              "</style>\n",
              "<table border=\"1\" class=\"dataframe\">\n",
              "  <thead>\n",
              "    <tr style=\"text-align: right;\">\n",
              "      <th></th>\n",
              "      <th>PassengerId</th>\n",
              "      <th>Survived</th>\n",
              "      <th>Pclass</th>\n",
              "      <th>Name</th>\n",
              "      <th>Sex</th>\n",
              "      <th>Age</th>\n",
              "      <th>SibSp</th>\n",
              "      <th>Parch</th>\n",
              "      <th>Ticket</th>\n",
              "      <th>Fare</th>\n",
              "      <th>Cabin</th>\n",
              "      <th>Embarked</th>\n",
              "    </tr>\n",
              "  </thead>\n",
              "  <tbody>\n",
              "    <tr>\n",
              "      <th>0</th>\n",
              "      <td>1</td>\n",
              "      <td>0</td>\n",
              "      <td>3</td>\n",
              "      <td>Braund, Mr. Owen Harris</td>\n",
              "      <td>male</td>\n",
              "      <td>22.0</td>\n",
              "      <td>1</td>\n",
              "      <td>0</td>\n",
              "      <td>A/5 21171</td>\n",
              "      <td>7.2500</td>\n",
              "      <td>NaN</td>\n",
              "      <td>S</td>\n",
              "    </tr>\n",
              "    <tr>\n",
              "      <th>1</th>\n",
              "      <td>2</td>\n",
              "      <td>1</td>\n",
              "      <td>1</td>\n",
              "      <td>Cumings, Mrs. John Bradley (Florence Briggs Th...</td>\n",
              "      <td>female</td>\n",
              "      <td>38.0</td>\n",
              "      <td>1</td>\n",
              "      <td>0</td>\n",
              "      <td>PC 17599</td>\n",
              "      <td>71.2833</td>\n",
              "      <td>C85</td>\n",
              "      <td>C</td>\n",
              "    </tr>\n",
              "    <tr>\n",
              "      <th>2</th>\n",
              "      <td>3</td>\n",
              "      <td>1</td>\n",
              "      <td>3</td>\n",
              "      <td>Heikkinen, Miss. Laina</td>\n",
              "      <td>female</td>\n",
              "      <td>26.0</td>\n",
              "      <td>0</td>\n",
              "      <td>0</td>\n",
              "      <td>STON/O2. 3101282</td>\n",
              "      <td>7.9250</td>\n",
              "      <td>NaN</td>\n",
              "      <td>S</td>\n",
              "    </tr>\n",
              "    <tr>\n",
              "      <th>3</th>\n",
              "      <td>4</td>\n",
              "      <td>1</td>\n",
              "      <td>1</td>\n",
              "      <td>Futrelle, Mrs. Jacques Heath (Lily May Peel)</td>\n",
              "      <td>female</td>\n",
              "      <td>35.0</td>\n",
              "      <td>1</td>\n",
              "      <td>0</td>\n",
              "      <td>113803</td>\n",
              "      <td>53.1000</td>\n",
              "      <td>C123</td>\n",
              "      <td>S</td>\n",
              "    </tr>\n",
              "    <tr>\n",
              "      <th>4</th>\n",
              "      <td>5</td>\n",
              "      <td>0</td>\n",
              "      <td>3</td>\n",
              "      <td>Allen, Mr. William Henry</td>\n",
              "      <td>male</td>\n",
              "      <td>35.0</td>\n",
              "      <td>0</td>\n",
              "      <td>0</td>\n",
              "      <td>373450</td>\n",
              "      <td>8.0500</td>\n",
              "      <td>NaN</td>\n",
              "      <td>S</td>\n",
              "    </tr>\n",
              "  </tbody>\n",
              "</table>\n",
              "</div>"
            ],
            "text/plain": [
              "   PassengerId  Survived  Pclass  ...     Fare Cabin  Embarked\n",
              "0            1         0       3  ...   7.2500   NaN         S\n",
              "1            2         1       1  ...  71.2833   C85         C\n",
              "2            3         1       3  ...   7.9250   NaN         S\n",
              "3            4         1       1  ...  53.1000  C123         S\n",
              "4            5         0       3  ...   8.0500   NaN         S\n",
              "\n",
              "[5 rows x 12 columns]"
            ]
          },
          "metadata": {},
          "execution_count": 19
        }
      ]
    },
    {
      "cell_type": "code",
      "metadata": {
        "id": "MvCbF7XJY37L",
        "colab": {
          "base_uri": "https://localhost:8080/",
          "height": 0
        },
        "outputId": "c9f72d2b-93ae-4359-f884-9af5b80cb1ab"
      },
      "source": [
        "# data check \n",
        "test.head()"
      ],
      "execution_count": 20,
      "outputs": [
        {
          "output_type": "execute_result",
          "data": {
            "text/html": [
              "<div>\n",
              "<style scoped>\n",
              "    .dataframe tbody tr th:only-of-type {\n",
              "        vertical-align: middle;\n",
              "    }\n",
              "\n",
              "    .dataframe tbody tr th {\n",
              "        vertical-align: top;\n",
              "    }\n",
              "\n",
              "    .dataframe thead th {\n",
              "        text-align: right;\n",
              "    }\n",
              "</style>\n",
              "<table border=\"1\" class=\"dataframe\">\n",
              "  <thead>\n",
              "    <tr style=\"text-align: right;\">\n",
              "      <th></th>\n",
              "      <th>PassengerId</th>\n",
              "      <th>Pclass</th>\n",
              "      <th>Name</th>\n",
              "      <th>Sex</th>\n",
              "      <th>Age</th>\n",
              "      <th>SibSp</th>\n",
              "      <th>Parch</th>\n",
              "      <th>Ticket</th>\n",
              "      <th>Fare</th>\n",
              "      <th>Cabin</th>\n",
              "      <th>Embarked</th>\n",
              "    </tr>\n",
              "  </thead>\n",
              "  <tbody>\n",
              "    <tr>\n",
              "      <th>0</th>\n",
              "      <td>892</td>\n",
              "      <td>3</td>\n",
              "      <td>Kelly, Mr. James</td>\n",
              "      <td>male</td>\n",
              "      <td>34.5</td>\n",
              "      <td>0</td>\n",
              "      <td>0</td>\n",
              "      <td>330911</td>\n",
              "      <td>7.8292</td>\n",
              "      <td>NaN</td>\n",
              "      <td>Q</td>\n",
              "    </tr>\n",
              "    <tr>\n",
              "      <th>1</th>\n",
              "      <td>893</td>\n",
              "      <td>3</td>\n",
              "      <td>Wilkes, Mrs. James (Ellen Needs)</td>\n",
              "      <td>female</td>\n",
              "      <td>47.0</td>\n",
              "      <td>1</td>\n",
              "      <td>0</td>\n",
              "      <td>363272</td>\n",
              "      <td>7.0000</td>\n",
              "      <td>NaN</td>\n",
              "      <td>S</td>\n",
              "    </tr>\n",
              "    <tr>\n",
              "      <th>2</th>\n",
              "      <td>894</td>\n",
              "      <td>2</td>\n",
              "      <td>Myles, Mr. Thomas Francis</td>\n",
              "      <td>male</td>\n",
              "      <td>62.0</td>\n",
              "      <td>0</td>\n",
              "      <td>0</td>\n",
              "      <td>240276</td>\n",
              "      <td>9.6875</td>\n",
              "      <td>NaN</td>\n",
              "      <td>Q</td>\n",
              "    </tr>\n",
              "    <tr>\n",
              "      <th>3</th>\n",
              "      <td>895</td>\n",
              "      <td>3</td>\n",
              "      <td>Wirz, Mr. Albert</td>\n",
              "      <td>male</td>\n",
              "      <td>27.0</td>\n",
              "      <td>0</td>\n",
              "      <td>0</td>\n",
              "      <td>315154</td>\n",
              "      <td>8.6625</td>\n",
              "      <td>NaN</td>\n",
              "      <td>S</td>\n",
              "    </tr>\n",
              "    <tr>\n",
              "      <th>4</th>\n",
              "      <td>896</td>\n",
              "      <td>3</td>\n",
              "      <td>Hirvonen, Mrs. Alexander (Helga E Lindqvist)</td>\n",
              "      <td>female</td>\n",
              "      <td>22.0</td>\n",
              "      <td>1</td>\n",
              "      <td>1</td>\n",
              "      <td>3101298</td>\n",
              "      <td>12.2875</td>\n",
              "      <td>NaN</td>\n",
              "      <td>S</td>\n",
              "    </tr>\n",
              "  </tbody>\n",
              "</table>\n",
              "</div>"
            ],
            "text/plain": [
              "   PassengerId  Pclass  ... Cabin Embarked\n",
              "0          892       3  ...   NaN        Q\n",
              "1          893       3  ...   NaN        S\n",
              "2          894       2  ...   NaN        Q\n",
              "3          895       3  ...   NaN        S\n",
              "4          896       3  ...   NaN        S\n",
              "\n",
              "[5 rows x 11 columns]"
            ]
          },
          "metadata": {},
          "execution_count": 20
        }
      ]
    },
    {
      "cell_type": "markdown",
      "metadata": {
        "id": "TwP_8oyq2_hH"
      },
      "source": [
        "## Make Family Size Type"
      ]
    },
    {
      "cell_type": "markdown",
      "metadata": {
        "id": "EA1tBJKoirGy"
      },
      "source": [
        "The correlation bellow shows that Family size is not linearly related however there is a relationship between survival and family size"
      ]
    },
    {
      "cell_type": "code",
      "metadata": {
        "id": "TtkTa2rFF3i-"
      },
      "source": [
        "def convert_faimly_member_size(size):\n",
        "    if size == 1:\n",
        "        return \"single\"\n",
        "    elif size < 5:\n",
        "        return \"medium\"\n",
        "    else:\n",
        "        return \"large\""
      ],
      "execution_count": 21,
      "outputs": []
    },
    {
      "cell_type": "code",
      "metadata": {
        "id": "xB6SssG8KE3E"
      },
      "source": [
        "# should_add_family_member_type = True\n",
        "# if should_add_family_member_type:\n",
        "#     for data in [train, test]:\n",
        "#         data[\"family_member_type\"] = train[\"family_member_size\"].apply(convert_faimly_member_size)"
      ],
      "execution_count": 22,
      "outputs": []
    },
    {
      "cell_type": "markdown",
      "metadata": {
        "id": "C9L9Kxl23PjS"
      },
      "source": [
        "## Make Encoders"
      ]
    },
    {
      "cell_type": "code",
      "metadata": {
        "id": "G--W8K0RKIw9"
      },
      "source": [
        "#encode_vals = ['Sex','Cabin_type','Embarked','Title','family_member_type']\n",
        "VAL = ['Sex','Cabin_type','Embarked','Title','family_member_type']"
      ],
      "execution_count": 23,
      "outputs": []
    },
    {
      "cell_type": "code",
      "metadata": {
        "id": "4q0u3D68MfLf"
      },
      "source": [
        "# make non one hot encoded values\n",
        "def make_encode_num(data):\n",
        "  #val = ['Sex','Cabin_type','Embarked','Title','family_member_type']\n",
        "  for feature in VAL:\n",
        "    if feature in data.columns:\n",
        "      data[feature]=data[feature].astype('category')\n",
        "      data[feature+'_value']=np.int64(data[feature].cat.codes)\n",
        "  return data\n",
        "# train=make_encode_num(train)\n",
        "# test = make_encode_num(test)"
      ],
      "execution_count": 24,
      "outputs": []
    },
    {
      "cell_type": "code",
      "metadata": {
        "id": "UlJte4qu0s5H",
        "colab": {
          "base_uri": "https://localhost:8080/"
        },
        "outputId": "47902883-724c-4a04-83fb-442a3977bdb7"
      },
      "source": [
        "train.dtypes"
      ],
      "execution_count": 25,
      "outputs": [
        {
          "output_type": "execute_result",
          "data": {
            "text/plain": [
              "PassengerId      int64\n",
              "Survived         int64\n",
              "Pclass           int64\n",
              "Name            object\n",
              "Sex             object\n",
              "Age            float64\n",
              "SibSp            int64\n",
              "Parch            int64\n",
              "Ticket          object\n",
              "Fare           float64\n",
              "Cabin           object\n",
              "Embarked        object\n",
              "dtype: object"
            ]
          },
          "metadata": {},
          "execution_count": 25
        }
      ]
    },
    {
      "cell_type": "code",
      "metadata": {
        "id": "CjybWuqDiZ-f"
      },
      "source": [
        "# make one hot encoding\n",
        "# originally named one_hot_tit()\n",
        "# I only relized after I made the function how bad the naming was\n",
        "def one_hot(data, original_feature=False):\n",
        "  for feature in VAL:\n",
        "    if feature in data.columns:\n",
        "      temp = data[feature]\n",
        "      data= pd.get_dummies(data, columns=[feature], dtype=int)\n",
        "      data.pop(feature+'_value')\n",
        "      if original_feature == True :\n",
        "        data[feature]=temp\n",
        "  return data"
      ],
      "execution_count": 26,
      "outputs": []
    },
    {
      "cell_type": "markdown",
      "metadata": {
        "id": "OeugCzOJIKyK"
      },
      "source": [
        "## More Functions"
      ]
    },
    {
      "cell_type": "markdown",
      "metadata": {
        "id": "KrT5fvYju-Ov"
      },
      "source": [
        "### Get_Data"
      ]
    },
    {
      "cell_type": "code",
      "metadata": {
        "id": "cKwKfxtWIPfh"
      },
      "source": [
        "def get_data(data, should_add_family_member_type=False):\n",
        "  # Replace NaNs\n",
        "  data = get_replaced_nan(data)\n",
        "  # get titles\n",
        "  data = get_titles(data)\n",
        "  # Get Cabin type\n",
        "  data['Cabin_type'] = data[\"Cabin\"].apply(lambda cabin: cabin[0])\n",
        "  # Make New feature\n",
        "  data[\"family_member_size\"] = 1 + data[\"SibSp\"] + data[\"Parch\"]\n",
        "  # Family memeber\n",
        "  if should_add_family_member_type:\n",
        "    data[\"family_member_type\"] = data[\"family_member_size\"].apply(convert_faimly_member_size)\n",
        "  # encode\n",
        "  data = make_encode_num(data)\n",
        "  return data"
      ],
      "execution_count": 27,
      "outputs": []
    },
    {
      "cell_type": "markdown",
      "metadata": {
        "id": "ZBAqEyUtvDwI"
      },
      "source": [
        "### CleanUp"
      ]
    },
    {
      "cell_type": "code",
      "metadata": {
        "id": "ge-0Tbp5uSjJ"
      },
      "source": [
        "# make clean up\n",
        "# Assumes all data in column is same type\n",
        "# For numeric data\n",
        "def cleanUp(data):\n",
        "  for i in data.columns:\n",
        "    #print(data[i])\n",
        "    if isinstance(data[i].iloc[0],(np.float, np.integer))==False:\n",
        "      # print(i)\n",
        "      data.pop(i)\n",
        "  data.pop(\"PassengerId\")\n",
        "  return data "
      ],
      "execution_count": 28,
      "outputs": []
    },
    {
      "cell_type": "markdown",
      "metadata": {
        "id": "Z9JWe8LvvHc_"
      },
      "source": [
        "### getTuple"
      ]
    },
    {
      "cell_type": "code",
      "metadata": {
        "id": "pp_OLdNAA9Al"
      },
      "source": [
        "# number reshape\n",
        "def getTuple(Value):\n",
        "  x, y = Value.shape\n",
        "  z=1\n",
        "  t = (x,y,z)\n",
        "  return t "
      ],
      "execution_count": 29,
      "outputs": []
    },
    {
      "cell_type": "markdown",
      "metadata": {
        "id": "V5fZnqwzvKZt"
      },
      "source": [
        "### get_train_test"
      ]
    },
    {
      "cell_type": "code",
      "metadata": {
        "id": "ESKsi3D9RuxN"
      },
      "source": [
        "def get_train_test(data, isCC = False, isValUsed = False):\n",
        "  X = data.drop(\"Survived\", axis=1)\n",
        "  y = data[\"Survived\"]\n",
        "  #print(\"X shape: \", X.shape)\n",
        "  #print(X.values.reshape(891, 27,1))\n",
        "  X_train, X_val, y_train, y_val = train_test_split(X, y, test_size=0.2, random_state=42)\n",
        "  if isValUsed== True and isCC == True:\n",
        "    X_val, X_test, y_val, y_test = train_test_split(X_val, y_val, test_size=0.5, random_state=42)\n",
        "    X_test = X_test.values\n",
        "    y_test = y_test.values\n",
        "    X_test=np.expand_dims(X_test,axis=2)\n",
        "    #print(\"isvaluUsed = True and isCC= true\")\n",
        "  elif isValUsed==True and isCC == False:\n",
        "    X_val, X_test, y_val, y_test = train_test_split(X_val, y_val, test_size=0.5, random_state=42)\n",
        "    #print(\"isvalue = true and isCC false\")\n",
        "  else:\n",
        "    #print(\"isvalue false isCC false\")\n",
        "    X_test = 0\n",
        "    y_test = 0 \n",
        "  if isCC==True:\n",
        "    X_train=X_train.values\n",
        "    y_train= y_train.values\n",
        "    X_val= X_val.values\n",
        "    y_val=y_val.values\n",
        "    X_train=np.expand_dims(X_train,axis=2)\n",
        "    X_val=np.expand_dims(X_val,axis=2)\n",
        "  return (X_train, X_val, X_test, y_train, y_val, y_test)"
      ],
      "execution_count": 30,
      "outputs": []
    },
    {
      "cell_type": "code",
      "metadata": {
        "id": "3gOOQbuWc0DI"
      },
      "source": [
        "def get_train_test(data, isCC = False, isValUsed = False):\n",
        "  X = data.drop(\"Survived\", axis=1)\n",
        "  y = data[\"Survived\"]\n",
        "  #print(\"X shape: \", X.shape)\n",
        "  #print(X.values.reshape(891, 27,1))\n",
        "  X_train, X_val, y_train, y_val = train_test_split(X, y, test_size=0.2, random_state=42)\n",
        "  if isCC==True:\n",
        "    X_train=X_train.values\n",
        "    y_train= y_train.values\n",
        "    X_val= X_val.values\n",
        "    y_val=y_val.values\n",
        "    X_train=np.expand_dims(X_train,axis=2)\n",
        "    X_val=np.expand_dims(X_val,axis=2)\n",
        "  if isValUsed:\n",
        "    X_val, X_test, y_val, y_test = train_test_split(X_val, y_val, test_size=0.5, random_state=42)\n",
        "    #print(X_test.shape)\n",
        "  else: \n",
        "    X_test = 0\n",
        "    y_test = 0\n",
        "  return (X_train, X_val, X_test, y_train, y_val, y_test)"
      ],
      "execution_count": 31,
      "outputs": []
    },
    {
      "cell_type": "markdown",
      "metadata": {
        "id": "sm7C7YW5vOcM"
      },
      "source": [
        "### make_tensor"
      ]
    },
    {
      "cell_type": "code",
      "metadata": {
        "id": "xjczWbIS4Guz"
      },
      "source": [
        "# def make_tensor(data):\n",
        "#   X_train, X_val, X_test, y_train, y_val, y_test = get_train_test= get_train_test(data)\n",
        "#   print(\"X_train shape: \", X_train.shape)\n",
        "#   print(\"X_train Type: \", type(X_train))\n",
        "#   print(\"y_train: \",y_train.shape)\n",
        "#   train_tensor = tf.data.Dataset.from_tensor_slices((X_train.values, y_train.values))\n",
        "#   val_tensor = tf.data.Dataset.from_tensor_slices((X_val.values, y_val.values))\n",
        "#   return train_tensor, val_tensor"
      ],
      "execution_count": 32,
      "outputs": []
    },
    {
      "cell_type": "code",
      "metadata": {
        "id": "CzYJdr6c982j"
      },
      "source": [
        "# # Testing\n",
        "# ##################################\n",
        "# X = copy.copy(OH_train)\n",
        "# X = X.drop(\"Survived\", axis=1)\n",
        "# #print(\"X shape: \", X.shape)\n",
        "# xshap = X.shape\n",
        "# x, y = X.shape\n",
        "# t = (x,y,1)\n",
        "# #print(t)\n",
        "# OH_tt, OH_tv = make_tensor(OH_train)\n",
        "# OH_tt.element_spec"
      ],
      "execution_count": 33,
      "outputs": []
    },
    {
      "cell_type": "markdown",
      "metadata": {
        "id": "7zEDY2O33qwM"
      },
      "source": [
        "## Apply Functions"
      ]
    },
    {
      "cell_type": "markdown",
      "metadata": {
        "id": "jDGXFym3aSLN"
      },
      "source": [
        "### Manual Data Scrub and Format"
      ]
    },
    {
      "cell_type": "code",
      "metadata": {
        "id": "5WwpmKK6Kj0H"
      },
      "source": [
        "embark_label = train[\"Embarked\"].mode()[0]\n",
        "train[\"Cabin\"] = train[\"Cabin\"].replace(np.NAN,  \"Unknown\")\n",
        "train[\"Embarked\"] = train[\"Embarked\"].replace(np.NAN, embark_label)\n",
        "train[\"Age\"] = train[\"Age\"].replace(np.NAN, train[\"Age\"].mean())\n",
        "# Test Replace\n",
        "test[\"Cabin\"] = test[\"Cabin\"].replace(np.NAN, \"Unknown\")\n",
        "test[\"Age\"] = test[\"Age\"].replace(np.NAN, test[\"Age\"].mean())\n",
        "test[\"Fare\"] = test[\"Fare\"].replace(np.NAN, test[\"Fare\"].mean())\n",
        "# Make Titles\n",
        "title_list=['Mrs', 'Mr', 'Master', 'Miss', 'Major', 'Rev', 'Dr', 'Ms', 'Mlle',\n",
        "            'Col', 'Capt', 'Mme', 'Countess', 'Don', 'Jonkheer']\n",
        "train['Title']=train['Name'].map(lambda x: substrings_in_string(x, title_list))\n",
        "test['Title'] = train['Name'].map(lambda x: substrings_in_string(x, title_list))\n",
        "train['Title']=train.apply(replace_titles, axis=1)\n",
        "test['Title']=test.apply(replace_titles, axis=1)\n",
        "# Make Cabin Type\n",
        "train['Cabin_type'] = train[\"Cabin\"].apply(lambda cabin: cabin[0])\n",
        "test[\"Cabin_type\"] = test[\"Cabin\"].apply(lambda cabin: cabin[0])\n",
        "# Family Size\n",
        "train[\"family_member_size\"] = 1 + train[\"SibSp\"] + train[\"Parch\"]\n",
        "test[\"family_member_size\"] = 1 + test[\"SibSp\"] + test[\"Parch\"]\n",
        "# family size type\n",
        "should_add_family_member_type = True\n",
        "if should_add_family_member_type:\n",
        "    for data in [train, test]:\n",
        "        data[\"family_member_type\"] = train[\"family_member_size\"].apply(convert_faimly_member_size)\n",
        "# regular encode\n",
        "train = make_encode_num(train)\n",
        "test = make_encode_num(test)"
      ],
      "execution_count": 34,
      "outputs": []
    },
    {
      "cell_type": "markdown",
      "metadata": {
        "id": "dXHNXoZbadQA"
      },
      "source": [
        "### Express Data Scrub and Format"
      ]
    },
    {
      "cell_type": "code",
      "metadata": {
        "id": "IAps4Z-EalId"
      },
      "source": [
        "# For Simplicity\n",
        "train_test = pd.concat([train1,test1])\n",
        "train_test = get_data(train_test, True)\n",
        "train = train_test.iloc[0:len(train)]\n",
        "test = train_test.iloc[len(train):]"
      ],
      "execution_count": 35,
      "outputs": []
    },
    {
      "cell_type": "markdown",
      "metadata": {
        "id": "8N6iMFAgE6il"
      },
      "source": [
        "### One Hot encode Data\n",
        "- Prepare data for models <br>\n",
        "- OH stands for one hot <br>\n",
        "- EN stands for encoded, not one hot, it is Label encoding <br>\n",
        "- Use concat to save time"
      ]
    },
    {
      "cell_type": "code",
      "metadata": {
        "id": "HdVxSZj731gB",
        "colab": {
          "base_uri": "https://localhost:8080/"
        },
        "outputId": "17af9294-f22e-4cf9-ed98-8fdf09ed4c09"
      },
      "source": [
        "OH_train_test = pd.concat([train,test])\n",
        "EN_train_test = pd.concat([train, test])\n",
        "# print shape and size for latter\n",
        "print(\"Train Shape: \",train.shape)\n",
        "print(\"Train Size: \", len(train))"
      ],
      "execution_count": 36,
      "outputs": [
        {
          "output_type": "stream",
          "name": "stdout",
          "text": [
            "Train Shape:  (891, 21)\n",
            "Train Size:  891\n"
          ]
        }
      ]
    },
    {
      "cell_type": "code",
      "metadata": {
        "id": "5Ws5_CGBaAGH"
      },
      "source": [
        "# apply OH\n",
        "# remember to apply with and without family type and size\n",
        "OH_train_test=one_hot(OH_train_test, False)\n",
        "OH_train_test = cleanUp(OH_train_test)\n",
        "OH_train_test[\"Survived\"] = OH_train_test[\"Survived\"].replace(np.NAN, np.int(1))\n",
        "# Apply EN\n",
        "EN_train_test = cleanUp(EN_train_test)\n",
        "EN_train_test[\"Survived\"] = EN_train_test[\"Survived\"].replace(np.NAN, np.int(1))"
      ],
      "execution_count": 37,
      "outputs": []
    },
    {
      "cell_type": "code",
      "metadata": {
        "id": "tOzACTs6sqM1"
      },
      "source": [
        "# Testing\n",
        "##########################################\n",
        "# pd.set_option('display.max_rows', None)\n",
        "# pd.set_option('display.max_columns', None)\n",
        "# pd.set_option('display.width',None)\n",
        "# pd.set_option('display.max_colwidth', -1)\n",
        "# pd.reset_option(\"^display\")\n",
        "# OH_train_test#"
      ],
      "execution_count": 38,
      "outputs": []
    },
    {
      "cell_type": "code",
      "metadata": {
        "id": "sV-kfQ4Ya1TG",
        "colab": {
          "base_uri": "https://localhost:8080/"
        },
        "outputId": "e3c1c57f-c17f-4e83-e2b1-2c20ca94d1de"
      },
      "source": [
        "OH_train_test.dtypes"
      ],
      "execution_count": 39,
      "outputs": [
        {
          "output_type": "execute_result",
          "data": {
            "text/plain": [
              "Survived                     float64\n",
              "Pclass                         int64\n",
              "Age                          float64\n",
              "SibSp                          int64\n",
              "Parch                          int64\n",
              "Fare                         float64\n",
              "family_member_size             int64\n",
              "Sex_female                     int64\n",
              "Sex_male                       int64\n",
              "Cabin_type_A                   int64\n",
              "Cabin_type_B                   int64\n",
              "Cabin_type_C                   int64\n",
              "Cabin_type_D                   int64\n",
              "Cabin_type_E                   int64\n",
              "Cabin_type_F                   int64\n",
              "Cabin_type_G                   int64\n",
              "Cabin_type_T                   int64\n",
              "Cabin_type_U                   int64\n",
              "Embarked_C                     int64\n",
              "Embarked_Q                     int64\n",
              "Embarked_S                     int64\n",
              "Title_Master                   int64\n",
              "Title_Miss                     int64\n",
              "Title_Mr                       int64\n",
              "Title_Mrs                      int64\n",
              "family_member_type_large       int64\n",
              "family_member_type_medium      int64\n",
              "family_member_type_single      int64\n",
              "dtype: object"
            ]
          },
          "metadata": {},
          "execution_count": 39
        }
      ]
    },
    {
      "cell_type": "markdown",
      "metadata": {
        "id": "qu35J0qJFqxF"
      },
      "source": [
        "### Normalization "
      ]
    },
    {
      "cell_type": "code",
      "metadata": {
        "id": "VY0UYv0B4IrF"
      },
      "source": [
        "# Scaling\n",
        "min_max_scaler = preprocessing.MinMaxScaler()\n",
        "OH_scaled = min_max_scaler.fit_transform(OH_train_test)\n",
        "EN_scaled = min_max_scaler.fit_transform(EN_train_test)\n",
        "OH_train_test = pd.DataFrame(OH_scaled, columns=OH_train_test.columns)\n",
        "EN_train_test = pd.DataFrame(EN_scaled, columns=EN_train_test.columns)"
      ],
      "execution_count": 40,
      "outputs": []
    },
    {
      "cell_type": "code",
      "metadata": {
        "id": "umjkEbdZ4LR9"
      },
      "source": [
        "# train and test\n",
        "EN_train = EN_train_test.iloc[0:len(train)]\n",
        "OH_train = OH_train_test.iloc[0:len(train)]\n",
        "EN_test = EN_train_test.iloc[len(train):]\n",
        "OH_test = OH_train_test.iloc[len(train):]\n",
        "EN_test = EN_test.drop(\"Survived\", axis=1)\n",
        "OH_test = OH_test.drop(\"Survived\", axis=1)"
      ],
      "execution_count": 41,
      "outputs": []
    },
    {
      "cell_type": "code",
      "metadata": {
        "id": "MBvGEYeFq3Mc",
        "colab": {
          "base_uri": "https://localhost:8080/",
          "height": 437
        },
        "outputId": "0da2c35c-e658-47ca-c731-c9dd54463a29"
      },
      "source": [
        "# data check\n",
        "OH_train_test.head()\n",
        "# OH_train.shape\n",
        "# OH_tt.element_spec\n",
        "EN_test"
      ],
      "execution_count": 42,
      "outputs": [
        {
          "output_type": "execute_result",
          "data": {
            "text/html": [
              "<div>\n",
              "<style scoped>\n",
              "    .dataframe tbody tr th:only-of-type {\n",
              "        vertical-align: middle;\n",
              "    }\n",
              "\n",
              "    .dataframe tbody tr th {\n",
              "        vertical-align: top;\n",
              "    }\n",
              "\n",
              "    .dataframe thead th {\n",
              "        text-align: right;\n",
              "    }\n",
              "</style>\n",
              "<table border=\"1\" class=\"dataframe\">\n",
              "  <thead>\n",
              "    <tr style=\"text-align: right;\">\n",
              "      <th></th>\n",
              "      <th>Pclass</th>\n",
              "      <th>Age</th>\n",
              "      <th>SibSp</th>\n",
              "      <th>Parch</th>\n",
              "      <th>Fare</th>\n",
              "      <th>family_member_size</th>\n",
              "      <th>Sex_value</th>\n",
              "      <th>Cabin_type_value</th>\n",
              "      <th>Embarked_value</th>\n",
              "      <th>Title_value</th>\n",
              "      <th>family_member_type_value</th>\n",
              "    </tr>\n",
              "  </thead>\n",
              "  <tbody>\n",
              "    <tr>\n",
              "      <th>891</th>\n",
              "      <td>1.0</td>\n",
              "      <td>0.430039</td>\n",
              "      <td>0.000</td>\n",
              "      <td>0.000000</td>\n",
              "      <td>0.015282</td>\n",
              "      <td>0.0</td>\n",
              "      <td>1.0</td>\n",
              "      <td>1.00</td>\n",
              "      <td>0.5</td>\n",
              "      <td>0.666667</td>\n",
              "      <td>1.0</td>\n",
              "    </tr>\n",
              "    <tr>\n",
              "      <th>892</th>\n",
              "      <td>1.0</td>\n",
              "      <td>0.586622</td>\n",
              "      <td>0.125</td>\n",
              "      <td>0.000000</td>\n",
              "      <td>0.013663</td>\n",
              "      <td>0.1</td>\n",
              "      <td>0.0</td>\n",
              "      <td>1.00</td>\n",
              "      <td>1.0</td>\n",
              "      <td>1.000000</td>\n",
              "      <td>0.5</td>\n",
              "    </tr>\n",
              "    <tr>\n",
              "      <th>893</th>\n",
              "      <td>0.5</td>\n",
              "      <td>0.774521</td>\n",
              "      <td>0.000</td>\n",
              "      <td>0.000000</td>\n",
              "      <td>0.018909</td>\n",
              "      <td>0.0</td>\n",
              "      <td>1.0</td>\n",
              "      <td>1.00</td>\n",
              "      <td>0.5</td>\n",
              "      <td>0.666667</td>\n",
              "      <td>1.0</td>\n",
              "    </tr>\n",
              "    <tr>\n",
              "      <th>894</th>\n",
              "      <td>1.0</td>\n",
              "      <td>0.336089</td>\n",
              "      <td>0.000</td>\n",
              "      <td>0.000000</td>\n",
              "      <td>0.016908</td>\n",
              "      <td>0.0</td>\n",
              "      <td>1.0</td>\n",
              "      <td>1.00</td>\n",
              "      <td>1.0</td>\n",
              "      <td>0.666667</td>\n",
              "      <td>1.0</td>\n",
              "    </tr>\n",
              "    <tr>\n",
              "      <th>895</th>\n",
              "      <td>1.0</td>\n",
              "      <td>0.273456</td>\n",
              "      <td>0.125</td>\n",
              "      <td>0.111111</td>\n",
              "      <td>0.023984</td>\n",
              "      <td>0.2</td>\n",
              "      <td>0.0</td>\n",
              "      <td>1.00</td>\n",
              "      <td>1.0</td>\n",
              "      <td>1.000000</td>\n",
              "      <td>0.5</td>\n",
              "    </tr>\n",
              "    <tr>\n",
              "      <th>...</th>\n",
              "      <td>...</td>\n",
              "      <td>...</td>\n",
              "      <td>...</td>\n",
              "      <td>...</td>\n",
              "      <td>...</td>\n",
              "      <td>...</td>\n",
              "      <td>...</td>\n",
              "      <td>...</td>\n",
              "      <td>...</td>\n",
              "      <td>...</td>\n",
              "      <td>...</td>\n",
              "    </tr>\n",
              "    <tr>\n",
              "      <th>1304</th>\n",
              "      <td>1.0</td>\n",
              "      <td>0.372180</td>\n",
              "      <td>0.000</td>\n",
              "      <td>0.000000</td>\n",
              "      <td>0.015713</td>\n",
              "      <td>0.0</td>\n",
              "      <td>1.0</td>\n",
              "      <td>1.00</td>\n",
              "      <td>1.0</td>\n",
              "      <td>0.666667</td>\n",
              "      <td>1.0</td>\n",
              "    </tr>\n",
              "    <tr>\n",
              "      <th>1305</th>\n",
              "      <td>0.0</td>\n",
              "      <td>0.486409</td>\n",
              "      <td>0.000</td>\n",
              "      <td>0.000000</td>\n",
              "      <td>0.212559</td>\n",
              "      <td>0.0</td>\n",
              "      <td>0.0</td>\n",
              "      <td>0.25</td>\n",
              "      <td>0.0</td>\n",
              "      <td>0.666667</td>\n",
              "      <td>1.0</td>\n",
              "    </tr>\n",
              "    <tr>\n",
              "      <th>1306</th>\n",
              "      <td>1.0</td>\n",
              "      <td>0.480145</td>\n",
              "      <td>0.000</td>\n",
              "      <td>0.000000</td>\n",
              "      <td>0.014151</td>\n",
              "      <td>0.0</td>\n",
              "      <td>1.0</td>\n",
              "      <td>1.00</td>\n",
              "      <td>1.0</td>\n",
              "      <td>0.666667</td>\n",
              "      <td>1.0</td>\n",
              "    </tr>\n",
              "    <tr>\n",
              "      <th>1307</th>\n",
              "      <td>1.0</td>\n",
              "      <td>0.372180</td>\n",
              "      <td>0.000</td>\n",
              "      <td>0.000000</td>\n",
              "      <td>0.015713</td>\n",
              "      <td>0.0</td>\n",
              "      <td>1.0</td>\n",
              "      <td>1.00</td>\n",
              "      <td>1.0</td>\n",
              "      <td>0.666667</td>\n",
              "      <td>1.0</td>\n",
              "    </tr>\n",
              "    <tr>\n",
              "      <th>1308</th>\n",
              "      <td>1.0</td>\n",
              "      <td>0.372180</td>\n",
              "      <td>0.125</td>\n",
              "      <td>0.111111</td>\n",
              "      <td>0.043640</td>\n",
              "      <td>0.2</td>\n",
              "      <td>1.0</td>\n",
              "      <td>1.00</td>\n",
              "      <td>0.0</td>\n",
              "      <td>0.000000</td>\n",
              "      <td>0.5</td>\n",
              "    </tr>\n",
              "  </tbody>\n",
              "</table>\n",
              "<p>418 rows × 11 columns</p>\n",
              "</div>"
            ],
            "text/plain": [
              "      Pclass       Age  ...  Title_value  family_member_type_value\n",
              "891      1.0  0.430039  ...     0.666667                       1.0\n",
              "892      1.0  0.586622  ...     1.000000                       0.5\n",
              "893      0.5  0.774521  ...     0.666667                       1.0\n",
              "894      1.0  0.336089  ...     0.666667                       1.0\n",
              "895      1.0  0.273456  ...     1.000000                       0.5\n",
              "...      ...       ...  ...          ...                       ...\n",
              "1304     1.0  0.372180  ...     0.666667                       1.0\n",
              "1305     0.0  0.486409  ...     0.666667                       1.0\n",
              "1306     1.0  0.480145  ...     0.666667                       1.0\n",
              "1307     1.0  0.372180  ...     0.666667                       1.0\n",
              "1308     1.0  0.372180  ...     0.000000                       0.5\n",
              "\n",
              "[418 rows x 11 columns]"
            ]
          },
          "metadata": {},
          "execution_count": 42
        }
      ]
    },
    {
      "cell_type": "code",
      "metadata": {
        "id": "GkTMbvQ4ZNFY",
        "colab": {
          "base_uri": "https://localhost:8080/",
          "height": 442
        },
        "outputId": "a0111f2c-ea91-498c-c5a6-296c7d43f724"
      },
      "source": [
        "# data check\n",
        "test.head()"
      ],
      "execution_count": 43,
      "outputs": [
        {
          "output_type": "execute_result",
          "data": {
            "text/html": [
              "<div>\n",
              "<style scoped>\n",
              "    .dataframe tbody tr th:only-of-type {\n",
              "        vertical-align: middle;\n",
              "    }\n",
              "\n",
              "    .dataframe tbody tr th {\n",
              "        vertical-align: top;\n",
              "    }\n",
              "\n",
              "    .dataframe thead th {\n",
              "        text-align: right;\n",
              "    }\n",
              "</style>\n",
              "<table border=\"1\" class=\"dataframe\">\n",
              "  <thead>\n",
              "    <tr style=\"text-align: right;\">\n",
              "      <th></th>\n",
              "      <th>PassengerId</th>\n",
              "      <th>Survived</th>\n",
              "      <th>Pclass</th>\n",
              "      <th>Name</th>\n",
              "      <th>Sex</th>\n",
              "      <th>Age</th>\n",
              "      <th>SibSp</th>\n",
              "      <th>Parch</th>\n",
              "      <th>Ticket</th>\n",
              "      <th>Fare</th>\n",
              "      <th>Cabin</th>\n",
              "      <th>Embarked</th>\n",
              "      <th>Title</th>\n",
              "      <th>Cabin_type</th>\n",
              "      <th>family_member_size</th>\n",
              "      <th>family_member_type</th>\n",
              "      <th>Sex_value</th>\n",
              "      <th>Cabin_type_value</th>\n",
              "      <th>Embarked_value</th>\n",
              "      <th>Title_value</th>\n",
              "      <th>family_member_type_value</th>\n",
              "    </tr>\n",
              "  </thead>\n",
              "  <tbody>\n",
              "    <tr>\n",
              "      <th>0</th>\n",
              "      <td>892</td>\n",
              "      <td>NaN</td>\n",
              "      <td>3</td>\n",
              "      <td>Kelly, Mr. James</td>\n",
              "      <td>male</td>\n",
              "      <td>34.5</td>\n",
              "      <td>0</td>\n",
              "      <td>0</td>\n",
              "      <td>330911</td>\n",
              "      <td>7.8292</td>\n",
              "      <td>Unknown</td>\n",
              "      <td>Q</td>\n",
              "      <td>Mr</td>\n",
              "      <td>U</td>\n",
              "      <td>1</td>\n",
              "      <td>single</td>\n",
              "      <td>1</td>\n",
              "      <td>8</td>\n",
              "      <td>1</td>\n",
              "      <td>2</td>\n",
              "      <td>2</td>\n",
              "    </tr>\n",
              "    <tr>\n",
              "      <th>1</th>\n",
              "      <td>893</td>\n",
              "      <td>NaN</td>\n",
              "      <td>3</td>\n",
              "      <td>Wilkes, Mrs. James (Ellen Needs)</td>\n",
              "      <td>female</td>\n",
              "      <td>47.0</td>\n",
              "      <td>1</td>\n",
              "      <td>0</td>\n",
              "      <td>363272</td>\n",
              "      <td>7.0000</td>\n",
              "      <td>Unknown</td>\n",
              "      <td>S</td>\n",
              "      <td>Mrs</td>\n",
              "      <td>U</td>\n",
              "      <td>2</td>\n",
              "      <td>medium</td>\n",
              "      <td>0</td>\n",
              "      <td>8</td>\n",
              "      <td>2</td>\n",
              "      <td>3</td>\n",
              "      <td>1</td>\n",
              "    </tr>\n",
              "    <tr>\n",
              "      <th>2</th>\n",
              "      <td>894</td>\n",
              "      <td>NaN</td>\n",
              "      <td>2</td>\n",
              "      <td>Myles, Mr. Thomas Francis</td>\n",
              "      <td>male</td>\n",
              "      <td>62.0</td>\n",
              "      <td>0</td>\n",
              "      <td>0</td>\n",
              "      <td>240276</td>\n",
              "      <td>9.6875</td>\n",
              "      <td>Unknown</td>\n",
              "      <td>Q</td>\n",
              "      <td>Mr</td>\n",
              "      <td>U</td>\n",
              "      <td>1</td>\n",
              "      <td>single</td>\n",
              "      <td>1</td>\n",
              "      <td>8</td>\n",
              "      <td>1</td>\n",
              "      <td>2</td>\n",
              "      <td>2</td>\n",
              "    </tr>\n",
              "    <tr>\n",
              "      <th>3</th>\n",
              "      <td>895</td>\n",
              "      <td>NaN</td>\n",
              "      <td>3</td>\n",
              "      <td>Wirz, Mr. Albert</td>\n",
              "      <td>male</td>\n",
              "      <td>27.0</td>\n",
              "      <td>0</td>\n",
              "      <td>0</td>\n",
              "      <td>315154</td>\n",
              "      <td>8.6625</td>\n",
              "      <td>Unknown</td>\n",
              "      <td>S</td>\n",
              "      <td>Mr</td>\n",
              "      <td>U</td>\n",
              "      <td>1</td>\n",
              "      <td>single</td>\n",
              "      <td>1</td>\n",
              "      <td>8</td>\n",
              "      <td>2</td>\n",
              "      <td>2</td>\n",
              "      <td>2</td>\n",
              "    </tr>\n",
              "    <tr>\n",
              "      <th>4</th>\n",
              "      <td>896</td>\n",
              "      <td>NaN</td>\n",
              "      <td>3</td>\n",
              "      <td>Hirvonen, Mrs. Alexander (Helga E Lindqvist)</td>\n",
              "      <td>female</td>\n",
              "      <td>22.0</td>\n",
              "      <td>1</td>\n",
              "      <td>1</td>\n",
              "      <td>3101298</td>\n",
              "      <td>12.2875</td>\n",
              "      <td>Unknown</td>\n",
              "      <td>S</td>\n",
              "      <td>Mrs</td>\n",
              "      <td>U</td>\n",
              "      <td>3</td>\n",
              "      <td>medium</td>\n",
              "      <td>0</td>\n",
              "      <td>8</td>\n",
              "      <td>2</td>\n",
              "      <td>3</td>\n",
              "      <td>1</td>\n",
              "    </tr>\n",
              "  </tbody>\n",
              "</table>\n",
              "</div>"
            ],
            "text/plain": [
              "   PassengerId  Survived  ...  Title_value family_member_type_value\n",
              "0          892       NaN  ...            2                        2\n",
              "1          893       NaN  ...            3                        1\n",
              "2          894       NaN  ...            2                        2\n",
              "3          895       NaN  ...            2                        2\n",
              "4          896       NaN  ...            3                        1\n",
              "\n",
              "[5 rows x 21 columns]"
            ]
          },
          "metadata": {},
          "execution_count": 43
        }
      ]
    },
    {
      "cell_type": "code",
      "metadata": {
        "id": "FXX8yy-MprZs"
      },
      "source": [
        "#temp.corr()[\"Survived\"].sort_values(key=lambda x: abs(x), ascending=False)"
      ],
      "execution_count": 44,
      "outputs": []
    },
    {
      "cell_type": "markdown",
      "metadata": {
        "id": "EC5P2yWllZ-6"
      },
      "source": [
        "# Exploratory Data Analysis For Survival"
      ]
    },
    {
      "cell_type": "code",
      "metadata": {
        "id": "6_fcvegjQ19l",
        "colab": {
          "base_uri": "https://localhost:8080/"
        },
        "outputId": "43b1fb2e-1115-4cbb-9e90-7acb4e34877e"
      },
      "source": [
        "train.info()"
      ],
      "execution_count": 45,
      "outputs": [
        {
          "output_type": "stream",
          "name": "stdout",
          "text": [
            "<class 'pandas.core.frame.DataFrame'>\n",
            "Int64Index: 891 entries, 0 to 890\n",
            "Data columns (total 21 columns):\n",
            " #   Column                    Non-Null Count  Dtype   \n",
            "---  ------                    --------------  -----   \n",
            " 0   PassengerId               891 non-null    int64   \n",
            " 1   Survived                  891 non-null    float64 \n",
            " 2   Pclass                    891 non-null    int64   \n",
            " 3   Name                      891 non-null    object  \n",
            " 4   Sex                       891 non-null    category\n",
            " 5   Age                       891 non-null    float64 \n",
            " 6   SibSp                     891 non-null    int64   \n",
            " 7   Parch                     891 non-null    int64   \n",
            " 8   Ticket                    891 non-null    object  \n",
            " 9   Fare                      891 non-null    float64 \n",
            " 10  Cabin                     891 non-null    object  \n",
            " 11  Embarked                  891 non-null    category\n",
            " 12  Title                     891 non-null    category\n",
            " 13  Cabin_type                891 non-null    category\n",
            " 14  family_member_size        891 non-null    int64   \n",
            " 15  family_member_type        891 non-null    category\n",
            " 16  Sex_value                 891 non-null    int64   \n",
            " 17  Cabin_type_value          891 non-null    int64   \n",
            " 18  Embarked_value            891 non-null    int64   \n",
            " 19  Title_value               891 non-null    int64   \n",
            " 20  family_member_type_value  891 non-null    int64   \n",
            "dtypes: category(5), float64(3), int64(10), object(3)\n",
            "memory usage: 123.6+ KB\n"
          ]
        }
      ]
    },
    {
      "cell_type": "code",
      "metadata": {
        "id": "6roykRdUl2gq",
        "colab": {
          "base_uri": "https://localhost:8080/",
          "height": 315
        },
        "outputId": "d5daac3b-be02-4cb6-fa59-4c24d7f057d7"
      },
      "source": [
        "train.describe()"
      ],
      "execution_count": 46,
      "outputs": [
        {
          "output_type": "execute_result",
          "data": {
            "text/html": [
              "<div>\n",
              "<style scoped>\n",
              "    .dataframe tbody tr th:only-of-type {\n",
              "        vertical-align: middle;\n",
              "    }\n",
              "\n",
              "    .dataframe tbody tr th {\n",
              "        vertical-align: top;\n",
              "    }\n",
              "\n",
              "    .dataframe thead th {\n",
              "        text-align: right;\n",
              "    }\n",
              "</style>\n",
              "<table border=\"1\" class=\"dataframe\">\n",
              "  <thead>\n",
              "    <tr style=\"text-align: right;\">\n",
              "      <th></th>\n",
              "      <th>PassengerId</th>\n",
              "      <th>Survived</th>\n",
              "      <th>Pclass</th>\n",
              "      <th>Age</th>\n",
              "      <th>SibSp</th>\n",
              "      <th>Parch</th>\n",
              "      <th>Fare</th>\n",
              "      <th>family_member_size</th>\n",
              "      <th>Sex_value</th>\n",
              "      <th>Cabin_type_value</th>\n",
              "      <th>Embarked_value</th>\n",
              "      <th>Title_value</th>\n",
              "      <th>family_member_type_value</th>\n",
              "    </tr>\n",
              "  </thead>\n",
              "  <tbody>\n",
              "    <tr>\n",
              "      <th>count</th>\n",
              "      <td>891.000000</td>\n",
              "      <td>891.000000</td>\n",
              "      <td>891.000000</td>\n",
              "      <td>891.000000</td>\n",
              "      <td>891.000000</td>\n",
              "      <td>891.000000</td>\n",
              "      <td>891.000000</td>\n",
              "      <td>891.000000</td>\n",
              "      <td>891.000000</td>\n",
              "      <td>891.000000</td>\n",
              "      <td>891.000000</td>\n",
              "      <td>891.000000</td>\n",
              "      <td>891.000000</td>\n",
              "    </tr>\n",
              "    <tr>\n",
              "      <th>mean</th>\n",
              "      <td>446.000000</td>\n",
              "      <td>0.383838</td>\n",
              "      <td>2.308642</td>\n",
              "      <td>29.735277</td>\n",
              "      <td>0.523008</td>\n",
              "      <td>0.381594</td>\n",
              "      <td>32.204208</td>\n",
              "      <td>1.904602</td>\n",
              "      <td>0.647587</td>\n",
              "      <td>6.716049</td>\n",
              "      <td>1.536476</td>\n",
              "      <td>1.860831</td>\n",
              "      <td>1.533109</td>\n",
              "    </tr>\n",
              "    <tr>\n",
              "      <th>std</th>\n",
              "      <td>257.353842</td>\n",
              "      <td>0.486592</td>\n",
              "      <td>0.836071</td>\n",
              "      <td>13.002218</td>\n",
              "      <td>1.102743</td>\n",
              "      <td>0.806057</td>\n",
              "      <td>49.693429</td>\n",
              "      <td>1.613459</td>\n",
              "      <td>0.477990</td>\n",
              "      <td>2.460739</td>\n",
              "      <td>0.791503</td>\n",
              "      <td>0.721066</td>\n",
              "      <td>0.623305</td>\n",
              "    </tr>\n",
              "    <tr>\n",
              "      <th>min</th>\n",
              "      <td>1.000000</td>\n",
              "      <td>0.000000</td>\n",
              "      <td>1.000000</td>\n",
              "      <td>0.420000</td>\n",
              "      <td>0.000000</td>\n",
              "      <td>0.000000</td>\n",
              "      <td>0.000000</td>\n",
              "      <td>1.000000</td>\n",
              "      <td>0.000000</td>\n",
              "      <td>0.000000</td>\n",
              "      <td>0.000000</td>\n",
              "      <td>0.000000</td>\n",
              "      <td>0.000000</td>\n",
              "    </tr>\n",
              "    <tr>\n",
              "      <th>25%</th>\n",
              "      <td>223.500000</td>\n",
              "      <td>0.000000</td>\n",
              "      <td>2.000000</td>\n",
              "      <td>22.000000</td>\n",
              "      <td>0.000000</td>\n",
              "      <td>0.000000</td>\n",
              "      <td>7.910400</td>\n",
              "      <td>1.000000</td>\n",
              "      <td>0.000000</td>\n",
              "      <td>8.000000</td>\n",
              "      <td>1.000000</td>\n",
              "      <td>2.000000</td>\n",
              "      <td>1.000000</td>\n",
              "    </tr>\n",
              "    <tr>\n",
              "      <th>50%</th>\n",
              "      <td>446.000000</td>\n",
              "      <td>0.000000</td>\n",
              "      <td>3.000000</td>\n",
              "      <td>29.881138</td>\n",
              "      <td>0.000000</td>\n",
              "      <td>0.000000</td>\n",
              "      <td>14.454200</td>\n",
              "      <td>1.000000</td>\n",
              "      <td>1.000000</td>\n",
              "      <td>8.000000</td>\n",
              "      <td>2.000000</td>\n",
              "      <td>2.000000</td>\n",
              "      <td>2.000000</td>\n",
              "    </tr>\n",
              "    <tr>\n",
              "      <th>75%</th>\n",
              "      <td>668.500000</td>\n",
              "      <td>1.000000</td>\n",
              "      <td>3.000000</td>\n",
              "      <td>35.000000</td>\n",
              "      <td>1.000000</td>\n",
              "      <td>0.000000</td>\n",
              "      <td>31.000000</td>\n",
              "      <td>2.000000</td>\n",
              "      <td>1.000000</td>\n",
              "      <td>8.000000</td>\n",
              "      <td>2.000000</td>\n",
              "      <td>2.000000</td>\n",
              "      <td>2.000000</td>\n",
              "    </tr>\n",
              "    <tr>\n",
              "      <th>max</th>\n",
              "      <td>891.000000</td>\n",
              "      <td>1.000000</td>\n",
              "      <td>3.000000</td>\n",
              "      <td>80.000000</td>\n",
              "      <td>8.000000</td>\n",
              "      <td>6.000000</td>\n",
              "      <td>512.329200</td>\n",
              "      <td>11.000000</td>\n",
              "      <td>1.000000</td>\n",
              "      <td>8.000000</td>\n",
              "      <td>2.000000</td>\n",
              "      <td>3.000000</td>\n",
              "      <td>2.000000</td>\n",
              "    </tr>\n",
              "  </tbody>\n",
              "</table>\n",
              "</div>"
            ],
            "text/plain": [
              "       PassengerId    Survived  ...  Title_value  family_member_type_value\n",
              "count   891.000000  891.000000  ...   891.000000                891.000000\n",
              "mean    446.000000    0.383838  ...     1.860831                  1.533109\n",
              "std     257.353842    0.486592  ...     0.721066                  0.623305\n",
              "min       1.000000    0.000000  ...     0.000000                  0.000000\n",
              "25%     223.500000    0.000000  ...     2.000000                  1.000000\n",
              "50%     446.000000    0.000000  ...     2.000000                  2.000000\n",
              "75%     668.500000    1.000000  ...     2.000000                  2.000000\n",
              "max     891.000000    1.000000  ...     3.000000                  2.000000\n",
              "\n",
              "[8 rows x 13 columns]"
            ]
          },
          "metadata": {},
          "execution_count": 46
        }
      ]
    },
    {
      "cell_type": "markdown",
      "metadata": {
        "id": "zSLKKbNI1-hD"
      },
      "source": [
        "## Survival by Cabin Type"
      ]
    },
    {
      "cell_type": "code",
      "metadata": {
        "id": "dUyR1x-y0kUK",
        "colab": {
          "base_uri": "https://localhost:8080/"
        },
        "outputId": "4c09764d-06ce-44e3-86c7-5969ac50d190"
      },
      "source": [
        "train.groupby(\"Cabin_type\")[\"Survived\"].mean()"
      ],
      "execution_count": 47,
      "outputs": [
        {
          "output_type": "execute_result",
          "data": {
            "text/plain": [
              "Cabin_type\n",
              "A    0.466667\n",
              "B    0.744681\n",
              "C    0.593220\n",
              "D    0.757576\n",
              "E    0.750000\n",
              "F    0.615385\n",
              "G    0.500000\n",
              "T    0.000000\n",
              "U    0.299854\n",
              "Name: Survived, dtype: float64"
            ]
          },
          "metadata": {},
          "execution_count": 47
        }
      ]
    },
    {
      "cell_type": "code",
      "metadata": {
        "id": "vHQ9TUU_ngU2",
        "colab": {
          "base_uri": "https://localhost:8080/",
          "height": 0
        },
        "outputId": "5bd7485d-8935-4d72-d6fd-dae3cb5eb39c"
      },
      "source": [
        "sns.countplot(x=\"Cabin_type\",hue=\"Survived\", data=train)\n",
        "plt.title(\"Survival of Cabin Type\")\n",
        "plt.show()"
      ],
      "execution_count": 48,
      "outputs": [
        {
          "output_type": "display_data",
          "data": {
            "image/png": "[encoded data removed]",
            "text/plain": [
              "<Figure size 432x288 with 1 Axes>"
            ]
          },
          "metadata": {
            "needs_background": "light"
          }
        }
      ]
    },
    {
      "cell_type": "code",
      "metadata": {
        "id": "VvVY1EiZ6y-i",
        "colab": {
          "base_uri": "https://localhost:8080/",
          "height": 0
        },
        "outputId": "cd00e790-6551-452c-c8a0-73b7d5d711ba"
      },
      "source": [
        "cabin_type_plot= sns.catplot(x=\"Cabin_type\", hue=\"Survived\", col=\"Survived\", data=train, kind=\"count\", sharey=False)\n",
        "cabin_type_plot.fig.subplots_adjust(top=0.7)\n",
        "cabin_type_plot.fig.suptitle(\"Survived by Cabin Type\")\n",
        "cabin_type_plot.set_xlabels(\"Cabin Types\")\n",
        "cabin_type_plot.set_ylabels(\"Count\")\n",
        "plt.show()"
      ],
      "execution_count": 49,
      "outputs": [
        {
          "output_type": "display_data",
          "data": {
            "image/png": "[encoded data removed]",
            "text/plain": [
              "<Figure size 720x360 with 2 Axes>"
            ]
          },
          "metadata": {
            "needs_background": "light"
          }
        }
      ]
    },
    {
      "cell_type": "markdown",
      "metadata": {
        "id": "EwY7TLmx2GbL"
      },
      "source": [
        "## Survival by Pclass"
      ]
    },
    {
      "cell_type": "code",
      "metadata": {
        "id": "zrtsfRrI1dtv",
        "colab": {
          "base_uri": "https://localhost:8080/"
        },
        "outputId": "b2dc4ad8-0267-496a-a605-96a0927b6aff"
      },
      "source": [
        "train.groupby(\"Pclass\")[\"Survived\"].mean()"
      ],
      "execution_count": 50,
      "outputs": [
        {
          "output_type": "execute_result",
          "data": {
            "text/plain": [
              "Pclass\n",
              "1    0.629630\n",
              "2    0.472826\n",
              "3    0.242363\n",
              "Name: Survived, dtype: float64"
            ]
          },
          "metadata": {},
          "execution_count": 50
        }
      ]
    },
    {
      "cell_type": "code",
      "metadata": {
        "id": "-xia5CSv1imE",
        "colab": {
          "base_uri": "https://localhost:8080/",
          "height": 0
        },
        "outputId": "e86a89aa-48ed-494c-fcef-ea8897a7fae0"
      },
      "source": [
        "sns.countplot(x=\"Pclass\",hue=\"Survived\", data=train)\n",
        "plt.title(\"Survival of Pclass\")\n",
        "plt.show()"
      ],
      "execution_count": 51,
      "outputs": [
        {
          "output_type": "display_data",
          "data": {
            "image/png": "[encoded data removed]",
            "text/plain": [
              "<Figure size 432x288 with 1 Axes>"
            ]
          },
          "metadata": {
            "needs_background": "light"
          }
        }
      ]
    },
    {
      "cell_type": "markdown",
      "metadata": {
        "id": "60rjRkMj2pc3"
      },
      "source": [
        "## Survival by Sex"
      ]
    },
    {
      "cell_type": "code",
      "metadata": {
        "id": "7Z-7yfC720Kr",
        "colab": {
          "base_uri": "https://localhost:8080/"
        },
        "outputId": "397191c1-15f5-49fc-b9af-9bb10d6d171c"
      },
      "source": [
        "train.groupby(\"Pclass\")[\"Survived\"].mean()"
      ],
      "execution_count": 52,
      "outputs": [
        {
          "output_type": "execute_result",
          "data": {
            "text/plain": [
              "Pclass\n",
              "1    0.629630\n",
              "2    0.472826\n",
              "3    0.242363\n",
              "Name: Survived, dtype: float64"
            ]
          },
          "metadata": {},
          "execution_count": 52
        }
      ]
    },
    {
      "cell_type": "code",
      "metadata": {
        "id": "tzFJMB5C2sEt",
        "colab": {
          "base_uri": "https://localhost:8080/",
          "height": 0
        },
        "outputId": "a45136cb-c3a4-42ee-bc82-04957dfe8226"
      },
      "source": [
        "sns.countplot(x=\"Sex\",hue=\"Survived\", data=train)\n",
        "plt.title(\"Survival of Sex\")\n",
        "plt.show()"
      ],
      "execution_count": 53,
      "outputs": [
        {
          "output_type": "display_data",
          "data": {
            "image/png": "[encoded data removed]",
            "text/plain": [
              "<Figure size 432x288 with 1 Axes>"
            ]
          },
          "metadata": {
            "needs_background": "light"
          }
        }
      ]
    },
    {
      "cell_type": "markdown",
      "metadata": {
        "id": "LVF2G8xx2OaF"
      },
      "source": [
        "## Survival by Age"
      ]
    },
    {
      "cell_type": "code",
      "metadata": {
        "id": "Pf8-SoG-ueNy",
        "colab": {
          "base_uri": "https://localhost:8080/",
          "height": 0
        },
        "outputId": "85b637d4-c2e5-49d4-944d-b8dd72e38a07"
      },
      "source": [
        "sns.FacetGrid(train, col=\"Survived\").map(sns.histplot, \"Age\", bins=25)\n",
        "plt.show()"
      ],
      "execution_count": 54,
      "outputs": [
        {
          "output_type": "display_data",
          "data": {
            "image/png": "[encoded data removed]",
            "text/plain": [
              "<Figure size 432x216 with 2 Axes>"
            ]
          },
          "metadata": {
            "needs_background": "light"
          }
        }
      ]
    },
    {
      "cell_type": "markdown",
      "metadata": {
        "id": "7Rck04oA2lCl"
      },
      "source": [
        "## Survial by Sibsp"
      ]
    },
    {
      "cell_type": "code",
      "metadata": {
        "id": "b9TYVF2c3Tsv",
        "colab": {
          "base_uri": "https://localhost:8080/"
        },
        "outputId": "a98be2b2-6581-4cfe-c441-55cd08966c87"
      },
      "source": [
        "train.groupby(\"SibSp\")[\"Survived\"].mean()"
      ],
      "execution_count": 55,
      "outputs": [
        {
          "output_type": "execute_result",
          "data": {
            "text/plain": [
              "SibSp\n",
              "0    0.345395\n",
              "1    0.535885\n",
              "2    0.464286\n",
              "3    0.250000\n",
              "4    0.166667\n",
              "5    0.000000\n",
              "8    0.000000\n",
              "Name: Survived, dtype: float64"
            ]
          },
          "metadata": {},
          "execution_count": 55
        }
      ]
    },
    {
      "cell_type": "code",
      "metadata": {
        "id": "M3esKIa83aIA",
        "colab": {
          "base_uri": "https://localhost:8080/",
          "height": 0
        },
        "outputId": "625aa377-7760-412b-e288-f0ed27a44830"
      },
      "source": [
        "sns.countplot(x=\"SibSp\",hue=\"Survived\", data=train)\n",
        "plt.title(\"Survival of SibSp\")\n",
        "plt.show()"
      ],
      "execution_count": 56,
      "outputs": [
        {
          "output_type": "display_data",
          "data": {
            "image/png": "[encoded data removed]",
            "text/plain": [
              "<Figure size 432x288 with 1 Axes>"
            ]
          },
          "metadata": {
            "needs_background": "light"
          }
        }
      ]
    },
    {
      "cell_type": "markdown",
      "metadata": {
        "id": "idIWzjxz3jzz"
      },
      "source": [
        "## Survival by Parch"
      ]
    },
    {
      "cell_type": "code",
      "metadata": {
        "id": "DzFdARRf3qvj",
        "colab": {
          "base_uri": "https://localhost:8080/"
        },
        "outputId": "95ac9ef9-8d47-4720-85d5-f92117ee9263"
      },
      "source": [
        "train.groupby(\"Parch\")[\"Survived\"].mean()"
      ],
      "execution_count": 57,
      "outputs": [
        {
          "output_type": "execute_result",
          "data": {
            "text/plain": [
              "Parch\n",
              "0    0.343658\n",
              "1    0.550847\n",
              "2    0.500000\n",
              "3    0.600000\n",
              "4    0.000000\n",
              "5    0.200000\n",
              "6    0.000000\n",
              "Name: Survived, dtype: float64"
            ]
          },
          "metadata": {},
          "execution_count": 57
        }
      ]
    },
    {
      "cell_type": "code",
      "metadata": {
        "id": "V1DAuebwxHOr",
        "colab": {
          "base_uri": "https://localhost:8080/",
          "height": 0
        },
        "outputId": "858fed05-98cf-42ac-9c23-4eb7ef715698"
      },
      "source": [
        "sns.countplot(x=\"Parch\",hue=\"Survived\", data=train)\n",
        "plt.title(\"Survival of Parch\")\n",
        "plt.show()\n"
      ],
      "execution_count": 58,
      "outputs": [
        {
          "output_type": "display_data",
          "data": {
            "image/png": "[encoded data removed]",
            "text/plain": [
              "<Figure size 432x288 with 1 Axes>"
            ]
          },
          "metadata": {
            "needs_background": "light"
          }
        }
      ]
    },
    {
      "cell_type": "markdown",
      "metadata": {
        "id": "CgknpKVG4fO-"
      },
      "source": [
        "## Survival by Fare\n"
      ]
    },
    {
      "cell_type": "code",
      "metadata": {
        "id": "ZMQdmGpk4h8a",
        "colab": {
          "base_uri": "https://localhost:8080/",
          "height": 0
        },
        "outputId": "90d6c9f9-97b9-4239-be0b-557ceada3549"
      },
      "source": [
        "Fare_plot=sns.FacetGrid(train, col=\"Survived\", sharey=False)\n",
        "Fare_plot.map(sns.histplot, \"Fare\",bins=20)\n",
        "Fare_plot.fig.subplots_adjust(top=0.7)\n",
        "Fare_plot.fig.suptitle(\"Survived by Fare\")\n",
        "Fare_plot.set_xlabels(\"Fare\")\n",
        "Fare_plot.set_ylabels(\"Count\")\n",
        "plt.show()"
      ],
      "execution_count": 59,
      "outputs": [
        {
          "output_type": "display_data",
          "data": {
            "image/png": "[encoded data removed]",
            "text/plain": [
              "<Figure size 432x216 with 2 Axes>"
            ]
          },
          "metadata": {
            "needs_background": "light"
          }
        }
      ]
    },
    {
      "cell_type": "markdown",
      "metadata": {
        "id": "wIzigOB-PbcN"
      },
      "source": [
        "## Survival by Embarked\n"
      ]
    },
    {
      "cell_type": "code",
      "metadata": {
        "id": "8prfgTM1PkzB",
        "colab": {
          "base_uri": "https://localhost:8080/"
        },
        "outputId": "afc3047b-0de6-46bb-fb88-f20089870209"
      },
      "source": [
        "train.groupby(\"Embarked\")[\"Survived\"].mean()"
      ],
      "execution_count": 60,
      "outputs": [
        {
          "output_type": "execute_result",
          "data": {
            "text/plain": [
              "Embarked\n",
              "C    0.553571\n",
              "Q    0.389610\n",
              "S    0.339009\n",
              "Name: Survived, dtype: float64"
            ]
          },
          "metadata": {},
          "execution_count": 60
        }
      ]
    },
    {
      "cell_type": "code",
      "metadata": {
        "id": "bGAO5wJTP3-L",
        "colab": {
          "base_uri": "https://localhost:8080/",
          "height": 0
        },
        "outputId": "8de722e8-c647-4b0c-a731-2d5a3499f769"
      },
      "source": [
        "sns.countplot(x=\"Embarked\",hue=\"Survived\",data=train)\n",
        "plt.title(\"Survival of Embarked\")\n",
        "plt.show()"
      ],
      "execution_count": 61,
      "outputs": [
        {
          "output_type": "display_data",
          "data": {
            "image/png": "[encoded data removed]",
            "text/plain": [
              "<Figure size 432x288 with 1 Axes>"
            ]
          },
          "metadata": {
            "needs_background": "light"
          }
        }
      ]
    },
    {
      "cell_type": "markdown",
      "metadata": {
        "id": "LEdyD134T6Z8"
      },
      "source": [
        "## Survived by Title"
      ]
    },
    {
      "cell_type": "code",
      "metadata": {
        "id": "-Y1cUtNEUEOu",
        "colab": {
          "base_uri": "https://localhost:8080/"
        },
        "outputId": "4b2e01cd-d1a0-4c6e-92cc-3392928962ea"
      },
      "source": [
        "train.groupby(\"Title\")[\"Survived\"].mean()"
      ],
      "execution_count": 62,
      "outputs": [
        {
          "output_type": "execute_result",
          "data": {
            "text/plain": [
              "Title\n",
              "Master    0.575000\n",
              "Miss      0.703297\n",
              "Mr        0.158192\n",
              "Mrs       0.775362\n",
              "Name: Survived, dtype: float64"
            ]
          },
          "metadata": {},
          "execution_count": 62
        }
      ]
    },
    {
      "cell_type": "code",
      "metadata": {
        "id": "OQ3RvyIhb-Xe",
        "colab": {
          "base_uri": "https://localhost:8080/",
          "height": 0
        },
        "outputId": "935af208-44f7-4d76-b496-a859b809d8e1"
      },
      "source": [
        "title_plot= sns.catplot(x=\"Title\", hue=\"Survived\", col=\"Survived\", data=train, kind=\"count\", sharey=False)\n",
        "title_plot.fig.subplots_adjust(top=0.7)\n",
        "title_plot.fig.suptitle(\"Survived by Title\")\n",
        "title_plot.set_xlabels(\"Titles\")\n",
        "title_plot.set_ylabels(\"Count\")\n",
        "plt.show()"
      ],
      "execution_count": 63,
      "outputs": [
        {
          "output_type": "display_data",
          "data": {
            "image/png": "[encoded data removed]",
            "text/plain": [
              "<Figure size 720x360 with 2 Axes>"
            ]
          },
          "metadata": {
            "needs_background": "light"
          }
        }
      ]
    },
    {
      "cell_type": "code",
      "metadata": {
        "id": "J5dnoC8Pctaw",
        "colab": {
          "base_uri": "https://localhost:8080/"
        },
        "outputId": "d7e0bb77-dfc6-4256-d1c8-3eff63b97344"
      },
      "source": [
        "train.max()"
      ],
      "execution_count": 64,
      "outputs": [
        {
          "output_type": "execute_result",
          "data": {
            "text/plain": [
              "PassengerId                                         891\n",
              "Survived                                              1\n",
              "Pclass                                                3\n",
              "Name                        van Melkebeke, Mr. Philemon\n",
              "Age                                                  80\n",
              "SibSp                                                 8\n",
              "Parch                                                 6\n",
              "Ticket                                        WE/P 5735\n",
              "Fare                                            512.329\n",
              "Cabin                                           Unknown\n",
              "family_member_size                                   11\n",
              "Sex_value                                             1\n",
              "Cabin_type_value                                      8\n",
              "Embarked_value                                        2\n",
              "Title_value                                           3\n",
              "family_member_type_value                              2\n",
              "dtype: object"
            ]
          },
          "metadata": {},
          "execution_count": 64
        }
      ]
    },
    {
      "cell_type": "markdown",
      "metadata": {
        "id": "qBEv7Y7FPbTW"
      },
      "source": [
        "## Survival Factors"
      ]
    },
    {
      "cell_type": "code",
      "metadata": {
        "id": "O2nRA4U1Pjjr",
        "colab": {
          "base_uri": "https://localhost:8080/"
        },
        "outputId": "ad66fcdf-a3c0-44a5-d121-6604edf3d063"
      },
      "source": [
        "# source 2\n",
        "train.corr()[\"Survived\"].sort_values(key=lambda x: abs(x), ascending=False)"
      ],
      "execution_count": 65,
      "outputs": [
        {
          "output_type": "execute_result",
          "data": {
            "text/plain": [
              "Survived                    1.000000\n",
              "Sex_value                  -0.543351\n",
              "Pclass                     -0.338481\n",
              "Cabin_type_value           -0.301116\n",
              "Fare                        0.257307\n",
              "Embarked_value             -0.167675\n",
              "family_member_type_value   -0.108631\n",
              "Parch                       0.081629\n",
              "Age                        -0.070323\n",
              "Title_value                -0.062139\n",
              "SibSp                      -0.035322\n",
              "family_member_size          0.016639\n",
              "PassengerId                -0.005007\n",
              "Name: Survived, dtype: float64"
            ]
          },
          "metadata": {},
          "execution_count": 65
        }
      ]
    },
    {
      "cell_type": "code",
      "metadata": {
        "id": "JEtc7jqAdWSC"
      },
      "source": [
        "# See what .index Does\n",
        "# index gives the feature values that equaled true\n",
        "###########################################################\n",
        "# k = train.corr()[train.corr()[\"Survived\"].abs()>.05]\n",
        "# l=list(train.corr()[train.corr()[\"Survived\"].abs()>.05] )\n",
        "# p=list(train.corr()[train.corr()[\"Survived\"].abs()>.05].index )\n",
        "# print(len(l),\"\\n\",l)\n",
        "# print(len(p),\"\\n\",p)\n",
        "# res = [x for x in l + p if x not in l or x not in p]\n",
        "# print(res)\n",
        "# print(k)"
      ],
      "execution_count": 66,
      "outputs": []
    },
    {
      "cell_type": "code",
      "metadata": {
        "id": "v44tEfKoQAW7",
        "colab": {
          "base_uri": "https://localhost:8080/"
        },
        "outputId": "343463af-79c5-4aec-b076-5692dc566eae"
      },
      "source": [
        "# Source 2\n",
        "related_columns = list(train.corr()[train.corr()[\"Survived\"].abs() > 0.05].index)\n",
        "related_columns.remove(\"Survived\")\n",
        "print(related_columns)"
      ],
      "execution_count": 67,
      "outputs": [
        {
          "output_type": "stream",
          "name": "stdout",
          "text": [
            "['Pclass', 'Age', 'Parch', 'Fare', 'Sex_value', 'Cabin_type_value', 'Embarked_value', 'Title_value', 'family_member_type_value']\n"
          ]
        }
      ]
    },
    {
      "cell_type": "markdown",
      "metadata": {
        "id": "83Dg5-epRVk4"
      },
      "source": [
        "# Models"
      ]
    },
    {
      "cell_type": "code",
      "metadata": {
        "id": "Ifsu---Iw4q5"
      },
      "source": [
        "Models = dict()\n",
        "Model_acc = dict()"
      ],
      "execution_count": 68,
      "outputs": []
    },
    {
      "cell_type": "code",
      "metadata": {
        "id": "zfLjVCoFzzb2"
      },
      "source": [
        "# Models['OH_CNN_model']=[OH_CNN_model,OH_acc_CNN[1]]\n",
        "# Models['EN_CNN_model']=[EN_CNN_model, EN_acc_CNN[1]]"
      ],
      "execution_count": 69,
      "outputs": []
    },
    {
      "cell_type": "markdown",
      "metadata": {
        "id": "CXTSX-U2-dXU"
      },
      "source": [
        "## DNN Models"
      ]
    },
    {
      "cell_type": "markdown",
      "metadata": {
        "id": "L1ig3GqkyqcM"
      },
      "source": [
        "### CNN Model"
      ]
    },
    {
      "cell_type": "code",
      "metadata": {
        "id": "T5I7ch8uwagt"
      },
      "source": [
        "## testing\n",
        "# X_train, X_val, X_test, y_train, y_val, y_test = get_train_test(OH_train, True)\n",
        "# # X_train=X_train.values\n",
        "# # y_train= y_train.values\n",
        "# # X_val= X_val.values\n",
        "# # y_val=y_val.values\n",
        "# # X_train=np.expand_dims(X_train,axis=2)\n",
        "# # X_val=np.expand_dims(X_val,axis=2)\n",
        "# X_train, X_val, X_test, y_train, y_val, y_test = get_train_test(EN_train, True)\n",
        "# print(\"X_val.shape: \",X_val.shape)\n",
        "# print(\"y_val.shape: \",y_val.shape)\n",
        "# print(\"X_train.shape: \",X_train.shape)\n",
        "# print(\"y_train.shape: \",y_train.shape)"
      ],
      "execution_count": 70,
      "outputs": []
    },
    {
      "cell_type": "markdown",
      "metadata": {
        "id": "cpPw2ibBiMSE"
      },
      "source": [
        "#### CNN Make Model"
      ]
    },
    {
      "cell_type": "code",
      "metadata": {
        "id": "fksKwJq_r1ci"
      },
      "source": [
        "def makeCN_Model(input_shape):\n",
        "  model = tf.keras.Sequential([\n",
        "  #tf.keras.layers.Input(27,1),\n",
        "  tf.keras.layers.Conv1D(128, 2, activation='relu',input_shape=input_shape),\n",
        "  tf.keras.layers.MaxPooling1D(pool_size=2),\n",
        "  tf.keras.layers.Conv1D(128, 4, activation='relu'),\n",
        "  tf.keras.layers.MaxPooling1D(pool_size=2),\n",
        "  tf.keras.layers.Flatten(),\n",
        "  tf.keras.layers.Dense(100, activation=\"relu\"),\n",
        "  tf.keras.layers.Dense(1, activation='sigmoid')\n",
        "  ])\n",
        "  model.compile(optimizer='adam', loss='binary_crossentropy', metrics=['accuracy'])\n",
        "  return model\n",
        "#model.summary()"
      ],
      "execution_count": 71,
      "outputs": []
    },
    {
      "cell_type": "markdown",
      "metadata": {
        "id": "SRjToeo651Kt"
      },
      "source": [
        "#### CNN Get Trained Model"
      ]
    },
    {
      "cell_type": "code",
      "metadata": {
        "id": "-0oISqS15z1b"
      },
      "source": [
        "def get_trained_CNN_model(Data, isValUsed = True):\n",
        "  X_train, X_val, X_test, y_train, y_val, y_test = get_train_test(Data, True, isValUsed)\n",
        "  # X_val, X_test, y_val, y_test = train_test_split(X_val, y_val, test_size=0.5, random_state=42)\n",
        "  x, y, z = X_train.shape\n",
        "  model = makeCN_Model((y,z))\n",
        "  early_stop = tf.keras.callbacks.EarlyStopping(patience=10, monitor='accuracy')\n",
        "  if isValUsed:\n",
        "    model.fit(X_train, y_train,epochs=4000, \n",
        "      validation_data=(X_val,y_val), \n",
        "      callbacks=[early_stop],\n",
        "      verbose=0)\n",
        "  else:\n",
        "    model.fit(X_train, y_train,epochs=4000, \n",
        "      #validation_data=(X_val,y_val), \n",
        "      callbacks=[early_stop],\n",
        "      verbose=0)\n",
        "  #acc_ofmodel = model.evaluate(X_val, y_val, verbose=0)\n",
        "  #print(\"Accuracy:\",acc_ofmodel[1])\n",
        "  return model #, X_test, y_test "
      ],
      "execution_count": 72,
      "outputs": []
    },
    {
      "cell_type": "markdown",
      "metadata": {
        "id": "2dL06RSkiXSe"
      },
      "source": [
        "#### Apply CNN and Get Plots"
      ]
    },
    {
      "cell_type": "code",
      "metadata": {
        "id": "bAFqVPAmKvT8",
        "colab": {
          "base_uri": "https://localhost:8080/"
        },
        "outputId": "c045e834-0436-4bb3-a092-3435eedc18a8"
      },
      "source": [
        "# for OH\n",
        "X_train, X_val, X_test, y_train, y_val, y_test = get_train_test(OH_train, True, True)\n",
        "x, y, z = X_train.shape\n",
        "print(\"X_val.shape: \",X_val.shape)\n",
        "print(\"y_val.shape: \",y_val.shape)\n",
        "print(\"X_train.shape: \",X_train.shape)\n",
        "print(\"y_train.shape: \",y_train.shape)\n",
        "input_shape = (y,z)\n",
        "print(\"input Shape:\",input_shape)\n",
        "OH_CNN_model=makeCN_Model((y,z))\n",
        "# OH_CNN_model.compile(optimizer='adam', loss='binary_crossentropy', metrics=['accuracy'])\n",
        "OH_CNN_model.summary()"
      ],
      "execution_count": 73,
      "outputs": [
        {
          "output_type": "stream",
          "name": "stdout",
          "text": [
            "X_val.shape:  (89, 27, 1)\n",
            "y_val.shape:  (89,)\n",
            "X_train.shape:  (712, 27, 1)\n",
            "y_train.shape:  (712,)\n",
            "input Shape: (27, 1)\n",
            "Model: \"sequential\"\n",
            "_________________________________________________________________\n",
            "Layer (type)                 Output Shape              Param #   \n",
            "=================================================================\n",
            "conv1d (Conv1D)              (None, 26, 128)           384       \n",
            "_________________________________________________________________\n",
            "max_pooling1d (MaxPooling1D) (None, 13, 128)           0         \n",
            "_________________________________________________________________\n",
            "conv1d_1 (Conv1D)            (None, 10, 128)           65664     \n",
            "_________________________________________________________________\n",
            "max_pooling1d_1 (MaxPooling1 (None, 5, 128)            0         \n",
            "_________________________________________________________________\n",
            "flatten (Flatten)            (None, 640)               0         \n",
            "_________________________________________________________________\n",
            "dense (Dense)                (None, 100)               64100     \n",
            "_________________________________________________________________\n",
            "dense_1 (Dense)              (None, 1)                 101       \n",
            "=================================================================\n",
            "Total params: 130,249\n",
            "Trainable params: 130,249\n",
            "Non-trainable params: 0\n",
            "_________________________________________________________________\n"
          ]
        }
      ]
    },
    {
      "cell_type": "code",
      "metadata": {
        "id": "kgaHJAcG72ZO",
        "colab": {
          "base_uri": "https://localhost:8080/",
          "height": 282
        },
        "outputId": "994896cf-3457-4ffe-d1d5-d67873b2f8af"
      },
      "source": [
        "early_stop = tf.keras.callbacks.EarlyStopping(patience=10)\n",
        "history = OH_CNN_model.fit(\n",
        "    X_train, y_train,epochs=400, \n",
        "    validation_data=(X_val,y_val), \n",
        "    callbacks=[early_stop],\n",
        "    verbose=0\n",
        ")\n",
        "pd.DataFrame(history.history).plot()\n",
        "acc_ofmodel = OH_CNN_model.evaluate(X_test,y_test, verbose=0)\n",
        "print(\"Accuracy: \",acc_ofmodel[1])"
      ],
      "execution_count": 74,
      "outputs": [
        {
          "output_type": "stream",
          "name": "stdout",
          "text": [
            "Accuracy:  0.7777777910232544\n"
          ]
        },
        {
          "output_type": "display_data",
          "data": {
            "image/png": "[encoded data removed]",
            "text/plain": [
              "<Figure size 432x288 with 1 Axes>"
            ]
          },
          "metadata": {
            "needs_background": "light"
          }
        }
      ]
    },
    {
      "cell_type": "code",
      "metadata": {
        "id": "AEm1I9zbQPeC",
        "colab": {
          "base_uri": "https://localhost:8080/"
        },
        "outputId": "c0636eff-52ff-44f3-8476-65baf093fa04"
      },
      "source": [
        "OH_acc_CNN = OH_CNN_model.evaluate(X_test, y_test, verbose=0)\n",
        "print(\"Accuracy: \",OH_acc_CNN[1])\n",
        "Models['OH_CNN_model']=[OH_CNN_model,OH_acc_CNN[1]]"
      ],
      "execution_count": 75,
      "outputs": [
        {
          "output_type": "stream",
          "name": "stdout",
          "text": [
            "Accuracy:  0.7777777910232544\n"
          ]
        }
      ]
    },
    {
      "cell_type": "markdown",
      "metadata": {
        "id": "j-qD7AN10jji"
      },
      "source": [
        "For testing purposes"
      ]
    },
    {
      "cell_type": "code",
      "metadata": {
        "id": "_cbRQGInysxD",
        "colab": {
          "base_uri": "https://localhost:8080/"
        },
        "outputId": "097f144c-0a09-4938-e10a-32921f8f58c6"
      },
      "source": [
        "data = OH_train\n",
        "X_train, X_val, X_test, y_train, y_val, y_test = get_train_test(data, True, True)\n",
        "ohVal = get_trained_CNN_model(data, isValUsed = True)\n",
        "print(\"Acc w/ val:\",ohVal.evaluate(X_test, y_test))\n",
        "X_train, X_val, X_test, y_train, y_val, y_test = get_train_test(data, True, False)\n",
        "ohNoVal = get_trained_CNN_model(data, isValUsed = False)\n",
        "print(\"Acc w/o val:\",ohVal.evaluate(X_val, y_val))"
      ],
      "execution_count": 76,
      "outputs": [
        {
          "output_type": "stream",
          "name": "stdout",
          "text": [
            "3/3 [==============================] - 0s 5ms/step - loss: 0.4924 - accuracy: 0.8000\n",
            "Acc w/ val: [0.49241670966148376, 0.800000011920929]\n",
            "6/6 [==============================] - 0s 3ms/step - loss: 0.4360 - accuracy: 0.8212\n",
            "Acc w/o val: [0.43601980805397034, 0.8212290406227112]\n"
          ]
        }
      ]
    },
    {
      "cell_type": "code",
      "metadata": {
        "id": "leAi42CEX7a6"
      },
      "source": [
        "# datasets = {\n",
        "#   \"EN cor dataset\":dataset0,\n",
        "#   \"OH cor dataset\":dataset1,\n",
        "#   \"OH dataset\":dataset2, \n",
        "#   \"EN dataset\":dataset3\n",
        "# }\n",
        "# sets = \"OH dataset\"\n",
        "# X_train, X_val, X_test, y_train, y_val, y_test = get_train_test(datasets[sets])\n",
        "# model = get_trained_DNN_model(datasets[sets])\n",
        "# model.evaluate(X_test, y_test)"
      ],
      "execution_count": 77,
      "outputs": []
    },
    {
      "cell_type": "code",
      "metadata": {
        "id": "oq1EXeQUOVoY",
        "colab": {
          "base_uri": "https://localhost:8080/"
        },
        "outputId": "3e27e38b-d06b-4d57-c12b-10233240b6d6"
      },
      "source": [
        "# For EN\n",
        "X_train, X_val, X_test, y_train, y_val, y_test = get_train_test(EN_train, True, True)\n",
        "x, y, z = X_train.shape\n",
        "print(\"X_val.shape: \",X_val.shape)\n",
        "print(\"y_val.shape: \",y_val.shape)\n",
        "print(\"X_train.shape: \",X_train.shape)\n",
        "print(\"y_train.shape: \",y_train.shape)\n",
        "input_shape = (y,z)\n",
        "# print(input_shape)\n",
        "EN_CNN_model=makeCN_Model((y,z))\n",
        "# EN_CNN_model.compile(optimizer='adam', loss='binary_crossentropy', metrics=['accuracy'])\n",
        "EN_CNN_model.summary()"
      ],
      "execution_count": 78,
      "outputs": [
        {
          "output_type": "stream",
          "name": "stdout",
          "text": [
            "X_val.shape:  (89, 11, 1)\n",
            "y_val.shape:  (89,)\n",
            "X_train.shape:  (712, 11, 1)\n",
            "y_train.shape:  (712,)\n",
            "Model: \"sequential_3\"\n",
            "_________________________________________________________________\n",
            "Layer (type)                 Output Shape              Param #   \n",
            "=================================================================\n",
            "conv1d_6 (Conv1D)            (None, 10, 128)           384       \n",
            "_________________________________________________________________\n",
            "max_pooling1d_6 (MaxPooling1 (None, 5, 128)            0         \n",
            "_________________________________________________________________\n",
            "conv1d_7 (Conv1D)            (None, 2, 128)            65664     \n",
            "_________________________________________________________________\n",
            "max_pooling1d_7 (MaxPooling1 (None, 1, 128)            0         \n",
            "_________________________________________________________________\n",
            "flatten_3 (Flatten)          (None, 128)               0         \n",
            "_________________________________________________________________\n",
            "dense_6 (Dense)              (None, 100)               12900     \n",
            "_________________________________________________________________\n",
            "dense_7 (Dense)              (None, 1)                 101       \n",
            "=================================================================\n",
            "Total params: 79,049\n",
            "Trainable params: 79,049\n",
            "Non-trainable params: 0\n",
            "_________________________________________________________________\n"
          ]
        }
      ]
    },
    {
      "cell_type": "code",
      "metadata": {
        "id": "RSCvnIjYq6cb",
        "colab": {
          "base_uri": "https://localhost:8080/",
          "height": 282
        },
        "outputId": "631b961a-02ea-4416-cc19-5f71a83c4eeb"
      },
      "source": [
        "history = EN_CNN_model.fit(\n",
        "    X_train, y_train,epochs=4000, \n",
        "    validation_data=(X_val,y_val), \n",
        "    callbacks=[early_stop],\n",
        "    verbose=0\n",
        ")\n",
        "pd.DataFrame(history.history).plot()\n",
        "acc_ofmodel = EN_CNN_model.evaluate(X_test, y_test, verbose=0)\n",
        "print(\"Accuracy: \",acc_ofmodel[1])"
      ],
      "execution_count": 79,
      "outputs": [
        {
          "output_type": "stream",
          "name": "stdout",
          "text": [
            "Accuracy:  0.7777777910232544\n"
          ]
        },
        {
          "output_type": "display_data",
          "data": {
            "image/png": "[encoded data removed]",
            "text/plain": [
              "<Figure size 432x288 with 1 Axes>"
            ]
          },
          "metadata": {
            "needs_background": "light"
          }
        }
      ]
    },
    {
      "cell_type": "code",
      "metadata": {
        "id": "5pCEH5M912nY",
        "colab": {
          "base_uri": "https://localhost:8080/"
        },
        "outputId": "7d3a198f-ea18-4cba-c4cb-c12f4301d8e1"
      },
      "source": [
        "# For Comparison \n",
        "EN_acc_CNN = EN_CNN_model.evaluate(X_test, y_test, verbose=0)\n",
        "print(EN_acc_CNN)\n",
        "Models['EN_CNN_model']=[EN_CNN_model, EN_acc_CNN[1]]"
      ],
      "execution_count": 80,
      "outputs": [
        {
          "output_type": "stream",
          "name": "stdout",
          "text": [
            "[0.5193107724189758, 0.7777777910232544]\n"
          ]
        }
      ]
    },
    {
      "cell_type": "code",
      "metadata": {
        "id": "ssNdQCZtbNxH"
      },
      "source": [
        "# model = get_trained_DNN_model(dataset0)"
      ],
      "execution_count": 81,
      "outputs": []
    },
    {
      "cell_type": "markdown",
      "metadata": {
        "id": "G1m05o6c4YO5"
      },
      "source": [
        "### DNN Model"
      ]
    },
    {
      "cell_type": "markdown",
      "metadata": {
        "id": "X6r3qWPulUR1"
      },
      "source": [
        "#### Fit DNN Model"
      ]
    },
    {
      "cell_type": "code",
      "metadata": {
        "id": "wigsPCqk408i"
      },
      "source": [
        "def fit_DNN_Model(model, epochs=400):\n",
        "  history = model.fit(\n",
        "    X_train, y_train,epochs=epochs, \n",
        "    validation_data=(X_val,y_val), \n",
        "    callbacks=[early_stop],\n",
        "    verbose=0\n",
        "  )\n",
        "  pd.DataFrame(history.history).plot()\n",
        "  acc_ofmodel = model.evaluate(X_test, y_test, verbose=0)\n",
        "  print(\"Accuracy: \",acc_ofmodel[1])\n",
        "  return acc_ofmodel[1]"
      ],
      "execution_count": 82,
      "outputs": []
    },
    {
      "cell_type": "markdown",
      "metadata": {
        "id": "xrqcfktnlYNS"
      },
      "source": [
        "#### Make DNN Model"
      ]
    },
    {
      "cell_type": "code",
      "metadata": {
        "id": "bePwEP_B4chG"
      },
      "source": [
        "def DNN_model(input_dim):\n",
        "   model = tf.keras.Sequential([\n",
        "      tf.keras.layers.Input(shape=(input_dim)),\n",
        "      tf.keras.layers.Dense(1000, activation='relu', name = \"L1\"), \n",
        "      tf.keras.layers.Dense(750, activation='relu', name = \"L2\"),  \n",
        "      tf.keras.layers.Dense(500, activation='relu', name = \"L3\"),  \n",
        "      tf.keras.layers.Dense(250, activation='relu', name = \"L4\"),  \n",
        "      tf.keras.layers.Dense(50, activation='relu', name =\"L5\"),\n",
        "      tf.keras.layers.Dense(1, activation='sigmoid', name =\"L6\")                          \n",
        "   ])\n",
        "   model.NAME = \"model1\"\n",
        "   model._estimator_type = \"classifier\" # debug for stackin\n",
        "   model.compile(optimizer='adam', loss='binary_crossentropy', metrics=['accuracy'])\n",
        "   return model"
      ],
      "execution_count": 83,
      "outputs": []
    },
    {
      "cell_type": "markdown",
      "metadata": {
        "id": "qPyq4BurldOh"
      },
      "source": [
        "#### DNN Get Trained Model"
      ]
    },
    {
      "cell_type": "code",
      "metadata": {
        "id": "pIwa_0VSbApO"
      },
      "source": [
        "def get_trained_DNN_model(Data, isValUsed = True):\n",
        "  X_train, X_val, X_test, y_train, y_val, y_test = get_train_test(Data, False, isValUsed)\n",
        "  # X_val, X_test, y_val, y_test = train_test_split(X_val, y_val, test_size=0.5, random_state=42)\n",
        "  model = DNN_model(X_train.shape[1])\n",
        "  early_stop = tf.keras.callbacks.EarlyStopping(patience=10)\n",
        "  if isValUsed:\n",
        "    model.fit(\n",
        "      X_train, y_train,epochs=epochs, \n",
        "      validation_data=(X_val,y_val), \n",
        "      callbacks=[early_stop],\n",
        "      verbose=0\n",
        "    )\n",
        "  else:\n",
        "     model.fit(\n",
        "      X_train, y_train,epochs=epochs, \n",
        "      #validation_data=(X_val,y_val), \n",
        "      callbacks=[early_stop],\n",
        "      verbose=0\n",
        "    )\n",
        "  acc_ofmodel = model.evaluate(X_val, y_val, verbose=0)\n",
        "  #print(\"Accuracy:\",acc_ofmodel[1])\n",
        "  return model #, X_test, y_test"
      ],
      "execution_count": 84,
      "outputs": []
    },
    {
      "cell_type": "markdown",
      "metadata": {
        "id": "UdiyHaAwlxTs"
      },
      "source": [
        "#### Fit and Plot Model"
      ]
    },
    {
      "cell_type": "code",
      "metadata": {
        "id": "wDpUeFAl6z63",
        "colab": {
          "base_uri": "https://localhost:8080/",
          "height": 298
        },
        "outputId": "4610d667-f0a9-480f-8dcc-1ef3eb9bc708"
      },
      "source": [
        "X_train, X_val, X_test, y_train, y_val, y_test = get_train_test(OH_train, False, True)\n",
        "print(X_train.shape[1])\n",
        "OH_DNN_model = DNN_model(X_train.shape[1])\n",
        "OH_acc_DNN = fit_DNN_Model(OH_DNN_model)\n",
        "Models['OH_DNN_model']=[OH_DNN_model,OH_acc_DNN]"
      ],
      "execution_count": 85,
      "outputs": [
        {
          "output_type": "stream",
          "name": "stdout",
          "text": [
            "27\n",
            "Accuracy:  0.800000011920929\n"
          ]
        },
        {
          "output_type": "display_data",
          "data": {
            "image/png": "[encoded data removed]",
            "text/plain": [
              "<Figure size 432x288 with 1 Axes>"
            ]
          },
          "metadata": {
            "needs_background": "light"
          }
        }
      ]
    },
    {
      "cell_type": "code",
      "metadata": {
        "id": "LqwrmHMyZIsR",
        "colab": {
          "base_uri": "https://localhost:8080/"
        },
        "outputId": "7f5eb3f5-9a7b-40e2-d017-c8da567f65eb"
      },
      "source": [
        "OH_DNN_model.summary()"
      ],
      "execution_count": 86,
      "outputs": [
        {
          "output_type": "stream",
          "name": "stdout",
          "text": [
            "Model: \"sequential_4\"\n",
            "_________________________________________________________________\n",
            "Layer (type)                 Output Shape              Param #   \n",
            "=================================================================\n",
            "L1 (Dense)                   (None, 1000)              28000     \n",
            "_________________________________________________________________\n",
            "L2 (Dense)                   (None, 750)               750750    \n",
            "_________________________________________________________________\n",
            "L3 (Dense)                   (None, 500)               375500    \n",
            "_________________________________________________________________\n",
            "L4 (Dense)                   (None, 250)               125250    \n",
            "_________________________________________________________________\n",
            "L5 (Dense)                   (None, 50)                12550     \n",
            "_________________________________________________________________\n",
            "L6 (Dense)                   (None, 1)                 51        \n",
            "=================================================================\n",
            "Total params: 1,292,101\n",
            "Trainable params: 1,292,101\n",
            "Non-trainable params: 0\n",
            "_________________________________________________________________\n"
          ]
        }
      ]
    },
    {
      "cell_type": "code",
      "metadata": {
        "id": "RMWlBqGkAf1e",
        "colab": {
          "base_uri": "https://localhost:8080/",
          "height": 285
        },
        "outputId": "f03d4e2f-e641-4cd3-c5a9-8943689e25a7"
      },
      "source": [
        "X_train, X_val, X_test, y_train, y_val, y_test = get_train_test(EN_train, False, True)\n",
        "EN_DNN_model = DNN_model(X_train.shape[1])\n",
        "EN_acc_DNN = fit_DNN_Model(EN_DNN_model)\n",
        "Models['EN_DNN_model']=[EN_DNN_model,EN_acc_DNN]"
      ],
      "execution_count": 87,
      "outputs": [
        {
          "output_type": "stream",
          "name": "stdout",
          "text": [
            "Accuracy:  0.7888888716697693\n"
          ]
        },
        {
          "output_type": "display_data",
          "data": {
            "image/png": "[encoded data removed]",
            "text/plain": [
              "<Figure size 432x288 with 1 Axes>"
            ]
          },
          "metadata": {
            "needs_background": "light"
          }
        }
      ]
    },
    {
      "cell_type": "code",
      "metadata": {
        "id": "9I4psIp2ze6u"
      },
      "source": [
        "# X_train, X_val, X_test, y_train, y_val, y_test = get_train_test(EN_train, False, True)\n",
        "# Models['EN_DNN_model'][0].evaluate(X_val, y_val, verbose=0)"
      ],
      "execution_count": 88,
      "outputs": []
    },
    {
      "cell_type": "markdown",
      "metadata": {
        "id": "alVnVYuUSKKC"
      },
      "source": [
        "### Deep and Wide Model"
      ]
    },
    {
      "cell_type": "code",
      "metadata": {
        "id": "FgsxvAnMSJep"
      },
      "source": [
        "categorical_feature_names = [\"Pclass\", \"Sex_value\", \"Embarked_value\", \"Cabin_type_value\"]\n",
        "numerical_feature_names = [\"Age\", \"Fare\", \"SibSp\", \"Parch\", \"family_member_size\"]\n",
        "categorical_features = [\n",
        "    feature_column.indicator_column(\n",
        "        feature_column.categorical_column_with_vocabulary_list(key, sorted(list(train[key].unique())))\n",
        "    ) for key in categorical_feature_names\n",
        "]\n",
        "# print(categorical_features)\n",
        "numerical_features = [feature_column.numeric_column(key) for key in numerical_feature_names]\n",
        "input_dictionary = dict()\n",
        "inputs = dict()\n",
        "for item in numerical_features:\n",
        "    inputs[item.key] = tf.keras.layers.Input(name=item.key, shape=())\n",
        "for item in categorical_features:\n",
        "    #print(item.categorical_column.key)\n",
        "    inputs[item.categorical_column.key] = tf.keras.layers.Input(name=item.categorical_column.key, shape=(), dtype=\"int32\")"
      ],
      "execution_count": 89,
      "outputs": []
    },
    {
      "cell_type": "code",
      "metadata": {
        "id": "Rx0R2FauTNFX"
      },
      "source": [
        "# Source 2 \n",
        "# Helper Features\n",
        "def features_and_labels(row_data):\n",
        "    label = row_data.pop(\"Survived\")\n",
        "    features = row_data\n",
        "    # print(\"Label: \", label)\n",
        "    # print(\"Feature: \", features)\n",
        "    return features, label\n",
        "\n",
        "def create_dataset(pattern, epochs=1, batch_size=32, mode='eval'):\n",
        "    dataset = tf.data.experimental.make_csv_dataset(\n",
        "        pattern, batch_size\n",
        "    )\n",
        "    # print(\"Before map: \", dataset)\n",
        "    dataset = dataset.map(features_and_labels)\n",
        "    # print(\"After map: \",dataset)\n",
        "    if mode == 'train':\n",
        "        dataset = dataset.shuffle(buffer_size=128).repeat(epochs)\n",
        "    #print(dataset)\n",
        "    dataset = dataset.prefetch(1)\n",
        "    #print(\"after prefetch\\n\",dataset)\n",
        "    return dataset\n",
        "\n",
        "def create_test_dataset(pattern, batch_size=32):\n",
        "    dataset = tf.data.experimental.make_csv_dataset(\n",
        "        pattern, batch_size\n",
        "    )\n",
        "    dataset = dataset.map(lambda features: features)\n",
        "    dataset = dataset.prefetch(1)\n",
        "    return dataset"
      ],
      "execution_count": 90,
      "outputs": []
    },
    {
      "cell_type": "code",
      "metadata": {
        "id": "K2ijhPhPYVX-"
      },
      "source": [
        "# Train test split\n",
        "train_data, val_data = train_test_split(\n",
        "    train[categorical_feature_names + numerical_feature_names + [\"Survived\"]],\n",
        "    test_size=.2,\n",
        "    random_state=np.random.randint(0, 1000)\n",
        ")\n",
        "train_data.to_csv(\"train_data.csv\", index=False)\n",
        "val_data.to_csv(\"val_data.csv\", index=False)\n",
        "test[categorical_feature_names + numerical_feature_names].to_csv(\"test_data.csv\", index=False)\n",
        "batch_size = 32\n",
        "train_dataset = create_dataset(\"train_data.csv\", batch_size=batch_size, mode='train')\n",
        "val_dataset = create_dataset(\"val_data.csv\", batch_size=val_data.shape[0], mode='eval').take(1)\n",
        "test_dataset = create_test_dataset(\"test_data.csv\", batch_size = test.shape[0]).take(1)"
      ],
      "execution_count": 91,
      "outputs": []
    },
    {
      "cell_type": "code",
      "metadata": {
        "id": "0tFv2kEdb2bd"
      },
      "source": [
        "# D&W Model\n",
        "def build_deep_and_wide_model():\n",
        "    deep = tf.keras.layers.DenseFeatures(numerical_features, name='deep')(inputs)\n",
        "    deep = tf.keras.layers.Dense(16, activation='relu')(deep)\n",
        "    deep = tf.keras.layers.Dropout(0.3)(deep)\n",
        "    deep = tf.keras.layers.Dense(16, activation='relu')(deep)\n",
        "    deep = tf.keras.layers.Dropout(0.3)(deep)\n",
        "    deep = tf.keras.layers.Dense(16, activation='relu')(deep)\n",
        "    deep = tf.keras.layers.Dropout(0.3)(deep)\n",
        "    deep = tf.keras.layers.Dense(16, activation='relu')(deep)\n",
        "    deep = tf.keras.layers.Dropout(0.3)(deep)\n",
        "    wide = tf.keras.layers.DenseFeatures(categorical_features, name='wide')(inputs)\n",
        "    wide = tf.keras.layers.Dense(32, activation='relu')(wide)\n",
        "    combined = tf.keras.layers.concatenate(inputs=[deep, wide], name='combined')\n",
        "    output = tf.keras.layers.Dense(1, activation=\"sigmoid\")(combined)\n",
        "    model = tf.keras.Model(inputs=list(inputs.values()), outputs=output)\n",
        "    model.compile(optimizer=\"adam\", loss=\"binary_crossentropy\", metrics=[\"accuracy\"])\n",
        "    return model"
      ],
      "execution_count": 92,
      "outputs": []
    },
    {
      "cell_type": "code",
      "metadata": {
        "id": "pfCniP-CcCMC",
        "colab": {
          "base_uri": "https://localhost:8080/",
          "height": 0
        },
        "outputId": "9d2c82fd-b99a-456e-c4c8-3fcce7cc3946"
      },
      "source": [
        "deep_and_wide_model = build_deep_and_wide_model()\n",
        "tf.keras.utils.plot_model(deep_and_wide_model, show_shapes=False, rankdir='LR')"
      ],
      "execution_count": 93,
      "outputs": [
        {
          "output_type": "execute_result",
          "data": {
            "image/png": "[encoded data removed]",
            "text/plain": [
              "<IPython.core.display.Image object>"
            ]
          },
          "metadata": {},
          "execution_count": 93
        }
      ]
    },
    {
      "cell_type": "code",
      "metadata": {
        "id": "Ljy-QhI4cH6x",
        "colab": {
          "base_uri": "https://localhost:8080/",
          "height": 0
        },
        "outputId": "2b87f055-0518-4d42-9e32-a24b54848748"
      },
      "source": [
        "epochs = 400\n",
        "early_stop = tf.keras.callbacks.EarlyStopping(patience=10)\n",
        "steps_per_epoch = train_data.shape[0] // batch_size\n",
        "history = deep_and_wide_model.fit(\n",
        "    train_dataset, \n",
        "    steps_per_epoch=steps_per_epoch,\n",
        "    validation_data=val_dataset,\n",
        "    epochs=epochs,\n",
        "    callbacks=[early_stop],\n",
        "    verbose=0\n",
        ")\n",
        "pd.DataFrame(history.history).plot()"
      ],
      "execution_count": 94,
      "outputs": [
        {
          "output_type": "execute_result",
          "data": {
            "text/plain": [
              "<matplotlib.axes._subplots.AxesSubplot at 0x7f27b4cf7c10>"
            ]
          },
          "metadata": {},
          "execution_count": 94
        },
        {
          "output_type": "display_data",
          "data": {
            "image/png": "[encoded data removed]",
            "text/plain": [
              "<Figure size 432x288 with 1 Axes>"
            ]
          },
          "metadata": {
            "needs_background": "light"
          }
        }
      ]
    },
    {
      "cell_type": "code",
      "metadata": {
        "id": "02IUfrl1pP8c",
        "colab": {
          "base_uri": "https://localhost:8080/"
        },
        "outputId": "09ffee31-8730-4ca2-9c0f-a15666b5d2da"
      },
      "source": [
        "# y_pred =  np.array(deep_and_wide_model.predict(val_dataset) > 0.5, dtype=int).reshape(-1)\n",
        "y_pred = np.array(deep_and_wide_model.predict(val_dataset)>0.5,dtype=int).reshape(-1)\n",
        "score = accuracy_score(val_data[\"Survived\"], y_pred)\n",
        "print(\"Accuraccy Score: \",score)\n",
        "print(sklearn.metrics.classification_report(val_data[\"Survived\"], y_pred))\n",
        "Survived = np.argmax(deep_and_wide_model.predict(test_dataset), axis=-1).reshape(-1)\n",
        "# print(np.argmax(deep_and_wide_model.predict(test_dataset),axis=1).reshape(-1))\n",
        "# print(test.shape)\n",
        "print(Survived.shape)\n",
        "Models['deep_and_wide_model']=[deep_and_wide_model,score]"
      ],
      "execution_count": 95,
      "outputs": [
        {
          "output_type": "stream",
          "name": "stdout",
          "text": [
            "Accuraccy Score:  0.5307262569832403\n",
            "              precision    recall  f1-score   support\n",
            "\n",
            "         0.0       0.61      0.70      0.65       112\n",
            "         1.0       0.33      0.25      0.29        67\n",
            "\n",
            "    accuracy                           0.53       179\n",
            "   macro avg       0.47      0.48      0.47       179\n",
            "weighted avg       0.51      0.53      0.51       179\n",
            "\n",
            "(418,)\n"
          ]
        }
      ]
    },
    {
      "cell_type": "code",
      "metadata": {
        "id": "wMhH2Q45Bgpf"
      },
      "source": [
        ""
      ],
      "execution_count": 95,
      "outputs": []
    },
    {
      "cell_type": "markdown",
      "metadata": {
        "id": "Za171G4dBoOe"
      },
      "source": [
        "## Other Models"
      ]
    },
    {
      "cell_type": "markdown",
      "metadata": {
        "id": "VbXx-lgkaI_6"
      },
      "source": [
        "### Make Datasets"
      ]
    },
    {
      "cell_type": "code",
      "metadata": {
        "id": "l4eIF9OyOr7G",
        "colab": {
          "base_uri": "https://localhost:8080/"
        },
        "outputId": "1b2606cd-f979-4d54-d33f-b3e61c6cb17e"
      },
      "source": [
        "EN_train.corr()[\"Survived\"].sort_values(key=lambda x: abs(x), ascending=False)"
      ],
      "execution_count": 96,
      "outputs": [
        {
          "output_type": "execute_result",
          "data": {
            "text/plain": [
              "Survived                    1.000000\n",
              "Sex_value                  -0.543351\n",
              "Pclass                     -0.338481\n",
              "Cabin_type_value           -0.301116\n",
              "Fare                        0.257307\n",
              "Embarked_value             -0.167675\n",
              "family_member_type_value   -0.108631\n",
              "Parch                       0.081629\n",
              "Age                        -0.070323\n",
              "Title_value                -0.062139\n",
              "SibSp                      -0.035322\n",
              "family_member_size          0.016639\n",
              "Name: Survived, dtype: float64"
            ]
          },
          "metadata": {},
          "execution_count": 96
        }
      ]
    },
    {
      "cell_type": "code",
      "metadata": {
        "id": "-bW9CsKraTjf",
        "colab": {
          "base_uri": "https://localhost:8080/"
        },
        "outputId": "7cec38ef-f84a-4a55-d58d-3c7994a182c9"
      },
      "source": [
        "EN_train.corr()[\"Survived\"].sort_values(key=lambda x: abs(x), ascending=False)"
      ],
      "execution_count": 97,
      "outputs": [
        {
          "output_type": "execute_result",
          "data": {
            "text/plain": [
              "Survived                    1.000000\n",
              "Sex_value                  -0.543351\n",
              "Pclass                     -0.338481\n",
              "Cabin_type_value           -0.301116\n",
              "Fare                        0.257307\n",
              "Embarked_value             -0.167675\n",
              "family_member_type_value   -0.108631\n",
              "Parch                       0.081629\n",
              "Age                        -0.070323\n",
              "Title_value                -0.062139\n",
              "SibSp                      -0.035322\n",
              "family_member_size          0.016639\n",
              "Name: Survived, dtype: float64"
            ]
          },
          "metadata": {},
          "execution_count": 97
        }
      ]
    },
    {
      "cell_type": "code",
      "metadata": {
        "id": "Ah36SHRUapdu"
      },
      "source": [
        "LT = list(EN_train.corr()[EN_train.corr()[\"Survived\"].abs() > 0.2].index) \n",
        "LT1 = list(OH_train.corr()[OH_train.corr()[\"Survived\"].abs() > 0.2].index) \n",
        "dataset0 = EN_train[LT]\n",
        "#print(dataset0)\n",
        "dataset1 = OH_train[LT1]\n",
        "dataset2 = copy.copy(OH_train)\n",
        "dataset3 = copy.copy(EN_train)\n",
        "LT.remove(\"Survived\")\n",
        "LT1.remove(\"Survived\")\n",
        "testset0 = EN_test[LT]\n",
        "testset1 = OH_test[LT1]\n",
        "testset2 =  copy.copy(OH_test)\n",
        "testset3 = copy.copy(EN_test)"
      ],
      "execution_count": 98,
      "outputs": []
    },
    {
      "cell_type": "code",
      "metadata": {
        "id": "7lgLQOX9hbnS",
        "colab": {
          "base_uri": "https://localhost:8080/",
          "height": 417
        },
        "outputId": "6ca65f37-ab70-465f-f9f9-bbde519ca168"
      },
      "source": [
        "dataset0"
      ],
      "execution_count": 99,
      "outputs": [
        {
          "output_type": "execute_result",
          "data": {
            "text/html": [
              "<div>\n",
              "<style scoped>\n",
              "    .dataframe tbody tr th:only-of-type {\n",
              "        vertical-align: middle;\n",
              "    }\n",
              "\n",
              "    .dataframe tbody tr th {\n",
              "        vertical-align: top;\n",
              "    }\n",
              "\n",
              "    .dataframe thead th {\n",
              "        text-align: right;\n",
              "    }\n",
              "</style>\n",
              "<table border=\"1\" class=\"dataframe\">\n",
              "  <thead>\n",
              "    <tr style=\"text-align: right;\">\n",
              "      <th></th>\n",
              "      <th>Survived</th>\n",
              "      <th>Pclass</th>\n",
              "      <th>Fare</th>\n",
              "      <th>Sex_value</th>\n",
              "      <th>Cabin_type_value</th>\n",
              "    </tr>\n",
              "  </thead>\n",
              "  <tbody>\n",
              "    <tr>\n",
              "      <th>0</th>\n",
              "      <td>0.0</td>\n",
              "      <td>1.0</td>\n",
              "      <td>0.014151</td>\n",
              "      <td>1.0</td>\n",
              "      <td>1.000</td>\n",
              "    </tr>\n",
              "    <tr>\n",
              "      <th>1</th>\n",
              "      <td>1.0</td>\n",
              "      <td>0.0</td>\n",
              "      <td>0.139136</td>\n",
              "      <td>0.0</td>\n",
              "      <td>0.250</td>\n",
              "    </tr>\n",
              "    <tr>\n",
              "      <th>2</th>\n",
              "      <td>1.0</td>\n",
              "      <td>1.0</td>\n",
              "      <td>0.015469</td>\n",
              "      <td>0.0</td>\n",
              "      <td>1.000</td>\n",
              "    </tr>\n",
              "    <tr>\n",
              "      <th>3</th>\n",
              "      <td>1.0</td>\n",
              "      <td>0.0</td>\n",
              "      <td>0.103644</td>\n",
              "      <td>0.0</td>\n",
              "      <td>0.250</td>\n",
              "    </tr>\n",
              "    <tr>\n",
              "      <th>4</th>\n",
              "      <td>0.0</td>\n",
              "      <td>1.0</td>\n",
              "      <td>0.015713</td>\n",
              "      <td>1.0</td>\n",
              "      <td>1.000</td>\n",
              "    </tr>\n",
              "    <tr>\n",
              "      <th>...</th>\n",
              "      <td>...</td>\n",
              "      <td>...</td>\n",
              "      <td>...</td>\n",
              "      <td>...</td>\n",
              "      <td>...</td>\n",
              "    </tr>\n",
              "    <tr>\n",
              "      <th>886</th>\n",
              "      <td>0.0</td>\n",
              "      <td>0.5</td>\n",
              "      <td>0.025374</td>\n",
              "      <td>1.0</td>\n",
              "      <td>1.000</td>\n",
              "    </tr>\n",
              "    <tr>\n",
              "      <th>887</th>\n",
              "      <td>1.0</td>\n",
              "      <td>0.0</td>\n",
              "      <td>0.058556</td>\n",
              "      <td>0.0</td>\n",
              "      <td>0.125</td>\n",
              "    </tr>\n",
              "    <tr>\n",
              "      <th>888</th>\n",
              "      <td>0.0</td>\n",
              "      <td>1.0</td>\n",
              "      <td>0.045771</td>\n",
              "      <td>0.0</td>\n",
              "      <td>1.000</td>\n",
              "    </tr>\n",
              "    <tr>\n",
              "      <th>889</th>\n",
              "      <td>1.0</td>\n",
              "      <td>0.0</td>\n",
              "      <td>0.058556</td>\n",
              "      <td>1.0</td>\n",
              "      <td>0.250</td>\n",
              "    </tr>\n",
              "    <tr>\n",
              "      <th>890</th>\n",
              "      <td>0.0</td>\n",
              "      <td>1.0</td>\n",
              "      <td>0.015127</td>\n",
              "      <td>1.0</td>\n",
              "      <td>1.000</td>\n",
              "    </tr>\n",
              "  </tbody>\n",
              "</table>\n",
              "<p>891 rows × 5 columns</p>\n",
              "</div>"
            ],
            "text/plain": [
              "     Survived  Pclass      Fare  Sex_value  Cabin_type_value\n",
              "0         0.0     1.0  0.014151        1.0             1.000\n",
              "1         1.0     0.0  0.139136        0.0             0.250\n",
              "2         1.0     1.0  0.015469        0.0             1.000\n",
              "3         1.0     0.0  0.103644        0.0             0.250\n",
              "4         0.0     1.0  0.015713        1.0             1.000\n",
              "..        ...     ...       ...        ...               ...\n",
              "886       0.0     0.5  0.025374        1.0             1.000\n",
              "887       1.0     0.0  0.058556        0.0             0.125\n",
              "888       0.0     1.0  0.045771        0.0             1.000\n",
              "889       1.0     0.0  0.058556        1.0             0.250\n",
              "890       0.0     1.0  0.015127        1.0             1.000\n",
              "\n",
              "[891 rows x 5 columns]"
            ]
          },
          "metadata": {},
          "execution_count": 99
        }
      ]
    },
    {
      "cell_type": "markdown",
      "metadata": {
        "id": "2w1x1OdiNDX5"
      },
      "source": [
        "### Dict set up"
      ]
    },
    {
      "cell_type": "code",
      "metadata": {
        "id": "PAzdYRrrTN0X"
      },
      "source": [
        "def model_name(name):\n",
        "  if name == 'sgd':\n",
        "    name = \"Stochastic Gradient Descent\"\n",
        "    return name\n",
        "  elif name == 'lr':\n",
        "    name = \"Logistic Regression\"\n",
        "    return name \n",
        "  elif name == 'svm':\n",
        "    name = \"Support Vector Classification\"\n",
        "    return name \n",
        "  elif name == 'knn':\n",
        "    name = \"K Nearest Neighbors Classification\"\n",
        "    return name \n",
        "  elif name == 'gpc':\n",
        "    name = \"Gaussian Process Classifier\"\n",
        "    return name \n",
        "  elif name == 'dtc':\n",
        "    name = \"Decision Tree Classifier\"\n",
        "    return name\n",
        "  elif name == 'abc':\n",
        "    name = \"AdaBoost Classifier\"\n",
        "    return name\n",
        "  elif name == 'rfc':\n",
        "    name = \"Random Forest Classifier\"\n",
        "    return name\n",
        "  elif name == 'gbc':\n",
        "    name = \"Gradient Boosting Classifier\"\n",
        "    return name\n",
        "  elif name == 0:\n",
        "    name = \"EN cor dataset\"\n",
        "    return name \n",
        "  elif name == 1:\n",
        "    name = \"OH cor dataset\"\n",
        "    return name \n",
        "  elif name == 2:\n",
        "    name = \"OH dataset\"\n",
        "    return name \n",
        "  elif name == 3:\n",
        "    name = \"EN dataset\"\n",
        "    return name\n",
        "  else:\n",
        "    return name\n",
        "  return name\n",
        "\n",
        "# \"EN cor dataset\"\n",
        "# \"OH cor dataset\"\n",
        "# \"OH dataset\"\n",
        "# \"EN dataset\"\n",
        "\n",
        "# \"Stochastic Gradient Descent\"\n",
        "# \"Logistic Regression\"\n",
        "# \"Support Vector Classification\"\n",
        "# \"K Nearest Neighbors Classification\"\n",
        "# \"Gaussian Process Classifier\"\n",
        "# \"Decision Tree Classifier\"\n",
        "# \"AdaBoost Classifier\"\n",
        "# \"Random Forest Classifier\"\n",
        "# \"Gradient Boosting Classifier\""
      ],
      "execution_count": null,
      "outputs": []
    },
    {
      "cell_type": "code",
      "metadata": {
        "id": "wPWqqV-uucyB"
      },
      "source": [
        "from sklearn.linear_model import SGDClassifier, LogisticRegression\n",
        "from sklearn.svm import SVC\n",
        "from sklearn.gaussian_process import GaussianProcessClassifier\n",
        "from sklearn.tree import DecisionTreeClassifier\n",
        "from sklearn.ensemble import AdaBoostClassifier, RandomForestClassifier, GradientBoostingClassifier\n",
        "from sklearn.neighbors import KNeighborsClassifier\n",
        "from sklearn.gaussian_process.kernels import RationalQuadratic, Exponentiation, RBF\n",
        "import time\n",
        "from sklearn.model_selection import RandomizedSearchCV\n",
        "import warnings\n",
        "warnings.filterwarnings(\"ignore\")\n",
        "\n",
        "# Models\n",
        "sgd = SGDClassifier(random_state = 42)\n",
        "lr = LogisticRegression(random_state = 42)\n",
        "svm = SVC(random_state = 42)\n",
        "knn = KNeighborsClassifier()\n",
        "gpc = GaussianProcessClassifier(random_state = 42)\n",
        "dtc = DecisionTreeClassifier(random_state = 42)\n",
        "abc = AdaBoostClassifier(random_state = 42)\n",
        "rfc = RandomForestClassifier(random_state = 42)\n",
        "gbc = GradientBoostingClassifier(random_state = 42)\n",
        "# Model Dict\n",
        "models = dict(sgd = sgd, \n",
        "              lr = lr, \n",
        "              svm = svm, \n",
        "              knn= knn, \n",
        "              gpc = gpc, \n",
        "              dtc = dtc, \n",
        "              abc =abc, \n",
        "              rfc = rfc,\n",
        "              gbc = gbc)\n",
        "# Parameters\n",
        "params = {\n",
        "    \n",
        "    'sgd':dict(learning_rate = ['adaptive', 'optimal', 'constant', 'invscaling'],\n",
        "               eta0 = list(np.arange(0.001, 0.15, 0.001)),\n",
        "               max_iter = list(np.arange(1000.0,10000.0,10.0)),\n",
        "               random_state= [42],\n",
        "               early_stopping =[True]),\n",
        "    'lr':dict(solver = ['newton-cg', 'lbfgs', 'liblinear', 'sag', 'saga'],\n",
        "              C = list(np.arange(1,20)),\n",
        "              max_iter = list(np.arange(100,1000,10))\n",
        "              ),\n",
        "    'svm':dict(kernel=['linear', 'poly', 'rbf', 'sigmoid'],\n",
        "               gamma = ['scale', 'auto'],\n",
        "               max_iter = [-1]),\n",
        "    'knn':dict(n_neighbors = list(np.arange(5,50,5)),\n",
        "               algorithm = ['auto', 'ball_tree', 'kd_tree', 'brute'],\n",
        "               leaf_size = list(np.arange(30,100, 10))\n",
        "               ),\n",
        "    'gpc':dict(#kernel = [(1.0 * RBF(1.0)), RationalQuadratic(length_scale=1.0, alpha=1.5)], #Exponentiation(RationalQuadratic(), exponent=2), Exponentiation(RBF(), exponent=2)],\n",
        "              max_iter_predict = list(np.arange(100,1000,10))\n",
        "               ),\n",
        "    'dtc':dict(criterion = ['gini', 'entropy'],\n",
        "               max_depth = [None]+list(np.arange(10,100,10)),\n",
        "               min_samples_split = list(np.arange(2,10,2)),\n",
        "               min_samples_leaf =  list(np.arange(1,10)),\n",
        "               max_features = ['auto', 'sqrt', 'log2'] ,\n",
        "               max_leaf_nodes = [None]+list(np.arange(100,1000,10))       \n",
        "               ),\n",
        "    'abc':dict(n_estimators = list(np.arange(50,100,10)),\n",
        "              learning_rate = list(np.arange(1,20,1)),\n",
        "              algorithm = ['SAMME', 'SAMME.R']             \n",
        "               ),\n",
        "    'rfc':dict(n_estimators = list(np.arange(100,500,10)),\n",
        "              criterion = ['gini', 'entropy'],\n",
        "              max_depth = [None]+list(np.arange(10,100,10)),\n",
        "              min_samples_split = list(np.arange(2,10,2)),\n",
        "              min_samples_leaf =  list(np.arange(1,10)),\n",
        "              max_features = ['auto', 'sqrt', 'log2'] ,\n",
        "              max_leaf_nodes = [None]+list(np.arange(100,1000,10))        \n",
        "               ),\n",
        "    'gbc':dict(loss=['deviance', 'exponential'],\n",
        "               learning_rate = list(np.arange(0.05,0.5,0.05, dtype = float)),\n",
        "               n_estimators = list(np.arange(100,500,10)),\n",
        "               criterion=['friedman_mse', 'mse', 'mae'],\n",
        "               min_samples_split = list(np.arange(2,10,2)),\n",
        "               min_samples_leaf =  list(np.arange(1,10)),\n",
        "               max_depth = list(np.arange(3,50,1)),\n",
        "               max_features = ['auto', 'sqrt', 'log2'],\n",
        "               max_leaf_nodes = [None]+list(np.arange(100,1000,10)),\n",
        "               n_iter_no_change =[None]+list(np.arange(3,10,1)) \n",
        "               )\n",
        "}\n",
        "# Best Accuracy for each model may have different data \n",
        "# best_models format [model, accuracy, dataset name]\n",
        "best_models=dict(sgd = [sgd,0,0], \n",
        "              lr = [lr,0,0], \n",
        "              svm = [svm,0,0], \n",
        "              knn= [knn,0,0], \n",
        "              gpc = [gpc,0,0], \n",
        "              dtc = [dtc,0,0], \n",
        "              abc =[abc,0,0], \n",
        "              rfc = [rfc,0,0],\n",
        "              gbc = [gbc,0,0])\n",
        "local_model = {\n",
        "    'Data Set':[],\n",
        "    'Best Model':[],\n",
        "    'Accuracy':[]\n",
        "}\n",
        "datasets = {\n",
        "  \"EN cor dataset\":dataset0,\n",
        "  \"OH cor dataset\":dataset1,\n",
        "  \"OH dataset\":dataset2, \n",
        "  \"EN dataset\":dataset3\n",
        "}\n",
        "testsets = {\n",
        "  \"EN cor dataset\":testset0,\n",
        "  \"OH cor dataset\":testset1,\n",
        "  \"OH dataset\":testset2, \n",
        "  \"EN dataset\":testset3\n",
        "}\n"
      ],
      "execution_count": null,
      "outputs": []
    },
    {
      "cell_type": "markdown",
      "metadata": {
        "id": "jpLgK7dp3kod"
      },
      "source": [
        "### Find Best Models\n"
      ]
    },
    {
      "cell_type": "code",
      "metadata": {
        "id": "wXkIAzotNhLO"
      },
      "source": [
        "dataset1.shape"
      ],
      "execution_count": null,
      "outputs": []
    },
    {
      "cell_type": "code",
      "metadata": {
        "id": "3RFtfeE9bqeY"
      },
      "source": [
        "isValUsed = True"
      ],
      "execution_count": null,
      "outputs": []
    },
    {
      "cell_type": "code",
      "metadata": {
        "colab": {
          "background_save": true
        },
        "id": "UN10QjAS_r5b"
      },
      "source": [
        "best_score = 0\n",
        "best_model_name = \"\"\n",
        "best_dataset = ''\n",
        "count = 0\n",
        "print(isValUsed)\n",
        "# best_models format [model, accuracy, dataset name]\n",
        "for data in datasets.keys():\n",
        "  X_train, X_val, X_test, y_train, y_val, y_test = get_train_test(datasets[data], False, isValUsed)\n",
        "  temp_best_score = 0\n",
        "  temp_best_model = ''\n",
        "  print(\"Dataset:\",data)\n",
        "  print(\"\\n{:^40}|   {:^40}| {:^40}\".format(\"Model\", \"Accuracy\", \"Time\"))\n",
        "  startDst = time.time() # dataset time\n",
        "  for model in models.keys():\n",
        "    \n",
        "    startLocal = time.time() # model time\n",
        "    random = RandomizedSearchCV(models[model], params[model],\n",
        "                                n_iter=100, scoring='accuracy', n_jobs=-1, \n",
        "                                cv=3, verbose=0, random_state=42)\n",
        "    # Fit Model\n",
        "    random.fit(X_train, y_train)\n",
        "    # try diff type acc\n",
        "    if isValUsed:\n",
        "      predFit = random.predict(X_test)\n",
        "      predAcc = accuracy_score(predFit,y_test)\n",
        "      #print(accuracy_score(predFit,y_test))\n",
        "    else:\n",
        "      predFit = random.predict(X_val)\n",
        "      predAcc = accuracy_score(predFit,y_val)\n",
        "      #print(accuracy_score(predFit,y_val))\n",
        "\n",
        "    # Check to see if best model for the model type\n",
        "    # best_models format [model, accuracy, model name]\n",
        "    # predAcc = random.best_score_\n",
        "    if best_models[model][1] < predAcc:\n",
        "      # best_models[model] = [random.best_estimator_, random.best_score_, data]\n",
        "      best_models[model] = [random.best_estimator_, predAcc, data]\n",
        "    endLocal = time.time()-startLocal\n",
        "    # Display Each model score\n",
        "    print(\"{:<40}|   {:<40.4f}|  {:<40.4f}\".format(model_name(model), predAcc, endLocal))\n",
        "    # local max accuracy\n",
        "    if predAcc > temp_best_score:\n",
        "       temp_best_score = predAcc\n",
        "       temp_best_model = model_name(model)\n",
        "    # Total max accuracy\n",
        "    if predAcc > best_score:\n",
        "      best_score = predAcc\n",
        "      best_model_name = model_name(model)\n",
        "      best_dataset = data\n",
        "  # Exited For Loop\n",
        "  # local best accuracy score and model\n",
        "  endDst = time.time()-startDst\n",
        "  print(\"\\nBest Score: %f \\nBest Model: %s \\nDataset: %s\\nDataset Time: %.4f \\n\\n\"\n",
        "    %(temp_best_score, temp_best_model, data, endDst))\n",
        "  count+=1\n",
        "# Exited For Loop\n",
        "print(\"Total Best Score:\",best_score,\"\\nBest Model:\",best_model_name, \"\\nBest dataset:\", best_dataset)"
      ],
      "execution_count": null,
      "outputs": []
    },
    {
      "cell_type": "markdown",
      "metadata": {
        "id": "5oAYhTQkT6gY"
      },
      "source": [
        "### Make Pred for Voting"
      ]
    },
    {
      "cell_type": "code",
      "metadata": {
        "colab": {
          "background_save": true
        },
        "id": "p6f3gyKRNkgT"
      },
      "source": [
        "from sklearn.metrics import accuracy_score\n",
        "# Try variable majority voting \n",
        "#################################################\n",
        "if isValUsed:\n",
        "  maj = np.zeros(90)\n",
        "  maj1 = np.zeros(90)\n",
        "else: \n",
        "  maj = np.zeros(180)\n",
        "  maj1 = np.zeros(180)\n",
        "  "
      ],
      "execution_count": null,
      "outputs": []
    },
    {
      "cell_type": "code",
      "metadata": {
        "colab": {
          "background_save": true
        },
        "id": "ns1nor4Onmj-"
      },
      "source": [
        "# best_model Format [model, accuracy, dataset name]\n",
        "# for sklearn\n",
        "for x in best_models.keys():\n",
        "  dataset_name = best_models[x][2]\n",
        "  X_train, X_val, X_test, y_train, y_val, y_test = get_train_test(datasets[dataset_name], False, isValUsed)\n",
        "  model=best_models[x][0].fit(X_train,y_train)\n",
        "  if isValUsed:\n",
        "    print(\"Model Name:\",x,\"\\nAccuracy:\", accuracy_score(y_test, model.predict(X_test)))\n",
        "    maj+=model.predict(X_test)\n",
        "  else:\n",
        "    print(\"Model Name:\",x,\"\\nAccuracy:\", accuracy_score(y_val, model.predict(X_val)))\n",
        "    maj+= model.predict(X_val)\n"
      ],
      "execution_count": null,
      "outputs": []
    },
    {
      "cell_type": "code",
      "metadata": {
        "colab": {
          "background_save": true
        },
        "id": "2RDPXqYbnp5_"
      },
      "source": [
        "# for NNs\n",
        "for i in datasets.keys():\n",
        "  data = datasets[i]\n",
        "  # CNN\n",
        "  if \"cor\"  not in i:\n",
        "    X_train, X_val, X_test, y_train, y_val, y_test = get_train_test(data, True, isValUsed)\n",
        "    model = get_trained_CNN_model(data, isValUsed)\n",
        "    if isValUsed:\n",
        "      y_pred = np.array(model.predict(X_test)>0.4,dtype=int).reshape(-1)\n",
        "      print(\"Model Name: CNN\",\"\\nDataset:\",i, \"\\nAccuracy:\", accuracy_score(y_test, y_pred))\n",
        "      maj1+= y_pred\n",
        "    else:\n",
        "      y_pred = np.array(model.predict(X_Val)>0.4,dtype=int).reshape(-1)\n",
        "      print(\"Model Name: CNN\",\"\\nDataset:\",i, \"\\nAccuracy:\", accuracy_score(y_val, y_pred))\n",
        "      maj1+= y_pred\n",
        "  # DNN\n",
        "  X_train, X_val, X_test, y_train, y_val, y_test = get_train_test(data, False, isValUsed)\n",
        "  model = get_trained_DNN_model(data, isValUsed)\n",
        "  if isValUsed:\n",
        "    y_pred = np.array(model.predict(X_test)>0.4,dtype=int).reshape(-1)\n",
        "    print(\"Model Name: DNN\",\"\\nDataset:\",i, \"\\nAccuracy:\", accuracy_score(y_test, y_pred))\n",
        "    maj1+= y_pred\n",
        "  else:\n",
        "    y_pred = np.array(model.predict(X_Val)>0.4,dtype=int).reshape(-1)\n",
        "    print(\"Model Name: DNN\",\"\\nDataset:\",i, \"\\nAccuracy:\", accuracy_score(y_val, y_pred))\n",
        "    maj1+= y_pred"
      ],
      "execution_count": null,
      "outputs": []
    },
    {
      "cell_type": "markdown",
      "metadata": {
        "id": "c_O9UUgbsPHt"
      },
      "source": [
        "#### Print Best Model Combination"
      ]
    },
    {
      "cell_type": "code",
      "metadata": {
        "colab": {
          "background_save": true
        },
        "id": "iCjxgEjBCcwu"
      },
      "source": [
        "NN_pred = copy.copy(maj1)\n",
        "sk_pred = copy.copy(maj)\n",
        "pred_com = maj1+maj \n",
        "def print_best_acc(pred, num_stop, test_ans):\n",
        "  local_acc = 0\n",
        "  acc = 0\n",
        "  num = 0\n",
        "  print(\"\\n{:^20}|{:^20}\".format(\"Number of Correct\", \"Accuracy\"))\n",
        "  for i in range(1,num_stop):\n",
        "    pred_arry = copy.copy(pred)\n",
        "    for x in range(len(pred_arry)):\n",
        "      if pred_arry[x] >= i:\n",
        "        pred_arry[x] = 1\n",
        "      else:\n",
        "        pred_arry[x] = 0\n",
        "    local_acc = accuracy_score(test_ans,pred_arry)\n",
        "    print(\"{:^20}|  {:<20.4f}\".format(\">= \"+str(i), local_acc))\n",
        "    if local_acc > acc:\n",
        "      num = i\n",
        "      acc = local_acc\n",
        "  print(\"Best Found Number: \")\n",
        "  print(\"{:^20}|  {:<20.4f}\".format(\">= \"+str(num), acc ))"
      ],
      "execution_count": null,
      "outputs": []
    },
    {
      "cell_type": "markdown",
      "metadata": {
        "id": "4kVWDR26sYsL"
      },
      "source": [
        "### Apply Function"
      ]
    },
    {
      "cell_type": "markdown",
      "metadata": {
        "id": "h-WwzJCTPQAw"
      },
      "source": [
        "#### Maj Voting ?"
      ]
    },
    {
      "cell_type": "code",
      "metadata": {
        "colab": {
          "background_save": true
        },
        "id": "qiLV_TbcXCvz"
      },
      "source": [
        "NN_pred = copy.copy(maj)\n",
        "sk_pred = copy.copy(maj1)\n",
        "pred_com = NN_pred + sk_pred\n",
        "if isValUsed:\n",
        "  predicted = y_test\n",
        "else:\n",
        "  predicted = y_val\n",
        "print(\"Sklearn\")\n",
        "print_best_acc(sk_pred, 9, predicted)\n",
        "print(\"NNs\")\n",
        "print_best_acc(NN_pred, 6, predicted)\n",
        "print(\"Combined\")\n",
        "print_best_acc(pred_com, 15, predicted)"
      ],
      "execution_count": null,
      "outputs": []
    },
    {
      "cell_type": "markdown",
      "metadata": {
        "id": "ZoyIXPEU6-3i"
      },
      "source": [
        "### Determine Percent"
      ]
    },
    {
      "cell_type": "code",
      "metadata": {
        "colab": {
          "background_save": true
        },
        "id": "i-kKN198xXcW"
      },
      "source": [
        "# cop = np.zeros(179)\n",
        "# #print(\"{:^20}| {:^20}| {:^20}| {:^20}\".format(\"Data Set\", \"DNN Type\",\"Percent\", \"Accuracy\"))\n",
        "# temp = 0\n",
        "# acc = 0\n",
        "# per = 0\n",
        "# for i in datasets.keys():\n",
        "#   print(\"{:^20}| {:^20}| {:^20}| {:^20}\".format(\"Data Set\", \"DNN Type\",\"Percent\", \"Accuracy\"))\n",
        "#   data = datasets[i]\n",
        "#   #print(i)\n",
        "#   temp = 0\n",
        "#   acc = 0\n",
        "#   per = 0\n",
        "\n",
        "#   if \"cor\"  not in i:\n",
        "#     for j in np.linspace(.1, 1, num=10):\n",
        "#       #print(\"CNN:\")\n",
        "#       X_train, X_val, X_test, y_train, y_val, y_test = get_train_test(data, True, isValUsed)\n",
        "#       model = get_trained_CNN_model(data, isValUsed)\n",
        "#       y_pred = np.array(model.predict(X_test)>round(j,1),dtype=int).reshape(-1)\n",
        "#       temp_acc = accuracy_score(y_test,y_pred)\n",
        "#       print(\"{:<20}| {:<20}| {:<20}| {:<20.4f}\".format(i, \"CNN\",round(j,1), accuracy_score(y_test,y_pred))) # for debug\n",
        "#       if temp_acc > acc:\n",
        "#         acc = temp_acc\n",
        "#         per = round(j,1) \n",
        "#     print(\"Best CNN: \")\n",
        "#     print(\"{:<20}| {:<20}| {:<20}| {:<20.4f}\\n\".format(i, \"CNN\", per, acc))\n",
        "#     print(\"{:^20}| {:^20}| {:^20}| {:^20}\".format(\"Data Set\", \"DNN Type\",\"Percent\", \"Accuracy\"))\n",
        "#   temp = 0\n",
        "#   acc = 0\n",
        "#   per = 0\n",
        "#   for j in np.linspace(.1, 1, num=10):\n",
        "#     X_train, X_val, X_test, y_train, y_val, y_test = get_train_test(data, False, isValUsed)\n",
        "#     model = get_trained_DNN_model(data, isValUsed)\n",
        "#     y_pred = np.array(model.predict(X_test)>round(j,1),dtype=int).reshape(-1)\n",
        "#     temp_acc = accuracy_score(y_test,y_pred)\n",
        "#     print(\"{:<20}| {:<20}| {:<20}| {:<20.4f}\".format(i, \"DNN\", round(j,1),accuracy_score(y_test,y_pred))) #debug\n",
        "#     if temp_acc > acc:\n",
        "#         acc = temp_acc\n",
        "#         per = round(j,1) \n",
        "#   print(\"Best DNN: \")      \n",
        "#   print(\"{:<20}| {:<20}| {:<20}| {:<20.4f}\\n\".format(i, \"DNN\", per,acc))\n",
        "    \n",
        "#print(cop)"
      ],
      "execution_count": null,
      "outputs": []
    },
    {
      "cell_type": "markdown",
      "metadata": {
        "id": "xUt0azv1LWdX"
      },
      "source": [
        "### Stacking "
      ]
    },
    {
      "cell_type": "code",
      "metadata": {
        "colab": {
          "background_save": true
        },
        "id": "34T2Q4iKWayX"
      },
      "source": [
        "# model = DNN_model(X_train.shape[1])\n",
        "# model._estimator_type = \"classifier\""
      ],
      "execution_count": null,
      "outputs": []
    },
    {
      "cell_type": "code",
      "metadata": {
        "colab": {
          "background_save": true
        },
        "id": "O1a3FXoYR3cE"
      },
      "source": [
        "from sklearn.ensemble import StackingClassifier\n",
        "isValUsed = False\n",
        "X_train, X_val, X_test, y_train, y_val, y_test = get_train_test(OH_train, False, isValUsed)\n",
        "\n",
        "stackModelEstimators = []\n",
        "for x in best_models.items():\n",
        "  i,j = x\n",
        "  k = (i,j[0])\n",
        "  stackModelEstimators.append(k)\n",
        "clf = StackingClassifier(\n",
        "estimators=stackModelEstimators, verbose = 0, cv =5, n_jobs=-1)\n",
        "for i in datasets.keys():\n",
        "  data = datasets[i]\n",
        "  X_train, X_val, X_test, y_train, y_val, y_test = get_train_test(data, False, isValUsed)\n",
        "  clf.fit(X_train, y_train)\n",
        "  if isValUsed:\n",
        "    print(\"Dataset:\",i,\"\\nAccuracy\",round(clf.score(X_test, y_test),3))\n",
        "  else:\n",
        "    print(\"Dataset:\",i,\"\\nAccuracy\",round(clf.score(X_val, y_val),3))"
      ],
      "execution_count": null,
      "outputs": []
    },
    {
      "cell_type": "markdown",
      "metadata": {
        "id": "_I0VUERSQqhb"
      },
      "source": [
        "```\n",
        "# For isValUsed = True\n",
        "Dataset: EN cor dataset \n",
        "Accuracy 0.8222222222222222\n",
        "Dataset: OH cor dataset \n",
        "Accuracy 0.8222222222222222\n",
        "Dataset: OH dataset \n",
        "Accuracy 0.7888888888888889\n",
        "Dataset: EN dataset \n",
        "Accuracy 0.7666666666666667\n",
        "\n",
        "\n",
        "# For isValUsed = False\n",
        "Dataset: EN cor dataset \n",
        "Accuracy 0.8212290502793296\n",
        "Dataset: OH cor dataset \n",
        "Accuracy 0.8324022346368715\n",
        "Dataset: OH dataset \n",
        "Accuracy 0.8212290502793296\n",
        "Dataset: EN dataset \n",
        "Accuracy 0.8100558659217877\n",
        "```\n",
        "\n"
      ]
    },
    {
      "cell_type": "markdown",
      "metadata": {
        "id": "UUtTU01bZFxd"
      },
      "source": [
        "# Testing\n",
        "Note: this is very messy and me experimenting with things"
      ]
    },
    {
      "cell_type": "code",
      "metadata": {
        "colab": {
          "background_save": true
        },
        "id": "SmarURELZFFP"
      },
      "source": [
        "#train1.info()\n",
        "# df = train1.infer_objects()\n",
        "# df['Age'].dtype.char\n",
        "# df['Cabin'].dtype.char\n",
        "# train1['Sex'] = train1['Sex'].astype('category')\n",
        "# print(df['Cabin'].dtype.char)\n",
        "# print(train1['Sex'].dtype)\n",
        "# if df['Sex'].dtype == 'Object':\n",
        "#   print(\"true\")\n",
        "# print(df['Sex'].dtype)\n",
        "# if df['Cabin'].dtype == 'Object':\n",
        "#   print(\"true\")"
      ],
      "execution_count": null,
      "outputs": []
    },
    {
      "cell_type": "markdown",
      "metadata": {
        "id": "5XNqVAsBh0dI"
      },
      "source": [
        "## Working DNN stack ensemble\n",
        "Note: Adding DNN does not improve accuracy"
      ]
    },
    {
      "cell_type": "code",
      "metadata": {
        "colab": {
          "background_save": true
        },
        "id": "wHsabciChwLp"
      },
      "source": [
        "def DNN_model():\n",
        "  model = tf.keras.Sequential([\n",
        "      tf.keras.layers.Input(shape=(X_train.shape[1])),\n",
        "      tf.keras.layers.Dense(1000, activation='relu', name = \"L1\"), \n",
        "      tf.keras.layers.Dense(750, activation='relu', name = \"L2\"),  \n",
        "      tf.keras.layers.Dense(500, activation='relu', name = \"L3\"),  \n",
        "      tf.keras.layers.Dense(250, activation='relu', name = \"L4\"),  \n",
        "      tf.keras.layers.Dense(50, activation='relu', name =\"L5\"),\n",
        "      tf.keras.layers.Dense(1, activation='sigmoid', name =\"L6\")                          \n",
        "  ])\n",
        "  model.NAME = \"model1\"\n",
        "  model._estimator_type = \"classifier\" # debug for stackin\n",
        "  model.compile(optimizer='adam', loss='binary_crossentropy', metrics=['accuracy'])\n",
        "  return model"
      ],
      "execution_count": null,
      "outputs": []
    },
    {
      "cell_type": "code",
      "metadata": {
        "colab": {
          "background_save": true
        },
        "id": "mT_CT6-pja9X"
      },
      "source": [
        "# datasets = {\n",
        "#   \"EN cor dataset\":dataset0,\n",
        "#   \"OH cor dataset\":dataset1,\n",
        "#   \"OH dataset\":dataset2, \n",
        "#   \"EN dataset\":dataset3\n",
        "# }\n",
        "\n",
        "\n",
        "# ####################################\n",
        "# works for DNN not CNN\n",
        "######################################\n",
        "isValUsed = False\n",
        "isCC = False\n",
        "import warnings\n",
        "warnings.filterwarnings(\"ignore\")\n",
        "from tensorflow.keras.wrappers.scikit_learn import KerasClassifier\n",
        "X_train, X_val, X_test, y_train, y_val, y_test = get_train_test(dataset1, isCC, isValUsed)\n",
        "if isCC:\n",
        "  x, y, z = X_train.shape\n",
        "  inputDim = (y,z)\n",
        "else:\n",
        "  inputDim = X_train.shape\n",
        "stackModelEstimators = []\n",
        "for x in best_models.items():\n",
        "  i,j = x\n",
        "  k = (i,j[0])\n",
        "  stackModelEstimators.append(k)\n",
        "#model = DNN_model(inputDim)\n",
        "early_stop = tf.keras.callbacks.EarlyStopping(monitor='accuracy',patience=10)\n",
        "model1 = KerasClassifier(\n",
        "    build_fn=lambda: DNN_model(), epochs = 20, verbose = 0, callbacks= [early_stop])\n",
        "model1._estimator_type = \"classifier\"\n",
        "#stackModelEstimators.append(('dn',model1))\n",
        "clf = StackingClassifier(\n",
        "estimators=stackModelEstimators, verbose = 0, cv =5)\n",
        "clf.fit(X_train, y_train)\n",
        "pred1 = clf.predict(X_val)\n",
        "print(\"score without DNN:\",clf.score(X_val,y_val))\n",
        "stackModelEstimators.append(('dn',model1))\n",
        "clf1 = StackingClassifier(\n",
        "estimators=stackModelEstimators, verbose = 0, cv =5)\n",
        "clf1.fit(X_train, y_train)\n",
        "print(\"Score with DNN:\",clf1.score(X_val,y_val))"
      ],
      "execution_count": null,
      "outputs": []
    },
    {
      "cell_type": "markdown",
      "metadata": {
        "id": "vIg1FgApU1Se"
      },
      "source": [
        "## Model test"
      ]
    },
    {
      "cell_type": "code",
      "metadata": {
        "colab": {
          "background_save": true
        },
        "id": "_10mpIYcUzO4"
      },
      "source": [
        "# CNN does not stack\n",
        "# tf.keras.layers.Conv1D(128, 2, activation='relu',input_shape=input_shape),\n",
        "#   tf.keras.layers.MaxPooling1D(pool_size=2),\n",
        "#   tf.keras.layers.Conv1D(128, 4, activation='relu'),\n",
        "#   tf.keras.layers.MaxPooling1D(pool_size=2),\n",
        "#   tf.keras.layers.Flatten(),\n",
        "#   tf.keras.layers.Dense(100, activation=\"relu\"),\n",
        "#   tf.keras.layers.Dense(1, activation='sigmoid')\n",
        "# isValUsed = True\n",
        "# isCC = True\n",
        "# X_train, X_val, X_test, y_train, y_val, y_test = get_train_test(dataset1, isCC, isValUsed)\n",
        "import itertools\n",
        "\n",
        "# alist = ['dog', 'cat', 'fish']\n",
        "# for result in itertools.combinations(alist, 2):\n",
        "#     print(list(result))\n"
      ],
      "execution_count": null,
      "outputs": []
    },
    {
      "cell_type": "code",
      "metadata": {
        "colab": {
          "background_save": true
        },
        "id": "ieQr9l4GP3hs"
      },
      "source": [
        "# model1 = KerasClassifier(\n",
        "#     build_fn=lambda: DNN_model(), epochs = 20, verbose = 0, callbacks= [early_stop])\n",
        "# model1._estimator_type = \"classifier\"\n",
        "# model1.fit(xt,yt)\n",
        "# print(model1.predict(xv))"
      ],
      "execution_count": null,
      "outputs": []
    },
    {
      "cell_type": "markdown",
      "metadata": {
        "id": "dqqICMXCj52l"
      },
      "source": [
        "## Stacking Combo Fun!\n",
        "Note: 502 unordered combinations"
      ]
    },
    {
      "cell_type": "code",
      "metadata": {
        "colab": {
          "background_save": true
        },
        "id": "ZZo5LE1njzrN"
      },
      "source": [
        "import itertools\n",
        "names =[]\n",
        "for best in best_models.keys():\n",
        "  names.append(best)\n",
        "comb=[]\n",
        "for i in range(2,len(names)+1):\n",
        "  for j in itertools.combinations(names, i):\n",
        "    j = list(j)\n",
        "    comb.append(j)\n",
        "print(len(comb))"
      ],
      "execution_count": null,
      "outputs": []
    },
    {
      "cell_type": "code",
      "metadata": {
        "colab": {
          "background_save": true
        },
        "id": "wCw3zxHtghnZ"
      },
      "source": [
        "# ct estimator cb for stack\n",
        "ct = []\n",
        "for i in comb: # for every combination\n",
        "  temp = []\n",
        "  for j in i:\n",
        "    temp.append((j,best_models[j][0]))\n",
        "  ct.append(temp)"
      ],
      "execution_count": null,
      "outputs": []
    },
    {
      "cell_type": "code",
      "metadata": {
        "colab": {
          "background_save": true
        },
        "id": "J7mgtcxZwtoR"
      },
      "source": [
        "# best_models['sgd'][0]\n",
        "# ct"
      ],
      "execution_count": null,
      "outputs": []
    },
    {
      "cell_type": "code",
      "metadata": {
        "colab": {
          "base_uri": "https://localhost:8080/"
        },
        "id": "5RtL3uGmhjHa",
        "outputId": "c185d313-626e-4496-afc2-01c81d55bddd"
      },
      "source": [
        "# on hold until I can make parrallel function\n",
        "import datetime\n",
        "X_train, X_val, X_test, y_train, y_val, y_test = get_train_test(dataset1, isCC, isValUsed)\n",
        "best_acc = 0\n",
        "bestModel = best_models['dtc']\n",
        "count = 0\n",
        "for i in ct:\n",
        "  start = time.time()\n",
        "  clf = StackingClassifier(\n",
        "  estimators=i, verbose = 0, cv =5, n_jobs=-1)\n",
        "  clf.fit(X_train, y_train)\n",
        "  acc = clf.score(X_val,y_val)\n",
        "  end = time.time()-start\n",
        "  print(\"Combo #\"+str(count)+\"\\nTime taken: \"+ str(datetime.timedelta(seconds = round(end)))+\"\\n\")\n",
        "  count+=1\n",
        "  if acc > best_acc:\n",
        "    best_acc = acc \n",
        "    best_model = clf\n",
        "print(\"Best Score:\",best_acc)\n"
      ],
      "execution_count": null,
      "outputs": [
        {
          "name": "stdout",
          "output_type": "stream",
          "text": [
            "Combo #0\n",
            "Time taken: 0:00:00\n",
            "\n",
            "Combo #1\n",
            "Time taken: 0:00:00\n",
            "\n",
            "Combo #2\n",
            "Time taken: 0:00:00\n",
            "\n",
            "Combo #3\n",
            "Time taken: 0:00:01\n",
            "\n",
            "Combo #4\n",
            "Time taken: 0:00:00\n",
            "\n",
            "Combo #5\n",
            "Time taken: 0:00:01\n",
            "\n",
            "Combo #6\n",
            "Time taken: 0:00:02\n",
            "\n",
            "Combo #7\n",
            "Time taken: 0:00:00\n",
            "\n",
            "Combo #8\n",
            "Time taken: 0:00:00\n",
            "\n",
            "Combo #9\n",
            "Time taken: 0:00:00\n",
            "\n",
            "Combo #10\n",
            "Time taken: 0:00:01\n",
            "\n",
            "Combo #11\n",
            "Time taken: 0:00:00\n",
            "\n",
            "Combo #12\n",
            "Time taken: 0:00:01\n",
            "\n",
            "Combo #13\n",
            "Time taken: 0:00:02\n",
            "\n",
            "Combo #14\n",
            "Time taken: 0:00:00\n",
            "\n",
            "Combo #15\n",
            "Time taken: 0:00:00\n",
            "\n",
            "Combo #16\n",
            "Time taken: 0:00:01\n",
            "\n",
            "Combo #17\n",
            "Time taken: 0:00:00\n",
            "\n",
            "Combo #18\n",
            "Time taken: 0:00:01\n",
            "\n",
            "Combo #19\n",
            "Time taken: 0:00:02\n",
            "\n",
            "Combo #20\n",
            "Time taken: 0:00:00\n",
            "\n",
            "Combo #21\n",
            "Time taken: 0:00:01\n",
            "\n",
            "Combo #22\n",
            "Time taken: 0:00:00\n",
            "\n",
            "Combo #23\n",
            "Time taken: 0:00:01\n",
            "\n",
            "Combo #24\n",
            "Time taken: 0:00:02\n",
            "\n",
            "Combo #25\n",
            "Time taken: 0:00:00\n",
            "\n",
            "Combo #26\n",
            "Time taken: 0:00:01\n",
            "\n",
            "Combo #27\n",
            "Time taken: 0:00:02\n",
            "\n",
            "Combo #28\n",
            "Time taken: 0:00:03\n",
            "\n",
            "Combo #29\n",
            "Time taken: 0:00:01\n",
            "\n",
            "Combo #30\n",
            "Time taken: 0:00:01\n",
            "\n",
            "Combo #31\n",
            "Time taken: 0:00:02\n",
            "\n",
            "Combo #32\n",
            "Time taken: 0:00:00\n",
            "\n",
            "Combo #33\n",
            "Time taken: 0:00:02\n",
            "\n",
            "Combo #34\n",
            "Time taken: 0:00:01\n",
            "\n",
            "Combo #35\n",
            "Time taken: 0:00:02\n",
            "\n",
            "Combo #36\n",
            "Time taken: 0:00:00\n",
            "\n",
            "Combo #37\n",
            "Time taken: 0:00:00\n",
            "\n",
            "Combo #38\n",
            "Time taken: 0:00:01\n",
            "\n",
            "Combo #39\n",
            "Time taken: 0:00:00\n",
            "\n",
            "Combo #40\n",
            "Time taken: 0:00:01\n",
            "\n",
            "Combo #41\n",
            "Time taken: 0:00:02\n",
            "\n",
            "Combo #42\n",
            "Time taken: 0:00:01\n",
            "\n",
            "Combo #43\n",
            "Time taken: 0:00:00\n",
            "\n",
            "Combo #44\n",
            "Time taken: 0:00:02\n",
            "\n",
            "Combo #45\n",
            "Time taken: 0:00:00\n",
            "\n",
            "Combo #46\n",
            "Time taken: 0:00:01\n",
            "\n",
            "Combo #47\n",
            "Time taken: 0:00:02\n",
            "\n",
            "Combo #48\n",
            "Time taken: 0:00:01\n",
            "\n",
            "Combo #49\n",
            "Time taken: 0:00:01\n",
            "\n",
            "Combo #50\n",
            "Time taken: 0:00:00\n",
            "\n",
            "Combo #51\n",
            "Time taken: 0:00:01\n",
            "\n",
            "Combo #52\n",
            "Time taken: 0:00:02\n",
            "\n",
            "Combo #53\n",
            "Time taken: 0:00:01\n",
            "\n",
            "Combo #54\n",
            "Time taken: 0:00:01\n",
            "\n",
            "Combo #55\n",
            "Time taken: 0:00:02\n",
            "\n",
            "Combo #56\n",
            "Time taken: 0:00:03\n",
            "\n",
            "Combo #57\n",
            "Time taken: 0:00:01\n",
            "\n",
            "Combo #58\n",
            "Time taken: 0:00:01\n",
            "\n",
            "Combo #59\n",
            "Time taken: 0:00:02\n",
            "\n",
            "Combo #60\n",
            "Time taken: 0:00:01\n",
            "\n",
            "Combo #61\n",
            "Time taken: 0:00:02\n",
            "\n",
            "Combo #62\n",
            "Time taken: 0:00:01\n",
            "\n",
            "Combo #63\n",
            "Time taken: 0:00:02\n",
            "\n",
            "Combo #64\n",
            "Time taken: 0:00:00\n",
            "\n",
            "Combo #65\n",
            "Time taken: 0:00:01\n",
            "\n",
            "Combo #66\n",
            "Time taken: 0:00:00\n",
            "\n",
            "Combo #67\n",
            "Time taken: 0:00:01\n",
            "\n",
            "Combo #68\n",
            "Time taken: 0:00:02\n",
            "\n",
            "Combo #69\n",
            "Time taken: 0:00:01\n",
            "\n",
            "Combo #70\n",
            "Time taken: 0:00:01\n",
            "\n",
            "Combo #71\n",
            "Time taken: 0:00:00\n",
            "\n",
            "Combo #72\n",
            "Time taken: 0:00:01\n",
            "\n",
            "Combo #73\n",
            "Time taken: 0:00:02\n",
            "\n",
            "Combo #74\n",
            "Time taken: 0:00:01\n",
            "\n",
            "Combo #75\n",
            "Time taken: 0:00:01\n",
            "\n",
            "Combo #76\n",
            "Time taken: 0:00:02\n",
            "\n",
            "Combo #77\n",
            "Time taken: 0:00:03\n",
            "\n",
            "Combo #78\n",
            "Time taken: 0:00:02\n",
            "\n",
            "Combo #79\n",
            "Time taken: 0:00:01\n",
            "\n",
            "Combo #80\n",
            "Time taken: 0:00:02\n",
            "\n",
            "Combo #81\n",
            "Time taken: 0:00:01\n",
            "\n",
            "Combo #82\n",
            "Time taken: 0:00:03\n",
            "\n",
            "Combo #83\n",
            "Time taken: 0:00:01\n",
            "\n",
            "Combo #84\n",
            "Time taken: 0:00:02\n",
            "\n",
            "Combo #85\n",
            "Time taken: 0:00:02\n",
            "\n",
            "Combo #86\n",
            "Time taken: 0:00:00\n",
            "\n",
            "Combo #87\n",
            "Time taken: 0:00:01\n",
            "\n",
            "Combo #88\n",
            "Time taken: 0:00:02\n",
            "\n",
            "Combo #89\n",
            "Time taken: 0:00:01\n",
            "\n",
            "Combo #90\n",
            "Time taken: 0:00:02\n",
            "\n",
            "Combo #91\n",
            "Time taken: 0:00:02\n",
            "\n",
            "Combo #92\n",
            "Time taken: 0:00:03\n",
            "\n",
            "Combo #93\n",
            "Time taken: 0:00:01\n",
            "\n",
            "Combo #94\n",
            "Time taken: 0:00:01\n",
            "\n",
            "Combo #95\n",
            "Time taken: 0:00:02\n",
            "\n",
            "Combo #96\n",
            "Time taken: 0:00:01\n",
            "\n",
            "Combo #97\n",
            "Time taken: 0:00:03\n",
            "\n",
            "Combo #98\n",
            "Time taken: 0:00:01\n",
            "\n",
            "Combo #99\n",
            "Time taken: 0:00:02\n",
            "\n",
            "Combo #100\n",
            "Time taken: 0:00:01\n",
            "\n",
            "Combo #101\n",
            "Time taken: 0:00:02\n",
            "\n",
            "Combo #102\n",
            "Time taken: 0:00:03\n",
            "\n",
            "Combo #103\n",
            "Time taken: 0:00:02\n",
            "\n",
            "Combo #104\n",
            "Time taken: 0:00:01\n",
            "\n",
            "Combo #105\n",
            "Time taken: 0:00:02\n",
            "\n",
            "Combo #106\n",
            "Time taken: 0:00:01\n",
            "\n",
            "Combo #107\n",
            "Time taken: 0:00:02\n",
            "\n",
            "Combo #108\n",
            "Time taken: 0:00:01\n",
            "\n",
            "Combo #109\n",
            "Time taken: 0:00:02\n",
            "\n",
            "Combo #110\n",
            "Time taken: 0:00:02\n",
            "\n",
            "Combo #111\n",
            "Time taken: 0:00:03\n",
            "\n",
            "Combo #112\n",
            "Time taken: 0:00:01\n",
            "\n",
            "Combo #113\n",
            "Time taken: 0:00:04\n",
            "\n",
            "Combo #114\n",
            "Time taken: 0:00:02\n",
            "\n",
            "Combo #115\n",
            "Time taken: 0:00:03\n",
            "\n",
            "Combo #116\n",
            "Time taken: 0:00:03\n",
            "\n",
            "Combo #117\n",
            "Time taken: 0:00:01\n",
            "\n",
            "Combo #118\n",
            "Time taken: 0:00:02\n",
            "\n",
            "Combo #119\n",
            "Time taken: 0:00:02\n",
            "\n",
            "Combo #120\n",
            "Time taken: 0:00:00\n",
            "\n",
            "Combo #121\n",
            "Time taken: 0:00:01\n",
            "\n",
            "Combo #122\n",
            "Time taken: 0:00:00\n",
            "\n",
            "Combo #123\n",
            "Time taken: 0:00:01\n",
            "\n",
            "Combo #124\n",
            "Time taken: 0:00:02\n",
            "\n",
            "Combo #125\n",
            "Time taken: 0:00:01\n",
            "\n",
            "Combo #126\n",
            "Time taken: 0:00:01\n",
            "\n",
            "Combo #127\n",
            "Time taken: 0:00:00\n",
            "\n",
            "Combo #128\n",
            "Time taken: 0:00:01\n",
            "\n",
            "Combo #129\n",
            "Time taken: 0:00:02\n",
            "\n",
            "Combo #130\n",
            "Time taken: 0:00:01\n",
            "\n",
            "Combo #131\n",
            "Time taken: 0:00:01\n",
            "\n",
            "Combo #132\n",
            "Time taken: 0:00:02\n",
            "\n",
            "Combo #133\n",
            "Time taken: 0:00:03\n",
            "\n",
            "Combo #134\n",
            "Time taken: 0:00:02\n",
            "\n",
            "Combo #135\n",
            "Time taken: 0:00:01\n",
            "\n",
            "Combo #136\n",
            "Time taken: 0:00:02\n",
            "\n",
            "Combo #137\n",
            "Time taken: 0:00:01\n",
            "\n",
            "Combo #138\n",
            "Time taken: 0:00:03\n",
            "\n",
            "Combo #139\n",
            "Time taken: 0:00:01\n",
            "\n",
            "Combo #140\n",
            "Time taken: 0:00:02\n",
            "\n",
            "Combo #141\n",
            "Time taken: 0:00:02\n",
            "\n",
            "Combo #142\n",
            "Time taken: 0:00:00\n",
            "\n",
            "Combo #143\n",
            "Time taken: 0:00:01\n",
            "\n",
            "Combo #144\n",
            "Time taken: 0:00:02\n",
            "\n",
            "Combo #145\n",
            "Time taken: 0:00:01\n",
            "\n",
            "Combo #146\n",
            "Time taken: 0:00:01\n",
            "\n",
            "Combo #147\n",
            "Time taken: 0:00:02\n",
            "\n",
            "Combo #148\n",
            "Time taken: 0:00:03\n",
            "\n",
            "Combo #149\n",
            "Time taken: 0:00:01\n",
            "\n",
            "Combo #150\n",
            "Time taken: 0:00:01\n",
            "\n",
            "Combo #151\n",
            "Time taken: 0:00:02\n",
            "\n",
            "Combo #152\n",
            "Time taken: 0:00:01\n",
            "\n",
            "Combo #153\n",
            "Time taken: 0:00:02\n",
            "\n",
            "Combo #154\n",
            "Time taken: 0:00:01\n",
            "\n",
            "Combo #155\n",
            "Time taken: 0:00:02\n",
            "\n",
            "Combo #156\n",
            "Time taken: 0:00:01\n",
            "\n",
            "Combo #157\n",
            "Time taken: 0:00:02\n",
            "\n",
            "Combo #158\n",
            "Time taken: 0:00:03\n",
            "\n",
            "Combo #159\n",
            "Time taken: 0:00:02\n",
            "\n",
            "Combo #160\n",
            "Time taken: 0:00:01\n",
            "\n",
            "Combo #161\n",
            "Time taken: 0:00:02\n",
            "\n",
            "Combo #162\n",
            "Time taken: 0:00:01\n",
            "\n",
            "Combo #163\n",
            "Time taken: 0:00:02\n",
            "\n",
            "Combo #164\n",
            "Time taken: 0:00:01\n",
            "\n",
            "Combo #165\n",
            "Time taken: 0:00:02\n",
            "\n",
            "Combo #166\n",
            "Time taken: 0:00:02\n",
            "\n",
            "Combo #167\n",
            "Time taken: 0:00:03\n",
            "\n",
            "Combo #168\n",
            "Time taken: 0:00:01\n",
            "\n",
            "Combo #169\n",
            "Time taken: 0:00:04\n",
            "\n",
            "Combo #170\n",
            "Time taken: 0:00:02\n",
            "\n",
            "Combo #171\n",
            "Time taken: 0:00:03\n",
            "\n",
            "Combo #172\n",
            "Time taken: 0:00:03\n",
            "\n",
            "Combo #173\n",
            "Time taken: 0:00:01\n",
            "\n",
            "Combo #174\n",
            "Time taken: 0:00:02\n",
            "\n",
            "Combo #175\n",
            "Time taken: 0:00:03\n",
            "\n",
            "Combo #176\n",
            "Time taken: 0:00:01\n",
            "\n",
            "Combo #177\n",
            "Time taken: 0:00:00\n",
            "\n",
            "Combo #178\n",
            "Time taken: 0:00:01\n",
            "\n",
            "Combo #179\n",
            "Time taken: 0:00:02\n",
            "\n",
            "Combo #180\n",
            "Time taken: 0:00:01\n",
            "\n",
            "Combo #181\n",
            "Time taken: 0:00:01\n",
            "\n",
            "Combo #182\n",
            "Time taken: 0:00:02\n",
            "\n",
            "Combo #183\n",
            "Time taken: 0:00:03\n",
            "\n",
            "Combo #184\n",
            "Time taken: 0:00:02\n",
            "\n",
            "Combo #185\n",
            "Time taken: 0:00:01\n",
            "\n",
            "Combo #186\n",
            "Time taken: 0:00:02\n",
            "\n",
            "Combo #187\n",
            "Time taken: 0:00:01\n",
            "\n",
            "Combo #188\n",
            "Time taken: 0:00:02\n",
            "\n",
            "Combo #189\n",
            "Time taken: 0:00:01\n",
            "\n",
            "Combo #190\n",
            "Time taken: 0:00:02\n",
            "\n",
            "Combo #191\n",
            "Time taken: 0:00:01\n",
            "\n",
            "Combo #192\n",
            "Time taken: 0:00:02\n",
            "\n",
            "Combo #193\n",
            "Time taken: 0:00:03\n",
            "\n",
            "Combo #194\n",
            "Time taken: 0:00:01\n",
            "\n",
            "Combo #195\n",
            "Time taken: 0:00:01\n",
            "\n",
            "Combo #196\n",
            "Time taken: 0:00:02\n",
            "\n",
            "Combo #197\n",
            "Time taken: 0:00:01\n",
            "\n",
            "Combo #198\n",
            "Time taken: 0:00:02\n",
            "\n",
            "Combo #199\n",
            "Time taken: 0:00:01\n",
            "\n",
            "Combo #200\n",
            "Time taken: 0:00:02\n",
            "\n",
            "Combo #201\n",
            "Time taken: 0:00:02\n",
            "\n",
            "Combo #202\n",
            "Time taken: 0:00:03\n",
            "\n",
            "Combo #203\n",
            "Time taken: 0:00:02\n",
            "\n",
            "Combo #204\n",
            "Time taken: 0:00:04\n",
            "\n",
            "Combo #205\n",
            "Time taken: 0:00:02\n",
            "\n",
            "Combo #206\n",
            "Time taken: 0:00:03\n",
            "\n",
            "Combo #207\n",
            "Time taken: 0:00:02\n",
            "\n",
            "Combo #208\n",
            "Time taken: 0:00:01\n",
            "\n",
            "Combo #209\n",
            "Time taken: 0:00:02\n",
            "\n",
            "Combo #210\n",
            "Time taken: 0:00:02\n",
            "\n",
            "Combo #211\n",
            "Time taken: 0:00:02\n",
            "\n",
            "Combo #212\n",
            "Time taken: 0:00:02\n",
            "\n",
            "Combo #213\n",
            "Time taken: 0:00:03\n",
            "\n",
            "Combo #214\n",
            "Time taken: 0:00:01\n",
            "\n",
            "Combo #215\n",
            "Time taken: 0:00:01\n",
            "\n",
            "Combo #216\n",
            "Time taken: 0:00:02\n",
            "\n",
            "Combo #217\n",
            "Time taken: 0:00:01\n",
            "\n",
            "Combo #218\n",
            "Time taken: 0:00:02\n",
            "\n",
            "Combo #219\n",
            "Time taken: 0:00:01\n",
            "\n",
            "Combo #220\n",
            "Time taken: 0:00:02\n",
            "\n",
            "Combo #221\n",
            "Time taken: 0:00:02\n",
            "\n",
            "Combo #222\n",
            "Time taken: 0:00:03\n",
            "\n",
            "Combo #223\n",
            "Time taken: 0:00:01\n",
            "\n",
            "Combo #224\n",
            "Time taken: 0:00:03\n",
            "\n",
            "Combo #225\n",
            "Time taken: 0:00:02\n",
            "\n",
            "Combo #226\n",
            "Time taken: 0:00:03\n",
            "\n",
            "Combo #227\n",
            "Time taken: 0:00:02\n",
            "\n",
            "Combo #228\n",
            "Time taken: 0:00:01\n",
            "\n",
            "Combo #229\n",
            "Time taken: 0:00:02\n",
            "\n",
            "Combo #230\n",
            "Time taken: 0:00:02\n",
            "\n",
            "Combo #231\n",
            "Time taken: 0:00:02\n",
            "\n",
            "Combo #232\n",
            "Time taken: 0:00:03\n",
            "\n",
            "Combo #233\n",
            "Time taken: 0:00:01\n",
            "\n",
            "Combo #234\n",
            "Time taken: 0:00:03\n",
            "\n",
            "Combo #235\n",
            "Time taken: 0:00:02\n",
            "\n",
            "Combo #236\n",
            "Time taken: 0:00:03\n",
            "\n",
            "Combo #237\n",
            "Time taken: 0:00:02\n",
            "\n",
            "Combo #238\n",
            "Time taken: 0:00:01\n",
            "\n",
            "Combo #239\n",
            "Time taken: 0:00:02\n",
            "\n",
            "Combo #240\n",
            "Time taken: 0:00:02\n",
            "\n",
            "Combo #241\n",
            "Time taken: 0:00:04\n",
            "\n",
            "Combo #242\n",
            "Time taken: 0:00:02\n",
            "\n",
            "Combo #243\n",
            "Time taken: 0:00:03\n",
            "\n",
            "Combo #244\n",
            "Time taken: 0:00:04\n",
            "\n",
            "Combo #245\n",
            "Time taken: 0:00:03\n",
            "\n",
            "Combo #246\n",
            "Time taken: 0:00:02\n",
            "\n",
            "Combo #247\n",
            "Time taken: 0:00:00\n",
            "\n",
            "Combo #248\n",
            "Time taken: 0:00:01\n",
            "\n",
            "Combo #249\n",
            "Time taken: 0:00:02\n",
            "\n",
            "Combo #250\n",
            "Time taken: 0:00:01\n",
            "\n",
            "Combo #251\n",
            "Time taken: 0:00:01\n",
            "\n",
            "Combo #252\n",
            "Time taken: 0:00:02\n",
            "\n",
            "Combo #253\n",
            "Time taken: 0:00:03\n",
            "\n",
            "Combo #254\n",
            "Time taken: 0:00:01\n",
            "\n",
            "Combo #255\n",
            "Time taken: 0:00:01\n",
            "\n",
            "Combo #256\n",
            "Time taken: 0:00:02\n",
            "\n",
            "Combo #257\n",
            "Time taken: 0:00:01\n",
            "\n",
            "Combo #258\n",
            "Time taken: 0:00:03\n",
            "\n",
            "Combo #259\n",
            "Time taken: 0:00:01\n",
            "\n",
            "Combo #260\n",
            "Time taken: 0:00:02\n",
            "\n",
            "Combo #261\n",
            "Time taken: 0:00:01\n",
            "\n",
            "Combo #262\n",
            "Time taken: 0:00:02\n",
            "\n",
            "Combo #263\n",
            "Time taken: 0:00:03\n",
            "\n",
            "Combo #264\n",
            "Time taken: 0:00:02\n",
            "\n",
            "Combo #265\n",
            "Time taken: 0:00:01\n",
            "\n",
            "Combo #266\n",
            "Time taken: 0:00:02\n",
            "\n",
            "Combo #267\n",
            "Time taken: 0:00:01\n",
            "\n",
            "Combo #268\n",
            "Time taken: 0:00:03\n",
            "\n",
            "Combo #269\n",
            "Time taken: 0:00:01\n",
            "\n",
            "Combo #270\n",
            "Time taken: 0:00:02\n",
            "\n",
            "Combo #271\n",
            "Time taken: 0:00:02\n",
            "\n",
            "Combo #272\n",
            "Time taken: 0:00:03\n",
            "\n",
            "Combo #273\n",
            "Time taken: 0:00:02\n",
            "\n",
            "Combo #274\n",
            "Time taken: 0:00:04\n",
            "\n",
            "Combo #275\n",
            "Time taken: 0:00:02\n",
            "\n",
            "Combo #276\n",
            "Time taken: 0:00:03\n",
            "\n",
            "Combo #277\n",
            "Time taken: 0:00:03\n",
            "\n",
            "Combo #278\n",
            "Time taken: 0:00:01\n",
            "\n",
            "Combo #279\n",
            "Time taken: 0:00:02\n",
            "\n",
            "Combo #280\n",
            "Time taken: 0:00:03\n",
            "\n",
            "Combo #281\n",
            "Time taken: 0:00:02\n",
            "\n",
            "Combo #282\n",
            "Time taken: 0:00:02\n",
            "\n",
            "Combo #283\n",
            "Time taken: 0:00:03\n",
            "\n",
            "Combo #284\n",
            "Time taken: 0:00:01\n",
            "\n",
            "Combo #285\n",
            "Time taken: 0:00:01\n",
            "\n",
            "Combo #286\n",
            "Time taken: 0:00:02\n",
            "\n",
            "Combo #287\n",
            "Time taken: 0:00:01\n",
            "\n",
            "Combo #288\n",
            "Time taken: 0:00:03\n",
            "\n",
            "Combo #289\n",
            "Time taken: 0:00:01\n",
            "\n",
            "Combo #290\n",
            "Time taken: 0:00:02\n",
            "\n",
            "Combo #291\n",
            "Time taken: 0:00:02\n",
            "\n",
            "Combo #292\n",
            "Time taken: 0:00:03\n",
            "\n",
            "Combo #293\n",
            "Time taken: 0:00:02\n",
            "\n",
            "Combo #294\n",
            "Time taken: 0:00:04\n",
            "\n",
            "Combo #295\n",
            "Time taken: 0:00:02\n",
            "\n",
            "Combo #296\n",
            "Time taken: 0:00:03\n",
            "\n",
            "Combo #297\n",
            "Time taken: 0:00:03\n",
            "\n",
            "Combo #298\n",
            "Time taken: 0:00:01\n",
            "\n",
            "Combo #299\n",
            "Time taken: 0:00:02\n",
            "\n",
            "Combo #300\n",
            "Time taken: 0:00:03\n",
            "\n",
            "Combo #301\n",
            "Time taken: 0:00:02\n",
            "\n",
            "Combo #302\n",
            "Time taken: 0:00:03\n",
            "\n",
            "Combo #303\n",
            "Time taken: 0:00:02\n",
            "\n",
            "Combo #304\n",
            "Time taken: 0:00:04\n",
            "\n",
            "Combo #305\n",
            "Time taken: 0:00:02\n",
            "\n",
            "Combo #306\n",
            "Time taken: 0:00:03\n",
            "\n",
            "Combo #307\n",
            "Time taken: 0:00:03\n",
            "\n",
            "Combo #308\n",
            "Time taken: 0:00:01\n",
            "\n",
            "Combo #309\n",
            "Time taken: 0:00:02\n",
            "\n",
            "Combo #310\n",
            "Time taken: 0:00:03\n",
            "\n",
            "Combo #311\n",
            "Time taken: 0:00:04\n",
            "\n",
            "Combo #312\n",
            "Time taken: 0:00:02\n",
            "\n",
            "Combo #313\n",
            "Time taken: 0:00:03\n",
            "\n",
            "Combo #314\n",
            "Time taken: 0:00:04\n",
            "\n",
            "Combo #315\n",
            "Time taken: 0:00:03\n",
            "\n",
            "Combo #316\n",
            "Time taken: 0:00:01\n",
            "\n",
            "Combo #317\n",
            "Time taken: 0:00:02\n",
            "\n",
            "Combo #318\n",
            "Time taken: 0:00:03\n",
            "\n",
            "Combo #319\n",
            "Time taken: 0:00:02\n",
            "\n",
            "Combo #320\n",
            "Time taken: 0:00:01\n",
            "\n",
            "Combo #321\n",
            "Time taken: 0:00:02\n",
            "\n",
            "Combo #322\n",
            "Time taken: 0:00:01\n",
            "\n",
            "Combo #323\n",
            "Time taken: 0:00:03\n",
            "\n",
            "Combo #324\n",
            "Time taken: 0:00:01\n",
            "\n",
            "Combo #325\n",
            "Time taken: 0:00:02\n",
            "\n",
            "Combo #326\n",
            "Time taken: 0:00:02\n",
            "\n",
            "Combo #327\n",
            "Time taken: 0:00:03\n",
            "\n",
            "Combo #328\n",
            "Time taken: 0:00:02\n",
            "\n",
            "Combo #329\n",
            "Time taken: 0:00:04\n",
            "\n",
            "Combo #330\n",
            "Time taken: 0:00:02\n",
            "\n",
            "Combo #331\n",
            "Time taken: 0:00:03\n",
            "\n",
            "Combo #332\n",
            "Time taken: 0:00:03\n",
            "\n",
            "Combo #333\n",
            "Time taken: 0:00:01\n",
            "\n",
            "Combo #334\n",
            "Time taken: 0:00:02\n",
            "\n",
            "Combo #335\n",
            "Time taken: 0:00:03\n",
            "\n",
            "Combo #336\n",
            "Time taken: 0:00:02\n",
            "\n",
            "Combo #337\n",
            "Time taken: 0:00:03\n",
            "\n",
            "Combo #338\n",
            "Time taken: 0:00:02\n",
            "\n",
            "Combo #339\n",
            "Time taken: 0:00:03\n",
            "\n",
            "Combo #340\n",
            "Time taken: 0:00:02\n",
            "\n",
            "Combo #341\n",
            "Time taken: 0:00:03\n",
            "\n",
            "Combo #342\n",
            "Time taken: 0:00:03\n",
            "\n",
            "Combo #343\n",
            "Time taken: 0:00:01\n",
            "\n",
            "Combo #344\n",
            "Time taken: 0:00:02\n",
            "\n",
            "Combo #345\n",
            "Time taken: 0:00:03\n",
            "\n",
            "Combo #346\n",
            "Time taken: 0:00:04\n",
            "\n",
            "Combo #347\n",
            "Time taken: 0:00:02\n",
            "\n",
            "Combo #348\n",
            "Time taken: 0:00:03\n",
            "\n",
            "Combo #349\n",
            "Time taken: 0:00:04\n",
            "\n",
            "Combo #350\n",
            "Time taken: 0:00:03\n",
            "\n",
            "Combo #351\n",
            "Time taken: 0:00:02\n",
            "\n",
            "Combo #352\n",
            "Time taken: 0:00:03\n",
            "\n",
            "Combo #353\n",
            "Time taken: 0:00:02\n",
            "\n",
            "Combo #354\n",
            "Time taken: 0:00:04\n",
            "\n",
            "Combo #355\n",
            "Time taken: 0:00:02\n",
            "\n",
            "Combo #356\n",
            "Time taken: 0:00:03\n",
            "\n",
            "Combo #357\n",
            "Time taken: 0:00:03\n",
            "\n",
            "Combo #358\n",
            "Time taken: 0:00:01\n",
            "\n",
            "Combo #359\n",
            "Time taken: 0:00:02\n",
            "\n",
            "Combo #360\n",
            "Time taken: 0:00:03\n",
            "\n",
            "Combo #361\n",
            "Time taken: 0:00:04\n",
            "\n",
            "Combo #362\n",
            "Time taken: 0:00:02\n",
            "\n",
            "Combo #363\n",
            "Time taken: 0:00:03\n",
            "\n",
            "Combo #364\n",
            "Time taken: 0:00:04\n",
            "\n",
            "Combo #365\n",
            "Time taken: 0:00:03\n",
            "\n",
            "Combo #366\n",
            "Time taken: 0:00:03\n",
            "\n",
            "Combo #367\n",
            "Time taken: 0:00:02\n",
            "\n",
            "Combo #368\n",
            "Time taken: 0:00:03\n",
            "\n",
            "Combo #369\n",
            "Time taken: 0:00:04\n",
            "\n",
            "Combo #370\n",
            "Time taken: 0:00:03\n",
            "\n",
            "Combo #371\n",
            "Time taken: 0:00:03\n",
            "\n",
            "Combo #372\n",
            "Time taken: 0:00:01\n",
            "\n",
            "Combo #373\n",
            "Time taken: 0:00:02\n",
            "\n",
            "Combo #374\n",
            "Time taken: 0:00:03\n",
            "\n",
            "Combo #375\n",
            "Time taken: 0:00:02\n",
            "\n",
            "Combo #376\n",
            "Time taken: 0:00:01\n",
            "\n",
            "Combo #377\n",
            "Time taken: 0:00:02\n",
            "\n",
            "Combo #378\n",
            "Time taken: 0:00:01\n",
            "\n",
            "Combo #379\n",
            "Time taken: 0:00:03\n",
            "\n",
            "Combo #380\n",
            "Time taken: 0:00:01\n",
            "\n",
            "Combo #381\n",
            "Time taken: 0:00:03\n",
            "\n",
            "Combo #382\n",
            "Time taken: 0:00:02\n",
            "\n",
            "Combo #383\n",
            "Time taken: 0:00:03\n",
            "\n",
            "Combo #384\n",
            "Time taken: 0:00:01\n",
            "\n",
            "Combo #385\n",
            "Time taken: 0:00:04\n",
            "\n",
            "Combo #386\n",
            "Time taken: 0:00:02\n",
            "\n",
            "Combo #387\n",
            "Time taken: 0:00:03\n",
            "\n",
            "Combo #388\n",
            "Time taken: 0:00:03\n",
            "\n",
            "Combo #389\n",
            "Time taken: 0:00:01\n",
            "\n",
            "Combo #390\n",
            "Time taken: 0:00:02\n",
            "\n",
            "Combo #391\n",
            "Time taken: 0:00:03\n",
            "\n",
            "Combo #392\n",
            "Time taken: 0:00:02\n",
            "\n",
            "Combo #393\n",
            "Time taken: 0:00:03\n",
            "\n",
            "Combo #394\n",
            "Time taken: 0:00:02\n",
            "\n",
            "Combo #395\n",
            "Time taken: 0:00:04\n",
            "\n",
            "Combo #396\n",
            "Time taken: 0:00:02\n",
            "\n",
            "Combo #397\n",
            "Time taken: 0:00:03\n",
            "\n",
            "Combo #398\n",
            "Time taken: 0:00:03\n",
            "\n",
            "Combo #399\n",
            "Time taken: 0:00:01\n",
            "\n",
            "Combo #400\n",
            "Time taken: 0:00:02\n",
            "\n",
            "Combo #401\n",
            "Time taken: 0:00:03\n",
            "\n",
            "Combo #402\n",
            "Time taken: 0:00:04\n",
            "\n",
            "Combo #403\n",
            "Time taken: 0:00:02\n",
            "\n",
            "Combo #404\n",
            "Time taken: 0:00:03\n",
            "\n",
            "Combo #405\n",
            "Time taken: 0:00:04\n",
            "\n",
            "Combo #406\n",
            "Time taken: 0:00:03\n",
            "\n",
            "Combo #407\n",
            "Time taken: 0:00:02\n",
            "\n",
            "Combo #408\n",
            "Time taken: 0:00:03\n",
            "\n",
            "Combo #409\n",
            "Time taken: 0:00:01\n",
            "\n",
            "Combo #410\n",
            "Time taken: 0:00:04\n",
            "\n",
            "Combo #411\n",
            "Time taken: 0:00:02\n",
            "\n",
            "Combo #412\n",
            "Time taken: 0:00:03\n",
            "\n",
            "Combo #413\n",
            "Time taken: 0:00:03\n",
            "\n",
            "Combo #414\n",
            "Time taken: 0:00:01\n",
            "\n",
            "Combo #415\n",
            "Time taken: 0:00:03\n",
            "\n",
            "Combo #416\n",
            "Time taken: 0:00:03\n",
            "\n",
            "Combo #417\n",
            "Time taken: 0:00:04\n",
            "\n",
            "Combo #418\n",
            "Time taken: 0:00:02\n",
            "\n",
            "Combo #419\n",
            "Time taken: 0:00:03\n",
            "\n",
            "Combo #420\n",
            "Time taken: 0:00:04\n",
            "\n",
            "Combo #421\n",
            "Time taken: 0:00:03\n",
            "\n",
            "Combo #422\n",
            "Time taken: 0:00:04\n",
            "\n",
            "Combo #423\n",
            "Time taken: 0:00:02\n",
            "\n",
            "Combo #424\n",
            "Time taken: 0:00:03\n",
            "\n",
            "Combo #425\n",
            "Time taken: 0:00:04\n",
            "\n",
            "Combo #426\n",
            "Time taken: 0:00:03\n",
            "\n",
            "Combo #427\n",
            "Time taken: 0:00:04\n",
            "\n",
            "Combo #428\n",
            "Time taken: 0:00:02\n",
            "\n",
            "Combo #429\n",
            "Time taken: 0:00:03\n",
            "\n",
            "Combo #430\n",
            "Time taken: 0:00:02\n",
            "\n",
            "Combo #431\n",
            "Time taken: 0:00:04\n",
            "\n",
            "Combo #432\n",
            "Time taken: 0:00:02\n",
            "\n",
            "Combo #433\n",
            "Time taken: 0:00:03\n",
            "\n",
            "Combo #434\n",
            "Time taken: 0:00:03\n",
            "\n",
            "Combo #435\n",
            "Time taken: 0:00:01\n",
            "\n",
            "Combo #436\n",
            "Time taken: 0:00:02\n",
            "\n",
            "Combo #437\n",
            "Time taken: 0:00:03\n",
            "\n",
            "Combo #438\n",
            "Time taken: 0:00:04\n",
            "\n",
            "Combo #439\n",
            "Time taken: 0:00:02\n",
            "\n",
            "Combo #440\n",
            "Time taken: 0:00:03\n",
            "\n",
            "Combo #441\n",
            "Time taken: 0:00:04\n",
            "\n",
            "Combo #442\n",
            "Time taken: 0:00:03\n",
            "\n",
            "Combo #443\n",
            "Time taken: 0:00:04\n",
            "\n",
            "Combo #444\n",
            "Time taken: 0:00:02\n",
            "\n",
            "Combo #445\n",
            "Time taken: 0:00:03\n",
            "\n",
            "Combo #446\n",
            "Time taken: 0:00:04\n",
            "\n",
            "Combo #447\n",
            "Time taken: 0:00:03\n",
            "\n",
            "Combo #448\n",
            "Time taken: 0:00:04\n",
            "\n",
            "Combo #449\n",
            "Time taken: 0:00:04\n",
            "\n",
            "Combo #450\n",
            "Time taken: 0:00:02\n",
            "\n",
            "Combo #451\n",
            "Time taken: 0:00:03\n",
            "\n",
            "Combo #452\n",
            "Time taken: 0:00:04\n",
            "\n",
            "Combo #453\n",
            "Time taken: 0:00:03\n",
            "\n",
            "Combo #454\n",
            "Time taken: 0:00:04\n",
            "\n",
            "Combo #455\n",
            "Time taken: 0:00:04\n",
            "\n",
            "Combo #456\n",
            "Time taken: 0:00:02\n",
            "\n",
            "Combo #457\n",
            "Time taken: 0:00:03\n",
            "\n",
            "Combo #458\n",
            "Time taken: 0:00:02\n",
            "\n",
            "Combo #459\n",
            "Time taken: 0:00:04\n",
            "\n",
            "Combo #460\n",
            "Time taken: 0:00:02\n",
            "\n",
            "Combo #461\n",
            "Time taken: 0:00:03\n",
            "\n",
            "Combo #462\n",
            "Time taken: 0:00:03\n",
            "\n",
            "Combo #463\n",
            "Time taken: 0:00:01\n",
            "\n",
            "Combo #464\n",
            "Time taken: 0:00:02\n",
            "\n",
            "Combo #465\n",
            "Time taken: 0:00:03\n",
            "\n",
            "Combo #466\n",
            "Time taken: 0:00:04\n",
            "\n",
            "Combo #467\n",
            "Time taken: 0:00:02\n",
            "\n",
            "Combo #468\n",
            "Time taken: 0:00:03\n",
            "\n",
            "Combo #469\n",
            "Time taken: 0:00:04\n",
            "\n",
            "Combo #470\n",
            "Time taken: 0:00:03\n",
            "\n",
            "Combo #471\n",
            "Time taken: 0:00:04\n",
            "\n",
            "Combo #472\n",
            "Time taken: 0:00:02\n",
            "\n",
            "Combo #473\n",
            "Time taken: 0:00:03\n",
            "\n",
            "Combo #474\n",
            "Time taken: 0:00:04\n",
            "\n",
            "Combo #475\n",
            "Time taken: 0:00:03\n",
            "\n",
            "Combo #476\n",
            "Time taken: 0:00:04\n",
            "\n",
            "Combo #477\n",
            "Time taken: 0:00:04\n",
            "\n",
            "Combo #478\n",
            "Time taken: 0:00:02\n",
            "\n",
            "Combo #479\n",
            "Time taken: 0:00:03\n",
            "\n",
            "Combo #480\n",
            "Time taken: 0:00:04\n",
            "\n",
            "Combo #481\n",
            "Time taken: 0:00:03\n",
            "\n",
            "Combo #482\n",
            "Time taken: 0:00:04\n",
            "\n",
            "Combo #483\n",
            "Time taken: 0:00:04\n",
            "\n",
            "Combo #484\n",
            "Time taken: 0:00:04\n",
            "\n",
            "Combo #485\n",
            "Time taken: 0:00:02\n",
            "\n",
            "Combo #486\n",
            "Time taken: 0:00:03\n",
            "\n",
            "Combo #487\n",
            "Time taken: 0:00:04\n",
            "\n",
            "Combo #488\n",
            "Time taken: 0:00:03\n",
            "\n",
            "Combo #489\n",
            "Time taken: 0:00:04\n",
            "\n",
            "Combo #490\n",
            "Time taken: 0:00:04\n",
            "\n",
            "Combo #491\n",
            "Time taken: 0:00:04\n",
            "\n",
            "Combo #492\n",
            "Time taken: 0:00:04\n",
            "\n",
            "Combo #493\n",
            "Time taken: 0:00:02\n",
            "\n",
            "Combo #494\n",
            "Time taken: 0:00:04\n",
            "\n",
            "Combo #495\n",
            "Time taken: 0:00:04\n",
            "\n",
            "Combo #496\n",
            "Time taken: 0:00:03\n",
            "\n",
            "Combo #497\n",
            "Time taken: 0:00:04\n",
            "\n",
            "Combo #498\n",
            "Time taken: 0:00:04\n",
            "\n",
            "Combo #499\n",
            "Time taken: 0:00:04\n",
            "\n",
            "Combo #500\n",
            "Time taken: 0:00:04\n",
            "\n",
            "Combo #501\n",
            "Time taken: 0:00:04\n",
            "\n",
            "Best Score: 0.8491620111731844\n"
          ]
        }
      ]
    },
    {
      "cell_type": "markdown",
      "metadata": {
        "id": "MvpD1I6MoOAt"
      },
      "source": [
        "## Parallel Fun For finding stack combo\n",
        "used [this](https://www.machinelearningplus.com/python/parallel-processing-python/#:~:text=The%20general%20way%20to%20parallelize,of%20Pool%20s%20parallization%20methods.) source. <br> process works bellow"
      ]
    },
    {
      "cell_type": "code",
      "metadata": {
        "colab": {
          "base_uri": "https://localhost:8080/"
        },
        "id": "BAsrQQcroRv3",
        "outputId": "d51a590c-fbcb-4a24-a226-e9076f57b446"
      },
      "source": [
        "import multiprocessing as mp\n",
        "print(\"Number of processors: \", mp.cpu_count())\n",
        "xt , yt =X_train, y_train"
      ],
      "execution_count": null,
      "outputs": [
        {
          "name": "stdout",
          "output_type": "stream",
          "text": [
            "Number of processors:  2\n"
          ]
        }
      ]
    },
    {
      "cell_type": "code",
      "metadata": {
        "colab": {
          "base_uri": "https://localhost:8080/"
        },
        "id": "mZ2gSQV494iE",
        "outputId": "bcd3bfd4-cf78-4601-e74c-bbec7a165ad3"
      },
      "source": [
        "start , end, tt = 0,0,0\n",
        "ll =[start,end,tt]\n",
        "print(\"rpr\"+str(ll))\n",
        "# for i in ct:\n",
        "#   for j, k in i:\n",
        "#     print(j)\n",
        "#   print(\"\\n\")"
      ],
      "execution_count": null,
      "outputs": [
        {
          "name": "stdout",
          "output_type": "stream",
          "text": [
            "rpr[0, 0, 0]\n"
          ]
        }
      ]
    },
    {
      "cell_type": "code",
      "metadata": {
        "colab": {
          "background_save": true,
          "base_uri": "https://localhost:8080/"
        },
        "id": "vSdiMiWHoTeF",
        "outputId": "198eab0e-6521-4a4f-e363-2e2f8d747dac"
      },
      "source": [
        "import multiprocessing as mp\n",
        "pool = mp.Pool(mp.cpu_count())\n",
        "results = []\n",
        "X_train, X_val, X_test, y_train, y_val, y_test = get_train_test(dataset1, isCC, isValUsed)\n",
        "xt, yt, xv, yv = X_train, y_train, X_val, y_val \n",
        "start = 0\n",
        "end = 0\n",
        "tt = 0\n",
        "tt = time.time()\n",
        "# Step 1: Redefine, to accept `i`, the iteration number\n",
        "# make function with iterator number\n",
        "def best_par(i, estimators, xt = xt, yt = yt, xv = xv, yv = yv):\n",
        "  start = time.time()\n",
        "  clf = StackingClassifier(\n",
        "  estimators=estimators, verbose = 0, cv =5, n_jobs=-1)\n",
        "  clf.fit(xt, yt)\n",
        "  acc = clf.score(xv,yv)\n",
        "  end= time.time() - start\n",
        "  running = time.time()-tt\n",
        "  order = []\n",
        "  for j, k in estimators:\n",
        "    order.append(j)\n",
        "\n",
        "  print(\"Job: \"+str(i)+\"\\nTime taken: \"+str(datetime.timedelta(seconds = round(end)))\n",
        "  +\"\\nRunning Time:\"+str(datetime.timedelta(seconds = round(running)))+\"\\nOrder: \"+str(order)+\"\\n\")\n",
        "  return (i, acc)\n",
        "\n",
        "# Step 2: Define callback function to collect the output in `results`\n",
        "def collect_result(result):\n",
        "    global results\n",
        "    results.append(result)\n",
        "\n",
        "# Step 3: Use loop to parallelize\n",
        "for i, estimator in enumerate(ct):\n",
        "    pool.apply_async(best_par, args=(i, estimator), callback=collect_result)\n",
        "\n",
        "# Step 4: Close Pool and let all the processes complete    \n",
        "pool.close()\n",
        "pool.join()  # postpones the execution of next line of code until all processes in the queue are done.\n",
        "\n",
        "# Step 5: Sort results [OPTIONAL]\n",
        "results.sort()\n",
        "print(results[-1:])\n",
        "# results_final = [r for i, r in results]\n"
      ],
      "execution_count": null,
      "outputs": [
        {
          "name": "stderr",
          "output_type": "stream",
          "text": [
            "Process ForkPoolWorker-3:\n",
            "Process ForkPoolWorker-4:\n",
            "Traceback (most recent call last):\n",
            "Traceback (most recent call last):\n",
            "  File \"/usr/lib/python3.7/multiprocessing/process.py\", line 297, in _bootstrap\n",
            "    self.run()\n",
            "  File \"/usr/lib/python3.7/multiprocessing/process.py\", line 297, in _bootstrap\n",
            "    self.run()\n",
            "  File \"/usr/lib/python3.7/multiprocessing/process.py\", line 99, in run\n",
            "    self._target(*self._args, **self._kwargs)\n",
            "  File \"/usr/lib/python3.7/multiprocessing/pool.py\", line 110, in worker\n",
            "    task = get()\n",
            "  File \"/usr/lib/python3.7/multiprocessing/process.py\", line 99, in run\n",
            "    self._target(*self._args, **self._kwargs)\n",
            "  File \"/usr/lib/python3.7/multiprocessing/queues.py\", line 354, in get\n",
            "    return _ForkingPickler.loads(res)\n",
            "  File \"/usr/lib/python3.7/multiprocessing/pool.py\", line 110, in worker\n",
            "    task = get()\n",
            "  File \"/usr/lib/python3.7/multiprocessing/queues.py\", line 354, in get\n",
            "    return _ForkingPickler.loads(res)\n",
            "AttributeError: Can't get attribute 'best_par' on <module '__main__'>\n",
            "AttributeError: Can't get attribute 'best_par' on <module '__main__'>\n"
          ]
        },
        {
          "name": "stdout",
          "output_type": "stream",
          "text": [
            "Job: 2\n",
            "Time taken: 0:00:00\n",
            "Running Time:0:00:00\n",
            "Order: ['sgd', 'knn']\n",
            "\n",
            "Job: 4\n",
            "Time taken: 0:00:00\n",
            "Running Time:0:00:01\n",
            "Order: ['sgd', 'dtc']\n",
            "\n",
            "Job: 5\n",
            "Time taken: 0:00:02\n",
            "Running Time:0:00:03\n",
            "Order: ['sgd', 'abc']\n",
            "\n",
            "Job: 3\n",
            "Time taken: 0:00:03\n",
            "Running Time:0:00:03\n",
            "Order: ['sgd', 'gpc']\n",
            "\n",
            "Job: 7\n",
            "Time taken: 0:00:00\n",
            "Running Time:0:00:04\n",
            "Order: ['sgd', 'gbc']\n",
            "\n",
            "Job: 8\n",
            "Time taken: 0:00:00\n",
            "Running Time:0:00:04\n",
            "Order: ['lr', 'svm']\n",
            "\n",
            "Job: 9\n",
            "Time taken: 0:00:00\n",
            "Running Time:0:00:04\n",
            "Order: ['lr', 'knn']\n",
            "\n",
            "Job: 11\n",
            "Time taken: 0:00:00\n",
            "Running Time:0:00:05\n",
            "Order: ['lr', 'dtc']\n",
            "\n",
            "Job: 12\n",
            "Time taken: 0:00:02\n",
            "Running Time:0:00:07\n",
            "Order: ['lr', 'abc']\n",
            "\n",
            "Job: 10\n",
            "Time taken: 0:00:04\n",
            "Running Time:0:00:08\n",
            "Order: ['lr', 'gpc']\n",
            "\n",
            "Job: 15\n",
            "Time taken: 0:00:00\n",
            "Running Time:0:00:08\n",
            "Order: ['svm', 'knn']\n",
            "\n",
            "Job: 14\n",
            "Time taken: 0:00:00\n",
            "Running Time:0:00:08\n",
            "Order: ['lr', 'gbc']\n",
            "\n",
            "Job: 17\n",
            "Time taken: 0:00:00\n",
            "Running Time:0:00:08\n",
            "Order: ['svm', 'dtc']\n",
            "\n",
            "Job: 18\n",
            "Time taken: 0:00:02\n",
            "Running Time:0:00:11\n",
            "Order: ['svm', 'abc']\n",
            "\n",
            "Job: 16\n",
            "Time taken: 0:00:03\n",
            "Running Time:0:00:11\n",
            "Order: ['svm', 'gpc']\n",
            "\n",
            "Job: 20\n",
            "Time taken: 0:00:01\n",
            "Running Time:0:00:12\n",
            "Order: ['svm', 'gbc']\n",
            "\n",
            "Job: 22\n",
            "Time taken: 0:00:00\n",
            "Running Time:0:00:12\n",
            "Order: ['knn', 'dtc']\n",
            "\n",
            "Job: 21\n",
            "Time taken: 0:00:03\n",
            "Running Time:0:00:15\n",
            "Order: ['knn', 'gpc']\n",
            "\n",
            "Job: 25\n",
            "Time taken: 0:00:00\n",
            "Running Time:0:00:16\n",
            "Order: ['knn', 'gbc']\n",
            "\n",
            "Job: 26\n",
            "Time taken: 0:00:05\n",
            "Running Time:0:00:21\n",
            "Order: ['gpc', 'dtc']\n",
            "\n",
            "Job: 27\n",
            "Time taken: 0:00:06\n",
            "Running Time:0:00:22\n",
            "Order: ['gpc', 'abc']\n",
            "\n",
            "Job: 30\n",
            "Time taken: 0:00:02\n",
            "Running Time:0:00:23\n",
            "Order: ['dtc', 'abc']\n",
            "\n",
            "Job: 32\n",
            "Time taken: 0:00:01\n",
            "Running Time:0:00:25\n",
            "Order: ['dtc', 'gbc']\n",
            "\n",
            "Job: 29\n",
            "Time taken: 0:00:04\n",
            "Running Time:0:00:25\n",
            "Order: ['gpc', 'gbc']\n",
            "\n",
            "Job: 34\n",
            "Time taken: 0:00:01\n",
            "Running Time:0:00:26\n",
            "Order: ['abc', 'gbc']\n",
            "\n",
            "Job: 36\n",
            "Time taken: 0:00:00\n",
            "Running Time:0:00:27\n",
            "Order: ['sgd', 'lr', 'svm']\n",
            "\n",
            "Job: 39\n",
            "Time taken: 0:00:00\n",
            "Running Time:0:00:28\n",
            "Order: ['sgd', 'lr', 'dtc']\n",
            "\n",
            "Job: 38\n",
            "Time taken: 0:00:04\n",
            "Running Time:0:00:31\n",
            "Order: ['sgd', 'lr', 'gpc']\n",
            "\n",
            "Job: 42\n",
            "Time taken: 0:00:00\n",
            "Running Time:0:00:31\n",
            "Order: ['sgd', 'lr', 'gbc']\n",
            "\n",
            "Job: 45\n",
            "Time taken: 0:00:00\n",
            "Running Time:0:00:33\n",
            "Order: ['sgd', 'svm', 'dtc']\n",
            "\n",
            "Job: 44\n",
            "Time taken: 0:00:03\n",
            "Running Time:0:00:35\n",
            "Order: ['sgd', 'svm', 'gpc']\n",
            "\n",
            "Job: 48\n",
            "Time taken: 0:00:01\n",
            "Running Time:0:00:35\n",
            "Order: ['sgd', 'svm', 'gbc']\n",
            "\n",
            "Job: 49\n",
            "Time taken: 0:00:03\n",
            "Running Time:0:00:39\n",
            "Order: ['sgd', 'knn', 'gpc']\n",
            "\n",
            "Job: 54\n",
            "Time taken: 0:00:05\n",
            "Running Time:0:00:44\n",
            "Order: ['sgd', 'gpc', 'dtc']\n",
            "\n",
            "Job: 57\n",
            "Time taken: 0:00:04\n",
            "Running Time:0:00:49\n",
            "Order: ['sgd', 'gpc', 'gbc']\n",
            "\n",
            "Job: 60\n",
            "Time taken: 0:00:00\n",
            "Running Time:0:00:50\n",
            "Order: ['sgd', 'dtc', 'gbc']\n",
            "\n",
            "Job: 64\n",
            "Time taken: 0:00:00\n",
            "Running Time:0:00:51\n",
            "Order: ['lr', 'svm', 'knn']\n",
            "\n",
            "Job: 65\n",
            "Time taken: 0:00:04\n",
            "Running Time:0:00:55\n",
            "Order: ['lr', 'svm', 'gpc']\n",
            "\n",
            "Job: 69\n",
            "Time taken: 0:00:01\n",
            "Running Time:0:00:56\n",
            "Order: ['lr', 'svm', 'gbc']\n",
            "\n",
            "Job: 71\n",
            "Time taken: 0:00:00\n",
            "Running Time:0:00:57\n",
            "Order: ['lr', 'knn', 'dtc']\n",
            "\n",
            "Job: 70\n",
            "Time taken: 0:00:04\n",
            "Running Time:0:00:59\n",
            "Order: ['lr', 'knn', 'gpc']\n",
            "\n",
            "Job: 74\n",
            "Time taken: 0:00:01\n",
            "Running Time:0:01:00\n",
            "Order: ['lr', 'knn', 'gbc']\n",
            "\n",
            "Job: 78\n",
            "Time taken: 0:00:04\n",
            "Running Time:0:01:07\n",
            "Order: ['lr', 'gpc', 'gbc']\n",
            "\n",
            "Job: 81\n",
            "Time taken: 0:00:00\n",
            "Running Time:0:01:08\n",
            "Order: ['lr', 'dtc', 'gbc']\n",
            "\n",
            "Job: 86\n",
            "Time taken: 0:00:00\n",
            "Running Time:0:01:09\n",
            "Order: ['svm', 'knn', 'dtc']\n",
            "\n",
            "Job: 85\n",
            "Time taken: 0:00:04\n",
            "Running Time:0:01:12\n",
            "Order: ['svm', 'knn', 'gpc']\n",
            "\n",
            "Job: 90\n",
            "Time taken: 0:00:05\n",
            "Running Time:0:01:18\n",
            "Order: ['svm', 'gpc', 'dtc']\n",
            "\n",
            "Job: 93\n",
            "Time taken: 0:00:04\n",
            "Running Time:0:01:24\n",
            "Order: ['svm', 'gpc', 'gbc']\n",
            "\n",
            "Job: 96\n",
            "Time taken: 0:00:01\n",
            "Running Time:0:01:24\n",
            "Order: ['svm', 'dtc', 'gbc']\n",
            "\n",
            "Job: 100\n",
            "Time taken: 0:00:05\n",
            "Running Time:0:01:31\n",
            "Order: ['knn', 'gpc', 'dtc']\n",
            "\n",
            "Job: 103\n",
            "Time taken: 0:00:04\n",
            "Running Time:0:01:36\n",
            "Order: ['knn', 'gpc', 'gbc']\n",
            "\n",
            "Job: 106\n",
            "Time taken: 0:00:01\n",
            "Running Time:0:01:36\n",
            "Order: ['knn', 'dtc', 'gbc']\n",
            "\n",
            "Job: 112\n",
            "Time taken: 0:00:04\n",
            "Running Time:0:01:44\n",
            "Order: ['gpc', 'dtc', 'gbc']\n",
            "\n",
            "Job: 120\n",
            "Time taken: 0:00:00\n",
            "Running Time:0:01:47\n",
            "Order: ['sgd', 'lr', 'svm', 'knn']\n",
            "\n",
            "Job: 122\n",
            "Time taken: 0:00:01\n",
            "Running Time:0:01:48\n",
            "Order: ['sgd', 'lr', 'svm', 'dtc']\n",
            "\n",
            "Job: 125\n",
            "Time taken: 0:00:01\n",
            "Running Time:0:01:50\n",
            "Order: ['sgd', 'lr', 'svm', 'gbc']\n",
            "\n",
            "Job: 126\n",
            "Time taken: 0:00:04\n",
            "Running Time:0:01:54\n",
            "Order: ['sgd', 'lr', 'knn', 'gpc']\n",
            "\n",
            "Job: 130\n",
            "Time taken: 0:00:01\n",
            "Running Time:0:01:55\n",
            "Order: ['sgd', 'lr', 'knn', 'gbc']\n",
            "\n",
            "Job: 134\n",
            "Time taken: 0:00:05\n",
            "Running Time:0:02:01\n",
            "Order: ['sgd', 'lr', 'gpc', 'gbc']\n",
            "\n",
            "Job: 137\n",
            "Time taken: 0:00:01\n",
            "Running Time:0:02:01\n",
            "Order: ['sgd', 'lr', 'dtc', 'gbc']\n",
            "\n",
            "Job: 142\n",
            "Time taken: 0:00:00\n",
            "Running Time:0:02:03\n",
            "Order: ['sgd', 'svm', 'knn', 'dtc']\n",
            "\n",
            "Job: 141\n",
            "Time taken: 0:00:04\n",
            "Running Time:0:02:06\n",
            "Order: ['sgd', 'svm', 'knn', 'gpc']\n",
            "\n",
            "Job: 146\n",
            "Time taken: 0:00:05\n",
            "Running Time:0:02:11\n",
            "Order: ['sgd', 'svm', 'gpc', 'dtc']\n",
            "\n",
            "Job: 149\n",
            "Time taken: 0:00:04\n",
            "Running Time:0:02:16\n",
            "Order: ['sgd', 'svm', 'gpc', 'gbc']\n",
            "\n",
            "Job: 156\n",
            "Time taken: 0:00:04\n",
            "Running Time:0:02:22\n",
            "Order: ['sgd', 'knn', 'gpc', 'dtc']\n",
            "\n",
            "Job: 162\n",
            "Time taken: 0:00:00\n",
            "Running Time:0:02:25\n",
            "Order: ['sgd', 'knn', 'dtc', 'gbc']\n",
            "\n",
            "Job: 168\n",
            "Time taken: 0:00:04\n",
            "Running Time:0:02:32\n",
            "Order: ['sgd', 'gpc', 'dtc', 'gbc']\n",
            "\n",
            "Job: 177\n",
            "Time taken: 0:00:01\n",
            "Running Time:0:02:39\n",
            "Order: ['lr', 'svm', 'knn', 'dtc']\n",
            "\n",
            "Job: 176\n",
            "Time taken: 0:00:04\n",
            "Running Time:0:02:42\n",
            "Order: ['lr', 'svm', 'knn', 'gpc']\n",
            "\n",
            "Job: 180\n",
            "Time taken: 0:00:01\n",
            "Running Time:0:02:43\n",
            "Order: ['lr', 'svm', 'knn', 'gbc']\n",
            "\n",
            "Job: 184\n",
            "Time taken: 0:00:04\n",
            "Running Time:0:02:48\n",
            "Order: ['lr', 'svm', 'gpc', 'gbc']\n",
            "\n",
            "Job: 187\n",
            "Time taken: 0:00:01\n",
            "Running Time:0:02:48\n",
            "Order: ['lr', 'svm', 'dtc', 'gbc']\n",
            "\n",
            "Job: 191\n",
            "Time taken: 0:00:04\n",
            "Running Time:0:02:53\n",
            "Order: ['lr', 'knn', 'gpc', 'dtc']\n",
            "\n",
            "Job: 197\n",
            "Time taken: 0:00:00\n",
            "Running Time:0:02:56\n",
            "Order: ['lr', 'knn', 'dtc', 'gbc']\n",
            "\n",
            "Job: 203\n",
            "Time taken: 0:00:05\n",
            "Running Time:0:03:04\n",
            "Order: ['lr', 'gpc', 'dtc', 'gbc']\n",
            "\n",
            "Job: 211\n",
            "Time taken: 0:00:05\n",
            "Running Time:0:03:12\n",
            "Order: ['svm', 'knn', 'gpc', 'dtc']\n",
            "\n",
            "Job: 214\n",
            "Time taken: 0:00:04\n",
            "Running Time:0:03:16\n",
            "Order: ['svm', 'knn', 'gpc', 'gbc']\n",
            "\n",
            "Job: 223\n",
            "Time taken: 0:00:05\n",
            "Running Time:0:03:24\n",
            "Order: ['svm', 'gpc', 'dtc', 'gbc']\n",
            "\n",
            "Job: 233\n",
            "Time taken: 0:00:04\n",
            "Running Time:0:03:33\n",
            "Order: ['knn', 'gpc', 'dtc', 'gbc']\n",
            "\n",
            "Job: 247\n",
            "Time taken: 0:00:01\n",
            "Running Time:0:03:41\n",
            "Order: ['sgd', 'lr', 'svm', 'knn', 'dtc']\n",
            "\n",
            "Job: 246\n",
            "Time taken: 0:00:04\n",
            "Running Time:0:03:43\n",
            "Order: ['sgd', 'lr', 'svm', 'knn', 'gpc']\n",
            "\n",
            "Job: 251\n",
            "Time taken: 0:00:05\n",
            "Running Time:0:03:49\n",
            "Order: ['sgd', 'lr', 'svm', 'gpc', 'dtc']\n",
            "\n",
            "Job: 254\n",
            "Time taken: 0:00:04\n",
            "Running Time:0:03:54\n",
            "Order: ['sgd', 'lr', 'svm', 'gpc', 'gbc']\n",
            "\n",
            "Job: 257\n",
            "Time taken: 0:00:01\n",
            "Running Time:0:03:54\n",
            "Order: ['sgd', 'lr', 'svm', 'dtc', 'gbc']\n",
            "\n",
            "Job: 261\n",
            "Time taken: 0:00:04\n",
            "Running Time:0:04:00\n",
            "Order: ['sgd', 'lr', 'knn', 'gpc', 'dtc']\n",
            "\n",
            "Job: 267\n",
            "Time taken: 0:00:00\n",
            "Running Time:0:04:02\n",
            "Order: ['sgd', 'lr', 'knn', 'dtc', 'gbc']\n",
            "\n",
            "Job: 273\n",
            "Time taken: 0:00:05\n",
            "Running Time:0:04:10\n",
            "Order: ['sgd', 'lr', 'gpc', 'dtc', 'gbc']\n",
            "\n",
            "Job: 281\n",
            "Time taken: 0:00:04\n",
            "Running Time:0:04:17\n",
            "Order: ['sgd', 'svm', 'knn', 'gpc', 'dtc']\n",
            "\n",
            "Job: 287\n",
            "Time taken: 0:00:01\n",
            "Running Time:0:04:21\n",
            "Order: ['sgd', 'svm', 'knn', 'dtc', 'gbc']\n",
            "\n",
            "Job: 293\n",
            "Time taken: 0:00:06\n",
            "Running Time:0:04:29\n",
            "Order: ['sgd', 'svm', 'gpc', 'dtc', 'gbc']\n",
            "\n",
            "Job: 316\n",
            "Time taken: 0:00:04\n",
            "Running Time:0:04:48\n",
            "Order: ['lr', 'svm', 'knn', 'gpc', 'dtc']\n",
            "\n",
            "Job: 322\n",
            "Time taken: 0:00:01\n",
            "Running Time:0:04:51\n",
            "Order: ['lr', 'svm', 'knn', 'dtc', 'gbc']\n",
            "\n",
            "Job: 328\n",
            "Time taken: 0:00:04\n",
            "Running Time:0:04:58\n",
            "Order: ['lr', 'svm', 'gpc', 'dtc', 'gbc']\n",
            "\n",
            "Job: 372\n",
            "Time taken: 0:00:04\n",
            "Running Time:0:05:34\n",
            "Order: ['sgd', 'lr', 'svm', 'knn', 'gpc', 'dtc']\n",
            "\n",
            "Job: 384\n",
            "Time taken: 0:00:05\n",
            "Running Time:0:05:43\n",
            "Order: ['sgd', 'lr', 'svm', 'gpc', 'dtc', 'gbc']\n",
            "\n"
          ]
        }
      ]
    },
    {
      "cell_type": "code",
      "metadata": {
        "id": "5BKP_5iHzyLy"
      },
      "source": [
        ""
      ],
      "execution_count": null,
      "outputs": []
    },
    {
      "cell_type": "markdown",
      "metadata": {
        "id": "qewv48nTsFsz"
      },
      "source": [
        "## Different Combo method"
      ]
    },
    {
      "cell_type": "code",
      "metadata": {
        "id": "z50uvtqvsReF"
      },
      "source": [
        "LT = list(EN_train.corr()[EN_train.corr()[\"Survived\"].abs() > 0.2].index) \n",
        "LT1 = list(OH_train.corr()[OH_train.corr()[\"Survived\"].abs() > 0.2].index) \n",
        "dataset0 = EN_train[LT]\n",
        "dataset1 = OH_train[LT1]\n",
        "dataset2 = copy.copy(OH_train)\n",
        "dataset3 = copy.copy(EN_train)\n",
        "LT.remove(\"Survived\")\n",
        "LT1.remove(\"Survived\")\n",
        "testset0 = EN_test[LT]\n",
        "testset1 = OH_test[LT1]\n",
        "testset2 =  copy.copy(OH_test)\n",
        "testset3 = copy.copy(EN_test)\n",
        "\n",
        "# correlated\n",
        "# Label Encoded\n",
        "# One-Hot Encoded\n",
        "# Correlated Label Encoded\n",
        "# Correlated One-Hot Encoded\n"
      ],
      "execution_count": 100,
      "outputs": []
    },
    {
      "cell_type": "code",
      "metadata": {
        "id": "PhTmeNA8sYYu"
      },
      "source": [
        "from sklearn.linear_model import SGDClassifier, LogisticRegression\n",
        "from sklearn.svm import SVC\n",
        "from sklearn.gaussian_process import GaussianProcessClassifier\n",
        "from sklearn.tree import DecisionTreeClassifier\n",
        "from sklearn.ensemble import AdaBoostClassifier, RandomForestClassifier, GradientBoostingClassifier\n",
        "from sklearn.neighbors import KNeighborsClassifier\n",
        "from sklearn.gaussian_process.kernels import RationalQuadratic, Exponentiation, RBF\n",
        "import time\n",
        "from sklearn.model_selection import RandomizedSearchCV\n",
        "import warnings\n",
        "warnings.filterwarnings(\"ignore\")\n",
        "# \"Stochastic Gradient Descent\"\n",
        "# \"Logistic Regression\"\n",
        "# \"Support Vector Classification\"\n",
        "# \"K Nearest Neighbors Classification\"\n",
        "# \"Gaussian Process Classifier\"\n",
        "# \"Decision Tree Classifier\"\n",
        "# \"AdaBoost Classifier\"\n",
        "# \"Random Forest Classifier\"\n",
        "# \"Gradient Boosting Classifier\"\n",
        "# Models\n",
        "sgd = SGDClassifier(random_state = 42)\n",
        "lr = LogisticRegression(random_state = 42)\n",
        "svm = SVC(random_state = 42)\n",
        "knn = KNeighborsClassifier()\n",
        "gpc = GaussianProcessClassifier(random_state = 42)\n",
        "dtc = DecisionTreeClassifier(random_state = 42)\n",
        "abc = AdaBoostClassifier(random_state = 42)\n",
        "rfc = RandomForestClassifier(random_state = 42)\n",
        "gbc = GradientBoostingClassifier(random_state = 42)\n",
        "\n",
        "skmodel = {\n",
        "    'Stochastic Gradient Descent':[sgd, dict(learning_rate = ['adaptive', 'optimal', 'constant', 'invscaling'],\n",
        "               eta0 = list(np.arange(0.001, 0.15, 0.001)),\n",
        "               max_iter = list(np.arange(1000.0,10000.0,10.0)),\n",
        "               random_state= [42],\n",
        "               early_stopping =[True])],\n",
        "    'Logistic Regression':[lr, dict(solver = ['newton-cg', 'lbfgs', 'liblinear', 'sag', 'saga'],\n",
        "              C = list(np.arange(1,20)),\n",
        "              max_iter = list(np.arange(100,1000,10))\n",
        "              )],\n",
        "    'Support Vector Classification':[svm,dict(kernel=['linear', 'poly', 'rbf', 'sigmoid'],\n",
        "               gamma = ['scale', 'auto'],\n",
        "               max_iter = [-1])],\n",
        "    'K Nearest Neighbors Classification':[knn, dict(n_neighbors = list(np.arange(5,50,5)),\n",
        "               algorithm = ['auto', 'ball_tree', 'kd_tree', 'brute'],\n",
        "               leaf_size = list(np.arange(30,100, 10))\n",
        "               )],\n",
        "    'Gaussian Process Classifier':[gpc, dict(#kernel = [(1.0 * RBF(1.0)), RationalQuadratic(length_scale=1.0, alpha=1.5)], #Exponentiation(RationalQuadratic(), exponent=2), Exponentiation(RBF(), exponent=2)],\n",
        "              max_iter_predict = list(np.arange(100,1000,10))\n",
        "               )],\n",
        "    'Decision Tree Classifie':[dtc, dict(criterion = ['gini', 'entropy'],\n",
        "               max_depth = [None]+list(np.arange(10,100,10)),\n",
        "               min_samples_split = list(np.arange(2,10,2)),\n",
        "               min_samples_leaf =  list(np.arange(1,10)),\n",
        "               max_features = ['auto', 'sqrt', 'log2'] ,\n",
        "               max_leaf_nodes = [None]+list(np.arange(100,1000,10))       \n",
        "               )],\n",
        "    'AdaBoost Classifier':[abc, dict(n_estimators = list(np.arange(50,100,10)),\n",
        "              learning_rate = list(np.arange(1,20,1)),\n",
        "              algorithm = ['SAMME', 'SAMME.R']             \n",
        "               )],\n",
        "    'Random Forest Classifier':[rfc, dict(n_estimators = list(np.arange(100,500,10)),\n",
        "              criterion = ['gini', 'entropy'],\n",
        "              max_depth = [None]+list(np.arange(10,100,10)),\n",
        "              min_samples_split = list(np.arange(2,10,2)),\n",
        "              min_samples_leaf =  list(np.arange(1,10)),\n",
        "              max_features = ['auto', 'sqrt', 'log2'] ,\n",
        "              max_leaf_nodes = [None]+list(np.arange(100,1000,10))        \n",
        "               )],\n",
        "    'Gradient Boosting Classifier':[gbc, dict(loss=['deviance', 'exponential'],\n",
        "               learning_rate = list(np.arange(0.05,0.5,0.05, dtype = float)),\n",
        "               n_estimators = list(np.arange(100,500,10)),\n",
        "               criterion=['friedman_mse', 'mse', 'mae'],\n",
        "               min_samples_split = list(np.arange(2,10,2)),\n",
        "               min_samples_leaf =  list(np.arange(1,10)),\n",
        "               max_depth = list(np.arange(3,50,1)),\n",
        "               max_features = ['auto', 'sqrt', 'log2'],\n",
        "               max_leaf_nodes = [None]+list(np.arange(100,1000,10)),\n",
        "               n_iter_no_change =[None]+list(np.arange(3,10,1)))] }\n",
        "models = {\n",
        "    \"Label Encoded\": [dataset3, skmodel],\n",
        "    \"One-Hot Encoded\": [dataset2, skmodel],\n",
        "    \"Correlated Label Encoded\": [dataset0, skmodel] ,\n",
        "    \"Correlated One-Hot Encoded\": [dataset1, skmodel]\n",
        "}"
      ],
      "execution_count": 105,
      "outputs": []
    },
    {
      "cell_type": "markdown",
      "metadata": {
        "id": "9N-ZBh-f4diW"
      },
      "source": [
        "### Make Stuff Model"
      ]
    },
    {
      "cell_type": "code",
      "metadata": {
        "id": "qObupFBB4kcq"
      },
      "source": [
        " \n",
        "    # startLocal = time.time() # model time\n",
        "    # random = RandomizedSearchCV(models[model], params[model],\n",
        "    #                             n_iter=100, scoring='accuracy', n_jobs=-1, \n",
        "    #                             cv=3, verbose=0, random_state=42)\n",
        "    # # Fit Model\n",
        "    # random.fit(X_train, y_train)\n",
        "    # # try diff type acc\n",
        "    # if isValUsed:\n",
        "    #   predFit = random.predict(X_test)\n",
        "    #   predAcc = accuracy_score(predFit,y_test)"
      ],
      "execution_count": null,
      "outputs": []
    },
    {
      "cell_type": "code",
      "metadata": {
        "id": "Dn5QMIBjzW4B"
      },
      "source": [
        "isValUsed = False\n",
        "\n",
        "modelAcc = {\n",
        "    \"Label Encoded\": [],\n",
        "    \"One-Hot Encoded\": [],\n",
        "    \"Correlated Label Encoded\": [] ,\n",
        "    \"Correlated One-Hot Encoded\": []\n",
        "}\n",
        "rowLabels =[\"Stochastic Gradient Descent\",\n",
        "\"Logistic Regression\",\n",
        "\"Support Vector Classification\",\n",
        "\"K Nearest Neighbors Classification\",\n",
        "\"Gaussian Process Classifier\",\n",
        "\"Decision Tree Classifier\",\n",
        "\"AdaBoost Classifier\",\n",
        "\"Random Forest Classifier\",\n",
        "\"Gradient Boosting Classifier\"]\n",
        "\n",
        "# d1 = dataset, skmodel\n",
        "# d2 = model, param\n",
        "for data in models.keys():\n",
        "  X_train, X_val, X_test, y_train, y_val, y_test = get_train_test(models[data][0], False, isValUsed)\n",
        "  (xP, yP) = (X_test, y_test) if isValUsed else (X_val, y_val)\n",
        "  for modelName in models[data][1].keys():\n",
        "      random = RandomizedSearchCV(models[data][1][modelName][0], models[data][1][modelName][1],\n",
        "                                n_iter=100, scoring='accuracy', n_jobs=-1, \n",
        "                                cv=3, verbose=0, random_state=42)\n",
        "    # Fit Model\n",
        "      random.fit(X_train, y_train)\n",
        "      models[data][1][modelName][0] = random.best_estimator_\n",
        "      predFit = random.predict(xP)\n",
        "      predAcc = accuracy_score(predFit,yP)\n",
        "      modelAcc[data].append(predAcc)\n"
      ],
      "execution_count": 113,
      "outputs": []
    },
    {
      "cell_type": "code",
      "metadata": {
        "colab": {
          "base_uri": "https://localhost:8080/",
          "height": 326
        },
        "id": "zg4__Cl25kSm",
        "outputId": "9dba358d-367c-49b3-9529-8e691370c464"
      },
      "source": [
        "displayModel = pd.DataFrame(modelAcc, index = rowLabels)\n",
        "displayModel"
      ],
      "execution_count": 114,
      "outputs": [
        {
          "output_type": "execute_result",
          "data": {
            "text/html": [
              "<div>\n",
              "<style scoped>\n",
              "    .dataframe tbody tr th:only-of-type {\n",
              "        vertical-align: middle;\n",
              "    }\n",
              "\n",
              "    .dataframe tbody tr th {\n",
              "        vertical-align: top;\n",
              "    }\n",
              "\n",
              "    .dataframe thead th {\n",
              "        text-align: right;\n",
              "    }\n",
              "</style>\n",
              "<table border=\"1\" class=\"dataframe\">\n",
              "  <thead>\n",
              "    <tr style=\"text-align: right;\">\n",
              "      <th></th>\n",
              "      <th>Label Encoded</th>\n",
              "      <th>One-Hot Encoded</th>\n",
              "      <th>Correlated Label Encoded</th>\n",
              "      <th>Correlated One-Hot Encoded</th>\n",
              "    </tr>\n",
              "  </thead>\n",
              "  <tbody>\n",
              "    <tr>\n",
              "      <th>Stochastic Gradient Descent</th>\n",
              "      <td>0.787709</td>\n",
              "      <td>0.815642</td>\n",
              "      <td>0.782123</td>\n",
              "      <td>0.821229</td>\n",
              "    </tr>\n",
              "    <tr>\n",
              "      <th>Logistic Regression</th>\n",
              "      <td>0.798883</td>\n",
              "      <td>0.826816</td>\n",
              "      <td>0.782123</td>\n",
              "      <td>0.821229</td>\n",
              "    </tr>\n",
              "    <tr>\n",
              "      <th>Support Vector Classification</th>\n",
              "      <td>0.826816</td>\n",
              "      <td>0.826816</td>\n",
              "      <td>0.782123</td>\n",
              "      <td>0.826816</td>\n",
              "    </tr>\n",
              "    <tr>\n",
              "      <th>K Nearest Neighbors Classification</th>\n",
              "      <td>0.793296</td>\n",
              "      <td>0.815642</td>\n",
              "      <td>0.776536</td>\n",
              "      <td>0.798883</td>\n",
              "    </tr>\n",
              "    <tr>\n",
              "      <th>Gaussian Process Classifier</th>\n",
              "      <td>0.804469</td>\n",
              "      <td>0.810056</td>\n",
              "      <td>0.782123</td>\n",
              "      <td>0.826816</td>\n",
              "    </tr>\n",
              "    <tr>\n",
              "      <th>Decision Tree Classifier</th>\n",
              "      <td>0.804469</td>\n",
              "      <td>0.770950</td>\n",
              "      <td>0.826816</td>\n",
              "      <td>0.782123</td>\n",
              "    </tr>\n",
              "    <tr>\n",
              "      <th>AdaBoost Classifier</th>\n",
              "      <td>0.810056</td>\n",
              "      <td>0.826816</td>\n",
              "      <td>0.782123</td>\n",
              "      <td>0.821229</td>\n",
              "    </tr>\n",
              "    <tr>\n",
              "      <th>Random Forest Classifier</th>\n",
              "      <td>0.810056</td>\n",
              "      <td>0.821229</td>\n",
              "      <td>0.810056</td>\n",
              "      <td>0.798883</td>\n",
              "    </tr>\n",
              "    <tr>\n",
              "      <th>Gradient Boosting Classifier</th>\n",
              "      <td>0.815642</td>\n",
              "      <td>0.810056</td>\n",
              "      <td>0.832402</td>\n",
              "      <td>0.798883</td>\n",
              "    </tr>\n",
              "  </tbody>\n",
              "</table>\n",
              "</div>"
            ],
            "text/plain": [
              "                                    Label Encoded  ...  Correlated One-Hot Encoded\n",
              "Stochastic Gradient Descent              0.787709  ...                    0.821229\n",
              "Logistic Regression                      0.798883  ...                    0.821229\n",
              "Support Vector Classification            0.826816  ...                    0.826816\n",
              "K Nearest Neighbors Classification       0.793296  ...                    0.798883\n",
              "Gaussian Process Classifier              0.804469  ...                    0.826816\n",
              "Decision Tree Classifier                 0.804469  ...                    0.782123\n",
              "AdaBoost Classifier                      0.810056  ...                    0.821229\n",
              "Random Forest Classifier                 0.810056  ...                    0.798883\n",
              "Gradient Boosting Classifier             0.815642  ...                    0.798883\n",
              "\n",
              "[9 rows x 4 columns]"
            ]
          },
          "metadata": {},
          "execution_count": 114
        }
      ]
    },
    {
      "cell_type": "code",
      "metadata": {
        "colab": {
          "base_uri": "https://localhost:8080/"
        },
        "id": "Ltdr8TwqBhvP",
        "outputId": "bbf7a685-a717-4736-a527-79ff45c2489d"
      },
      "source": [
        "displayModel.idxmax()"
      ],
      "execution_count": 124,
      "outputs": [
        {
          "output_type": "execute_result",
          "data": {
            "text/plain": [
              "Label Encoded                 Support Vector Classification\n",
              "One-Hot Encoded                         Logistic Regression\n",
              "Correlated Label Encoded       Gradient Boosting Classifier\n",
              "Correlated One-Hot Encoded    Support Vector Classification\n",
              "dtype: object"
            ]
          },
          "metadata": {},
          "execution_count": 124
        }
      ]
    }
  ]
}